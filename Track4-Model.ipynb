{
 "cells": [
  {
   "cell_type": "markdown",
   "id": "fd52b2d0-2d28-4a65-ba23-4cf13241492a",
   "metadata": {},
   "source": [
    "# Building a Model\n",
    "\n",
    "In this chapter we'll learn how to choose which type of model we want. Then we will learn how to apply our data to the model and evaluate it. Lastly, we'll learn how to interpret the results and save the model for later!\n",
    "\n",
    "## Preparing the environment\n",
    "\n",
    "### Importing libraries"
   ]
  },
  {
   "cell_type": "code",
   "execution_count": 1,
   "id": "28324045-dc3b-4602-af05-403a49290bcf",
   "metadata": {},
   "outputs": [],
   "source": [
    "import pandas as pd\n",
    "import seaborn as sns\n",
    "import sys\n",
    "import matplotlib.pyplot as plt\n",
    "\n",
    "from environment import histogram_boxplot, linear_model_plot, labeled_barplot\n",
    "from typing import List\n",
    "from pprint import pprint\n",
    "from datetime import timedelta, date\n",
    "\n",
    "from pyspark.sql.types import (_parse_datatype_string, StructType, StructField,\n",
    "                               DoubleType, IntegerType, StringType)\n",
    "from pyspark.sql import SparkSession, Row, functions as F\n",
    "from pyspark.sql.window import Window\n",
    "from pyspark.ml import Pipeline\n",
    "from pyspark.ml.feature import (Binarizer, Bucketizer, OneHotEncoder, StringIndexer,\n",
    "                                VectorAssembler)\n",
    "from pyspark.ml.regression import (RandomForestRegressor, RandomForestRegressionModel,\n",
    "                                   GBTRegressor, GBTRegressionModel)\n",
    "from pyspark.ml.evaluation import RegressionEvaluator"
   ]
  },
  {
   "cell_type": "markdown",
   "id": "dd3751f7-cc7f-4c27-9055-d76887924963",
   "metadata": {},
   "source": [
    "### Connect to Spark"
   ]
  },
  {
   "cell_type": "code",
   "execution_count": 2,
   "id": "d00fd800-7416-4120-b336-c915d9797bd4",
   "metadata": {},
   "outputs": [],
   "source": [
    "spark = SparkSession.builder.getOrCreate()\n",
    "\n",
    "# eval DataFrame in notebooks\n",
    "spark.conf.set('spark.sql.repl.eagerEval.enabled', True)\n",
    "\n",
    "# activate gpu\n",
    "spark.conf.set(\"spark.driver.resource.gpu.amount\",\"1\")"
   ]
  },
  {
   "cell_type": "code",
   "execution_count": 3,
   "id": "ffd0fb21-d1fe-49c0-abf0-15b3702f5313",
   "metadata": {},
   "outputs": [],
   "source": [
    "sc = spark.sparkContext"
   ]
  },
  {
   "cell_type": "markdown",
   "id": "132fd9ba-c788-4d78-bb68-af3ee696d882",
   "metadata": {},
   "source": [
    "### Checking the version of PySpark and Python"
   ]
  },
  {
   "cell_type": "code",
   "execution_count": 4,
   "id": "67c55ea4-47f0-4b3e-b282-8ba1fcdff33c",
   "metadata": {},
   "outputs": [
    {
     "name": "stdout",
     "output_type": "stream",
     "text": [
      "Spark  version: 3.5.1\n",
      "Python version: sys.version_info(major=3, minor=11, micro=9, releaselevel='final', serial=0)\n"
     ]
    }
   ],
   "source": [
    "print('Spark  version:', spark.version)\n",
    "print('Python version:', sys.version_info)"
   ]
  },
  {
   "cell_type": "markdown",
   "id": "ea505934-a70b-4017-9af1-e33c8399adb0",
   "metadata": {},
   "source": [
    "### Loading data"
   ]
  },
  {
   "cell_type": "code",
   "execution_count": 5,
   "id": "22b83775-1081-484a-a393-9944be747d7d",
   "metadata": {},
   "outputs": [
    {
     "name": "stdout",
     "output_type": "stream",
     "text": [
      "Dataframe shape: (5000, 74)\n",
      "root\n",
      " |-- No.: integer (nullable = true)\n",
      " |-- MLSID: string (nullable = true)\n",
      " |-- StreetNumberNumeric: integer (nullable = true)\n",
      " |-- streetaddress: string (nullable = true)\n",
      " |-- STREETNAME: string (nullable = true)\n",
      " |-- PostalCode: integer (nullable = true)\n",
      " |-- StateOrProvince: string (nullable = true)\n",
      " |-- City: string (nullable = true)\n",
      " |-- SalesClosePrice: integer (nullable = true)\n",
      " |-- LISTDATE: string (nullable = true)\n",
      " |-- LISTPRICE: integer (nullable = true)\n",
      " |-- LISTTYPE: string (nullable = true)\n",
      " |-- OriginalListPrice: integer (nullable = true)\n",
      " |-- PricePerTSFT: double (nullable = true)\n",
      " |-- FOUNDATIONSIZE: integer (nullable = true)\n",
      " |-- FENCE: string (nullable = true)\n",
      " |-- MapLetter: string (nullable = true)\n",
      " |-- LotSizeDimensions: string (nullable = true)\n",
      " |-- SchoolDistrictNumber: string (nullable = true)\n",
      " |-- DAYSONMARKET: integer (nullable = true)\n",
      " |-- offmarketdate: string (nullable = true)\n",
      " |-- Fireplaces: integer (nullable = true)\n",
      " |-- RoomArea4: string (nullable = true)\n",
      " |-- roomtype: string (nullable = true)\n",
      " |-- ROOF: string (nullable = true)\n",
      " |-- RoomFloor4: string (nullable = true)\n",
      " |-- PotentialShortSale: string (nullable = true)\n",
      " |-- PoolDescription: string (nullable = true)\n",
      " |-- PDOM: integer (nullable = true)\n",
      " |-- GarageDescription: string (nullable = true)\n",
      " |-- SQFTABOVEGROUND: integer (nullable = true)\n",
      " |-- Taxes: integer (nullable = true)\n",
      " |-- RoomFloor1: string (nullable = true)\n",
      " |-- RoomArea1: string (nullable = true)\n",
      " |-- TAXWITHASSESSMENTS: double (nullable = true)\n",
      " |-- TAXYEAR: integer (nullable = true)\n",
      " |-- LivingArea: integer (nullable = true)\n",
      " |-- UNITNUMBER: string (nullable = true)\n",
      " |-- YEARBUILT: integer (nullable = true)\n",
      " |-- ZONING: string (nullable = true)\n",
      " |-- STYLE: string (nullable = true)\n",
      " |-- ACRES: double (nullable = true)\n",
      " |-- CoolingDescription: string (nullable = true)\n",
      " |-- APPLIANCES: string (nullable = true)\n",
      " |-- backonmarketdate: string (nullable = true)\n",
      " |-- ROOMFAMILYCHAR: string (nullable = true)\n",
      " |-- RoomArea3: string (nullable = true)\n",
      " |-- EXTERIOR: string (nullable = true)\n",
      " |-- RoomFloor3: string (nullable = true)\n",
      " |-- RoomFloor2: string (nullable = true)\n",
      " |-- RoomArea2: string (nullable = true)\n",
      " |-- DiningRoomDescription: string (nullable = true)\n",
      " |-- BASEMENT: string (nullable = true)\n",
      " |-- BathsFull: integer (nullable = true)\n",
      " |-- BathsHalf: integer (nullable = true)\n",
      " |-- BATHQUARTER: integer (nullable = true)\n",
      " |-- BATHSTHREEQUARTER: integer (nullable = true)\n",
      " |-- Class: string (nullable = true)\n",
      " |-- BATHSTOTAL: integer (nullable = true)\n",
      " |-- BATHDESC: string (nullable = true)\n",
      " |-- RoomArea5: string (nullable = true)\n",
      " |-- RoomFloor5: string (nullable = true)\n",
      " |-- RoomArea6: string (nullable = true)\n",
      " |-- RoomFloor6: string (nullable = true)\n",
      " |-- RoomArea7: string (nullable = true)\n",
      " |-- RoomFloor7: string (nullable = true)\n",
      " |-- RoomArea8: string (nullable = true)\n",
      " |-- RoomFloor8: string (nullable = true)\n",
      " |-- Bedrooms: integer (nullable = true)\n",
      " |-- SQFTBELOWGROUND: integer (nullable = true)\n",
      " |-- AssumableMortgage: string (nullable = true)\n",
      " |-- AssociationFee: integer (nullable = true)\n",
      " |-- ASSESSMENTPENDING: string (nullable = true)\n",
      " |-- AssessedValuation: double (nullable = true)\n",
      "\n"
     ]
    },
    {
     "data": {
      "text/html": [
       "<table border='1'>\n",
       "<tr><th>No.</th><th>MLSID</th><th>StreetNumberNumeric</th><th>streetaddress</th><th>STREETNAME</th><th>PostalCode</th><th>StateOrProvince</th><th>City</th><th>SalesClosePrice</th><th>LISTDATE</th><th>LISTPRICE</th><th>LISTTYPE</th><th>OriginalListPrice</th><th>PricePerTSFT</th><th>FOUNDATIONSIZE</th><th>FENCE</th><th>MapLetter</th><th>LotSizeDimensions</th><th>SchoolDistrictNumber</th><th>DAYSONMARKET</th><th>offmarketdate</th><th>Fireplaces</th><th>RoomArea4</th><th>roomtype</th><th>ROOF</th><th>RoomFloor4</th><th>PotentialShortSale</th><th>PoolDescription</th><th>PDOM</th><th>GarageDescription</th><th>SQFTABOVEGROUND</th><th>Taxes</th><th>RoomFloor1</th><th>RoomArea1</th><th>TAXWITHASSESSMENTS</th><th>TAXYEAR</th><th>LivingArea</th><th>UNITNUMBER</th><th>YEARBUILT</th><th>ZONING</th><th>STYLE</th><th>ACRES</th><th>CoolingDescription</th><th>APPLIANCES</th><th>backonmarketdate</th><th>ROOMFAMILYCHAR</th><th>RoomArea3</th><th>EXTERIOR</th><th>RoomFloor3</th><th>RoomFloor2</th><th>RoomArea2</th><th>DiningRoomDescription</th><th>BASEMENT</th><th>BathsFull</th><th>BathsHalf</th><th>BATHQUARTER</th><th>BATHSTHREEQUARTER</th><th>Class</th><th>BATHSTOTAL</th><th>BATHDESC</th><th>RoomArea5</th><th>RoomFloor5</th><th>RoomArea6</th><th>RoomFloor6</th><th>RoomArea7</th><th>RoomFloor7</th><th>RoomArea8</th><th>RoomFloor8</th><th>Bedrooms</th><th>SQFTBELOWGROUND</th><th>AssumableMortgage</th><th>AssociationFee</th><th>ASSESSMENTPENDING</th><th>AssessedValuation</th></tr>\n",
       "<tr><td>1</td><td>RMLS</td><td>11511</td><td>11511 Stillwater ...</td><td>Stillwater</td><td>55042</td><td>MN</td><td>LELM - Lake Elmo</td><td>143000</td><td>7/15/2017 0:00</td><td>139900</td><td>Exclusive Right</td><td>139900</td><td>145.9184</td><td>980</td><td>Other</td><td>C4</td><td>279X200</td><td>834 - Stillwater</td><td>10</td><td>7/30/2017 0:00</td><td>0</td><td>12 x  9</td><td>Living Room, Dini...</td><td>NULL</td><td>Main</td><td>No</td><td>NULL</td><td>10</td><td>Attached Garage</td><td>980</td><td>1858</td><td>Main</td><td>16 x 13</td><td>1858.0</td><td>2017</td><td>980</td><td>NULL</td><td>1950</td><td>Residential-Single</td><td>(SF) One Story</td><td>1.28</td><td>Central</td><td>Range, Dishwasher...</td><td>NULL</td><td>NULL</td><td>NULL</td><td>Vinyl</td><td>NULL</td><td>Main</td><td>9 x  7</td><td>Eat In Kitchen</td><td>Full</td><td>1</td><td>1</td><td>0</td><td>0</td><td>SF</td><td>2</td><td>Main Floor 3/4 Ba...</td><td>13 x 11</td><td>Main</td><td>10 x 10</td><td>Main</td><td>NULL</td><td>NULL</td><td>NULL</td><td>NULL</td><td>3</td><td>0</td><td>NULL</td><td>0</td><td>Unknown</td><td>0.0</td></tr>\n",
       "<tr><td>2</td><td>RMLS</td><td>11200</td><td>11200 31st St N</td><td>31st</td><td>55042</td><td>MN</td><td>LELM - Lake Elmo</td><td>190000</td><td>10/9/2017 0:00</td><td>210000</td><td>Exclusive Right</td><td>210000</td><td>85.2783</td><td>1144</td><td>NULL</td><td>C1</td><td>100x140</td><td>834 - Stillwater</td><td>4</td><td>10/13/2017 0:00</td><td>0</td><td>11x11</td><td>Living Room, Dini...</td><td>Asphalt Shingles,...</td><td>Main</td><td>No</td><td>NULL</td><td>4</td><td>Attached Garage, ...</td><td>1268</td><td>1640</td><td>Main</td><td>22x14</td><td>1640.0</td><td>2017</td><td>2228</td><td>NULL</td><td>1971</td><td>Residential-Single</td><td>(SF) Split Entry ...</td><td>0.32</td><td>Central</td><td>Range, Microwave,...</td><td>NULL</td><td>Lower Level</td><td>22x14</td><td>Vinyl</td><td>Lower</td><td>Main</td><td>11x12</td><td>Informal Dining R...</td><td>Full, Partial Fin...</td><td>1</td><td>0</td><td>0</td><td>2</td><td>SF</td><td>3</td><td>Main Floor Full B...</td><td>15x11</td><td>Main</td><td>14x11</td><td>Main</td><td>10x11</td><td>Main</td><td>11x11</td><td>Lower</td><td>4</td><td>960</td><td>NULL</td><td>0</td><td>Unknown</td><td>0.0</td></tr>\n",
       "</table>\n"
      ],
      "text/plain": [
       "+---+-----+-------------------+--------------------+----------+----------+---------------+----------------+---------------+--------------+---------+---------------+-----------------+------------+--------------+-----+---------+-----------------+--------------------+------------+---------------+----------+---------+--------------------+--------------------+----------+------------------+---------------+----+--------------------+---------------+-----+----------+---------+------------------+-------+----------+----------+---------+------------------+--------------------+-----+------------------+--------------------+----------------+--------------+---------+--------+----------+----------+---------+---------------------+--------------------+---------+---------+-----------+-----------------+-----+----------+--------------------+---------+----------+---------+----------+---------+----------+---------+----------+--------+---------------+-----------------+--------------+-----------------+-----------------+\n",
       "|No.|MLSID|StreetNumberNumeric|       streetaddress|STREETNAME|PostalCode|StateOrProvince|            City|SalesClosePrice|      LISTDATE|LISTPRICE|       LISTTYPE|OriginalListPrice|PricePerTSFT|FOUNDATIONSIZE|FENCE|MapLetter|LotSizeDimensions|SchoolDistrictNumber|DAYSONMARKET|  offmarketdate|Fireplaces|RoomArea4|            roomtype|                ROOF|RoomFloor4|PotentialShortSale|PoolDescription|PDOM|   GarageDescription|SQFTABOVEGROUND|Taxes|RoomFloor1|RoomArea1|TAXWITHASSESSMENTS|TAXYEAR|LivingArea|UNITNUMBER|YEARBUILT|            ZONING|               STYLE|ACRES|CoolingDescription|          APPLIANCES|backonmarketdate|ROOMFAMILYCHAR|RoomArea3|EXTERIOR|RoomFloor3|RoomFloor2|RoomArea2|DiningRoomDescription|            BASEMENT|BathsFull|BathsHalf|BATHQUARTER|BATHSTHREEQUARTER|Class|BATHSTOTAL|            BATHDESC|RoomArea5|RoomFloor5|RoomArea6|RoomFloor6|RoomArea7|RoomFloor7|RoomArea8|RoomFloor8|Bedrooms|SQFTBELOWGROUND|AssumableMortgage|AssociationFee|ASSESSMENTPENDING|AssessedValuation|\n",
       "+---+-----+-------------------+--------------------+----------+----------+---------------+----------------+---------------+--------------+---------+---------------+-----------------+------------+--------------+-----+---------+-----------------+--------------------+------------+---------------+----------+---------+--------------------+--------------------+----------+------------------+---------------+----+--------------------+---------------+-----+----------+---------+------------------+-------+----------+----------+---------+------------------+--------------------+-----+------------------+--------------------+----------------+--------------+---------+--------+----------+----------+---------+---------------------+--------------------+---------+---------+-----------+-----------------+-----+----------+--------------------+---------+----------+---------+----------+---------+----------+---------+----------+--------+---------------+-----------------+--------------+-----------------+-----------------+\n",
       "|  1| RMLS|              11511|11511 Stillwater ...|Stillwater|     55042|             MN|LELM - Lake Elmo|         143000|7/15/2017 0:00|   139900|Exclusive Right|           139900|    145.9184|           980|Other|       C4|          279X200|    834 - Stillwater|          10| 7/30/2017 0:00|         0|  12 x  9|Living Room, Dini...|                NULL|      Main|                No|           NULL|  10|     Attached Garage|            980| 1858|      Main|  16 x 13|            1858.0|   2017|       980|      NULL|     1950|Residential-Single|      (SF) One Story| 1.28|           Central|Range, Dishwasher...|            NULL|          NULL|     NULL|   Vinyl|      NULL|      Main|   9 x  7|       Eat In Kitchen|                Full|        1|        1|          0|                0|   SF|         2|Main Floor 3/4 Ba...|  13 x 11|      Main|  10 x 10|      Main|     NULL|      NULL|     NULL|      NULL|       3|              0|             NULL|             0|          Unknown|              0.0|\n",
       "|  2| RMLS|              11200|     11200 31st St N|      31st|     55042|             MN|LELM - Lake Elmo|         190000|10/9/2017 0:00|   210000|Exclusive Right|           210000|     85.2783|          1144| NULL|       C1|          100x140|    834 - Stillwater|           4|10/13/2017 0:00|         0|    11x11|Living Room, Dini...|Asphalt Shingles,...|      Main|                No|           NULL|   4|Attached Garage, ...|           1268| 1640|      Main|    22x14|            1640.0|   2017|      2228|      NULL|     1971|Residential-Single|(SF) Split Entry ...| 0.32|           Central|Range, Microwave,...|            NULL|   Lower Level|    22x14|   Vinyl|     Lower|      Main|    11x12| Informal Dining R...|Full, Partial Fin...|        1|        0|          0|                2|   SF|         3|Main Floor Full B...|    15x11|      Main|    14x11|      Main|    10x11|      Main|    11x11|     Lower|       4|            960|             NULL|             0|          Unknown|              0.0|\n",
       "+---+-----+-------------------+--------------------+----------+----------+---------------+----------------+---------------+--------------+---------+---------------+-----------------+------------+--------------+-----+---------+-----------------+--------------------+------------+---------------+----------+---------+--------------------+--------------------+----------+------------------+---------------+----+--------------------+---------------+-----+----------+---------+------------------+-------+----------+----------+---------+------------------+--------------------+-----+------------------+--------------------+----------------+--------------+---------+--------+----------+----------+---------+---------------------+--------------------+---------+---------+-----------+-----------------+-----+----------+--------------------+---------+----------+---------+----------+---------+----------+---------+----------+--------+---------------+-----------------+--------------+-----------------+-----------------+"
      ]
     },
     "execution_count": 5,
     "metadata": {},
     "output_type": "execute_result"
    }
   ],
   "source": [
    "# read file\n",
    "real_state = spark.read.csv('data-sources/2017_StPaul_MN_Real_Estate.csv', header=True, inferSchema=True)\n",
    "\n",
    "# save to parquet format\n",
    "file_path = 'spark-warehouse/real_state.parquet'\n",
    "real_state.write.parquet(file_path, mode=\"overwrite\")\n",
    "real_state = spark.read.parquet(file_path)\n",
    "real_state.createOrReplaceTempView(\"real_state\")\n",
    "print('Dataframe shape:', (real_state.count(), len(real_state.columns)))\n",
    "real_state.printSchema()\n",
    "real_state.limit(2)"
   ]
  },
  {
   "cell_type": "code",
   "execution_count": 6,
   "id": "a42ccf84-350b-4a01-97b2-c7cbe8c7bb90",
   "metadata": {},
   "outputs": [
    {
     "name": "stdout",
     "output_type": "stream",
     "text": [
      "Dataframe shape: (5000, 3)\n",
      "root\n",
      " |-- No.: integer (nullable = true)\n",
      " |-- latitude: double (nullable = true)\n",
      " |-- longitude: double (nullable = true)\n",
      "\n"
     ]
    },
    {
     "data": {
      "text/html": [
       "<table border='1'>\n",
       "<tr><th>No.</th><th>latitude</th><th>longitude</th></tr>\n",
       "<tr><td>1</td><td>45.00585</td><td>-92.87286</td></tr>\n",
       "<tr><td>2</td><td>44.99488</td><td>-92.87927</td></tr>\n",
       "</table>\n"
      ],
      "text/plain": [
       "+---+--------+---------+\n",
       "|No.|latitude|longitude|\n",
       "+---+--------+---------+\n",
       "|  1|45.00585|-92.87286|\n",
       "|  2|44.99488|-92.87927|\n",
       "+---+--------+---------+"
      ]
     },
     "execution_count": 6,
     "metadata": {},
     "output_type": "execute_result"
    }
   ],
   "source": [
    "# read file\n",
    "coord_df = spark.read.csv('data-sources/real-state-only-coord.csv', header=True, inferSchema=True)\n",
    "\n",
    "# save to parquet format\n",
    "file_path = 'spark-warehouse/real_state_coord.parquet'\n",
    "coord_df.write.parquet(file_path, mode=\"overwrite\")\n",
    "coord_df = spark.read.parquet(file_path)\n",
    "coord_df.createOrReplaceTempView(\"coord\")\n",
    "print('Dataframe shape:', (coord_df.count(), len(coord_df.columns)))\n",
    "coord_df.printSchema()\n",
    "coord_df.limit(2)"
   ]
  },
  {
   "cell_type": "code",
   "execution_count": 7,
   "id": "fcb9ae71-178a-411d-be74-1794b2b284d9",
   "metadata": {},
   "outputs": [
    {
     "name": "stdout",
     "output_type": "stream",
     "text": [
      "Dataframe shape: (4243, 5)\n",
      "root\n",
      " |-- latitude: double (nullable = true)\n",
      " |-- longitude: double (nullable = true)\n",
      " |-- walkscore: integer (nullable = true)\n",
      " |-- bikescore: integer (nullable = true)\n",
      " |-- transitscore: integer (nullable = true)\n",
      "\n"
     ]
    },
    {
     "data": {
      "text/html": [
       "<table border='1'>\n",
       "<tr><th>latitude</th><th>longitude</th><th>walkscore</th><th>bikescore</th><th>transitscore</th></tr>\n",
       "<tr><td>44.92635</td><td>-93.18928</td><td>61</td><td>72</td><td>NULL</td></tr>\n",
       "<tr><td>44.9581</td><td>-93.17982</td><td>74</td><td>83</td><td>NULL</td></tr>\n",
       "</table>\n"
      ],
      "text/plain": [
       "+--------+---------+---------+---------+------------+\n",
       "|latitude|longitude|walkscore|bikescore|transitscore|\n",
       "+--------+---------+---------+---------+------------+\n",
       "|44.92635|-93.18928|       61|       72|        NULL|\n",
       "| 44.9581|-93.17982|       74|       83|        NULL|\n",
       "+--------+---------+---------+---------+------------+"
      ]
     },
     "execution_count": 7,
     "metadata": {},
     "output_type": "execute_result"
    }
   ],
   "source": [
    "# read file\n",
    "neighborhood_walk_df = spark.read.csv('data-sources/walk.csv', header=True, inferSchema=True)\n",
    "\n",
    "# cast to int\n",
    "for col_name in ['bikescore', 'transitscore']:\n",
    "    neighborhood_walk_df = neighborhood_walk_df.withColumn(col_name, neighborhood_walk_df[col_name].cast('int'))\n",
    "    \n",
    "# save to parquet format\n",
    "file_path = 'spark-warehouse/neighborhood_walk.parquet'\n",
    "neighborhood_walk_df.write.parquet(file_path, mode=\"overwrite\")\n",
    "neighborhood_walk_df = spark.read.parquet(file_path)\n",
    "neighborhood_walk_df.createOrReplaceTempView(\"neighborhood_walk\")\n",
    "print('Dataframe shape:', (neighborhood_walk_df.count(), len(neighborhood_walk_df.columns)))\n",
    "neighborhood_walk_df.printSchema()\n",
    "neighborhood_walk_df.limit(2)"
   ]
  },
  {
   "cell_type": "code",
   "execution_count": 8,
   "id": "d33d4891-3877-43d0-85e0-09d4d3f4a3ec",
   "metadata": {},
   "outputs": [
    {
     "name": "stdout",
     "output_type": "stream",
     "text": [
      "Dataframe shape: (10, 3)\n",
      "root\n",
      " |-- MedianCity: string (nullable = true)\n",
      " |-- MedianHomeValue: integer (nullable = true)\n",
      " |-- MedianYear: integer (nullable = true)\n",
      "\n"
     ]
    },
    {
     "data": {
      "text/html": [
       "<table border='1'>\n",
       "<tr><th>MedianCity</th><th>MedianHomeValue</th><th>MedianYear</th></tr>\n",
       "<tr><td>LELM - Lake Elmo</td><td>401000</td><td>2016</td></tr>\n",
       "<tr><td>MAPW - Maplewood</td><td>193000</td><td>2016</td></tr>\n",
       "</table>\n"
      ],
      "text/plain": [
       "+----------------+---------------+----------+\n",
       "|      MedianCity|MedianHomeValue|MedianYear|\n",
       "+----------------+---------------+----------+\n",
       "|LELM - Lake Elmo|         401000|      2016|\n",
       "|MAPW - Maplewood|         193000|      2016|\n",
       "+----------------+---------------+----------+"
      ]
     },
     "execution_count": 8,
     "metadata": {},
     "output_type": "execute_result"
    }
   ],
   "source": [
    "# read file\n",
    "hist_realstate_price_df = spark.read.csv('data-sources/real-state-medianprices.csv', \n",
    "                                         header=True, inferSchema=True)\n",
    "\n",
    "# save to parquet format\n",
    "hist_realstate_price_df.createOrReplaceTempView(\"hist_realstate_price\")\n",
    "print('Dataframe shape:', (hist_realstate_price_df.count(), len(hist_realstate_price_df.columns)))\n",
    "hist_realstate_price_df.printSchema()\n",
    "hist_realstate_price_df.limit(2)"
   ]
  },
  {
   "cell_type": "code",
   "execution_count": 9,
   "id": "ae97bb3e-9d8c-4fbb-bad0-9d0e2bb50a59",
   "metadata": {},
   "outputs": [
    {
     "name": "stdout",
     "output_type": "stream",
     "text": [
      "Dataframe shape: (261, 2)\n",
      "root\n",
      " |-- DATE: date (nullable = true)\n",
      " |-- MORTGAGE30US: double (nullable = true)\n",
      "\n",
      "+----------+------------+\n",
      "|      DATE|MORTGAGE30US|\n",
      "+----------+------------+\n",
      "|2013-10-10|        4.23|\n",
      "|2013-10-17|        4.28|\n",
      "+----------+------------+\n",
      "only showing top 2 rows\n",
      "\n"
     ]
    }
   ],
   "source": [
    "# Loading the data\n",
    "mort_df = spark.read.csv('data-sources/mortage-data.csv', header=True, inferSchema=True)\n",
    "mort_df = mort_df.withColumn('DATE', F.to_date('DATE', format='M/d/yyyy'))\n",
    "hist_realstate_price_df.createOrReplaceTempView(\"mortage\")\n",
    "print('Dataframe shape:', (mort_df.count(), len(mort_df.columns)))\n",
    "mort_df.printSchema()\n",
    "mort_df.show(2)"
   ]
  },
  {
   "cell_type": "markdown",
   "id": "6b9d4812-a693-4bca-ad36-d6f4f26cdc84",
   "metadata": {},
   "source": [
    "### Tables catalogue"
   ]
  },
  {
   "cell_type": "code",
   "execution_count": 10,
   "id": "79396001-462c-4a29-af32-99de195527fd",
   "metadata": {},
   "outputs": [
    {
     "data": {
      "text/plain": [
       "[Table(name='coord', catalog=None, namespace=[], description=None, tableType='TEMPORARY', isTemporary=True),\n",
       " Table(name='hist_realstate_price', catalog=None, namespace=[], description=None, tableType='TEMPORARY', isTemporary=True),\n",
       " Table(name='mortage', catalog=None, namespace=[], description=None, tableType='TEMPORARY', isTemporary=True),\n",
       " Table(name='neighborhood_walk', catalog=None, namespace=[], description=None, tableType='TEMPORARY', isTemporary=True),\n",
       " Table(name='real_state', catalog=None, namespace=[], description=None, tableType='TEMPORARY', isTemporary=True)]"
      ]
     },
     "execution_count": 10,
     "metadata": {},
     "output_type": "execute_result"
    }
   ],
   "source": [
    "spark.catalog.listTables()"
   ]
  },
  {
   "cell_type": "markdown",
   "id": "f5e93a38-74e9-4ca4-b3bc-72f943dce11a",
   "metadata": {},
   "source": [
    "### Util funtions"
   ]
  },
  {
   "cell_type": "code",
   "execution_count": 11,
   "id": "b2f609b4-bc07-4abd-9090-45057949dff0",
   "metadata": {},
   "outputs": [],
   "source": [
    "# Define a function for splitting list columns in a set of additional features\n",
    "def split_and_pivot(df: pd.DataFrame, split_col: str, split_char=', ') -> pd.DataFrame:\n",
    "    '''Return a new DataFrame where a column that can be interpreted as list is replaced\n",
    "    with a new set of columns where each item is counted in each column.\n",
    "    p.e. col1 in df have strings like 'itema, itemb, itemc', the resulted df will contain \n",
    "    the columns col1_itema, col1_itemb, col1_itemc instead of col1.\n",
    "    Input:\n",
    "        pd: DataFrame\n",
    "        split_col: String with the name of the column to split and then explode\n",
    "        split_char: Characters to make the split on, default is ', '\n",
    "    Return New Dataframe'''\n",
    "\n",
    "    # Prepare the dataframe\n",
    "    df = (df.withColumn('ROW_ID', F.monotonically_increasing_id() + 1)   # RowID column for pivot\n",
    "            .withColumn(f'{split_col}_list', F.split(df[split_col], ', ')))\n",
    "    \n",
    "    # Explode the values into new records\n",
    "    ex_df = (df.withColumn(f'ex_{split_col}_list', F.explode(df[f'{split_col}_list']))\n",
    "               .withColumn(f'ex_{split_col}_list', F.concat(F.lit(f'{split_col}_'), f'ex_{split_col}_list'))\n",
    "               .withColumn('constant_val', F.lit(1)))                       # Dummy column fot pivot\n",
    "                 \n",
    "    # Pivot on the exploded column\n",
    "    piv_df = (ex_df.groupBy('ROW_ID')\n",
    "                   .pivot(f'ex_{split_col}_list')\n",
    "                   .agg(F.coalesce(F.first('constant_val'))))\n",
    "    binary_cols = piv_df.columns[1:]\n",
    "\n",
    "    # Join the dataframes together\n",
    "    joined_df = df.join(piv_df, on='ROW_ID', how='left')\n",
    "\n",
    "    # Dropping dummy columns\n",
    "    joined_df = joined_df.drop(*['ROW_ID', f'{split_col}_list', split_col])\n",
    "\n",
    "    return joined_df.repartition(5), binary_cols"
   ]
  },
  {
   "cell_type": "code",
   "execution_count": 12,
   "id": "f6b1e5df-7e3f-4a3d-8d04-85ea2708f90a",
   "metadata": {},
   "outputs": [],
   "source": [
    "# Define a function for pivoting catego columns\n",
    "def pivot_catego_col(df: pd.DataFrame, catego_col: str) -> pd.DataFrame:\n",
    "    '''Return a new DataFrame where a catego column is transposed into a set of columns.\n",
    "    p.e. col1 in df can have one value from these options: a, b, the resulted df will contain \n",
    "    the columns col1:a, col1:b, col1:c instead of the catego col1.\n",
    "    Input:\n",
    "        pd: DataFrame\n",
    "        catego_col: String with the name of the column to pivot\n",
    "    Return New Dataframe'''\n",
    "\n",
    "    # Prepare the dataframe\n",
    "    null_col = 'NULL_COL'\n",
    "    df = (df.withColumn('ROW_ID', F.monotonically_increasing_id() + 1)   # RowID column for pivot=\n",
    "            .withColumn(catego_col, F.concat(F.lit(f'{catego_col}:'), catego_col))\n",
    "            .withColumn('constant_val', F.lit(1))                        # Dummy column fot pivot\n",
    "            .fillna(null_col, subset=[catego_col])\n",
    "    )                       \n",
    "              \n",
    "    # Pivot on the catego column\n",
    "    piv_df = (df.groupBy('ROW_ID')\n",
    "                .pivot(catego_col)\n",
    "                .agg(F.coalesce(F.first('constant_val')))\n",
    "                .fillna(0))\n",
    "    binary_cols = piv_df.columns[1:]\n",
    "    if null_col in binary_cols:\n",
    "        del binary_cols[binary_cols.index(null_col)]\n",
    "        \n",
    "    # Join the dataframes together\n",
    "    joined_df = df.join(piv_df, on='ROW_ID', how='left')\n",
    "    joined_df - joined_df.select(joined_df.columns[:-1])\n",
    "\n",
    "    # Dropping dummy columns\n",
    "    joined_df = joined_df.drop(*['ROW_ID', 'constant_val', catego_col, null_col])\n",
    "\n",
    "    return joined_df.repartition(5), binary_cols"
   ]
  },
  {
   "cell_type": "code",
   "execution_count": 13,
   "id": "dc9a766c-c7df-4b71-8b34-65c7a4fe4634",
   "metadata": {},
   "outputs": [],
   "source": [
    "def saving_to_kitchen(df: pd.DataFrame, table_name: str='real_state') -> None:\n",
    "    '''Save the DataFrame to HD'''\n",
    "    file_path = f'spark-warehouse/{table_name}_kitchen.parquet'\n",
    "    df.write.parquet(file_path, mode=\"overwrite\")"
   ]
  },
  {
   "cell_type": "code",
   "execution_count": 14,
   "id": "5ee65231-d312-4b3c-9f7c-d685874485f7",
   "metadata": {},
   "outputs": [],
   "source": [
    "def read_from_kitchen(table_name: str='real_state') -> pd.DataFrame:\n",
    "    '''Read DataFrame from HD'''\n",
    "    file_path = f'spark-warehouse/{table_name}_kitchen.parquet'\n",
    "    df_parquet = spark.read.parquet(file_path).repartition(5)\n",
    "    df_parquet.createOrReplaceTempView(table_name)\n",
    "    print('Dataframe shape:', (df_parquet.count(), len(df_parquet.columns)))\n",
    "    return df_parquet"
   ]
  },
  {
   "cell_type": "code",
   "execution_count": 15,
   "id": "339dd82b-6142-4b02-bc77-d0200be8596d",
   "metadata": {},
   "outputs": [],
   "source": [
    "def counting_null_values(df: pd.DataFrame, show_only_nulls=True) -> None:\n",
    "    '''Print how many nulls are per column'''\n",
    "    Dict_Null = {col: df.filter(df[f\"`{col}`\"].isNull()).count() for col in df.columns}\n",
    "    \n",
    "    # Filtering columns without null values\n",
    "    if show_only_nulls:\n",
    "        Dict_Null = {k: v for k, v in Dict_Null.items() if v != 0}\n",
    "    pprint(Dict_Null)"
   ]
  },
  {
   "cell_type": "code",
   "execution_count": 16,
   "id": "9c48ac0b-243f-45d9-bae2-bae3cc51ae51",
   "metadata": {},
   "outputs": [],
   "source": [
    "# Define a function for pivoting catego columns\n",
    "def catego_one_hot(df: pd.DataFrame, index_col: str, catego_col: str) -> pd.DataFrame:\n",
    "    '''Return a one hot encoder for a specific column in DataFrame.\n",
    "    Input:\n",
    "        pd: DataFrame\n",
    "        index_col: String with the name of the row unique identifier col\n",
    "        catego_col: String with the name of the catego col\n",
    "    Return New Dataframe'''\n",
    "\n",
    "    \n",
    "    def extract(row):\n",
    "        return tuple(map(lambda x: row[x], row.__fields__)) + tuple(row.c_idx_vec.toArray().tolist())\n",
    "\n",
    "    # Prepare the df\n",
    "    df_subset = df[[index_col, catego_col]].fillna('None')\n",
    "    \n",
    "    string_indexer = StringIndexer(inputCol=catego_col, outputCol=\"c_idx\")\n",
    "    encoded_df = string_indexer.fit(df_subset).transform(df_subset)\n",
    "    \n",
    "    one_hot_encoder = OneHotEncoder(inputCol=\"c_idx\", outputCol=\"c_idx_vec\")\n",
    "    one_hot_encoder.setDropLast(False)\n",
    "    one_hot_encoder = one_hot_encoder.fit(encoded_df)\n",
    "    vector_df = one_hot_encoder.transform(encoded_df)\n",
    "\n",
    "    # Get c and its repective index. One hot encoder will put those on same index in vector\n",
    "    colIdx = vector_df.select(catego_col, \"c_idx\").distinct().rdd.collectAsMap()\n",
    "    colIdx =  sorted((value, f\"{catego_col}:\" + key) for (key, value) in colIdx.items())\n",
    "    \n",
    "    newCols = list(map(lambda x: x[1], colIdx))\n",
    "    actualCol = vector_df.columns\n",
    "    allColNames = actualCol + newCols\n",
    "\n",
    "    transformed_df = vector_df.rdd.map(extract).toDF(allColNames)\n",
    "    for col in newCols:\n",
    "        transformed_df = transformed_df.withColumn(col, transformed_df[f'`{col}`'].cast(\"int\"))\n",
    "    transformed_df = transformed_df.drop(catego_col, 'c_idx', 'c_idx_vec', newCols[-1]).repartition(5)\n",
    "    result = df.drop(catego_col).join(transformed_df, on='No.', how='left')\n",
    "    return result, newCols[:-1]"
   ]
  },
  {
   "cell_type": "code",
   "execution_count": 17,
   "id": "a76050a2-13be-4645-91f2-a7d20f5b4481",
   "metadata": {},
   "outputs": [],
   "source": [
    "def split_data_by_date(df_original, split_col, test_days=45):\n",
    "    '''Return dataset splitted in two sets: training and testing'''\n",
    "\n",
    "    # Find the date to use in spitting test and train\n",
    "    max_date = df_original.agg(F.max(split_col)).collect()[0][0]\n",
    "    split_date = max_date - timedelta(days=test_days)\n",
    "    \n",
    "    # Create Sequential Test and Training Sets\n",
    "    train_df = df_original.where(df_original['offmarketdate'] < split_date) \n",
    "\n",
    "    # An extra where is needed on LISTDATE to ensure it contains items listed as of the split_date.\n",
    "    test_df = (df_original.where(df_original['offmarketdate'] >= split_date)\n",
    "                          .where(df_original['LISTDATE'] <= split_date) )\n",
    "    return train_df, test_df"
   ]
  },
  {
   "cell_type": "markdown",
   "id": "a81a47a8-260c-44ae-a42a-19e6877eed59",
   "metadata": {},
   "source": [
    "## Feature engineering\n",
    "\n",
    "Preparing the database for this track"
   ]
  },
  {
   "cell_type": "markdown",
   "id": "74311a33-93ce-410e-8c72-1c2afb768b40",
   "metadata": {},
   "source": [
    "### Casting to proper format\n",
    "\n",
    "- BigInt: `['SQFTBELOWGROUND', 'AssociationFee']`\n",
    "- Date: `['offmarketdate', 'LISTDATE']`\n",
    "- Double: `['backonmarketdate']`"
   ]
  },
  {
   "cell_type": "code",
   "execution_count": 18,
   "id": "51dd8523-a4f9-48e7-b89c-318e0e4dc044",
   "metadata": {},
   "outputs": [],
   "source": [
    "def cast_to_proper_format(df: pd.DataFrame) -> pd.DataFrame:\n",
    "    '''Some columns are casted to bigint, date, and double'''\n",
    "    # cast columns - bigint\n",
    "    for col_name in ['SQFTBELOWGROUND', 'AssociationFee']:\n",
    "        df = df.withColumn(col_name, df[col_name].cast('bigint'))\n",
    "    \n",
    "    # cast columns - date\n",
    "    for col_name in ['offmarketdate', 'LISTDATE']:\n",
    "        df = df.withColumn(col_name, F.to_date(col_name, format='M/d/yyyy H:m'))\n",
    "    \n",
    "    # cast columns - double\n",
    "    for col_name in ['backonmarketdate']:\n",
    "        df = df.withColumn(col_name, df[col_name].cast('double'))\n",
    "    \n",
    "    print('Cast - Dataframe shape:', (df.count(), len(df.columns)))\n",
    "    return df"
   ]
  },
  {
   "cell_type": "markdown",
   "id": "adf8d926-5f2e-446d-8043-acaf4b134f24",
   "metadata": {},
   "source": [
    "### DateTime components"
   ]
  },
  {
   "cell_type": "code",
   "execution_count": 19,
   "id": "e4894055-46e8-4992-8c1d-48ffac1deeb8",
   "metadata": {},
   "outputs": [],
   "source": [
    "def work_with_datetime_features(df: pd.DataFrame) -> pd.DataFrame:\n",
    "    '''New features related to datetime are added'''\n",
    "    df = (df.withColumn('LIST_DAYOFMONTH', F.dayofmonth('LISTDATE'))\n",
    "            .withColumn('LIST_DAYOFYEAR', F.dayofyear('LISTDATE'))\n",
    "            .withColumn('LIST_MONTH', F.month('LISTDATE'))\n",
    "            .withColumn('LIST_WEEKOFYEAR', F.weekofyear('LISTDATE'))\n",
    "            .withColumn('LIST_YEAR', F.year('LISTDATE')))\n",
    "    \n",
    "    print('DateTime Features - Dataframe shape:', (df.count(), len(df.columns)))\n",
    "    return df"
   ]
  },
  {
   "cell_type": "markdown",
   "id": "a223353d-a71b-4e42-9ad9-37a75199c5ad",
   "metadata": {},
   "source": [
    "### Join with other datasets"
   ]
  },
  {
   "cell_type": "code",
   "execution_count": 20,
   "id": "093a80bf-5d38-4483-91c0-7aeeed0de59e",
   "metadata": {},
   "outputs": [],
   "source": [
    "def enrich_joining_more_tables(df: pd.DataFrame) -> pd.DataFrame:\n",
    "    '''Adding neighborhood friendly, historical value'''\n",
    "    \n",
    "    global neighborhood_walk_df\n",
    "    global coord_df\n",
    "    global hist_realstate_price_df\n",
    "    \n",
    "    # join to add coord to real state dataset\n",
    "    df = df.join(coord_df, on='No.', how='left')\n",
    "    \n",
    "    # join to add neighborhood_walk features\n",
    "    df = df.withColumn('longitude', F.round('longitude', 5))  # To have same precision\n",
    "    df = df.withColumn('latitude', F.round('latitude', 5))\n",
    "    neighborhood_walk_df = neighborhood_walk_df.withColumn('longitude', F.round('longitude', 5))\n",
    "    neighborhood_walk_df = neighborhood_walk_df.withColumn('latitude', F.round('latitude', 5))\n",
    "    \n",
    "    df = df.join(neighborhood_walk_df, on=['longitude', 'latitude'], how='left')\n",
    "    \n",
    "    # join to add historical median prices\n",
    "    hmp = (hist_realstate_price_df.select(hist_realstate_price_df['MedianCity'].alias('City'),\n",
    "                                          'MedianHomeValue',\n",
    "                                          hist_realstate_price_df['MedianYear'].alias('REPORT_YEAR')))\n",
    "    \n",
    "    df = df.withColumn('REPORT_YEAR', (df['LIST_YEAR'] - 1))\n",
    "    df = df.join(hmp, on=['City', 'REPORT_YEAR'], how='left')\n",
    "    df = df.drop('REPORT_YEAR')\n",
    "    \n",
    "    print('Joining - Dataframe shape:', (df.count(), len(df.columns)))\n",
    "    return df"
   ]
  },
  {
   "cell_type": "markdown",
   "id": "ffb5f450-e2ea-4298-9d97-363a4ef156a7",
   "metadata": {},
   "source": [
    "### Window & Lags"
   ]
  },
  {
   "cell_type": "code",
   "execution_count": 21,
   "id": "11fe22ac-ed30-49be-9622-89a1f53d1032",
   "metadata": {},
   "outputs": [],
   "source": [
    "def adding_lags_with_window(df: pd.DataFrame, show=True) -> pd.DataFrame:\n",
    "    '''Adding mortage statistical data'''\n",
    "    left_data = df.select('LISTDATE', '`No.`',\n",
    "                          F.lit(None).alias('MORTGAGE30US'),\n",
    "                          F.lit(None).alias('MORTGAGE30US-1WK'),\n",
    "                          F.lit(None).alias('MORTGAGE30US-2WK'),\n",
    "                          F.lit(None).alias('MORTGAGE30US-3WK'),\n",
    "                          F.lit(None).alias('MORTGAGE30US-4WK'))\n",
    "    \n",
    "    # Preparing the right side with all lag values\n",
    "    right_data = mort_df.select(mort_df['DATE'].alias('LISTDATE'), 'MORTGAGE30US', F.lit(None).alias('No.'))\n",
    "    w = Window().orderBy(right_data['LISTDATE'])   # Create window for lags\n",
    "    right_data = (right_data.withColumn('MORTGAGE30US-1WK', F.lag('MORTGAGE30US', offset=1).over(w))\n",
    "                            .withColumn('MORTGAGE30US-2WK', F.lag('MORTGAGE30US', offset=2).over(w))\n",
    "                            .withColumn('MORTGAGE30US-3WK', F.lag('MORTGAGE30US', offset=3).over(w))\n",
    "                            .withColumn('MORTGAGE30US-4WK', F.lag('MORTGAGE30US', offset=4).over(w)))\n",
    "    \n",
    "    result_data = left_data.unionByName(right_data)\n",
    "    w = Window().orderBy('LISTDATE', '`No.`').rowsBetween(Window.unboundedPreceding, -1)\n",
    "    result_data = (result_data.withColumn('MORTGAGE30US', F.last('MORTGAGE30US', True).over(w))\n",
    "                               .withColumn('MORTGAGE30US-1WK', F.last('MORTGAGE30US-1WK', True).over(w))\n",
    "                               .withColumn('MORTGAGE30US-2WK', F.last('MORTGAGE30US-2WK', True).over(w))\n",
    "                               .withColumn('MORTGAGE30US-3WK', F.last('MORTGAGE30US-3WK', True).over(w))\n",
    "                               .withColumn('MORTGAGE30US-4WK', F.last('MORTGAGE30US-4WK', True).over(w))\n",
    "                               .filter(~F.isnull('`No.`')))\n",
    "    if show:\n",
    "        result_data.orderBy(result_data.LISTDATE.desc()).show(5)\n",
    "    \n",
    "    df = df.join(result_data, on=['LISTDATE', 'No.'], how='left')\n",
    "    \n",
    "    \n",
    "    print('Window & Lag - Dataframe shape:', (df.count(), len(df.columns)))\n",
    "    return df"
   ]
  },
  {
   "cell_type": "markdown",
   "id": "9851e822-1793-4ae0-9281-deba7e9d67e4",
   "metadata": {},
   "source": [
    "### Ratios"
   ]
  },
  {
   "cell_type": "code",
   "execution_count": 22,
   "id": "ef7b81a9-94c1-4386-8ce5-7afc18b6aa59",
   "metadata": {},
   "outputs": [],
   "source": [
    "def adding_ratios_features(df: pd.DataFrame) -> pd.DataFrame:\n",
    "    '''New proportion features added'''\n",
    "    df = (df.withColumn('ASSESSED_TO_LIST', df['AssessedValuation'] / df['LISTPRICE'])\n",
    "          .withColumn('BED_TO_BATHS', df['Bedrooms'] / df['BATHSTOTAL'])\n",
    "          .withColumn('TAX_TO_LIST', df['Taxes'] / df['LISTPRICE'])\n",
    "          .withColumn('SQFT_TOTAL', df['SQFTBELOWGROUND'] + df['SQFTABOVEGROUND'])\n",
    "          .withColumn('LISTING_PRICE_PER_SQFT', df['LISTPRICE'] / (df['SQFTBELOWGROUND'] + \n",
    "                                                                   df['SQFTABOVEGROUND']))\n",
    "          .withColumn('LISTING_TO_MEDIAN_RATIO', df['LISTPRICE'] / df['MedianHomeValue']))\n",
    "    print('Ratios - Dataframe shape:', (df.count(), len(df.columns)))\n",
    "    return df\n",
    "\n",
    "# Others not included:\n",
    " # |-- PERCENT_BIGGER_SIZE_HOMES: double (nullable = true)\n",
    " # |-- PERCENT_NEWER_AGE_HOMES: double (nullable = true)\n",
    " # |-- PERCENT_OLDER_AGE_HOMES: double (nullable = true)\n",
    " # |-- PERCENT_SIMILAR_AGE_HOMES: double (nullable = true)\n",
    " # |-- PERCENT_SIMILAR_SIZE_HOMES: double (nullable = true)\n",
    " # |-- PERCENT_SMALLER_SIZE_HOMES: double (nullable = true)\n",
    " # |-- PRICE_REDUCTION_PERCENT: double (nullable = true)"
   ]
  },
  {
   "cell_type": "markdown",
   "id": "eb8333bd-326f-468e-842e-ecb5e596ad01",
   "metadata": {},
   "source": [
    "### Dropping some columns"
   ]
  },
  {
   "cell_type": "code",
   "execution_count": 23,
   "id": "956f8626-b9ff-4e14-a2e1-30da3372792c",
   "metadata": {},
   "outputs": [],
   "source": [
    "def removing_unuseful_columns(df: pd.DataFrame) -> pd.DataFrame:\n",
    "    '''Removing columns that not add value to the problem'''\n",
    "    df = df.drop(*['backonmarketdate', 'Class', 'LotSizeDimensions', 'MapLetter', 'MLSID', \n",
    "                   'PDOM', 'PostalCode',  'RoomArea1', 'RoomArea2', 'RoomArea3', 'RoomArea4', \n",
    "                   'RoomArea5', 'RoomArea6', 'RoomArea7', 'RoomArea8',  'ROOMFAMILYCHAR', \n",
    "                   'roomtype', 'TAXYEAR', 'UNITNUMBER', 'RoomFloor1', 'RoomFloor2', 'RoomFloor3', \n",
    "                   'RoomFloor4', 'RoomFloor5', 'RoomFloor6', 'RoomFloor7', 'RoomFloor8', \n",
    "                   'StateOrProvince', 'streetaddress', 'STREETNAME', 'StreetNumberNumeric'])\n",
    "    print('Dropping 1 - Dataframe shape:', (df.count(), len(df.columns)))\n",
    "    return df"
   ]
  },
  {
   "cell_type": "markdown",
   "id": "47f4622b-71c6-453b-af85-9f2a18a51a98",
   "metadata": {},
   "source": [
    "### Splitting & Exploding"
   ]
  },
  {
   "cell_type": "code",
   "execution_count": 24,
   "id": "be4bf765-f416-4b21-85a3-891aeb3e4027",
   "metadata": {},
   "outputs": [],
   "source": [
    "def explode_list_features(df: pd.DataFrame, list_features: List) -> pd.DataFrame:\n",
    "    '''Transform list columns into columns features'''\n",
    "    binary_cols = []\n",
    "    \n",
    "    for split_col in list_features:\n",
    "        df, bin_cols = split_and_pivot(df=df, split_col=split_col, split_char=', ')\n",
    "        binary_cols += bin_cols\n",
    "        print(f'Explode {split_col} - Dataframe shape:', (df.count(), len(df.columns)))\n",
    "    return df, binary_cols"
   ]
  },
  {
   "cell_type": "markdown",
   "id": "8659f45e-c986-4d69-beea-d92c90860be5",
   "metadata": {},
   "source": [
    "### OneHot Encoder - catego columns"
   ]
  },
  {
   "cell_type": "code",
   "execution_count": 25,
   "id": "35cb945a-ba7b-431e-914b-53dfa57d89c1",
   "metadata": {},
   "outputs": [],
   "source": [
    "def explode_catego_features(df: pd.DataFrame, list_features: List) -> pd.DataFrame:\n",
    "    '''Encode and explode catego features'''\n",
    "    catego_cols = []\n",
    "    for catego_col in list_features:\n",
    "        df, cat_cols = catego_one_hot(df, index_col='`No.`', catego_col=catego_col)\n",
    "        catego_cols += cat_cols\n",
    "        print(f'Encode {catego_col} - Dataframe shape:', (df.count(), len(df.columns)))\n",
    "    return df, catego_cols"
   ]
  },
  {
   "cell_type": "code",
   "execution_count": 26,
   "id": "c74676eb-9925-4cab-a7a3-ed906433ff53",
   "metadata": {},
   "outputs": [],
   "source": [
    "def encode_catego_col(df: pd.DataFrame, catego_cols: List) -> pd.DataFrame:\n",
    "    '''Encode catego features'''\n",
    "\n",
    "    for catego in catego_cols:\n",
    "        df = df.fillna('None', subset=[catego])\n",
    "        string_indexer = StringIndexer(inputCol=catego, outputCol=f'{catego}_idx')\n",
    "        index_df = string_indexer.fit(df).transform(df)\n",
    "        encoder = OneHotEncoder(inputCol=f'{catego}_idx', outputCol = f'{catego}_vec')\n",
    "        df = encoder.fit(index_df).transform(index_df)\n",
    "        df = df.drop(*[catego, f'{catego}_idx'])\n",
    "        print(f'Encode {catego} - Dataframe shape:', (df.count(), len(df.columns)))\n",
    "\n",
    "    return df"
   ]
  },
  {
   "cell_type": "markdown",
   "id": "a0520b5e-cc41-4c1e-a7d1-002b00a79ae5",
   "metadata": {},
   "source": [
    "### Dropping features with less than 30 observations"
   ]
  },
  {
   "cell_type": "code",
   "execution_count": 27,
   "id": "abc6b298-55c4-4645-8faf-ea5fb657e940",
   "metadata": {},
   "outputs": [],
   "source": [
    "def removing_columns_less_obs(df: pd.DataFrame) -> pd.DataFrame:\n",
    "    '''Dropping features with less than 30 observations'''\n",
    "    # Conditional removing \n",
    "    obs_thresh = 30\n",
    "    cols_to_remove = {f'`{col}`': df.where(F.isnull(f'`{col}`')).agg(F.sum(F.lit(1))).collect()[0][0]\n",
    "                      for col in df.columns\n",
    "                      if (df.where(~ F.isnull(f'`{col}`')).agg(F.sum(F.lit(1))).collect()[0][0] is None)\n",
    "                         or (df.where(~ F.isnull(f'`{col}`')).agg(F.sum(F.lit(1))).collect()[0][0] < obs_thresh)\n",
    "    }\n",
    "    df = df.drop(*list(cols_to_remove.keys()))\n",
    "    print('Dropping 2 - Dataframe shape after removing:', (df.count(), len(df.columns)))\n",
    "    return df"
   ]
  },
  {
   "cell_type": "markdown",
   "id": "6ad651f3-2a0e-4ae0-8cba-249226caa4ad",
   "metadata": {},
   "source": [
    "### Final removing"
   ]
  },
  {
   "cell_type": "code",
   "execution_count": 28,
   "id": "bc387513-782b-4e79-8d2b-84d23e9d55f8",
   "metadata": {},
   "outputs": [],
   "source": [
    "def final_removing(df):\n",
    "    '''Removing columns not required anymore'''\n",
    "    df = df.drop(*['latitude', 'LISTDATE', 'longitude', 'No.', 'offmarketdate'])\n",
    "    print('Dropping 2 - Dataframe shape:', (df.count(), len(df.columns)))\n",
    "    return df"
   ]
  },
  {
   "cell_type": "markdown",
   "id": "feaa4e6d-cfff-4f16-8fa8-38dc38bf9030",
   "metadata": {},
   "source": [
    "### Putting All together"
   ]
  },
  {
   "cell_type": "code",
   "execution_count": 29,
   "id": "c55077eb-2fd9-4fd8-aa74-5e2df386365d",
   "metadata": {},
   "outputs": [
    {
     "name": "stdout",
     "output_type": "stream",
     "text": [
      "Cast - Dataframe shape: (5000, 74)\n",
      "DateTime Features - Dataframe shape: (5000, 79)\n",
      "Joining - Dataframe shape: (5000, 85)\n",
      "+----------+----+------------+----------------+----------------+----------------+----------------+\n",
      "|  LISTDATE| No.|MORTGAGE30US|MORTGAGE30US-1WK|MORTGAGE30US-2WK|MORTGAGE30US-3WK|MORTGAGE30US-4WK|\n",
      "+----------+----+------------+----------------+----------------+----------------+----------------+\n",
      "|2018-01-10|3836|        3.95|            3.99|            3.94|            3.93|            3.94|\n",
      "|2017-12-29| 144|        3.99|            3.94|            3.93|            3.94|             3.9|\n",
      "|2017-12-28|1740|        3.99|            3.94|            3.93|            3.94|             3.9|\n",
      "|2017-12-28|2381|        3.99|            3.94|            3.93|            3.94|             3.9|\n",
      "|2017-12-27|2809|        3.94|            3.93|            3.94|             3.9|            3.92|\n",
      "+----------+----+------------+----------------+----------------+----------------+----------------+\n",
      "only showing top 5 rows\n",
      "\n",
      "Window & Lag - Dataframe shape: (5000, 90)\n",
      "Ratios - Dataframe shape: (5000, 96)\n",
      "Dropping 1 - Dataframe shape: (5000, 65)\n"
     ]
    },
    {
     "data": {
      "text/html": [
       "<table border='1'>\n",
       "<tr><th>LISTDATE</th><th>No.</th><th>City</th><th>longitude</th><th>latitude</th><th>SalesClosePrice</th><th>LISTPRICE</th><th>LISTTYPE</th><th>OriginalListPrice</th><th>PricePerTSFT</th><th>FOUNDATIONSIZE</th><th>FENCE</th><th>SchoolDistrictNumber</th><th>DAYSONMARKET</th><th>offmarketdate</th><th>Fireplaces</th><th>ROOF</th><th>PotentialShortSale</th><th>PoolDescription</th><th>GarageDescription</th><th>SQFTABOVEGROUND</th><th>Taxes</th><th>TAXWITHASSESSMENTS</th><th>LivingArea</th><th>YEARBUILT</th><th>ZONING</th><th>STYLE</th><th>ACRES</th><th>CoolingDescription</th><th>APPLIANCES</th><th>EXTERIOR</th><th>DiningRoomDescription</th><th>BASEMENT</th><th>BathsFull</th><th>BathsHalf</th><th>BATHQUARTER</th><th>BATHSTHREEQUARTER</th><th>BATHSTOTAL</th><th>BATHDESC</th><th>Bedrooms</th><th>SQFTBELOWGROUND</th><th>AssumableMortgage</th><th>AssociationFee</th><th>ASSESSMENTPENDING</th><th>AssessedValuation</th><th>LIST_DAYOFMONTH</th><th>LIST_DAYOFYEAR</th><th>LIST_MONTH</th><th>LIST_WEEKOFYEAR</th><th>LIST_YEAR</th><th>walkscore</th><th>bikescore</th><th>transitscore</th><th>MedianHomeValue</th><th>MORTGAGE30US</th><th>MORTGAGE30US-1WK</th><th>MORTGAGE30US-2WK</th><th>MORTGAGE30US-3WK</th><th>MORTGAGE30US-4WK</th><th>ASSESSED_TO_LIST</th><th>BED_TO_BATHS</th><th>TAX_TO_LIST</th><th>SQFT_TOTAL</th><th>LISTING_PRICE_PER_SQFT</th><th>LISTING_TO_MEDIAN_RATIO</th></tr>\n",
       "<tr><td>2017-10-09</td><td>2</td><td>LELM - Lake Elmo</td><td>-92.87927</td><td>44.99488</td><td>190000</td><td>210000</td><td>Exclusive Right</td><td>210000</td><td>85.2783</td><td>1144</td><td>NULL</td><td>834 - Stillwater</td><td>4</td><td>2017-10-13</td><td>0</td><td>Asphalt Shingles,...</td><td>No</td><td>NULL</td><td>Attached Garage, ...</td><td>1268</td><td>1640</td><td>1640.0</td><td>2228</td><td>1971</td><td>Residential-Single</td><td>(SF) Split Entry ...</td><td>0.32</td><td>Central</td><td>Range, Microwave,...</td><td>Vinyl</td><td>Informal Dining R...</td><td>Full, Partial Fin...</td><td>1</td><td>0</td><td>0</td><td>2</td><td>3</td><td>Main Floor Full B...</td><td>4</td><td>960</td><td>NULL</td><td>0</td><td>Unknown</td><td>0.0</td><td>9</td><td>282</td><td>10</td><td>41</td><td>2017</td><td>25</td><td>NULL</td><td>NULL</td><td>401000</td><td>3.85</td><td>3.83</td><td>3.83</td><td>3.78</td><td>3.78</td><td>0.0</td><td>1.3333333333333333</td><td>0.00780952380952381</td><td>2228</td><td>94.25493716337522</td><td>0.5236907730673317</td></tr>\n",
       "<tr><td>2017-07-15</td><td>1</td><td>LELM - Lake Elmo</td><td>-92.87286</td><td>45.00585</td><td>143000</td><td>139900</td><td>Exclusive Right</td><td>139900</td><td>145.9184</td><td>980</td><td>Other</td><td>834 - Stillwater</td><td>10</td><td>2017-07-30</td><td>0</td><td>NULL</td><td>No</td><td>NULL</td><td>Attached Garage</td><td>980</td><td>1858</td><td>1858.0</td><td>980</td><td>1950</td><td>Residential-Single</td><td>(SF) One Story</td><td>1.28</td><td>Central</td><td>Range, Dishwasher...</td><td>Vinyl</td><td>Eat In Kitchen</td><td>Full</td><td>1</td><td>1</td><td>0</td><td>0</td><td>2</td><td>Main Floor 3/4 Ba...</td><td>3</td><td>0</td><td>NULL</td><td>0</td><td>Unknown</td><td>0.0</td><td>15</td><td>196</td><td>7</td><td>28</td><td>2017</td><td>32</td><td>NULL</td><td>NULL</td><td>401000</td><td>4.03</td><td>3.96</td><td>3.88</td><td>3.9</td><td>3.91</td><td>0.0</td><td>1.5</td><td>0.013280914939242315</td><td>980</td><td>142.75510204081633</td><td>0.3488778054862843</td></tr>\n",
       "</table>\n"
      ],
      "text/plain": [
       "+----------+---+----------------+---------+--------+---------------+---------+---------------+-----------------+------------+--------------+-----+--------------------+------------+-------------+----------+--------------------+------------------+---------------+--------------------+---------------+-----+------------------+----------+---------+------------------+--------------------+-----+------------------+--------------------+--------+---------------------+--------------------+---------+---------+-----------+-----------------+----------+--------------------+--------+---------------+-----------------+--------------+-----------------+-----------------+---------------+--------------+----------+---------------+---------+---------+---------+------------+---------------+------------+----------------+----------------+----------------+----------------+----------------+------------------+--------------------+----------+----------------------+-----------------------+\n",
       "|  LISTDATE|No.|            City|longitude|latitude|SalesClosePrice|LISTPRICE|       LISTTYPE|OriginalListPrice|PricePerTSFT|FOUNDATIONSIZE|FENCE|SchoolDistrictNumber|DAYSONMARKET|offmarketdate|Fireplaces|                ROOF|PotentialShortSale|PoolDescription|   GarageDescription|SQFTABOVEGROUND|Taxes|TAXWITHASSESSMENTS|LivingArea|YEARBUILT|            ZONING|               STYLE|ACRES|CoolingDescription|          APPLIANCES|EXTERIOR|DiningRoomDescription|            BASEMENT|BathsFull|BathsHalf|BATHQUARTER|BATHSTHREEQUARTER|BATHSTOTAL|            BATHDESC|Bedrooms|SQFTBELOWGROUND|AssumableMortgage|AssociationFee|ASSESSMENTPENDING|AssessedValuation|LIST_DAYOFMONTH|LIST_DAYOFYEAR|LIST_MONTH|LIST_WEEKOFYEAR|LIST_YEAR|walkscore|bikescore|transitscore|MedianHomeValue|MORTGAGE30US|MORTGAGE30US-1WK|MORTGAGE30US-2WK|MORTGAGE30US-3WK|MORTGAGE30US-4WK|ASSESSED_TO_LIST|      BED_TO_BATHS|         TAX_TO_LIST|SQFT_TOTAL|LISTING_PRICE_PER_SQFT|LISTING_TO_MEDIAN_RATIO|\n",
       "+----------+---+----------------+---------+--------+---------------+---------+---------------+-----------------+------------+--------------+-----+--------------------+------------+-------------+----------+--------------------+------------------+---------------+--------------------+---------------+-----+------------------+----------+---------+------------------+--------------------+-----+------------------+--------------------+--------+---------------------+--------------------+---------+---------+-----------+-----------------+----------+--------------------+--------+---------------+-----------------+--------------+-----------------+-----------------+---------------+--------------+----------+---------------+---------+---------+---------+------------+---------------+------------+----------------+----------------+----------------+----------------+----------------+------------------+--------------------+----------+----------------------+-----------------------+\n",
       "|2017-10-09|  2|LELM - Lake Elmo|-92.87927|44.99488|         190000|   210000|Exclusive Right|           210000|     85.2783|          1144| NULL|    834 - Stillwater|           4|   2017-10-13|         0|Asphalt Shingles,...|                No|           NULL|Attached Garage, ...|           1268| 1640|            1640.0|      2228|     1971|Residential-Single|(SF) Split Entry ...| 0.32|           Central|Range, Microwave,...|   Vinyl| Informal Dining R...|Full, Partial Fin...|        1|        0|          0|                2|         3|Main Floor Full B...|       4|            960|             NULL|             0|          Unknown|              0.0|              9|           282|        10|             41|     2017|       25|     NULL|        NULL|         401000|        3.85|            3.83|            3.83|            3.78|            3.78|             0.0|1.3333333333333333| 0.00780952380952381|      2228|     94.25493716337522|     0.5236907730673317|\n",
       "|2017-07-15|  1|LELM - Lake Elmo|-92.87286|45.00585|         143000|   139900|Exclusive Right|           139900|    145.9184|           980|Other|    834 - Stillwater|          10|   2017-07-30|         0|                NULL|                No|           NULL|     Attached Garage|            980| 1858|            1858.0|       980|     1950|Residential-Single|      (SF) One Story| 1.28|           Central|Range, Dishwasher...|   Vinyl|       Eat In Kitchen|                Full|        1|        1|          0|                0|         2|Main Floor 3/4 Ba...|       3|              0|             NULL|             0|          Unknown|              0.0|             15|           196|         7|             28|     2017|       32|     NULL|        NULL|         401000|        4.03|            3.96|            3.88|             3.9|            3.91|             0.0|               1.5|0.013280914939242315|       980|    142.75510204081633|     0.3488778054862843|\n",
       "+----------+---+----------------+---------+--------+---------------+---------+---------------+-----------------+------------+--------------+-----+--------------------+------------+-------------+----------+--------------------+------------------+---------------+--------------------+---------------+-----+------------------+----------+---------+------------------+--------------------+-----+------------------+--------------------+--------+---------------------+--------------------+---------+---------+-----------+-----------------+----------+--------------------+--------+---------------+-----------------+--------------+-----------------+-----------------+---------------+--------------+----------+---------------+---------+---------+---------+------------+---------------+------------+----------------+----------------+----------------+----------------+----------------+------------------+--------------------+----------+----------------------+-----------------------+"
      ]
     },
     "execution_count": 29,
     "metadata": {},
     "output_type": "execute_result"
    }
   ],
   "source": [
    "# Step 1: Loading the data\n",
    "df = real_state.select('*')\n",
    "\n",
    "# Step 2: casting, joining, enrichment and cleaning\n",
    "df = cast_to_proper_format(df)\n",
    "df = work_with_datetime_features(df)\n",
    "df = enrich_joining_more_tables(df)\n",
    "df = adding_lags_with_window(df)\n",
    "df = adding_ratios_features(df)\n",
    "df = removing_unuseful_columns(df)\n",
    "\n",
    "saving_to_kitchen(df)\n",
    "df.limit(2)"
   ]
  },
  {
   "cell_type": "code",
   "execution_count": 30,
   "id": "ab804141-658f-4d45-b2a0-bf9159d369de",
   "metadata": {},
   "outputs": [
    {
     "name": "stdout",
     "output_type": "stream",
     "text": [
      "+------------------------------------------------------------+\n",
      "|                                                  APPLIANCES|\n",
      "+------------------------------------------------------------+\n",
      "|Range, Microwave, Dishwasher, Refrigerator, Tankless Wate...|\n",
      "+------------------------------------------------------------+\n",
      "only showing top 1 row\n",
      "\n",
      "+------------------------------------------------------------+\n",
      "|                                                    BASEMENT|\n",
      "+------------------------------------------------------------+\n",
      "|Full, Finished (Livable), Drain Tiled, Sump Pump, Egress ...|\n",
      "+------------------------------------------------------------+\n",
      "only showing top 1 row\n",
      "\n",
      "+------------------------------------------------------------+\n",
      "|                                                    BATHDESC|\n",
      "+------------------------------------------------------------+\n",
      "|Main Floor 1/2 Bath, Upper Level Full Bath , Private Mast...|\n",
      "+------------------------------------------------------------+\n",
      "only showing top 1 row\n",
      "\n",
      "+------------------+\n",
      "|CoolingDescription|\n",
      "+------------------+\n",
      "|     Central, Wall|\n",
      "+------------------+\n",
      "only showing top 1 row\n",
      "\n",
      "+-----------------------------------+\n",
      "|              DiningRoomDescription|\n",
      "+-----------------------------------+\n",
      "|Eat In Kitchen, Kitchen/Dining Room|\n",
      "+-----------------------------------+\n",
      "only showing top 1 row\n",
      "\n",
      "+-----------------+\n",
      "|         EXTERIOR|\n",
      "+-----------------+\n",
      "|Wood, Brick/Stone|\n",
      "+-----------------+\n",
      "only showing top 1 row\n",
      "\n",
      "+---------------------------+\n",
      "|                      FENCE|\n",
      "+---------------------------+\n",
      "|Chain Link, Invisible, Full|\n",
      "+---------------------------+\n",
      "only showing top 1 row\n",
      "\n",
      "+--------------------------------------+\n",
      "|                     GarageDescription|\n",
      "+--------------------------------------+\n",
      "|Driveway - Asphalt, Garage Door Opener|\n",
      "+--------------------------------------+\n",
      "only showing top 1 row\n",
      "\n",
      "+---------------+\n",
      "|PoolDescription|\n",
      "+---------------+\n",
      "| Heated, Shared|\n",
      "+---------------+\n",
      "only showing top 1 row\n",
      "\n",
      "+----------------------------------+\n",
      "|                              ROOF|\n",
      "+----------------------------------+\n",
      "|Asphalt Shingles, Age Over 8 Years|\n",
      "+----------------------------------+\n",
      "only showing top 1 row\n",
      "\n",
      "+---------------------------------------------+\n",
      "|                                       ZONING|\n",
      "+---------------------------------------------+\n",
      "|Residential-Multi-Family, Business/Commercial|\n",
      "+---------------------------------------------+\n",
      "only showing top 1 row\n",
      "\n"
     ]
    }
   ],
   "source": [
    "# Step 3: Explode list features\n",
    "cols_to_split_and_explode = ['APPLIANCES', 'BASEMENT', 'BATHDESC', 'CoolingDescription',\n",
    "                             'DiningRoomDescription', 'EXTERIOR', 'FENCE', 'GarageDescription',\n",
    "                             'PoolDescription', 'ROOF', 'ZONING']\n",
    "\n",
    "for col_name in cols_to_split_and_explode:\n",
    "    df[[col_name]].distinct().show(1, truncate=60)"
   ]
  },
  {
   "cell_type": "code",
   "execution_count": 31,
   "id": "e220a18b-4b71-4dc2-b8c0-7d7d37ccf072",
   "metadata": {},
   "outputs": [
    {
     "name": "stdout",
     "output_type": "stream",
     "text": [
      "Dataframe shape: (5000, 65)\n",
      "Explode APPLIANCES - Dataframe shape: (5000, 86)\n",
      "Explode BASEMENT - Dataframe shape: (5000, 104)\n",
      "Explode BATHDESC - Dataframe shape: (5000, 129)\n",
      "Explode CoolingDescription - Dataframe shape: (5000, 134)\n",
      "Explode DiningRoomDescription - Dataframe shape: (5000, 140)\n",
      "Explode EXTERIOR - Dataframe shape: (5000, 150)\n"
     ]
    }
   ],
   "source": [
    "df = read_from_kitchen()\n",
    "df, binary_cols = explode_list_features(df, cols_to_split_and_explode[:6])\n",
    "saving_to_kitchen(df)"
   ]
  },
  {
   "cell_type": "code",
   "execution_count": 32,
   "id": "c9d73919-508f-48be-b900-df221c49b120",
   "metadata": {},
   "outputs": [
    {
     "name": "stdout",
     "output_type": "stream",
     "text": [
      "Dataframe shape: (5000, 150)\n",
      "Explode FENCE - Dataframe shape: (5000, 160)\n",
      "Explode GarageDescription - Dataframe shape: (5000, 187)\n",
      "Explode PoolDescription - Dataframe shape: (5000, 193)\n",
      "Explode ROOF - Dataframe shape: (5000, 206)\n",
      "Explode ZONING - Dataframe shape: (5000, 210)\n"
     ]
    }
   ],
   "source": [
    "df = read_from_kitchen()\n",
    "df, bin_cols = explode_list_features(df, cols_to_split_and_explode[6:])\n",
    "binary_cols += bin_cols\n",
    "saving_to_kitchen(df)"
   ]
  },
  {
   "cell_type": "code",
   "execution_count": 33,
   "id": "1be5a4e4-0e52-4149-9149-e43a239338c3",
   "metadata": {},
   "outputs": [
    {
     "name": "stdout",
     "output_type": "stream",
     "text": [
      "Dataframe shape: (5000, 210)\n"
     ]
    },
    {
     "data": {
      "text/html": [
       "<table border='1'>\n",
       "<tr><th>LISTDATE</th><th>No.</th><th>City</th><th>longitude</th><th>latitude</th><th>SalesClosePrice</th><th>LISTPRICE</th><th>LISTTYPE</th><th>OriginalListPrice</th><th>PricePerTSFT</th><th>FOUNDATIONSIZE</th><th>SchoolDistrictNumber</th><th>DAYSONMARKET</th><th>offmarketdate</th><th>Fireplaces</th><th>PotentialShortSale</th><th>SQFTABOVEGROUND</th><th>Taxes</th><th>TAXWITHASSESSMENTS</th><th>LivingArea</th><th>YEARBUILT</th><th>STYLE</th><th>ACRES</th><th>BathsFull</th><th>BathsHalf</th><th>BATHQUARTER</th><th>BATHSTHREEQUARTER</th><th>BATHSTOTAL</th><th>Bedrooms</th><th>SQFTBELOWGROUND</th><th>AssumableMortgage</th><th>AssociationFee</th><th>ASSESSMENTPENDING</th><th>AssessedValuation</th><th>LIST_DAYOFMONTH</th><th>LIST_DAYOFYEAR</th><th>LIST_MONTH</th><th>LIST_WEEKOFYEAR</th><th>LIST_YEAR</th><th>walkscore</th><th>bikescore</th><th>transitscore</th><th>MedianHomeValue</th><th>MORTGAGE30US</th><th>MORTGAGE30US-1WK</th><th>MORTGAGE30US-2WK</th><th>MORTGAGE30US-3WK</th><th>MORTGAGE30US-4WK</th><th>ASSESSED_TO_LIST</th><th>BED_TO_BATHS</th><th>TAX_TO_LIST</th><th>SQFT_TOTAL</th><th>LISTING_PRICE_PER_SQFT</th><th>LISTING_TO_MEDIAN_RATIO</th><th>APPLIANCES_Air-To-Air Exchanger</th><th>APPLIANCES_Central Vacuum</th><th>APPLIANCES_Cooktop</th><th>APPLIANCES_Dishwasher</th><th>APPLIANCES_Disposal</th><th>APPLIANCES_Dryer</th><th>APPLIANCES_Electronic Air Filter</th><th>APPLIANCES_Exhaust Fan/Hood</th><th>APPLIANCES_Freezer</th><th>APPLIANCES_Furnace Humidifier</th><th>APPLIANCES_Indoor Grill</th><th>APPLIANCES_Microwave</th><th>APPLIANCES_None</th><th>APPLIANCES_Other</th><th>APPLIANCES_Range</th><th>APPLIANCES_Refrigerator</th><th>APPLIANCES_Tankless Water  Heater</th><th>APPLIANCES_Trash Compactor</th><th>APPLIANCES_Wall Oven</th><th>APPLIANCES_Washer</th><th>APPLIANCES_Water Softener - Owned</th><th>APPLIANCES_Water Softener - Rented</th><th>BASEMENT_Concrete Block</th><th>BASEMENT_Crawl Space</th><th>BASEMENT_Day/Lookout Windows</th><th>BASEMENT_Drain Tiled</th><th>BASEMENT_Drainage System</th><th>BASEMENT_Egress Windows</th><th>BASEMENT_Finished (Livable)</th><th>BASEMENT_Full</th><th>BASEMENT_Insulating Concrete Forms</th><th>BASEMENT_None</th><th>BASEMENT_Partial</th><th>BASEMENT_Partial Finished</th><th>BASEMENT_Poured Concrete</th><th>BASEMENT_Slab</th><th>BASEMENT_Stone</th><th>BASEMENT_Sump Pump</th><th>BASEMENT_Unfinished</th><th>BASEMENT_Walkout</th><th>BASEMENT_Wood</th><th>BATHDESC_1/2 Basement</th><th>BATHDESC_1/2 Master</th><th>BATHDESC_3/4 Basement</th><th>BATHDESC_3/4 Master</th><th>BATHDESC_Basement</th><th>BATHDESC_Bathroom Ensuite</th><th>BATHDESC_Full Basement</th><th>BATHDESC_Full Master</th><th>BATHDESC_Jack &amp; Jill 3/4</th><th>BATHDESC_Jack and Jill</th><th>BATHDESC_Main Floor 1/2 Bath</th><th>BATHDESC_Main Floor 3/4 Bath</th><th>BATHDESC_Main Floor Full Bath</th><th>BATHDESC_Master Walk-Thru</th><th>BATHDESC_Other</th><th>BATHDESC_Private Master</th><th>BATHDESC_Rough In</th><th>BATHDESC_Separate Tub &amp; Shower</th><th>BATHDESC_Two Basement Baths</th><th>BATHDESC_Two Master Baths</th><th>BATHDESC_Upper Level 1/2 Bath</th><th>BATHDESC_Upper Level 3/4 Bath</th><th>BATHDESC_Upper Level Full Bath </th><th>BATHDESC_Walk Thru</th><th>BATHDESC_Walk-In Shower</th><th>BATHDESC_Whirlpool</th><th>CoolingDescription_Central</th><th>CoolingDescription_Ductless Mini-Split</th><th>CoolingDescription_Geothermal </th><th>CoolingDescription_None</th><th>CoolingDescription_Wall</th><th>CoolingDescription_Window</th><th>DiningRoomDescription_Breakfast Area</th><th>DiningRoomDescription_Eat In Kitchen</th><th>DiningRoomDescription_Informal Dining Room</th><th>DiningRoomDescription_Kitchen/Dining Room</th><th>DiningRoomDescription_Living/Dining Room</th><th>DiningRoomDescription_Other</th><th>DiningRoomDescription_Separate/Formal Dining Room</th><th>EXTERIOR_Block</th><th>EXTERIOR_Brick/Stone</th><th>EXTERIOR_Cement Board</th><th>EXTERIOR_Engineered Wood</th><th>EXTERIOR_Fiber Board</th><th>EXTERIOR_Metal</th><th>EXTERIOR_Other</th><th>EXTERIOR_Shakes</th><th>EXTERIOR_Stucco</th><th>EXTERIOR_Vinyl</th><th>EXTERIOR_Wood</th><th>FENCE_Chain Link</th><th>FENCE_Electric</th><th>FENCE_Full</th><th>FENCE_Invisible</th><th>FENCE_None</th><th>FENCE_Other</th><th>FENCE_Partial</th><th>FENCE_Privacy</th><th>FENCE_Rail</th><th>FENCE_Wire</th><th>FENCE_Wood</th><th>GarageDescription_Assigned</th><th>GarageDescription_Attached Garage</th><th>GarageDescription_Carport</th><th>GarageDescription_Contract Pkg Required</th><th>GarageDescription_Covered</th><th>GarageDescription_Detached Garage</th><th>GarageDescription_Driveway - Asphalt</th><th>GarageDescription_Driveway - Concrete</th><th>GarageDescription_Driveway - Gravel</th><th>GarageDescription_Driveway - Other Surface</th><th>GarageDescription_Driveway - Shared</th><th>GarageDescription_Garage Door Opener</th><th>GarageDescription_Heated Garage</th><th>GarageDescription_Insulated Garage</th><th>GarageDescription_More Parking Offsite for Fee</th><th>GarageDescription_More Parking Onsite for Fee</th><th>GarageDescription_No Int Access to Dwelling</th><th>GarageDescription_None</th><th>GarageDescription_On-Street Parking Only</th><th>GarageDescription_Other</th><th>GarageDescription_Secured</th><th>GarageDescription_Tandem</th><th>GarageDescription_Tuckunder</th><th>GarageDescription_Unassigned</th><th>GarageDescription_Uncovered/Open</th><th>GarageDescription_Underground Garage</th><th>GarageDescription_Units Vary</th><th>GarageDescription_Valet Parking for Fee</th><th>PoolDescription_Above Ground</th><th>PoolDescription_Below Ground</th><th>PoolDescription_Heated</th><th>PoolDescription_Indoor</th><th>PoolDescription_None</th><th>PoolDescription_Outdoor</th><th>PoolDescription_Shared</th><th>ROOF_Age 8 Years or Less</th><th>ROOF_Age Over 8 Years</th><th>ROOF_Asphalt Shingles</th><th>ROOF_Flat</th><th>ROOF_Metal</th><th>ROOF_Other</th><th>ROOF_Pitched</th><th>ROOF_Rubber</th><th>ROOF_Shakes</th><th>ROOF_Slate</th><th>ROOF_Tar/Gravel</th><th>ROOF_Tile</th><th>ROOF_Unspecified Shingle</th><th>ROOF_Wood Shingles</th><th>ZONING_Business/Commercial</th><th>ZONING_Industrial</th><th>ZONING_Other</th><th>ZONING_Residential-Multi-Family</th><th>ZONING_Residential-Single</th></tr>\n",
       "<tr><td>2017-05-05</td><td>2024</td><td>STP - Saint Paul</td><td>-93.16495</td><td>44.95667</td><td>175000</td><td>175000</td><td>Exclusive Right</td><td>175000</td><td>171.737</td><td>625</td><td>625 - St. Paul</td><td>11</td><td>2017-05-16</td><td>1</td><td>No</td><td>1019</td><td>2188</td><td>2246.0</td><td>1019</td><td>1907</td><td>(SF) One 1/2 Stories</td><td>0.11</td><td>1</td><td>0</td><td>0</td><td>0</td><td>1</td><td>2</td><td>0</td><td>Not Assumable</td><td>0</td><td>No</td><td>58.2</td><td>5</td><td>125</td><td>5</td><td>18</td><td>2017</td><td>86</td><td>80</td><td>NULL</td><td>172000</td><td>4.02</td><td>4.03</td><td>3.97</td><td>4.08</td><td>4.1</td><td>3.325714285714286E-4</td><td>2.0</td><td>0.012502857142857144</td><td>1019</td><td>171.7369970559372</td><td>1.0174418604651163</td><td>NULL</td><td>NULL</td><td>NULL</td><td>1</td><td>NULL</td><td>NULL</td><td>NULL</td><td>NULL</td><td>NULL</td><td>NULL</td><td>NULL</td><td>NULL</td><td>NULL</td><td>NULL</td><td>1</td><td>1</td><td>NULL</td><td>NULL</td><td>NULL</td><td>NULL</td><td>NULL</td><td>NULL</td><td>1</td><td>NULL</td><td>1</td><td>NULL</td><td>NULL</td><td>NULL</td><td>NULL</td><td>1</td><td>NULL</td><td>NULL</td><td>NULL</td><td>NULL</td><td>NULL</td><td>NULL</td><td>NULL</td><td>NULL</td><td>1</td><td>NULL</td><td>NULL</td><td>NULL</td><td>NULL</td><td>NULL</td><td>1</td><td>NULL</td><td>NULL</td><td>NULL</td><td>NULL</td><td>NULL</td><td>NULL</td><td>NULL</td><td>NULL</td><td>1</td><td>NULL</td><td>NULL</td><td>NULL</td><td>NULL</td><td>NULL</td><td>NULL</td><td>NULL</td><td>NULL</td><td>NULL</td><td>NULL</td><td>NULL</td><td>NULL</td><td>NULL</td><td>1</td><td>NULL</td><td>NULL</td><td>NULL</td><td>NULL</td><td>NULL</td><td>NULL</td><td>1</td><td>NULL</td><td>NULL</td><td>NULL</td><td>NULL</td><td>1</td><td>NULL</td><td>1</td><td>1</td><td>NULL</td><td>NULL</td><td>NULL</td><td>NULL</td><td>NULL</td><td>NULL</td><td>NULL</td><td>NULL</td><td>1</td><td>NULL</td><td>NULL</td><td>NULL</td><td>NULL</td><td>NULL</td><td>1</td><td>NULL</td><td>NULL</td><td>NULL</td><td>NULL</td><td>NULL</td><td>NULL</td><td>NULL</td><td>NULL</td><td>NULL</td><td>1</td><td>NULL</td><td>NULL</td><td>NULL</td><td>NULL</td><td>NULL</td><td>NULL</td><td>NULL</td><td>NULL</td><td>NULL</td><td>NULL</td><td>NULL</td><td>NULL</td><td>NULL</td><td>NULL</td><td>NULL</td><td>NULL</td><td>NULL</td><td>NULL</td><td>NULL</td><td>NULL</td><td>NULL</td><td>NULL</td><td>NULL</td><td>NULL</td><td>NULL</td><td>NULL</td><td>1</td><td>NULL</td><td>NULL</td><td>NULL</td><td>NULL</td><td>1</td><td>NULL</td><td>NULL</td><td>NULL</td><td>NULL</td><td>NULL</td><td>NULL</td><td>NULL</td><td>NULL</td><td>NULL</td><td>NULL</td><td>NULL</td><td>NULL</td><td>NULL</td><td>NULL</td><td>NULL</td><td>1</td></tr>\n",
       "<tr><td>2017-07-06</td><td>333</td><td>MAPW - Maplewood</td><td>-93.04813</td><td>44.99513</td><td>210000</td><td>204900</td><td>Exclusive Right</td><td>204900</td><td>111.1111</td><td>1082</td><td>622 - North St Pa...</td><td>7</td><td>2017-07-20</td><td>1</td><td>No</td><td>1070</td><td>2758</td><td>2758.0</td><td>1890</td><td>1971</td><td>(SF) Split Entry ...</td><td>0.46</td><td>1</td><td>0</td><td>0</td><td>1</td><td>2</td><td>3</td><td>820</td><td>NULL</td><td>0</td><td>No</td><td>0.0</td><td>6</td><td>187</td><td>7</td><td>27</td><td>2017</td><td>22</td><td>NULL</td><td>NULL</td><td>193000</td><td>3.96</td><td>3.88</td><td>3.9</td><td>3.91</td><td>3.89</td><td>0.0</td><td>1.5</td><td>0.013460224499755978</td><td>1890</td><td>108.41269841269842</td><td>1.061658031088083</td><td>NULL</td><td>NULL</td><td>NULL</td><td>NULL</td><td>NULL</td><td>1</td><td>NULL</td><td>1</td><td>NULL</td><td>NULL</td><td>NULL</td><td>NULL</td><td>NULL</td><td>NULL</td><td>1</td><td>1</td><td>NULL</td><td>NULL</td><td>NULL</td><td>1</td><td>NULL</td><td>NULL</td><td>NULL</td><td>NULL</td><td>NULL</td><td>NULL</td><td>NULL</td><td>NULL</td><td>NULL</td><td>NULL</td><td>NULL</td><td>1</td><td>NULL</td><td>NULL</td><td>NULL</td><td>NULL</td><td>NULL</td><td>NULL</td><td>NULL</td><td>NULL</td><td>NULL</td><td>NULL</td><td>NULL</td><td>NULL</td><td>NULL</td><td>NULL</td><td>NULL</td><td>NULL</td><td>NULL</td><td>NULL</td><td>NULL</td><td>NULL</td><td>1</td><td>1</td><td>NULL</td><td>NULL</td><td>NULL</td><td>NULL</td><td>NULL</td><td>NULL</td><td>NULL</td><td>NULL</td><td>NULL</td><td>NULL</td><td>NULL</td><td>NULL</td><td>NULL</td><td>NULL</td><td>NULL</td><td>NULL</td><td>NULL</td><td>NULL</td><td>1</td><td>NULL</td><td>NULL</td><td>1</td><td>NULL</td><td>NULL</td><td>NULL</td><td>NULL</td><td>NULL</td><td>NULL</td><td>NULL</td><td>NULL</td><td>NULL</td><td>NULL</td><td>NULL</td><td>1</td><td>NULL</td><td>NULL</td><td>NULL</td><td>NULL</td><td>NULL</td><td>NULL</td><td>NULL</td><td>NULL</td><td>NULL</td><td>NULL</td><td>NULL</td><td>NULL</td><td>NULL</td><td>NULL</td><td>NULL</td><td>NULL</td><td>NULL</td><td>NULL</td><td>NULL</td><td>1</td><td>NULL</td><td>1</td><td>NULL</td><td>NULL</td><td>NULL</td><td>NULL</td><td>NULL</td><td>NULL</td><td>NULL</td><td>NULL</td><td>1</td><td>NULL</td><td>NULL</td><td>NULL</td><td>NULL</td><td>NULL</td><td>NULL</td><td>NULL</td><td>NULL</td><td>NULL</td><td>NULL</td><td>NULL</td><td>NULL</td><td>NULL</td><td>NULL</td><td>NULL</td><td>NULL</td><td>NULL</td><td>NULL</td><td>1</td><td>NULL</td><td>1</td><td>NULL</td><td>NULL</td><td>NULL</td><td>1</td><td>NULL</td><td>NULL</td><td>NULL</td><td>NULL</td><td>NULL</td><td>NULL</td><td>NULL</td><td>NULL</td><td>NULL</td><td>NULL</td><td>NULL</td><td>1</td></tr>\n",
       "</table>\n"
      ],
      "text/plain": [
       "+----------+----+----------------+---------+--------+---------------+---------+---------------+-----------------+------------+--------------+--------------------+------------+-------------+----------+------------------+---------------+-----+------------------+----------+---------+--------------------+-----+---------+---------+-----------+-----------------+----------+--------+---------------+-----------------+--------------+-----------------+-----------------+---------------+--------------+----------+---------------+---------+---------+---------+------------+---------------+------------+----------------+----------------+----------------+----------------+--------------------+------------+--------------------+----------+----------------------+-----------------------+-------------------------------+-------------------------+------------------+---------------------+-------------------+----------------+--------------------------------+---------------------------+------------------+-----------------------------+-----------------------+--------------------+---------------+----------------+----------------+-----------------------+---------------------------------+--------------------------+--------------------+-----------------+---------------------------------+----------------------------------+-----------------------+--------------------+----------------------------+--------------------+------------------------+-----------------------+---------------------------+-------------+----------------------------------+-------------+----------------+-------------------------+------------------------+-------------+--------------+------------------+-------------------+----------------+-------------+---------------------+-------------------+---------------------+-------------------+-----------------+-------------------------+----------------------+--------------------+------------------------+----------------------+----------------------------+----------------------------+-----------------------------+-------------------------+--------------+-----------------------+-----------------+------------------------------+---------------------------+-------------------------+-----------------------------+-----------------------------+-------------------------------+------------------+-----------------------+------------------+--------------------------+--------------------------------------+------------------------------+-----------------------+-----------------------+-------------------------+------------------------------------+------------------------------------+------------------------------------------+-----------------------------------------+----------------------------------------+---------------------------+-------------------------------------------------+--------------+--------------------+---------------------+------------------------+--------------------+--------------+--------------+---------------+---------------+--------------+-------------+----------------+--------------+----------+---------------+----------+-----------+-------------+-------------+----------+----------+----------+--------------------------+---------------------------------+-------------------------+---------------------------------------+-------------------------+---------------------------------+------------------------------------+-------------------------------------+-----------------------------------+------------------------------------------+-----------------------------------+------------------------------------+-------------------------------+----------------------------------+----------------------------------------------+---------------------------------------------+-------------------------------------------+----------------------+----------------------------------------+-----------------------+-------------------------+------------------------+---------------------------+----------------------------+--------------------------------+------------------------------------+----------------------------+---------------------------------------+----------------------------+----------------------------+----------------------+----------------------+--------------------+-----------------------+----------------------+------------------------+---------------------+---------------------+---------+----------+----------+------------+-----------+-----------+----------+---------------+---------+------------------------+------------------+--------------------------+-----------------+------------+-------------------------------+-------------------------+\n",
       "|  LISTDATE| No.|            City|longitude|latitude|SalesClosePrice|LISTPRICE|       LISTTYPE|OriginalListPrice|PricePerTSFT|FOUNDATIONSIZE|SchoolDistrictNumber|DAYSONMARKET|offmarketdate|Fireplaces|PotentialShortSale|SQFTABOVEGROUND|Taxes|TAXWITHASSESSMENTS|LivingArea|YEARBUILT|               STYLE|ACRES|BathsFull|BathsHalf|BATHQUARTER|BATHSTHREEQUARTER|BATHSTOTAL|Bedrooms|SQFTBELOWGROUND|AssumableMortgage|AssociationFee|ASSESSMENTPENDING|AssessedValuation|LIST_DAYOFMONTH|LIST_DAYOFYEAR|LIST_MONTH|LIST_WEEKOFYEAR|LIST_YEAR|walkscore|bikescore|transitscore|MedianHomeValue|MORTGAGE30US|MORTGAGE30US-1WK|MORTGAGE30US-2WK|MORTGAGE30US-3WK|MORTGAGE30US-4WK|    ASSESSED_TO_LIST|BED_TO_BATHS|         TAX_TO_LIST|SQFT_TOTAL|LISTING_PRICE_PER_SQFT|LISTING_TO_MEDIAN_RATIO|APPLIANCES_Air-To-Air Exchanger|APPLIANCES_Central Vacuum|APPLIANCES_Cooktop|APPLIANCES_Dishwasher|APPLIANCES_Disposal|APPLIANCES_Dryer|APPLIANCES_Electronic Air Filter|APPLIANCES_Exhaust Fan/Hood|APPLIANCES_Freezer|APPLIANCES_Furnace Humidifier|APPLIANCES_Indoor Grill|APPLIANCES_Microwave|APPLIANCES_None|APPLIANCES_Other|APPLIANCES_Range|APPLIANCES_Refrigerator|APPLIANCES_Tankless Water  Heater|APPLIANCES_Trash Compactor|APPLIANCES_Wall Oven|APPLIANCES_Washer|APPLIANCES_Water Softener - Owned|APPLIANCES_Water Softener - Rented|BASEMENT_Concrete Block|BASEMENT_Crawl Space|BASEMENT_Day/Lookout Windows|BASEMENT_Drain Tiled|BASEMENT_Drainage System|BASEMENT_Egress Windows|BASEMENT_Finished (Livable)|BASEMENT_Full|BASEMENT_Insulating Concrete Forms|BASEMENT_None|BASEMENT_Partial|BASEMENT_Partial Finished|BASEMENT_Poured Concrete|BASEMENT_Slab|BASEMENT_Stone|BASEMENT_Sump Pump|BASEMENT_Unfinished|BASEMENT_Walkout|BASEMENT_Wood|BATHDESC_1/2 Basement|BATHDESC_1/2 Master|BATHDESC_3/4 Basement|BATHDESC_3/4 Master|BATHDESC_Basement|BATHDESC_Bathroom Ensuite|BATHDESC_Full Basement|BATHDESC_Full Master|BATHDESC_Jack & Jill 3/4|BATHDESC_Jack and Jill|BATHDESC_Main Floor 1/2 Bath|BATHDESC_Main Floor 3/4 Bath|BATHDESC_Main Floor Full Bath|BATHDESC_Master Walk-Thru|BATHDESC_Other|BATHDESC_Private Master|BATHDESC_Rough In|BATHDESC_Separate Tub & Shower|BATHDESC_Two Basement Baths|BATHDESC_Two Master Baths|BATHDESC_Upper Level 1/2 Bath|BATHDESC_Upper Level 3/4 Bath|BATHDESC_Upper Level Full Bath |BATHDESC_Walk Thru|BATHDESC_Walk-In Shower|BATHDESC_Whirlpool|CoolingDescription_Central|CoolingDescription_Ductless Mini-Split|CoolingDescription_Geothermal |CoolingDescription_None|CoolingDescription_Wall|CoolingDescription_Window|DiningRoomDescription_Breakfast Area|DiningRoomDescription_Eat In Kitchen|DiningRoomDescription_Informal Dining Room|DiningRoomDescription_Kitchen/Dining Room|DiningRoomDescription_Living/Dining Room|DiningRoomDescription_Other|DiningRoomDescription_Separate/Formal Dining Room|EXTERIOR_Block|EXTERIOR_Brick/Stone|EXTERIOR_Cement Board|EXTERIOR_Engineered Wood|EXTERIOR_Fiber Board|EXTERIOR_Metal|EXTERIOR_Other|EXTERIOR_Shakes|EXTERIOR_Stucco|EXTERIOR_Vinyl|EXTERIOR_Wood|FENCE_Chain Link|FENCE_Electric|FENCE_Full|FENCE_Invisible|FENCE_None|FENCE_Other|FENCE_Partial|FENCE_Privacy|FENCE_Rail|FENCE_Wire|FENCE_Wood|GarageDescription_Assigned|GarageDescription_Attached Garage|GarageDescription_Carport|GarageDescription_Contract Pkg Required|GarageDescription_Covered|GarageDescription_Detached Garage|GarageDescription_Driveway - Asphalt|GarageDescription_Driveway - Concrete|GarageDescription_Driveway - Gravel|GarageDescription_Driveway - Other Surface|GarageDescription_Driveway - Shared|GarageDescription_Garage Door Opener|GarageDescription_Heated Garage|GarageDescription_Insulated Garage|GarageDescription_More Parking Offsite for Fee|GarageDescription_More Parking Onsite for Fee|GarageDescription_No Int Access to Dwelling|GarageDescription_None|GarageDescription_On-Street Parking Only|GarageDescription_Other|GarageDescription_Secured|GarageDescription_Tandem|GarageDescription_Tuckunder|GarageDescription_Unassigned|GarageDescription_Uncovered/Open|GarageDescription_Underground Garage|GarageDescription_Units Vary|GarageDescription_Valet Parking for Fee|PoolDescription_Above Ground|PoolDescription_Below Ground|PoolDescription_Heated|PoolDescription_Indoor|PoolDescription_None|PoolDescription_Outdoor|PoolDescription_Shared|ROOF_Age 8 Years or Less|ROOF_Age Over 8 Years|ROOF_Asphalt Shingles|ROOF_Flat|ROOF_Metal|ROOF_Other|ROOF_Pitched|ROOF_Rubber|ROOF_Shakes|ROOF_Slate|ROOF_Tar/Gravel|ROOF_Tile|ROOF_Unspecified Shingle|ROOF_Wood Shingles|ZONING_Business/Commercial|ZONING_Industrial|ZONING_Other|ZONING_Residential-Multi-Family|ZONING_Residential-Single|\n",
       "+----------+----+----------------+---------+--------+---------------+---------+---------------+-----------------+------------+--------------+--------------------+------------+-------------+----------+------------------+---------------+-----+------------------+----------+---------+--------------------+-----+---------+---------+-----------+-----------------+----------+--------+---------------+-----------------+--------------+-----------------+-----------------+---------------+--------------+----------+---------------+---------+---------+---------+------------+---------------+------------+----------------+----------------+----------------+----------------+--------------------+------------+--------------------+----------+----------------------+-----------------------+-------------------------------+-------------------------+------------------+---------------------+-------------------+----------------+--------------------------------+---------------------------+------------------+-----------------------------+-----------------------+--------------------+---------------+----------------+----------------+-----------------------+---------------------------------+--------------------------+--------------------+-----------------+---------------------------------+----------------------------------+-----------------------+--------------------+----------------------------+--------------------+------------------------+-----------------------+---------------------------+-------------+----------------------------------+-------------+----------------+-------------------------+------------------------+-------------+--------------+------------------+-------------------+----------------+-------------+---------------------+-------------------+---------------------+-------------------+-----------------+-------------------------+----------------------+--------------------+------------------------+----------------------+----------------------------+----------------------------+-----------------------------+-------------------------+--------------+-----------------------+-----------------+------------------------------+---------------------------+-------------------------+-----------------------------+-----------------------------+-------------------------------+------------------+-----------------------+------------------+--------------------------+--------------------------------------+------------------------------+-----------------------+-----------------------+-------------------------+------------------------------------+------------------------------------+------------------------------------------+-----------------------------------------+----------------------------------------+---------------------------+-------------------------------------------------+--------------+--------------------+---------------------+------------------------+--------------------+--------------+--------------+---------------+---------------+--------------+-------------+----------------+--------------+----------+---------------+----------+-----------+-------------+-------------+----------+----------+----------+--------------------------+---------------------------------+-------------------------+---------------------------------------+-------------------------+---------------------------------+------------------------------------+-------------------------------------+-----------------------------------+------------------------------------------+-----------------------------------+------------------------------------+-------------------------------+----------------------------------+----------------------------------------------+---------------------------------------------+-------------------------------------------+----------------------+----------------------------------------+-----------------------+-------------------------+------------------------+---------------------------+----------------------------+--------------------------------+------------------------------------+----------------------------+---------------------------------------+----------------------------+----------------------------+----------------------+----------------------+--------------------+-----------------------+----------------------+------------------------+---------------------+---------------------+---------+----------+----------+------------+-----------+-----------+----------+---------------+---------+------------------------+------------------+--------------------------+-----------------+------------+-------------------------------+-------------------------+\n",
       "|2017-05-05|2024|STP - Saint Paul|-93.16495|44.95667|         175000|   175000|Exclusive Right|           175000|     171.737|           625|      625 - St. Paul|          11|   2017-05-16|         1|                No|           1019| 2188|            2246.0|      1019|     1907|(SF) One 1/2 Stories| 0.11|        1|        0|          0|                0|         1|       2|              0|    Not Assumable|             0|               No|             58.2|              5|           125|         5|             18|     2017|       86|       80|        NULL|         172000|        4.02|            4.03|            3.97|            4.08|             4.1|3.325714285714286E-4|         2.0|0.012502857142857144|      1019|     171.7369970559372|     1.0174418604651163|                           NULL|                     NULL|              NULL|                    1|               NULL|            NULL|                            NULL|                       NULL|              NULL|                         NULL|                   NULL|                NULL|           NULL|            NULL|               1|                      1|                             NULL|                      NULL|                NULL|             NULL|                             NULL|                              NULL|                      1|                NULL|                           1|                NULL|                    NULL|                   NULL|                       NULL|            1|                              NULL|         NULL|            NULL|                     NULL|                    NULL|         NULL|          NULL|              NULL|                  1|            NULL|         NULL|                 NULL|               NULL|                 NULL|                  1|             NULL|                     NULL|                  NULL|                NULL|                    NULL|                  NULL|                        NULL|                        NULL|                            1|                     NULL|          NULL|                   NULL|             NULL|                          NULL|                       NULL|                     NULL|                         NULL|                         NULL|                           NULL|              NULL|                   NULL|              NULL|                         1|                                  NULL|                          NULL|                   NULL|                   NULL|                     NULL|                                NULL|                                   1|                                      NULL|                                     NULL|                                    NULL|                       NULL|                                                1|          NULL|                   1|                    1|                    NULL|                NULL|          NULL|          NULL|           NULL|           NULL|          NULL|         NULL|               1|          NULL|      NULL|           NULL|      NULL|       NULL|            1|         NULL|      NULL|      NULL|      NULL|                      NULL|                             NULL|                     NULL|                                   NULL|                     NULL|                                1|                                NULL|                                 NULL|                               NULL|                                      NULL|                               NULL|                                NULL|                           NULL|                              NULL|                                          NULL|                                         NULL|                                       NULL|                  NULL|                                    NULL|                   NULL|                     NULL|                    NULL|                       NULL|                        NULL|                            NULL|                                NULL|                        NULL|                                   NULL|                        NULL|                        NULL|                  NULL|                  NULL|                   1|                   NULL|                  NULL|                    NULL|                 NULL|                    1|     NULL|      NULL|      NULL|        NULL|       NULL|       NULL|      NULL|           NULL|     NULL|                    NULL|              NULL|                      NULL|             NULL|        NULL|                           NULL|                        1|\n",
       "|2017-07-06| 333|MAPW - Maplewood|-93.04813|44.99513|         210000|   204900|Exclusive Right|           204900|    111.1111|          1082|622 - North St Pa...|           7|   2017-07-20|         1|                No|           1070| 2758|            2758.0|      1890|     1971|(SF) Split Entry ...| 0.46|        1|        0|          0|                1|         2|       3|            820|             NULL|             0|               No|              0.0|              6|           187|         7|             27|     2017|       22|     NULL|        NULL|         193000|        3.96|            3.88|             3.9|            3.91|            3.89|                 0.0|         1.5|0.013460224499755978|      1890|    108.41269841269842|      1.061658031088083|                           NULL|                     NULL|              NULL|                 NULL|               NULL|               1|                            NULL|                          1|              NULL|                         NULL|                   NULL|                NULL|           NULL|            NULL|               1|                      1|                             NULL|                      NULL|                NULL|                1|                             NULL|                              NULL|                   NULL|                NULL|                        NULL|                NULL|                    NULL|                   NULL|                       NULL|         NULL|                              NULL|            1|            NULL|                     NULL|                    NULL|         NULL|          NULL|              NULL|               NULL|            NULL|         NULL|                 NULL|               NULL|                 NULL|               NULL|             NULL|                     NULL|                  NULL|                NULL|                    NULL|                  NULL|                        NULL|                           1|                            1|                     NULL|          NULL|                   NULL|             NULL|                          NULL|                       NULL|                     NULL|                         NULL|                         NULL|                           NULL|              NULL|                   NULL|              NULL|                      NULL|                                  NULL|                          NULL|                   NULL|                   NULL|                        1|                                NULL|                                NULL|                                         1|                                     NULL|                                    NULL|                       NULL|                                             NULL|          NULL|                NULL|                 NULL|                    NULL|                NULL|          NULL|          NULL|              1|           NULL|          NULL|         NULL|            NULL|          NULL|      NULL|           NULL|      NULL|       NULL|         NULL|         NULL|      NULL|      NULL|      NULL|                      NULL|                             NULL|                     NULL|                                   NULL|                     NULL|                                1|                                NULL|                                    1|                               NULL|                                      NULL|                               NULL|                                NULL|                           NULL|                              NULL|                                          NULL|                                         NULL|                                          1|                  NULL|                                    NULL|                   NULL|                     NULL|                    NULL|                       NULL|                        NULL|                            NULL|                                NULL|                        NULL|                                   NULL|                        NULL|                        NULL|                  NULL|                  NULL|                NULL|                   NULL|                  NULL|                       1|                 NULL|                    1|     NULL|      NULL|      NULL|           1|       NULL|       NULL|      NULL|           NULL|     NULL|                    NULL|              NULL|                      NULL|             NULL|        NULL|                           NULL|                        1|\n",
       "+----------+----+----------------+---------+--------+---------------+---------+---------------+-----------------+------------+--------------+--------------------+------------+-------------+----------+------------------+---------------+-----+------------------+----------+---------+--------------------+-----+---------+---------+-----------+-----------------+----------+--------+---------------+-----------------+--------------+-----------------+-----------------+---------------+--------------+----------+---------------+---------+---------+---------+------------+---------------+------------+----------------+----------------+----------------+----------------+--------------------+------------+--------------------+----------+----------------------+-----------------------+-------------------------------+-------------------------+------------------+---------------------+-------------------+----------------+--------------------------------+---------------------------+------------------+-----------------------------+-----------------------+--------------------+---------------+----------------+----------------+-----------------------+---------------------------------+--------------------------+--------------------+-----------------+---------------------------------+----------------------------------+-----------------------+--------------------+----------------------------+--------------------+------------------------+-----------------------+---------------------------+-------------+----------------------------------+-------------+----------------+-------------------------+------------------------+-------------+--------------+------------------+-------------------+----------------+-------------+---------------------+-------------------+---------------------+-------------------+-----------------+-------------------------+----------------------+--------------------+------------------------+----------------------+----------------------------+----------------------------+-----------------------------+-------------------------+--------------+-----------------------+-----------------+------------------------------+---------------------------+-------------------------+-----------------------------+-----------------------------+-------------------------------+------------------+-----------------------+------------------+--------------------------+--------------------------------------+------------------------------+-----------------------+-----------------------+-------------------------+------------------------------------+------------------------------------+------------------------------------------+-----------------------------------------+----------------------------------------+---------------------------+-------------------------------------------------+--------------+--------------------+---------------------+------------------------+--------------------+--------------+--------------+---------------+---------------+--------------+-------------+----------------+--------------+----------+---------------+----------+-----------+-------------+-------------+----------+----------+----------+--------------------------+---------------------------------+-------------------------+---------------------------------------+-------------------------+---------------------------------+------------------------------------+-------------------------------------+-----------------------------------+------------------------------------------+-----------------------------------+------------------------------------+-------------------------------+----------------------------------+----------------------------------------------+---------------------------------------------+-------------------------------------------+----------------------+----------------------------------------+-----------------------+-------------------------+------------------------+---------------------------+----------------------------+--------------------------------+------------------------------------+----------------------------+---------------------------------------+----------------------------+----------------------------+----------------------+----------------------+--------------------+-----------------------+----------------------+------------------------+---------------------+---------------------+---------+----------+----------+------------+-----------+-----------+----------+---------------+---------+------------------------+------------------+--------------------------+-----------------+------------+-------------------------------+-------------------------+"
      ]
     },
     "execution_count": 33,
     "metadata": {},
     "output_type": "execute_result"
    }
   ],
   "source": [
    "df = read_from_kitchen()\n",
    "df.limit(2)"
   ]
  },
  {
   "cell_type": "code",
   "execution_count": 34,
   "id": "25c62293-006d-4da0-a415-6076eee05540",
   "metadata": {},
   "outputs": [
    {
     "name": "stdout",
     "output_type": "stream",
     "text": [
      "+-----------------+\n",
      "|ASSESSMENTPENDING|\n",
      "+-----------------+\n",
      "|Unknown          |\n",
      "|No               |\n",
      "|Yes              |\n",
      "+-----------------+\n",
      "\n",
      "+-------------------+\n",
      "|AssumableMortgage  |\n",
      "+-------------------+\n",
      "|Yes w/ Qualifying  |\n",
      "|Information Coming |\n",
      "|Not Assumable      |\n",
      "|Yes w/No Qualifying|\n",
      "|NULL               |\n",
      "+-------------------+\n",
      "\n",
      "+----------------+\n",
      "|City            |\n",
      "+----------------+\n",
      "|OAKD - Oakdale  |\n",
      "|MAPW - Maplewood|\n",
      "|WB - Woodbury   |\n",
      "|LELM - Lake Elmo|\n",
      "|STP - Saint Paul|\n",
      "+----------------+\n",
      "\n",
      "+------------------+\n",
      "|PotentialShortSale|\n",
      "+------------------+\n",
      "|No                |\n",
      "|Not Disclosed     |\n",
      "+------------------+\n",
      "\n",
      "+-----------------------------+\n",
      "|SchoolDistrictNumber         |\n",
      "+-----------------------------+\n",
      "|832 - Mahtomedi              |\n",
      "|625 - St. Paul               |\n",
      "|623 - Roseville              |\n",
      "|622 - North St Paul-Maplewood|\n",
      "|833 - South Washington County|\n",
      "|834 - Stillwater             |\n",
      "|624 - White Bear Lake        |\n",
      "|6 - South St. Paul           |\n",
      "+-----------------------------+\n",
      "\n",
      "+-------------------------------+\n",
      "|LISTTYPE                       |\n",
      "+-------------------------------+\n",
      "|Exclusive Right with Exclusions|\n",
      "|Exclusive Right                |\n",
      "|Service Agreement              |\n",
      "|Exclusive Agency               |\n",
      "|Other                          |\n",
      "+-------------------------------+\n",
      "\n",
      "+-----------------------------+\n",
      "|STYLE                        |\n",
      "+-----------------------------+\n",
      "|(SF) Three Level Split       |\n",
      "|(TH) Side x Side             |\n",
      "|(SF) Split Entry (Bi-Level)  |\n",
      "|(CC) Converted Mansion       |\n",
      "|(SF) One Story               |\n",
      "|(SF) Two Stories             |\n",
      "|(SF) Four or More Level Split|\n",
      "|(TH) Quad/4 Corners          |\n",
      "|(SF) Other                   |\n",
      "|(CC) Manor/Village           |\n",
      "|(CC) High Rise (4+ Levels)   |\n",
      "|(TH) Detached                |\n",
      "|(CC) Low Rise (3- Levels)    |\n",
      "|(SF) Modified Two Story      |\n",
      "|(SF) One 1/2 Stories         |\n",
      "|(TW) Twin Home               |\n",
      "|(SF) More Than Two Stories   |\n",
      "|(CC) Two Unit                |\n",
      "+-----------------------------+\n",
      "\n"
     ]
    }
   ],
   "source": [
    "# Step 4: Encoding catego features\n",
    "cols_to_pivot = ['ASSESSMENTPENDING', 'AssumableMortgage', 'City', 'PotentialShortSale',\n",
    "                 'SchoolDistrictNumber', 'LISTTYPE', 'STYLE']\n",
    "\n",
    "for col_name in cols_to_pivot:\n",
    "    df[[col_name]].distinct().show(truncate=False)"
   ]
  },
  {
   "cell_type": "code",
   "execution_count": 35,
   "id": "3d4a35b3-4a5b-46f4-9c8a-b7a91c042c36",
   "metadata": {},
   "outputs": [
    {
     "name": "stdout",
     "output_type": "stream",
     "text": [
      "Dataframe shape: (5000, 210)\n",
      "Encode ASSESSMENTPENDING - Dataframe shape: (5000, 211)\n",
      "Encode AssumableMortgage - Dataframe shape: (5000, 214)\n",
      "Encode City - Dataframe shape: (5000, 217)\n",
      "Encode PotentialShortSale - Dataframe shape: (5000, 217)\n",
      "Encode SchoolDistrictNumber - Dataframe shape: (5000, 223)\n",
      "Encode LISTTYPE - Dataframe shape: (5000, 226)\n",
      "Encode STYLE - Dataframe shape: (5000, 242)\n"
     ]
    }
   ],
   "source": [
    "df = read_from_kitchen()\n",
    "df, catego_cols = explode_catego_features(df, cols_to_pivot)\n",
    "saving_to_kitchen(df)"
   ]
  },
  {
   "cell_type": "code",
   "execution_count": 36,
   "id": "a394052d-dd68-4cda-baa1-29577c4de184",
   "metadata": {},
   "outputs": [
    {
     "name": "stdout",
     "output_type": "stream",
     "text": [
      "Dataframe shape: (5000, 242)\n"
     ]
    },
    {
     "data": {
      "text/html": [
       "<table border='1'>\n",
       "<tr><th>No.</th><th>LISTDATE</th><th>longitude</th><th>latitude</th><th>SalesClosePrice</th><th>LISTPRICE</th><th>OriginalListPrice</th><th>PricePerTSFT</th><th>FOUNDATIONSIZE</th><th>DAYSONMARKET</th><th>offmarketdate</th><th>Fireplaces</th><th>SQFTABOVEGROUND</th><th>Taxes</th><th>TAXWITHASSESSMENTS</th><th>LivingArea</th><th>YEARBUILT</th><th>ACRES</th><th>BathsFull</th><th>BathsHalf</th><th>BATHQUARTER</th><th>BATHSTHREEQUARTER</th><th>BATHSTOTAL</th><th>Bedrooms</th><th>SQFTBELOWGROUND</th><th>AssociationFee</th><th>AssessedValuation</th><th>LIST_DAYOFMONTH</th><th>LIST_DAYOFYEAR</th><th>LIST_MONTH</th><th>LIST_WEEKOFYEAR</th><th>LIST_YEAR</th><th>walkscore</th><th>bikescore</th><th>transitscore</th><th>MedianHomeValue</th><th>MORTGAGE30US</th><th>MORTGAGE30US-1WK</th><th>MORTGAGE30US-2WK</th><th>MORTGAGE30US-3WK</th><th>MORTGAGE30US-4WK</th><th>ASSESSED_TO_LIST</th><th>BED_TO_BATHS</th><th>TAX_TO_LIST</th><th>SQFT_TOTAL</th><th>LISTING_PRICE_PER_SQFT</th><th>LISTING_TO_MEDIAN_RATIO</th><th>APPLIANCES_Air-To-Air Exchanger</th><th>APPLIANCES_Central Vacuum</th><th>APPLIANCES_Cooktop</th><th>APPLIANCES_Dishwasher</th><th>APPLIANCES_Disposal</th><th>APPLIANCES_Dryer</th><th>APPLIANCES_Electronic Air Filter</th><th>APPLIANCES_Exhaust Fan/Hood</th><th>APPLIANCES_Freezer</th><th>APPLIANCES_Furnace Humidifier</th><th>APPLIANCES_Indoor Grill</th><th>APPLIANCES_Microwave</th><th>APPLIANCES_None</th><th>APPLIANCES_Other</th><th>APPLIANCES_Range</th><th>APPLIANCES_Refrigerator</th><th>APPLIANCES_Tankless Water  Heater</th><th>APPLIANCES_Trash Compactor</th><th>APPLIANCES_Wall Oven</th><th>APPLIANCES_Washer</th><th>APPLIANCES_Water Softener - Owned</th><th>APPLIANCES_Water Softener - Rented</th><th>BASEMENT_Concrete Block</th><th>BASEMENT_Crawl Space</th><th>BASEMENT_Day/Lookout Windows</th><th>BASEMENT_Drain Tiled</th><th>BASEMENT_Drainage System</th><th>BASEMENT_Egress Windows</th><th>BASEMENT_Finished (Livable)</th><th>BASEMENT_Full</th><th>BASEMENT_Insulating Concrete Forms</th><th>BASEMENT_None</th><th>BASEMENT_Partial</th><th>BASEMENT_Partial Finished</th><th>BASEMENT_Poured Concrete</th><th>BASEMENT_Slab</th><th>BASEMENT_Stone</th><th>BASEMENT_Sump Pump</th><th>BASEMENT_Unfinished</th><th>BASEMENT_Walkout</th><th>BASEMENT_Wood</th><th>BATHDESC_1/2 Basement</th><th>BATHDESC_1/2 Master</th><th>BATHDESC_3/4 Basement</th><th>BATHDESC_3/4 Master</th><th>BATHDESC_Basement</th><th>BATHDESC_Bathroom Ensuite</th><th>BATHDESC_Full Basement</th><th>BATHDESC_Full Master</th><th>BATHDESC_Jack &amp; Jill 3/4</th><th>BATHDESC_Jack and Jill</th><th>BATHDESC_Main Floor 1/2 Bath</th><th>BATHDESC_Main Floor 3/4 Bath</th><th>BATHDESC_Main Floor Full Bath</th><th>BATHDESC_Master Walk-Thru</th><th>BATHDESC_Other</th><th>BATHDESC_Private Master</th><th>BATHDESC_Rough In</th><th>BATHDESC_Separate Tub &amp; Shower</th><th>BATHDESC_Two Basement Baths</th><th>BATHDESC_Two Master Baths</th><th>BATHDESC_Upper Level 1/2 Bath</th><th>BATHDESC_Upper Level 3/4 Bath</th><th>BATHDESC_Upper Level Full Bath </th><th>BATHDESC_Walk Thru</th><th>BATHDESC_Walk-In Shower</th><th>BATHDESC_Whirlpool</th><th>CoolingDescription_Central</th><th>CoolingDescription_Ductless Mini-Split</th><th>CoolingDescription_Geothermal </th><th>CoolingDescription_None</th><th>CoolingDescription_Wall</th><th>CoolingDescription_Window</th><th>DiningRoomDescription_Breakfast Area</th><th>DiningRoomDescription_Eat In Kitchen</th><th>DiningRoomDescription_Informal Dining Room</th><th>DiningRoomDescription_Kitchen/Dining Room</th><th>DiningRoomDescription_Living/Dining Room</th><th>DiningRoomDescription_Other</th><th>DiningRoomDescription_Separate/Formal Dining Room</th><th>EXTERIOR_Block</th><th>EXTERIOR_Brick/Stone</th><th>EXTERIOR_Cement Board</th><th>EXTERIOR_Engineered Wood</th><th>EXTERIOR_Fiber Board</th><th>EXTERIOR_Metal</th><th>EXTERIOR_Other</th><th>EXTERIOR_Shakes</th><th>EXTERIOR_Stucco</th><th>EXTERIOR_Vinyl</th><th>EXTERIOR_Wood</th><th>FENCE_Chain Link</th><th>FENCE_Electric</th><th>FENCE_Full</th><th>FENCE_Invisible</th><th>FENCE_None</th><th>FENCE_Other</th><th>FENCE_Partial</th><th>FENCE_Privacy</th><th>FENCE_Rail</th><th>FENCE_Wire</th><th>FENCE_Wood</th><th>GarageDescription_Assigned</th><th>GarageDescription_Attached Garage</th><th>GarageDescription_Carport</th><th>GarageDescription_Contract Pkg Required</th><th>GarageDescription_Covered</th><th>GarageDescription_Detached Garage</th><th>GarageDescription_Driveway - Asphalt</th><th>GarageDescription_Driveway - Concrete</th><th>GarageDescription_Driveway - Gravel</th><th>GarageDescription_Driveway - Other Surface</th><th>GarageDescription_Driveway - Shared</th><th>GarageDescription_Garage Door Opener</th><th>GarageDescription_Heated Garage</th><th>GarageDescription_Insulated Garage</th><th>GarageDescription_More Parking Offsite for Fee</th><th>GarageDescription_More Parking Onsite for Fee</th><th>GarageDescription_No Int Access to Dwelling</th><th>GarageDescription_None</th><th>GarageDescription_On-Street Parking Only</th><th>GarageDescription_Other</th><th>GarageDescription_Secured</th><th>GarageDescription_Tandem</th><th>GarageDescription_Tuckunder</th><th>GarageDescription_Unassigned</th><th>GarageDescription_Uncovered/Open</th><th>GarageDescription_Underground Garage</th><th>GarageDescription_Units Vary</th><th>GarageDescription_Valet Parking for Fee</th><th>PoolDescription_Above Ground</th><th>PoolDescription_Below Ground</th><th>PoolDescription_Heated</th><th>PoolDescription_Indoor</th><th>PoolDescription_None</th><th>PoolDescription_Outdoor</th><th>PoolDescription_Shared</th><th>ROOF_Age 8 Years or Less</th><th>ROOF_Age Over 8 Years</th><th>ROOF_Asphalt Shingles</th><th>ROOF_Flat</th><th>ROOF_Metal</th><th>ROOF_Other</th><th>ROOF_Pitched</th><th>ROOF_Rubber</th><th>ROOF_Shakes</th><th>ROOF_Slate</th><th>ROOF_Tar/Gravel</th><th>ROOF_Tile</th><th>ROOF_Unspecified Shingle</th><th>ROOF_Wood Shingles</th><th>ZONING_Business/Commercial</th><th>ZONING_Industrial</th><th>ZONING_Other</th><th>ZONING_Residential-Multi-Family</th><th>ZONING_Residential-Single</th><th>ASSESSMENTPENDING:No</th><th>ASSESSMENTPENDING:Unknown</th><th>AssumableMortgage:None</th><th>AssumableMortgage:Not Assumable</th><th>AssumableMortgage:Information Coming</th><th>AssumableMortgage:Yes w/ Qualifying</th><th>City:STP - Saint Paul</th><th>City:WB - Woodbury</th><th>City:MAPW - Maplewood</th><th>City:OAKD - Oakdale</th><th>PotentialShortSale:No</th><th>SchoolDistrictNumber:625 - St. Paul</th><th>SchoolDistrictNumber:622 - North St Paul-Maplewood</th><th>SchoolDistrictNumber:833 - South Washington County</th><th>SchoolDistrictNumber:834 - Stillwater</th><th>SchoolDistrictNumber:623 - Roseville</th><th>SchoolDistrictNumber:832 - Mahtomedi</th><th>SchoolDistrictNumber:624 - White Bear Lake</th><th>LISTTYPE:Exclusive Right</th><th>LISTTYPE:Service Agreement</th><th>LISTTYPE:Exclusive Right with Exclusions</th><th>LISTTYPE:Exclusive Agency</th><th>STYLE:(SF) Two Stories</th><th>STYLE:(SF) One 1/2 Stories</th><th>STYLE:(SF) One Story</th><th>STYLE:(TH) Side x Side</th><th>STYLE:(SF) Split Entry (Bi-Level)</th><th>STYLE:(CC) High Rise (4+ Levels)</th><th>STYLE:(SF) Four or More Level Split</th><th>STYLE:(CC) Low Rise (3- Levels)</th><th>STYLE:(SF) More Than Two Stories</th><th>STYLE:(TH) Quad/4 Corners</th><th>STYLE:(SF) Three Level Split</th><th>STYLE:(TH) Detached</th><th>STYLE:(SF) Modified Two Story</th><th>STYLE:(TW) Twin Home</th><th>STYLE:(CC) Manor/Village</th><th>STYLE:(CC) Converted Mansion</th><th>STYLE:(SF) Other</th></tr>\n",
       "<tr><td>1285</td><td>2017-05-24</td><td>-93.13282</td><td>44.91974</td><td>120000</td><td>125000</td><td>125000</td><td>133.3333</td><td>900</td><td>17</td><td>2017-06-10</td><td>0</td><td>900</td><td>1316</td><td>1660.0</td><td>900</td><td>1921</td><td>0.13</td><td>1</td><td>0</td><td>0</td><td>0</td><td>1</td><td>2</td><td>0</td><td>0</td><td>344.0</td><td>24</td><td>144</td><td>5</td><td>21</td><td>2017</td><td>51</td><td>72</td><td>NULL</td><td>172000</td><td>4.02</td><td>4.05</td><td>4.02</td><td>4.03</td><td>3.97</td><td>0.002752</td><td>2.0</td><td>0.010528</td><td>900</td><td>138.88888888888889</td><td>0.7267441860465116</td><td>NULL</td><td>NULL</td><td>NULL</td><td>1</td><td>1</td><td>1</td><td>NULL</td><td>1</td><td>NULL</td><td>1</td><td>NULL</td><td>1</td><td>NULL</td><td>NULL</td><td>1</td><td>1</td><td>NULL</td><td>NULL</td><td>NULL</td><td>1</td><td>1</td><td>NULL</td><td>NULL</td><td>NULL</td><td>NULL</td><td>NULL</td><td>NULL</td><td>NULL</td><td>NULL</td><td>NULL</td><td>NULL</td><td>NULL</td><td>1</td><td>NULL</td><td>NULL</td><td>NULL</td><td>NULL</td><td>NULL</td><td>1</td><td>NULL</td><td>NULL</td><td>NULL</td><td>NULL</td><td>NULL</td><td>NULL</td><td>NULL</td><td>NULL</td><td>NULL</td><td>NULL</td><td>NULL</td><td>NULL</td><td>NULL</td><td>NULL</td><td>1</td><td>NULL</td><td>NULL</td><td>NULL</td><td>NULL</td><td>NULL</td><td>NULL</td><td>NULL</td><td>NULL</td><td>NULL</td><td>NULL</td><td>NULL</td><td>NULL</td><td>NULL</td><td>1</td><td>NULL</td><td>NULL</td><td>NULL</td><td>NULL</td><td>NULL</td><td>1</td><td>NULL</td><td>NULL</td><td>1</td><td>NULL</td><td>NULL</td><td>NULL</td><td>NULL</td><td>1</td><td>NULL</td><td>NULL</td><td>NULL</td><td>NULL</td><td>NULL</td><td>NULL</td><td>NULL</td><td>1</td><td>NULL</td><td>NULL</td><td>NULL</td><td>NULL</td><td>NULL</td><td>NULL</td><td>NULL</td><td>NULL</td><td>NULL</td><td>NULL</td><td>NULL</td><td>NULL</td><td>NULL</td><td>NULL</td><td>NULL</td><td>NULL</td><td>NULL</td><td>1</td><td>NULL</td><td>NULL</td><td>NULL</td><td>NULL</td><td>NULL</td><td>NULL</td><td>NULL</td><td>NULL</td><td>NULL</td><td>NULL</td><td>NULL</td><td>NULL</td><td>NULL</td><td>NULL</td><td>NULL</td><td>NULL</td><td>NULL</td><td>NULL</td><td>NULL</td><td>NULL</td><td>NULL</td><td>NULL</td><td>NULL</td><td>NULL</td><td>NULL</td><td>NULL</td><td>NULL</td><td>NULL</td><td>NULL</td><td>1</td><td>NULL</td><td>NULL</td><td>NULL</td><td>NULL</td><td>NULL</td><td>NULL</td><td>NULL</td><td>NULL</td><td>NULL</td><td>NULL</td><td>NULL</td><td>NULL</td><td>NULL</td><td>NULL</td><td>NULL</td><td>NULL</td><td>NULL</td><td>1</td><td>0</td><td>1</td><td>0</td><td>1</td><td>0</td><td>0</td><td>1</td><td>0</td><td>0</td><td>0</td><td>1</td><td>1</td><td>0</td><td>0</td><td>0</td><td>0</td><td>0</td><td>0</td><td>1</td><td>0</td><td>0</td><td>0</td><td>0</td><td>0</td><td>1</td><td>0</td><td>0</td><td>0</td><td>0</td><td>0</td><td>0</td><td>0</td><td>0</td><td>0</td><td>0</td><td>0</td><td>0</td><td>0</td><td>0</td></tr>\n",
       "<tr><td>4846</td><td>2017-09-06</td><td>-92.90081</td><td>44.9223</td><td>455000</td><td>459900</td><td>474900</td><td>113.8639</td><td>1509</td><td>40</td><td>2017-10-19</td><td>1</td><td>2796</td><td>5761</td><td>6094.0</td><td>3996</td><td>1998</td><td>0.361</td><td>2</td><td>1</td><td>0</td><td>1</td><td>4</td><td>5</td><td>1200</td><td>480</td><td>333.0</td><td>6</td><td>249</td><td>9</td><td>36</td><td>2017</td><td>12</td><td>NULL</td><td>NULL</td><td>291000</td><td>3.82</td><td>3.86</td><td>3.89</td><td>3.9</td><td>3.93</td><td>7.240704500978474E-4</td><td>1.25</td><td>0.012526636225266362</td><td>3996</td><td>115.09009009009009</td><td>1.5804123711340206</td><td>NULL</td><td>NULL</td><td>NULL</td><td>1</td><td>1</td><td>1</td><td>NULL</td><td>NULL</td><td>NULL</td><td>NULL</td><td>NULL</td><td>1</td><td>NULL</td><td>NULL</td><td>1</td><td>1</td><td>NULL</td><td>NULL</td><td>NULL</td><td>1</td><td>NULL</td><td>NULL</td><td>NULL</td><td>NULL</td><td>NULL</td><td>1</td><td>NULL</td><td>1</td><td>NULL</td><td>1</td><td>NULL</td><td>NULL</td><td>NULL</td><td>NULL</td><td>NULL</td><td>NULL</td><td>NULL</td><td>1</td><td>NULL</td><td>NULL</td><td>NULL</td><td>1</td><td>NULL</td><td>NULL</td><td>NULL</td><td>NULL</td><td>NULL</td><td>NULL</td><td>NULL</td><td>NULL</td><td>NULL</td><td>1</td><td>NULL</td><td>NULL</td><td>1</td><td>NULL</td><td>NULL</td><td>NULL</td><td>NULL</td><td>NULL</td><td>NULL</td><td>NULL</td><td>NULL</td><td>1</td><td>NULL</td><td>NULL</td><td>NULL</td><td>1</td><td>NULL</td><td>NULL</td><td>NULL</td><td>NULL</td><td>NULL</td><td>NULL</td><td>NULL</td><td>NULL</td><td>NULL</td><td>NULL</td><td>NULL</td><td>NULL</td><td>NULL</td><td>1</td><td>NULL</td><td>NULL</td><td>NULL</td><td>NULL</td><td>NULL</td><td>NULL</td><td>NULL</td><td>NULL</td><td>NULL</td><td>NULL</td><td>NULL</td><td>NULL</td><td>NULL</td><td>NULL</td><td>NULL</td><td>NULL</td><td>NULL</td><td>NULL</td><td>NULL</td><td>NULL</td><td>NULL</td><td>NULL</td><td>NULL</td><td>NULL</td><td>NULL</td><td>1</td><td>NULL</td><td>NULL</td><td>NULL</td><td>NULL</td><td>NULL</td><td>NULL</td><td>NULL</td><td>NULL</td><td>NULL</td><td>NULL</td><td>NULL</td><td>NULL</td><td>NULL</td><td>NULL</td><td>NULL</td><td>NULL</td><td>NULL</td><td>NULL</td><td>NULL</td><td>NULL</td><td>NULL</td><td>NULL</td><td>NULL</td><td>NULL</td><td>NULL</td><td>NULL</td><td>1</td><td>NULL</td><td>NULL</td><td>NULL</td><td>1</td><td>1</td><td>NULL</td><td>NULL</td><td>NULL</td><td>1</td><td>NULL</td><td>NULL</td><td>NULL</td><td>NULL</td><td>NULL</td><td>NULL</td><td>NULL</td><td>NULL</td><td>NULL</td><td>NULL</td><td>NULL</td><td>1</td><td>0</td><td>1</td><td>1</td><td>0</td><td>0</td><td>0</td><td>0</td><td>1</td><td>0</td><td>0</td><td>1</td><td>0</td><td>0</td><td>1</td><td>0</td><td>0</td><td>0</td><td>0</td><td>1</td><td>0</td><td>0</td><td>0</td><td>1</td><td>0</td><td>0</td><td>0</td><td>0</td><td>0</td><td>0</td><td>0</td><td>0</td><td>0</td><td>0</td><td>0</td><td>0</td><td>0</td><td>0</td><td>0</td><td>0</td></tr>\n",
       "</table>\n"
      ],
      "text/plain": [
       "+----+----------+---------+--------+---------------+---------+-----------------+------------+--------------+------------+-------------+----------+---------------+-----+------------------+----------+---------+-----+---------+---------+-----------+-----------------+----------+--------+---------------+--------------+-----------------+---------------+--------------+----------+---------------+---------+---------+---------+------------+---------------+------------+----------------+----------------+----------------+----------------+--------------------+------------+--------------------+----------+----------------------+-----------------------+-------------------------------+-------------------------+------------------+---------------------+-------------------+----------------+--------------------------------+---------------------------+------------------+-----------------------------+-----------------------+--------------------+---------------+----------------+----------------+-----------------------+---------------------------------+--------------------------+--------------------+-----------------+---------------------------------+----------------------------------+-----------------------+--------------------+----------------------------+--------------------+------------------------+-----------------------+---------------------------+-------------+----------------------------------+-------------+----------------+-------------------------+------------------------+-------------+--------------+------------------+-------------------+----------------+-------------+---------------------+-------------------+---------------------+-------------------+-----------------+-------------------------+----------------------+--------------------+------------------------+----------------------+----------------------------+----------------------------+-----------------------------+-------------------------+--------------+-----------------------+-----------------+------------------------------+---------------------------+-------------------------+-----------------------------+-----------------------------+-------------------------------+------------------+-----------------------+------------------+--------------------------+--------------------------------------+------------------------------+-----------------------+-----------------------+-------------------------+------------------------------------+------------------------------------+------------------------------------------+-----------------------------------------+----------------------------------------+---------------------------+-------------------------------------------------+--------------+--------------------+---------------------+------------------------+--------------------+--------------+--------------+---------------+---------------+--------------+-------------+----------------+--------------+----------+---------------+----------+-----------+-------------+-------------+----------+----------+----------+--------------------------+---------------------------------+-------------------------+---------------------------------------+-------------------------+---------------------------------+------------------------------------+-------------------------------------+-----------------------------------+------------------------------------------+-----------------------------------+------------------------------------+-------------------------------+----------------------------------+----------------------------------------------+---------------------------------------------+-------------------------------------------+----------------------+----------------------------------------+-----------------------+-------------------------+------------------------+---------------------------+----------------------------+--------------------------------+------------------------------------+----------------------------+---------------------------------------+----------------------------+----------------------------+----------------------+----------------------+--------------------+-----------------------+----------------------+------------------------+---------------------+---------------------+---------+----------+----------+------------+-----------+-----------+----------+---------------+---------+------------------------+------------------+--------------------------+-----------------+------------+-------------------------------+-------------------------+--------------------+-------------------------+----------------------+-------------------------------+------------------------------------+-----------------------------------+---------------------+------------------+---------------------+-------------------+---------------------+-----------------------------------+--------------------------------------------------+--------------------------------------------------+-------------------------------------+------------------------------------+------------------------------------+------------------------------------------+------------------------+--------------------------+----------------------------------------+-------------------------+----------------------+--------------------------+--------------------+----------------------+---------------------------------+--------------------------------+-----------------------------------+-------------------------------+--------------------------------+-------------------------+----------------------------+-------------------+-----------------------------+--------------------+------------------------+----------------------------+----------------+\n",
       "| No.|  LISTDATE|longitude|latitude|SalesClosePrice|LISTPRICE|OriginalListPrice|PricePerTSFT|FOUNDATIONSIZE|DAYSONMARKET|offmarketdate|Fireplaces|SQFTABOVEGROUND|Taxes|TAXWITHASSESSMENTS|LivingArea|YEARBUILT|ACRES|BathsFull|BathsHalf|BATHQUARTER|BATHSTHREEQUARTER|BATHSTOTAL|Bedrooms|SQFTBELOWGROUND|AssociationFee|AssessedValuation|LIST_DAYOFMONTH|LIST_DAYOFYEAR|LIST_MONTH|LIST_WEEKOFYEAR|LIST_YEAR|walkscore|bikescore|transitscore|MedianHomeValue|MORTGAGE30US|MORTGAGE30US-1WK|MORTGAGE30US-2WK|MORTGAGE30US-3WK|MORTGAGE30US-4WK|    ASSESSED_TO_LIST|BED_TO_BATHS|         TAX_TO_LIST|SQFT_TOTAL|LISTING_PRICE_PER_SQFT|LISTING_TO_MEDIAN_RATIO|APPLIANCES_Air-To-Air Exchanger|APPLIANCES_Central Vacuum|APPLIANCES_Cooktop|APPLIANCES_Dishwasher|APPLIANCES_Disposal|APPLIANCES_Dryer|APPLIANCES_Electronic Air Filter|APPLIANCES_Exhaust Fan/Hood|APPLIANCES_Freezer|APPLIANCES_Furnace Humidifier|APPLIANCES_Indoor Grill|APPLIANCES_Microwave|APPLIANCES_None|APPLIANCES_Other|APPLIANCES_Range|APPLIANCES_Refrigerator|APPLIANCES_Tankless Water  Heater|APPLIANCES_Trash Compactor|APPLIANCES_Wall Oven|APPLIANCES_Washer|APPLIANCES_Water Softener - Owned|APPLIANCES_Water Softener - Rented|BASEMENT_Concrete Block|BASEMENT_Crawl Space|BASEMENT_Day/Lookout Windows|BASEMENT_Drain Tiled|BASEMENT_Drainage System|BASEMENT_Egress Windows|BASEMENT_Finished (Livable)|BASEMENT_Full|BASEMENT_Insulating Concrete Forms|BASEMENT_None|BASEMENT_Partial|BASEMENT_Partial Finished|BASEMENT_Poured Concrete|BASEMENT_Slab|BASEMENT_Stone|BASEMENT_Sump Pump|BASEMENT_Unfinished|BASEMENT_Walkout|BASEMENT_Wood|BATHDESC_1/2 Basement|BATHDESC_1/2 Master|BATHDESC_3/4 Basement|BATHDESC_3/4 Master|BATHDESC_Basement|BATHDESC_Bathroom Ensuite|BATHDESC_Full Basement|BATHDESC_Full Master|BATHDESC_Jack & Jill 3/4|BATHDESC_Jack and Jill|BATHDESC_Main Floor 1/2 Bath|BATHDESC_Main Floor 3/4 Bath|BATHDESC_Main Floor Full Bath|BATHDESC_Master Walk-Thru|BATHDESC_Other|BATHDESC_Private Master|BATHDESC_Rough In|BATHDESC_Separate Tub & Shower|BATHDESC_Two Basement Baths|BATHDESC_Two Master Baths|BATHDESC_Upper Level 1/2 Bath|BATHDESC_Upper Level 3/4 Bath|BATHDESC_Upper Level Full Bath |BATHDESC_Walk Thru|BATHDESC_Walk-In Shower|BATHDESC_Whirlpool|CoolingDescription_Central|CoolingDescription_Ductless Mini-Split|CoolingDescription_Geothermal |CoolingDescription_None|CoolingDescription_Wall|CoolingDescription_Window|DiningRoomDescription_Breakfast Area|DiningRoomDescription_Eat In Kitchen|DiningRoomDescription_Informal Dining Room|DiningRoomDescription_Kitchen/Dining Room|DiningRoomDescription_Living/Dining Room|DiningRoomDescription_Other|DiningRoomDescription_Separate/Formal Dining Room|EXTERIOR_Block|EXTERIOR_Brick/Stone|EXTERIOR_Cement Board|EXTERIOR_Engineered Wood|EXTERIOR_Fiber Board|EXTERIOR_Metal|EXTERIOR_Other|EXTERIOR_Shakes|EXTERIOR_Stucco|EXTERIOR_Vinyl|EXTERIOR_Wood|FENCE_Chain Link|FENCE_Electric|FENCE_Full|FENCE_Invisible|FENCE_None|FENCE_Other|FENCE_Partial|FENCE_Privacy|FENCE_Rail|FENCE_Wire|FENCE_Wood|GarageDescription_Assigned|GarageDescription_Attached Garage|GarageDescription_Carport|GarageDescription_Contract Pkg Required|GarageDescription_Covered|GarageDescription_Detached Garage|GarageDescription_Driveway - Asphalt|GarageDescription_Driveway - Concrete|GarageDescription_Driveway - Gravel|GarageDescription_Driveway - Other Surface|GarageDescription_Driveway - Shared|GarageDescription_Garage Door Opener|GarageDescription_Heated Garage|GarageDescription_Insulated Garage|GarageDescription_More Parking Offsite for Fee|GarageDescription_More Parking Onsite for Fee|GarageDescription_No Int Access to Dwelling|GarageDescription_None|GarageDescription_On-Street Parking Only|GarageDescription_Other|GarageDescription_Secured|GarageDescription_Tandem|GarageDescription_Tuckunder|GarageDescription_Unassigned|GarageDescription_Uncovered/Open|GarageDescription_Underground Garage|GarageDescription_Units Vary|GarageDescription_Valet Parking for Fee|PoolDescription_Above Ground|PoolDescription_Below Ground|PoolDescription_Heated|PoolDescription_Indoor|PoolDescription_None|PoolDescription_Outdoor|PoolDescription_Shared|ROOF_Age 8 Years or Less|ROOF_Age Over 8 Years|ROOF_Asphalt Shingles|ROOF_Flat|ROOF_Metal|ROOF_Other|ROOF_Pitched|ROOF_Rubber|ROOF_Shakes|ROOF_Slate|ROOF_Tar/Gravel|ROOF_Tile|ROOF_Unspecified Shingle|ROOF_Wood Shingles|ZONING_Business/Commercial|ZONING_Industrial|ZONING_Other|ZONING_Residential-Multi-Family|ZONING_Residential-Single|ASSESSMENTPENDING:No|ASSESSMENTPENDING:Unknown|AssumableMortgage:None|AssumableMortgage:Not Assumable|AssumableMortgage:Information Coming|AssumableMortgage:Yes w/ Qualifying|City:STP - Saint Paul|City:WB - Woodbury|City:MAPW - Maplewood|City:OAKD - Oakdale|PotentialShortSale:No|SchoolDistrictNumber:625 - St. Paul|SchoolDistrictNumber:622 - North St Paul-Maplewood|SchoolDistrictNumber:833 - South Washington County|SchoolDistrictNumber:834 - Stillwater|SchoolDistrictNumber:623 - Roseville|SchoolDistrictNumber:832 - Mahtomedi|SchoolDistrictNumber:624 - White Bear Lake|LISTTYPE:Exclusive Right|LISTTYPE:Service Agreement|LISTTYPE:Exclusive Right with Exclusions|LISTTYPE:Exclusive Agency|STYLE:(SF) Two Stories|STYLE:(SF) One 1/2 Stories|STYLE:(SF) One Story|STYLE:(TH) Side x Side|STYLE:(SF) Split Entry (Bi-Level)|STYLE:(CC) High Rise (4+ Levels)|STYLE:(SF) Four or More Level Split|STYLE:(CC) Low Rise (3- Levels)|STYLE:(SF) More Than Two Stories|STYLE:(TH) Quad/4 Corners|STYLE:(SF) Three Level Split|STYLE:(TH) Detached|STYLE:(SF) Modified Two Story|STYLE:(TW) Twin Home|STYLE:(CC) Manor/Village|STYLE:(CC) Converted Mansion|STYLE:(SF) Other|\n",
       "+----+----------+---------+--------+---------------+---------+-----------------+------------+--------------+------------+-------------+----------+---------------+-----+------------------+----------+---------+-----+---------+---------+-----------+-----------------+----------+--------+---------------+--------------+-----------------+---------------+--------------+----------+---------------+---------+---------+---------+------------+---------------+------------+----------------+----------------+----------------+----------------+--------------------+------------+--------------------+----------+----------------------+-----------------------+-------------------------------+-------------------------+------------------+---------------------+-------------------+----------------+--------------------------------+---------------------------+------------------+-----------------------------+-----------------------+--------------------+---------------+----------------+----------------+-----------------------+---------------------------------+--------------------------+--------------------+-----------------+---------------------------------+----------------------------------+-----------------------+--------------------+----------------------------+--------------------+------------------------+-----------------------+---------------------------+-------------+----------------------------------+-------------+----------------+-------------------------+------------------------+-------------+--------------+------------------+-------------------+----------------+-------------+---------------------+-------------------+---------------------+-------------------+-----------------+-------------------------+----------------------+--------------------+------------------------+----------------------+----------------------------+----------------------------+-----------------------------+-------------------------+--------------+-----------------------+-----------------+------------------------------+---------------------------+-------------------------+-----------------------------+-----------------------------+-------------------------------+------------------+-----------------------+------------------+--------------------------+--------------------------------------+------------------------------+-----------------------+-----------------------+-------------------------+------------------------------------+------------------------------------+------------------------------------------+-----------------------------------------+----------------------------------------+---------------------------+-------------------------------------------------+--------------+--------------------+---------------------+------------------------+--------------------+--------------+--------------+---------------+---------------+--------------+-------------+----------------+--------------+----------+---------------+----------+-----------+-------------+-------------+----------+----------+----------+--------------------------+---------------------------------+-------------------------+---------------------------------------+-------------------------+---------------------------------+------------------------------------+-------------------------------------+-----------------------------------+------------------------------------------+-----------------------------------+------------------------------------+-------------------------------+----------------------------------+----------------------------------------------+---------------------------------------------+-------------------------------------------+----------------------+----------------------------------------+-----------------------+-------------------------+------------------------+---------------------------+----------------------------+--------------------------------+------------------------------------+----------------------------+---------------------------------------+----------------------------+----------------------------+----------------------+----------------------+--------------------+-----------------------+----------------------+------------------------+---------------------+---------------------+---------+----------+----------+------------+-----------+-----------+----------+---------------+---------+------------------------+------------------+--------------------------+-----------------+------------+-------------------------------+-------------------------+--------------------+-------------------------+----------------------+-------------------------------+------------------------------------+-----------------------------------+---------------------+------------------+---------------------+-------------------+---------------------+-----------------------------------+--------------------------------------------------+--------------------------------------------------+-------------------------------------+------------------------------------+------------------------------------+------------------------------------------+------------------------+--------------------------+----------------------------------------+-------------------------+----------------------+--------------------------+--------------------+----------------------+---------------------------------+--------------------------------+-----------------------------------+-------------------------------+--------------------------------+-------------------------+----------------------------+-------------------+-----------------------------+--------------------+------------------------+----------------------------+----------------+\n",
       "|1285|2017-05-24|-93.13282|44.91974|         120000|   125000|           125000|    133.3333|           900|          17|   2017-06-10|         0|            900| 1316|            1660.0|       900|     1921| 0.13|        1|        0|          0|                0|         1|       2|              0|             0|            344.0|             24|           144|         5|             21|     2017|       51|       72|        NULL|         172000|        4.02|            4.05|            4.02|            4.03|            3.97|            0.002752|         2.0|            0.010528|       900|    138.88888888888889|     0.7267441860465116|                           NULL|                     NULL|              NULL|                    1|                  1|               1|                            NULL|                          1|              NULL|                            1|                   NULL|                   1|           NULL|            NULL|               1|                      1|                             NULL|                      NULL|                NULL|                1|                                1|                              NULL|                   NULL|                NULL|                        NULL|                NULL|                    NULL|                   NULL|                       NULL|         NULL|                              NULL|         NULL|               1|                     NULL|                    NULL|         NULL|          NULL|              NULL|                  1|            NULL|         NULL|                 NULL|               NULL|                 NULL|               NULL|             NULL|                     NULL|                  NULL|                NULL|                    NULL|                  NULL|                        NULL|                        NULL|                            1|                     NULL|          NULL|                   NULL|             NULL|                          NULL|                       NULL|                     NULL|                         NULL|                         NULL|                           NULL|              NULL|                   NULL|              NULL|                         1|                                  NULL|                          NULL|                   NULL|                   NULL|                     NULL|                                   1|                                NULL|                                      NULL|                                        1|                                    NULL|                       NULL|                                             NULL|          NULL|                   1|                 NULL|                    NULL|                NULL|          NULL|          NULL|           NULL|           NULL|             1|         NULL|            NULL|          NULL|      NULL|           NULL|      NULL|       NULL|         NULL|         NULL|      NULL|      NULL|      NULL|                      NULL|                             NULL|                     NULL|                                   NULL|                     NULL|                                1|                                NULL|                                 NULL|                               NULL|                                      NULL|                               NULL|                                NULL|                           NULL|                              NULL|                                          NULL|                                         NULL|                                       NULL|                  NULL|                                    NULL|                   NULL|                     NULL|                    NULL|                       NULL|                        NULL|                            NULL|                                NULL|                        NULL|                                   NULL|                        NULL|                        NULL|                  NULL|                  NULL|                NULL|                   NULL|                  NULL|                       1|                 NULL|                 NULL|     NULL|      NULL|      NULL|        NULL|       NULL|       NULL|      NULL|           NULL|     NULL|                    NULL|              NULL|                      NULL|             NULL|        NULL|                           NULL|                        1|                   0|                        1|                     0|                              1|                                   0|                                  0|                    1|                 0|                    0|                  0|                    1|                                  1|                                                 0|                                                 0|                                    0|                                   0|                                   0|                                         0|                       1|                         0|                                       0|                        0|                     0|                         0|                   1|                     0|                                0|                               0|                                  0|                              0|                               0|                        0|                           0|                  0|                            0|                   0|                       0|                           0|               0|\n",
       "|4846|2017-09-06|-92.90081| 44.9223|         455000|   459900|           474900|    113.8639|          1509|          40|   2017-10-19|         1|           2796| 5761|            6094.0|      3996|     1998|0.361|        2|        1|          0|                1|         4|       5|           1200|           480|            333.0|              6|           249|         9|             36|     2017|       12|     NULL|        NULL|         291000|        3.82|            3.86|            3.89|             3.9|            3.93|7.240704500978474E-4|        1.25|0.012526636225266362|      3996|    115.09009009009009|     1.5804123711340206|                           NULL|                     NULL|              NULL|                    1|                  1|               1|                            NULL|                       NULL|              NULL|                         NULL|                   NULL|                   1|           NULL|            NULL|               1|                      1|                             NULL|                      NULL|                NULL|                1|                             NULL|                              NULL|                   NULL|                NULL|                        NULL|                   1|                    NULL|                      1|                       NULL|            1|                              NULL|         NULL|            NULL|                     NULL|                    NULL|         NULL|          NULL|                 1|               NULL|            NULL|         NULL|                    1|               NULL|                 NULL|               NULL|             NULL|                     NULL|                  NULL|                NULL|                    NULL|                  NULL|                           1|                        NULL|                         NULL|                        1|          NULL|                   NULL|             NULL|                          NULL|                       NULL|                     NULL|                         NULL|                         NULL|                              1|              NULL|                   NULL|              NULL|                         1|                                  NULL|                          NULL|                   NULL|                   NULL|                     NULL|                                NULL|                                NULL|                                      NULL|                                     NULL|                                    NULL|                       NULL|                                             NULL|          NULL|                   1|                 NULL|                    NULL|                NULL|          NULL|          NULL|           NULL|           NULL|          NULL|         NULL|            NULL|          NULL|      NULL|           NULL|      NULL|       NULL|         NULL|         NULL|      NULL|      NULL|      NULL|                      NULL|                             NULL|                     NULL|                                   NULL|                     NULL|                                1|                                NULL|                                 NULL|                               NULL|                                      NULL|                               NULL|                                NULL|                           NULL|                              NULL|                                          NULL|                                         NULL|                                       NULL|                  NULL|                                    NULL|                   NULL|                     NULL|                    NULL|                       NULL|                        NULL|                            NULL|                                NULL|                        NULL|                                   NULL|                        NULL|                        NULL|                  NULL|                  NULL|                   1|                   NULL|                  NULL|                    NULL|                    1|                    1|     NULL|      NULL|      NULL|           1|       NULL|       NULL|      NULL|           NULL|     NULL|                    NULL|              NULL|                      NULL|             NULL|        NULL|                           NULL|                        1|                   0|                        1|                     1|                              0|                                   0|                                  0|                    0|                 1|                    0|                  0|                    1|                                  0|                                                 0|                                                 1|                                    0|                                   0|                                   0|                                         0|                       1|                         0|                                       0|                        0|                     1|                         0|                   0|                     0|                                0|                               0|                                  0|                              0|                               0|                        0|                           0|                  0|                            0|                   0|                       0|                           0|               0|\n",
       "+----+----------+---------+--------+---------------+---------+-----------------+------------+--------------+------------+-------------+----------+---------------+-----+------------------+----------+---------+-----+---------+---------+-----------+-----------------+----------+--------+---------------+--------------+-----------------+---------------+--------------+----------+---------------+---------+---------+---------+------------+---------------+------------+----------------+----------------+----------------+----------------+--------------------+------------+--------------------+----------+----------------------+-----------------------+-------------------------------+-------------------------+------------------+---------------------+-------------------+----------------+--------------------------------+---------------------------+------------------+-----------------------------+-----------------------+--------------------+---------------+----------------+----------------+-----------------------+---------------------------------+--------------------------+--------------------+-----------------+---------------------------------+----------------------------------+-----------------------+--------------------+----------------------------+--------------------+------------------------+-----------------------+---------------------------+-------------+----------------------------------+-------------+----------------+-------------------------+------------------------+-------------+--------------+------------------+-------------------+----------------+-------------+---------------------+-------------------+---------------------+-------------------+-----------------+-------------------------+----------------------+--------------------+------------------------+----------------------+----------------------------+----------------------------+-----------------------------+-------------------------+--------------+-----------------------+-----------------+------------------------------+---------------------------+-------------------------+-----------------------------+-----------------------------+-------------------------------+------------------+-----------------------+------------------+--------------------------+--------------------------------------+------------------------------+-----------------------+-----------------------+-------------------------+------------------------------------+------------------------------------+------------------------------------------+-----------------------------------------+----------------------------------------+---------------------------+-------------------------------------------------+--------------+--------------------+---------------------+------------------------+--------------------+--------------+--------------+---------------+---------------+--------------+-------------+----------------+--------------+----------+---------------+----------+-----------+-------------+-------------+----------+----------+----------+--------------------------+---------------------------------+-------------------------+---------------------------------------+-------------------------+---------------------------------+------------------------------------+-------------------------------------+-----------------------------------+------------------------------------------+-----------------------------------+------------------------------------+-------------------------------+----------------------------------+----------------------------------------------+---------------------------------------------+-------------------------------------------+----------------------+----------------------------------------+-----------------------+-------------------------+------------------------+---------------------------+----------------------------+--------------------------------+------------------------------------+----------------------------+---------------------------------------+----------------------------+----------------------------+----------------------+----------------------+--------------------+-----------------------+----------------------+------------------------+---------------------+---------------------+---------+----------+----------+------------+-----------+-----------+----------+---------------+---------+------------------------+------------------+--------------------------+-----------------+------------+-------------------------------+-------------------------+--------------------+-------------------------+----------------------+-------------------------------+------------------------------------+-----------------------------------+---------------------+------------------+---------------------+-------------------+---------------------+-----------------------------------+--------------------------------------------------+--------------------------------------------------+-------------------------------------+------------------------------------+------------------------------------+------------------------------------------+------------------------+--------------------------+----------------------------------------+-------------------------+----------------------+--------------------------+--------------------+----------------------+---------------------------------+--------------------------------+-----------------------------------+-------------------------------+--------------------------------+-------------------------+----------------------------+-------------------+-----------------------------+--------------------+------------------------+----------------------------+----------------+"
      ]
     },
     "execution_count": 36,
     "metadata": {},
     "output_type": "execute_result"
    }
   ],
   "source": [
    "df = read_from_kitchen()\n",
    "df.limit(2)"
   ]
  },
  {
   "cell_type": "code",
   "execution_count": 37,
   "id": "357f0540-60ff-4e45-a6c1-94734e5bd913",
   "metadata": {},
   "outputs": [],
   "source": [
    "# # Step 5: last removing\n",
    "# df = final_removing(df)\n",
    "# df.printSchema()"
   ]
  },
  {
   "cell_type": "markdown",
   "id": "a3c52841-52db-4f06-9ecc-b8af7a394cf1",
   "metadata": {},
   "source": [
    "## Choosing the Algorithm\n",
    "\n",
    "### Test and Train Splits for Time Series"
   ]
  },
  {
   "cell_type": "code",
   "execution_count": 38,
   "id": "4db4a046-6b68-4ba4-87c8-b8521741df74",
   "metadata": {},
   "outputs": [
    {
     "name": "stdout",
     "output_type": "stream",
     "text": [
      "Dataframe shape: (5000, 242)\n",
      "[('offmarketdate', 'date')]\n",
      "+-------------+\n",
      "|offmarketdate|\n",
      "+-------------+\n",
      "|2017-06-29   |\n",
      "|2017-06-29   |\n",
      "|2017-06-29   |\n",
      "|2017-06-29   |\n",
      "|2017-06-29   |\n",
      "+-------------+\n",
      "only showing top 5 rows\n",
      "\n"
     ]
    }
   ],
   "source": [
    "# Reviewing the data\n",
    "df = read_from_kitchen()\n",
    "column_list = ['offmarketdate']\n",
    "pprint(df[column_list].dtypes)\n",
    "df[column_list].show(5, truncate=False)"
   ]
  },
  {
   "cell_type": "code",
   "execution_count": 39,
   "id": "e0fcc5a3-0854-46a9-b8d1-9fb4c48bb1f9",
   "metadata": {},
   "outputs": [
    {
     "name": "stdout",
     "output_type": "stream",
     "text": [
      "\n",
      "Min date: 2017-02-24\n",
      "Max date: 2018-01-24\n",
      "\n"
     ]
    }
   ],
   "source": [
    "# Create variables for max and min dates in our dataset\n",
    "max_date = df.agg({'offmarketdate': 'max'}).collect()[0][0]\n",
    "min_date = df.agg({'offmarketdate': 'min'}).collect()[0][0]\n",
    "print(f'''\n",
    "Min date: {min_date}\n",
    "Max date: {max_date}\n",
    "''')"
   ]
  },
  {
   "cell_type": "code",
   "execution_count": 40,
   "id": "dc613b51-0ca2-4a62-946f-8b883785d2f2",
   "metadata": {},
   "outputs": [
    {
     "name": "stdout",
     "output_type": "stream",
     "text": [
      "\n",
      "Range in days: 334\n",
      "\n"
     ]
    }
   ],
   "source": [
    "# Find how many days our data spans\n",
    "max_date = F.max(df['offmarketdate'])\n",
    "min_date = F.min(df['offmarketdate'])\n",
    "\n",
    "range_in_days = df.agg(F.datediff(max_date, min_date)).collect()[0][0]\n",
    "print(f'''\n",
    "Range in days: {range_in_days}\n",
    "''')"
   ]
  },
  {
   "cell_type": "code",
   "execution_count": 41,
   "id": "064af564-11d4-42db-8ac2-341743fd0a06",
   "metadata": {},
   "outputs": [
    {
     "name": "stdout",
     "output_type": "stream",
     "text": [
      "\n",
      "80% of the range in days: 267\n",
      "Threshold to split      : 2017-11-18\n",
      "\n"
     ]
    }
   ],
   "source": [
    "# Find the date to split the dataset on\n",
    "split_in_days = round(range_in_days * 0.8)\n",
    "split_date = df.agg(F.date_add(F.min(df['offmarketdate']), split_in_days)).collect()[0][0]\n",
    "print(f'''\n",
    "80% of the range in days: {split_in_days}\n",
    "Threshold to split      : {split_date}\n",
    "''')"
   ]
  },
  {
   "cell_type": "code",
   "execution_count": 42,
   "id": "92ea9262-4c70-46f0-81b1-485781b9a99c",
   "metadata": {},
   "outputs": [],
   "source": [
    "# Split the data into 80% train, 20% test\n",
    "train_df = df.where(df['offmarketdate'] < split_date)\n",
    "test_df = df.where(df['offmarketdate'] >= split_date)"
   ]
  },
  {
   "cell_type": "code",
   "execution_count": 43,
   "id": "1c02fe45-3626-4d0b-b939-836f4ebd63ce",
   "metadata": {},
   "outputs": [
    {
     "name": "stdout",
     "output_type": "stream",
     "text": [
      "+-------------+\n",
      "|offmarketdate|\n",
      "+-------------+\n",
      "|2017-06-29   |\n",
      "|2017-06-29   |\n",
      "|2017-06-29   |\n",
      "|2017-06-29   |\n",
      "|2017-06-29   |\n",
      "+-------------+\n",
      "only showing top 5 rows\n",
      "\n"
     ]
    }
   ],
   "source": [
    "train_df[['offmarketdate']].show(5, truncate=False)"
   ]
  },
  {
   "cell_type": "code",
   "execution_count": 44,
   "id": "991813f7-3457-4704-80f1-f5c1511e9d00",
   "metadata": {},
   "outputs": [
    {
     "name": "stdout",
     "output_type": "stream",
     "text": [
      "+-------------+\n",
      "|offmarketdate|\n",
      "+-------------+\n",
      "|2017-12-17   |\n",
      "|2017-12-12   |\n",
      "|2017-12-12   |\n",
      "|2017-12-12   |\n",
      "|2017-12-12   |\n",
      "+-------------+\n",
      "only showing top 5 rows\n",
      "\n"
     ]
    }
   ],
   "source": [
    "test_df[['offmarketdate']].show(5, truncate=False)"
   ]
  },
  {
   "cell_type": "markdown",
   "id": "9ebc6a30-29e2-481a-a7fb-bf6ac161dd86",
   "metadata": {},
   "source": [
    "## Ex. 1 - Creating Time Splits\n",
    "\n",
    "In the video, we learned why splitting data randomly can be dangerous for time series as data from the future can cause overfitting in our model. Often with time series, you acquire new data as it is made available and you will want to retrain your model using the newest data. In the video, we showed how to do a percentage split for `test` and `training` sets but suppose you wish to train on all available data except for the last 45days which you want to use for a test set.\n",
    "\n",
    "In this exercise, we will create a function to find the split date for using the last 45 days of data for testing and the rest for training. \n",
    "\n",
    "**Instructions:**\n",
    "\n",
    "1. Create a function `train_test_split_date()` that takes in a dataframe, `df`, the date column to use for splitting `split_col` and the number of days to use for the test set, `test_days` and set it to have a default value of `45`.\n",
    "2. Find the `min` and `max` dates for `split_col` using `,()`.\n",
    "3. Find the date to split the test and training sets using `max_date` and subtract `test_days` from it by using `timedelta()` which takes a days parameter, in this case, pass in `test_days`\n",
    "4. Using `OFFMKTDATE` as the `split_col` find `split_date` and use it to filter the dataframe into two new ones, `train_df` and `test_df`, Where `test_df` is only the last `45` days of the data. Additionally, ensure that the `test_df only` contains homes listed as of the split date by filtering `df['LISTDATE']` less than or equal to the `split_date`."
   ]
  },
  {
   "cell_type": "code",
   "execution_count": 45,
   "id": "72cde888-806a-451c-8b71-6e94106d94ea",
   "metadata": {},
   "outputs": [
    {
     "name": "stdout",
     "output_type": "stream",
     "text": [
      "[('offmarketdate', 'date'), ('LISTDATE', 'date')]\n",
      "+-------------+----------+\n",
      "|offmarketdate|LISTDATE  |\n",
      "+-------------+----------+\n",
      "|2017-11-09   |2017-07-05|\n",
      "|2017-09-22   |2017-07-22|\n",
      "|2017-06-13   |2017-05-19|\n",
      "|2017-08-09   |2017-08-03|\n",
      "|2017-08-03   |2017-07-26|\n",
      "+-------------+----------+\n",
      "only showing top 5 rows\n",
      "\n"
     ]
    }
   ],
   "source": [
    "# Reviewing the data\n",
    "column_list = ['offmarketdate', 'LISTDATE']\n",
    "pprint(df[column_list].dtypes)\n",
    "df[column_list].show(5, truncate=False)"
   ]
  },
  {
   "cell_type": "code",
   "execution_count": 46,
   "id": "5704fa91-d293-4202-9d60-6d7bee3b66c1",
   "metadata": {},
   "outputs": [
    {
     "name": "stdout",
     "output_type": "stream",
     "text": [
      "Threshold date: 2017-12-10\n",
      "+-------------+----------+------------+\n",
      "|offmarketdate|  LISTDATE|DAYSONMARKET|\n",
      "+-------------+----------+------------+\n",
      "|   2017-10-02|2017-09-14|          18|\n",
      "|   2017-09-01|2017-07-28|          35|\n",
      "|   2017-09-08|2017-06-09|          67|\n",
      "|   2017-05-03|2017-04-27|           2|\n",
      "|   2017-05-19|2017-05-04|          15|\n",
      "+-------------+----------+------------+\n",
      "only showing top 5 rows\n",
      "\n",
      "+-------------+----------+------------+\n",
      "|offmarketdate|  LISTDATE|DAYSONMARKET|\n",
      "+-------------+----------+------------+\n",
      "|   2017-12-19|2017-11-03|          46|\n",
      "|   2017-12-17|2017-12-04|          13|\n",
      "|   2017-12-15|2017-11-02|          43|\n",
      "|   2018-01-04|2017-12-04|          31|\n",
      "|   2017-12-31|2017-09-13|         109|\n",
      "+-------------+----------+------------+\n",
      "only showing top 5 rows\n",
      "\n"
     ]
    }
   ],
   "source": [
    "def train_test_split_date(df, split_col, test_days=45):\n",
    "    \"\"\"Calculate the date to split test and training sets\"\"\"\n",
    "    max_date = df.agg(F.max(split_col)).collect()[0][0]\n",
    "    \n",
    "    # Subtract an integer number of days from the last date in dataset\n",
    "    split_date = max_date - timedelta(days=test_days)\n",
    "    return split_date\n",
    "\n",
    "\n",
    "# Find the date to use in spitting test and train\n",
    "split_date = train_test_split_date(df, 'offmarketdate')\n",
    "\n",
    "\n",
    "# Create Sequential Test and Training Sets\n",
    "train_df = df.where(df['offmarketdate'] < split_date) \n",
    "\n",
    "# An extra where is needed on LISTDATE to ensure it contains items listed as of the split_date.\n",
    "test_df = df.where(df['offmarketdate'] >= split_date).where(df['LISTDATE'] <= split_date) \n",
    "\n",
    "# Reviewing the data\n",
    "print('Threshold date:', split_date)\n",
    "\n",
    "# Inspect the result\n",
    "column_list = ['offmarketdate', 'LISTDATE', 'DAYSONMARKET']\n",
    "train_df[column_list].show(5)\n",
    "test_df[column_list].show(5)"
   ]
  },
  {
   "cell_type": "markdown",
   "id": "9b569b6b-6f9a-4974-b87c-25962576215e",
   "metadata": {},
   "source": [
    "## Ex. 2 - Adjusting Time Features\n",
    "\n",
    "We have mentioned throughout this course some of the dangers of leaking information to your model during training. Data leakage will cause your model to have very optimistic metrics for accuracy but once real data is run through it the results are often very disappointing.\n",
    "\n",
    "In this exercise, we are going to ensure that `DAYSONMARKET` only reflects what information we have at the time of predicting the value. I.e., if the house is still on the market, we don't know how many more days it will stay on the market. We need to adjust our `test_df` to reflect what information we currently have as of `2017-12-10`.\n",
    "\n",
    "**NOTE**: This example will use the `lit()` function. This function is used to allow single values where an entire column is expected in a function call.\n",
    "\n",
    "**Instructions:**\n",
    "\n",
    "1. Import the following functions from `pyspark.sql.functions` to use later on: `datediff()`, `to_date()`, `lit()`. Already done!\n",
    "2. Convert the date string `'2017-12-10'` to a pyspark date by first calling the literal function, `lit()` on it and then `to_date()`\n",
    "3. Create `test_df` by filtering `OFFMKTDATE` greater than or equal to the `split_date` and `LISTDATE` less than or equal to the `split_date` using `where()`.\n",
    "4. Replace `DAYSONMARKET` by calculating a new column called `DAYSONMARKET`, the new column should be the difference between `split_date` and `LISTDATE` use `datediff()` to perform the date calculation. Inspect the new column and the original using the code provided."
   ]
  },
  {
   "cell_type": "code",
   "execution_count": 47,
   "id": "39f53485-b416-47b2-9e80-63d151f0a3af",
   "metadata": {},
   "outputs": [
    {
     "name": "stdout",
     "output_type": "stream",
     "text": [
      "+-------------+----------+---------------------+------------+\n",
      "|offmarketdate|  LISTDATE|DAYSONMARKET_Original|DAYSONMARKET|\n",
      "+-------------+----------+---------------------+------------+\n",
      "|   2017-12-19|2017-11-03|                   46|          37|\n",
      "|   2017-12-17|2017-12-04|                   13|           6|\n",
      "|   2017-12-15|2017-11-02|                   43|          38|\n",
      "|   2018-01-04|2017-12-04|                   31|           6|\n",
      "|   2017-12-31|2017-09-13|                  109|          88|\n",
      "+-------------+----------+---------------------+------------+\n",
      "only showing top 5 rows\n",
      "\n"
     ]
    }
   ],
   "source": [
    "# Create Sequential Test set\n",
    "split_date = F.to_date(F.lit('2017-12-10'))\n",
    "test_df = df.where(df['offmarketdate'] >= split_date).where(df['LISTDATE'] <= split_date)\n",
    "\n",
    "# Create a copy of DAYSONMARKET to review later\n",
    "test_df = test_df.withColumn('DAYSONMARKET_Original', test_df['DAYSONMARKET'])\n",
    "\n",
    "# Recalculate DAYSONMARKET from what we know on our split date\n",
    "test_df = test_df.withColumn('DAYSONMARKET', F.datediff(split_date, test_df['LISTDATE']))\n",
    "\n",
    "# Review the difference\n",
    "column_list = ['offmarketdate', 'LISTDATE', 'DAYSONMARKET_Original', 'DAYSONMARKET']\n",
    "test_df[column_list].show(5)"
   ]
  },
  {
   "cell_type": "markdown",
   "id": "08c751e2-de80-4d3f-82f1-425a9fe426c0",
   "metadata": {},
   "source": [
    "## Ex. 3 - Dropping Columns with Low Observations\n",
    "\n",
    "After doing a lot of feature engineering it's a good idea to take a step back and look at what you've created. If you've used some automation techniques on your categorical features like exploding or OneHot Encoding you may find that you now have hundreds of new binary features. While the subject of feature selection is material for a whole other course but there are some quick steps you can take to reduce the dimensionality of your data set.\n",
    "\n",
    "In this exercise, we are going to remove columns that have less than 30 observations. 30 is a common minimum number of observations for statistical significance. Any less than that and the relationships cause overfitting because of a sheer coincidence!\n",
    "\n",
    "**Instructions:**\n",
    "\n",
    "1. Using the provided for loop that iterates through the list of binary columns, calculate the sum of the values in the column using the agg function. Use `collect()` to run the calculation immediately and save the results to `obs_count`.\n",
    "2. Compare `obs_count` to `obs_threshold`, the if statement should be true if `obs_count` is less than or equal to `obs_threshold`.\n",
    "3. Remove columns that have been appended to `cols_to_remove` list by using `drop()`. Recall that the `*` allows the list to be unpacked.\n",
    "4. Print the starting and ending shape of the PySpark dataframes by using `count()` for number of records and `len()` on `df.columns` or `new_df.columns` to find the number of columns."
   ]
  },
  {
   "cell_type": "code",
   "execution_count": 48,
   "id": "fbaa31e3-2f40-4c75-8c78-c77528359530",
   "metadata": {},
   "outputs": [
    {
     "name": "stdout",
     "output_type": "stream",
     "text": [
      "Dataframe shape: (5000, 242)\n",
      "root\n",
      " |-- No.: integer (nullable = true)\n",
      " |-- LISTDATE: date (nullable = true)\n",
      " |-- longitude: double (nullable = true)\n",
      " |-- latitude: double (nullable = true)\n",
      " |-- SalesClosePrice: integer (nullable = true)\n",
      " |-- LISTPRICE: integer (nullable = true)\n",
      " |-- OriginalListPrice: integer (nullable = true)\n",
      " |-- PricePerTSFT: double (nullable = true)\n",
      " |-- FOUNDATIONSIZE: integer (nullable = true)\n",
      " |-- DAYSONMARKET: integer (nullable = true)\n",
      " |-- offmarketdate: date (nullable = true)\n",
      " |-- Fireplaces: integer (nullable = true)\n",
      " |-- SQFTABOVEGROUND: integer (nullable = true)\n",
      " |-- Taxes: integer (nullable = true)\n",
      " |-- TAXWITHASSESSMENTS: double (nullable = true)\n",
      " |-- LivingArea: integer (nullable = true)\n",
      " |-- YEARBUILT: integer (nullable = true)\n",
      " |-- ACRES: double (nullable = true)\n",
      " |-- BathsFull: integer (nullable = true)\n",
      " |-- BathsHalf: integer (nullable = true)\n",
      " |-- BATHQUARTER: integer (nullable = true)\n",
      " |-- BATHSTHREEQUARTER: integer (nullable = true)\n",
      " |-- BATHSTOTAL: integer (nullable = true)\n",
      " |-- Bedrooms: integer (nullable = true)\n",
      " |-- SQFTBELOWGROUND: long (nullable = true)\n",
      " |-- AssociationFee: long (nullable = true)\n",
      " |-- AssessedValuation: double (nullable = true)\n",
      " |-- LIST_DAYOFMONTH: integer (nullable = true)\n",
      " |-- LIST_DAYOFYEAR: integer (nullable = true)\n",
      " |-- LIST_MONTH: integer (nullable = true)\n",
      " |-- LIST_WEEKOFYEAR: integer (nullable = true)\n",
      " |-- LIST_YEAR: integer (nullable = true)\n",
      " |-- walkscore: integer (nullable = true)\n",
      " |-- bikescore: integer (nullable = true)\n",
      " |-- transitscore: integer (nullable = true)\n",
      " |-- MedianHomeValue: integer (nullable = true)\n",
      " |-- MORTGAGE30US: double (nullable = true)\n",
      " |-- MORTGAGE30US-1WK: double (nullable = true)\n",
      " |-- MORTGAGE30US-2WK: double (nullable = true)\n",
      " |-- MORTGAGE30US-3WK: double (nullable = true)\n",
      " |-- MORTGAGE30US-4WK: double (nullable = true)\n",
      " |-- ASSESSED_TO_LIST: double (nullable = true)\n",
      " |-- BED_TO_BATHS: double (nullable = true)\n",
      " |-- TAX_TO_LIST: double (nullable = true)\n",
      " |-- SQFT_TOTAL: long (nullable = true)\n",
      " |-- LISTING_PRICE_PER_SQFT: double (nullable = true)\n",
      " |-- LISTING_TO_MEDIAN_RATIO: double (nullable = true)\n",
      " |-- APPLIANCES_Air-To-Air Exchanger: integer (nullable = true)\n",
      " |-- APPLIANCES_Central Vacuum: integer (nullable = true)\n",
      " |-- APPLIANCES_Cooktop: integer (nullable = true)\n",
      " |-- APPLIANCES_Dishwasher: integer (nullable = true)\n",
      " |-- APPLIANCES_Disposal: integer (nullable = true)\n",
      " |-- APPLIANCES_Dryer: integer (nullable = true)\n",
      " |-- APPLIANCES_Electronic Air Filter: integer (nullable = true)\n",
      " |-- APPLIANCES_Exhaust Fan/Hood: integer (nullable = true)\n",
      " |-- APPLIANCES_Freezer: integer (nullable = true)\n",
      " |-- APPLIANCES_Furnace Humidifier: integer (nullable = true)\n",
      " |-- APPLIANCES_Indoor Grill: integer (nullable = true)\n",
      " |-- APPLIANCES_Microwave: integer (nullable = true)\n",
      " |-- APPLIANCES_None: integer (nullable = true)\n",
      " |-- APPLIANCES_Other: integer (nullable = true)\n",
      " |-- APPLIANCES_Range: integer (nullable = true)\n",
      " |-- APPLIANCES_Refrigerator: integer (nullable = true)\n",
      " |-- APPLIANCES_Tankless Water  Heater: integer (nullable = true)\n",
      " |-- APPLIANCES_Trash Compactor: integer (nullable = true)\n",
      " |-- APPLIANCES_Wall Oven: integer (nullable = true)\n",
      " |-- APPLIANCES_Washer: integer (nullable = true)\n",
      " |-- APPLIANCES_Water Softener - Owned: integer (nullable = true)\n",
      " |-- APPLIANCES_Water Softener - Rented: integer (nullable = true)\n",
      " |-- BASEMENT_Concrete Block: integer (nullable = true)\n",
      " |-- BASEMENT_Crawl Space: integer (nullable = true)\n",
      " |-- BASEMENT_Day/Lookout Windows: integer (nullable = true)\n",
      " |-- BASEMENT_Drain Tiled: integer (nullable = true)\n",
      " |-- BASEMENT_Drainage System: integer (nullable = true)\n",
      " |-- BASEMENT_Egress Windows: integer (nullable = true)\n",
      " |-- BASEMENT_Finished (Livable): integer (nullable = true)\n",
      " |-- BASEMENT_Full: integer (nullable = true)\n",
      " |-- BASEMENT_Insulating Concrete Forms: integer (nullable = true)\n",
      " |-- BASEMENT_None: integer (nullable = true)\n",
      " |-- BASEMENT_Partial: integer (nullable = true)\n",
      " |-- BASEMENT_Partial Finished: integer (nullable = true)\n",
      " |-- BASEMENT_Poured Concrete: integer (nullable = true)\n",
      " |-- BASEMENT_Slab: integer (nullable = true)\n",
      " |-- BASEMENT_Stone: integer (nullable = true)\n",
      " |-- BASEMENT_Sump Pump: integer (nullable = true)\n",
      " |-- BASEMENT_Unfinished: integer (nullable = true)\n",
      " |-- BASEMENT_Walkout: integer (nullable = true)\n",
      " |-- BASEMENT_Wood: integer (nullable = true)\n",
      " |-- BATHDESC_1/2 Basement: integer (nullable = true)\n",
      " |-- BATHDESC_1/2 Master: integer (nullable = true)\n",
      " |-- BATHDESC_3/4 Basement: integer (nullable = true)\n",
      " |-- BATHDESC_3/4 Master: integer (nullable = true)\n",
      " |-- BATHDESC_Basement: integer (nullable = true)\n",
      " |-- BATHDESC_Bathroom Ensuite: integer (nullable = true)\n",
      " |-- BATHDESC_Full Basement: integer (nullable = true)\n",
      " |-- BATHDESC_Full Master: integer (nullable = true)\n",
      " |-- BATHDESC_Jack & Jill 3/4: integer (nullable = true)\n",
      " |-- BATHDESC_Jack and Jill: integer (nullable = true)\n",
      " |-- BATHDESC_Main Floor 1/2 Bath: integer (nullable = true)\n",
      " |-- BATHDESC_Main Floor 3/4 Bath: integer (nullable = true)\n",
      " |-- BATHDESC_Main Floor Full Bath: integer (nullable = true)\n",
      " |-- BATHDESC_Master Walk-Thru: integer (nullable = true)\n",
      " |-- BATHDESC_Other: integer (nullable = true)\n",
      " |-- BATHDESC_Private Master: integer (nullable = true)\n",
      " |-- BATHDESC_Rough In: integer (nullable = true)\n",
      " |-- BATHDESC_Separate Tub & Shower: integer (nullable = true)\n",
      " |-- BATHDESC_Two Basement Baths: integer (nullable = true)\n",
      " |-- BATHDESC_Two Master Baths: integer (nullable = true)\n",
      " |-- BATHDESC_Upper Level 1/2 Bath: integer (nullable = true)\n",
      " |-- BATHDESC_Upper Level 3/4 Bath: integer (nullable = true)\n",
      " |-- BATHDESC_Upper Level Full Bath : integer (nullable = true)\n",
      " |-- BATHDESC_Walk Thru: integer (nullable = true)\n",
      " |-- BATHDESC_Walk-In Shower: integer (nullable = true)\n",
      " |-- BATHDESC_Whirlpool: integer (nullable = true)\n",
      " |-- CoolingDescription_Central: integer (nullable = true)\n",
      " |-- CoolingDescription_Ductless Mini-Split: integer (nullable = true)\n",
      " |-- CoolingDescription_Geothermal : integer (nullable = true)\n",
      " |-- CoolingDescription_None: integer (nullable = true)\n",
      " |-- CoolingDescription_Wall: integer (nullable = true)\n",
      " |-- CoolingDescription_Window: integer (nullable = true)\n",
      " |-- DiningRoomDescription_Breakfast Area: integer (nullable = true)\n",
      " |-- DiningRoomDescription_Eat In Kitchen: integer (nullable = true)\n",
      " |-- DiningRoomDescription_Informal Dining Room: integer (nullable = true)\n",
      " |-- DiningRoomDescription_Kitchen/Dining Room: integer (nullable = true)\n",
      " |-- DiningRoomDescription_Living/Dining Room: integer (nullable = true)\n",
      " |-- DiningRoomDescription_Other: integer (nullable = true)\n",
      " |-- DiningRoomDescription_Separate/Formal Dining Room: integer (nullable = true)\n",
      " |-- EXTERIOR_Block: integer (nullable = true)\n",
      " |-- EXTERIOR_Brick/Stone: integer (nullable = true)\n",
      " |-- EXTERIOR_Cement Board: integer (nullable = true)\n",
      " |-- EXTERIOR_Engineered Wood: integer (nullable = true)\n",
      " |-- EXTERIOR_Fiber Board: integer (nullable = true)\n",
      " |-- EXTERIOR_Metal: integer (nullable = true)\n",
      " |-- EXTERIOR_Other: integer (nullable = true)\n",
      " |-- EXTERIOR_Shakes: integer (nullable = true)\n",
      " |-- EXTERIOR_Stucco: integer (nullable = true)\n",
      " |-- EXTERIOR_Vinyl: integer (nullable = true)\n",
      " |-- EXTERIOR_Wood: integer (nullable = true)\n",
      " |-- FENCE_Chain Link: integer (nullable = true)\n",
      " |-- FENCE_Electric: integer (nullable = true)\n",
      " |-- FENCE_Full: integer (nullable = true)\n",
      " |-- FENCE_Invisible: integer (nullable = true)\n",
      " |-- FENCE_None: integer (nullable = true)\n",
      " |-- FENCE_Other: integer (nullable = true)\n",
      " |-- FENCE_Partial: integer (nullable = true)\n",
      " |-- FENCE_Privacy: integer (nullable = true)\n",
      " |-- FENCE_Rail: integer (nullable = true)\n",
      " |-- FENCE_Wire: integer (nullable = true)\n",
      " |-- FENCE_Wood: integer (nullable = true)\n",
      " |-- GarageDescription_Assigned: integer (nullable = true)\n",
      " |-- GarageDescription_Attached Garage: integer (nullable = true)\n",
      " |-- GarageDescription_Carport: integer (nullable = true)\n",
      " |-- GarageDescription_Contract Pkg Required: integer (nullable = true)\n",
      " |-- GarageDescription_Covered: integer (nullable = true)\n",
      " |-- GarageDescription_Detached Garage: integer (nullable = true)\n",
      " |-- GarageDescription_Driveway - Asphalt: integer (nullable = true)\n",
      " |-- GarageDescription_Driveway - Concrete: integer (nullable = true)\n",
      " |-- GarageDescription_Driveway - Gravel: integer (nullable = true)\n",
      " |-- GarageDescription_Driveway - Other Surface: integer (nullable = true)\n",
      " |-- GarageDescription_Driveway - Shared: integer (nullable = true)\n",
      " |-- GarageDescription_Garage Door Opener: integer (nullable = true)\n",
      " |-- GarageDescription_Heated Garage: integer (nullable = true)\n",
      " |-- GarageDescription_Insulated Garage: integer (nullable = true)\n",
      " |-- GarageDescription_More Parking Offsite for Fee: integer (nullable = true)\n",
      " |-- GarageDescription_More Parking Onsite for Fee: integer (nullable = true)\n",
      " |-- GarageDescription_No Int Access to Dwelling: integer (nullable = true)\n",
      " |-- GarageDescription_None: integer (nullable = true)\n",
      " |-- GarageDescription_On-Street Parking Only: integer (nullable = true)\n",
      " |-- GarageDescription_Other: integer (nullable = true)\n",
      " |-- GarageDescription_Secured: integer (nullable = true)\n",
      " |-- GarageDescription_Tandem: integer (nullable = true)\n",
      " |-- GarageDescription_Tuckunder: integer (nullable = true)\n",
      " |-- GarageDescription_Unassigned: integer (nullable = true)\n",
      " |-- GarageDescription_Uncovered/Open: integer (nullable = true)\n",
      " |-- GarageDescription_Underground Garage: integer (nullable = true)\n",
      " |-- GarageDescription_Units Vary: integer (nullable = true)\n",
      " |-- GarageDescription_Valet Parking for Fee: integer (nullable = true)\n",
      " |-- PoolDescription_Above Ground: integer (nullable = true)\n",
      " |-- PoolDescription_Below Ground: integer (nullable = true)\n",
      " |-- PoolDescription_Heated: integer (nullable = true)\n",
      " |-- PoolDescription_Indoor: integer (nullable = true)\n",
      " |-- PoolDescription_None: integer (nullable = true)\n",
      " |-- PoolDescription_Outdoor: integer (nullable = true)\n",
      " |-- PoolDescription_Shared: integer (nullable = true)\n",
      " |-- ROOF_Age 8 Years or Less: integer (nullable = true)\n",
      " |-- ROOF_Age Over 8 Years: integer (nullable = true)\n",
      " |-- ROOF_Asphalt Shingles: integer (nullable = true)\n",
      " |-- ROOF_Flat: integer (nullable = true)\n",
      " |-- ROOF_Metal: integer (nullable = true)\n",
      " |-- ROOF_Other: integer (nullable = true)\n",
      " |-- ROOF_Pitched: integer (nullable = true)\n",
      " |-- ROOF_Rubber: integer (nullable = true)\n",
      " |-- ROOF_Shakes: integer (nullable = true)\n",
      " |-- ROOF_Slate: integer (nullable = true)\n",
      " |-- ROOF_Tar/Gravel: integer (nullable = true)\n",
      " |-- ROOF_Tile: integer (nullable = true)\n",
      " |-- ROOF_Unspecified Shingle: integer (nullable = true)\n",
      " |-- ROOF_Wood Shingles: integer (nullable = true)\n",
      " |-- ZONING_Business/Commercial: integer (nullable = true)\n",
      " |-- ZONING_Industrial: integer (nullable = true)\n",
      " |-- ZONING_Other: integer (nullable = true)\n",
      " |-- ZONING_Residential-Multi-Family: integer (nullable = true)\n",
      " |-- ZONING_Residential-Single: integer (nullable = true)\n",
      " |-- ASSESSMENTPENDING:No: integer (nullable = true)\n",
      " |-- ASSESSMENTPENDING:Unknown: integer (nullable = true)\n",
      " |-- AssumableMortgage:None: integer (nullable = true)\n",
      " |-- AssumableMortgage:Not Assumable: integer (nullable = true)\n",
      " |-- AssumableMortgage:Information Coming: integer (nullable = true)\n",
      " |-- AssumableMortgage:Yes w/ Qualifying: integer (nullable = true)\n",
      " |-- City:STP - Saint Paul: integer (nullable = true)\n",
      " |-- City:WB - Woodbury: integer (nullable = true)\n",
      " |-- City:MAPW - Maplewood: integer (nullable = true)\n",
      " |-- City:OAKD - Oakdale: integer (nullable = true)\n",
      " |-- PotentialShortSale:No: integer (nullable = true)\n",
      " |-- SchoolDistrictNumber:625 - St. Paul: integer (nullable = true)\n",
      " |-- SchoolDistrictNumber:622 - North St Paul-Maplewood: integer (nullable = true)\n",
      " |-- SchoolDistrictNumber:833 - South Washington County: integer (nullable = true)\n",
      " |-- SchoolDistrictNumber:834 - Stillwater: integer (nullable = true)\n",
      " |-- SchoolDistrictNumber:623 - Roseville: integer (nullable = true)\n",
      " |-- SchoolDistrictNumber:832 - Mahtomedi: integer (nullable = true)\n",
      " |-- SchoolDistrictNumber:624 - White Bear Lake: integer (nullable = true)\n",
      " |-- LISTTYPE:Exclusive Right: integer (nullable = true)\n",
      " |-- LISTTYPE:Service Agreement: integer (nullable = true)\n",
      " |-- LISTTYPE:Exclusive Right with Exclusions: integer (nullable = true)\n",
      " |-- LISTTYPE:Exclusive Agency: integer (nullable = true)\n",
      " |-- STYLE:(SF) Two Stories: integer (nullable = true)\n",
      " |-- STYLE:(SF) One 1/2 Stories: integer (nullable = true)\n",
      " |-- STYLE:(SF) One Story: integer (nullable = true)\n",
      " |-- STYLE:(TH) Side x Side: integer (nullable = true)\n",
      " |-- STYLE:(SF) Split Entry (Bi-Level): integer (nullable = true)\n",
      " |-- STYLE:(CC) High Rise (4+ Levels): integer (nullable = true)\n",
      " |-- STYLE:(SF) Four or More Level Split: integer (nullable = true)\n",
      " |-- STYLE:(CC) Low Rise (3- Levels): integer (nullable = true)\n",
      " |-- STYLE:(SF) More Than Two Stories: integer (nullable = true)\n",
      " |-- STYLE:(TH) Quad/4 Corners: integer (nullable = true)\n",
      " |-- STYLE:(SF) Three Level Split: integer (nullable = true)\n",
      " |-- STYLE:(TH) Detached: integer (nullable = true)\n",
      " |-- STYLE:(SF) Modified Two Story: integer (nullable = true)\n",
      " |-- STYLE:(TW) Twin Home: integer (nullable = true)\n",
      " |-- STYLE:(CC) Manor/Village: integer (nullable = true)\n",
      " |-- STYLE:(CC) Converted Mansion: integer (nullable = true)\n",
      " |-- STYLE:(SF) Other: integer (nullable = true)\n",
      "\n"
     ]
    }
   ],
   "source": [
    "# Reviewing the data\n",
    "df = read_from_kitchen()\n",
    "df.printSchema()"
   ]
  },
  {
   "cell_type": "code",
   "execution_count": 49,
   "id": "598ed034-9979-480f-b3c7-170e47fc3167",
   "metadata": {},
   "outputs": [
    {
     "name": "stdout",
     "output_type": "stream",
     "text": [
      "\n",
      "Total fields: 156\n",
      "['APPLIANCES_Air-To-Air Exchanger', 'APPLIANCES_Central Vacuum', 'APPLIANCES_Cooktop', 'APPLIANCES_Dishwasher', 'APPLIANCES_Disposal', 'APPLIANCES_Dryer', 'APPLIANCES_Electronic Air Filter', 'APPLIANCES_Exhaust Fan/Hood', 'APPLIANCES_Freezer', 'APPLIANCES_Furnace Humidifier', 'APPLIANCES_Indoor Grill', 'APPLIANCES_Microwave', 'APPLIANCES_None', 'APPLIANCES_Other', 'APPLIANCES_Range', 'APPLIANCES_Refrigerator', 'APPLIANCES_Tankless Water  Heater', 'APPLIANCES_Trash Compactor', 'APPLIANCES_Wall Oven', 'APPLIANCES_Washer', 'APPLIANCES_Water Softener - Owned', 'APPLIANCES_Water Softener - Rented', 'BASEMENT_Concrete Block', 'BASEMENT_Crawl Space', 'BASEMENT_Day/Lookout Windows', 'BASEMENT_Drain Tiled', 'BASEMENT_Drainage System', 'BASEMENT_Egress Windows', 'BASEMENT_Finished (Livable)', 'BASEMENT_Full', 'BASEMENT_Insulating Concrete Forms', 'BASEMENT_None', 'BASEMENT_Partial', 'BASEMENT_Partial Finished', 'BASEMENT_Poured Concrete', 'BASEMENT_Slab', 'BASEMENT_Stone', 'BASEMENT_Sump Pump', 'BASEMENT_Unfinished', 'BASEMENT_Walkout', 'BASEMENT_Wood', 'BATHDESC_1/2 Basement', 'BATHDESC_1/2 Master', 'BATHDESC_3/4 Basement', 'BATHDESC_3/4 Master', 'BATHDESC_Basement', 'BATHDESC_Bathroom Ensuite', 'BATHDESC_Full Basement', 'BATHDESC_Full Master', 'BATHDESC_Jack & Jill 3/4', 'BATHDESC_Jack and Jill', 'BATHDESC_Main Floor 1/2 Bath', 'BATHDESC_Main Floor 3/4 Bath', 'BATHDESC_Main Floor Full Bath', 'BATHDESC_Master Walk-Thru', 'BATHDESC_Other', 'BATHDESC_Private Master', 'BATHDESC_Rough In', 'BATHDESC_Separate Tub & Shower', 'BATHDESC_Two Basement Baths', 'BATHDESC_Two Master Baths', 'BATHDESC_Upper Level 1/2 Bath', 'BATHDESC_Upper Level 3/4 Bath', 'BATHDESC_Upper Level Full Bath ', 'BATHDESC_Walk Thru', 'BATHDESC_Walk-In Shower', 'BATHDESC_Whirlpool', 'CoolingDescription_Central', 'CoolingDescription_Ductless Mini-Split', 'CoolingDescription_Geothermal ', 'CoolingDescription_None', 'CoolingDescription_Wall', 'CoolingDescription_Window', 'DiningRoomDescription_Breakfast Area', 'DiningRoomDescription_Eat In Kitchen', 'DiningRoomDescription_Informal Dining Room', 'DiningRoomDescription_Kitchen/Dining Room', 'DiningRoomDescription_Living/Dining Room', 'DiningRoomDescription_Other', 'DiningRoomDescription_Separate/Formal Dining Room', 'EXTERIOR_Block', 'EXTERIOR_Brick/Stone', 'EXTERIOR_Cement Board', 'EXTERIOR_Engineered Wood', 'EXTERIOR_Fiber Board', 'EXTERIOR_Metal', 'EXTERIOR_Other', 'EXTERIOR_Shakes', 'EXTERIOR_Stucco', 'EXTERIOR_Vinyl', 'EXTERIOR_Wood', 'FENCE_Chain Link', 'FENCE_Electric', 'FENCE_Full', 'FENCE_Invisible', 'FENCE_None', 'FENCE_Other', 'FENCE_Partial', 'FENCE_Privacy', 'FENCE_Rail', 'FENCE_Wire', 'FENCE_Wood', 'GarageDescription_Assigned', 'GarageDescription_Attached Garage', 'GarageDescription_Carport', 'GarageDescription_Contract Pkg Required', 'GarageDescription_Covered', 'GarageDescription_Detached Garage', 'GarageDescription_Driveway - Asphalt', 'GarageDescription_Driveway - Concrete', 'GarageDescription_Driveway - Gravel', 'GarageDescription_Driveway - Other Surface', 'GarageDescription_Driveway - Shared', 'GarageDescription_Garage Door Opener', 'GarageDescription_Heated Garage', 'GarageDescription_Insulated Garage', 'GarageDescription_More Parking Offsite for Fee', 'GarageDescription_More Parking Onsite for Fee', 'GarageDescription_No Int Access to Dwelling', 'GarageDescription_None', 'GarageDescription_On-Street Parking Only', 'GarageDescription_Other', 'GarageDescription_Secured', 'GarageDescription_Tandem', 'GarageDescription_Tuckunder', 'GarageDescription_Unassigned', 'GarageDescription_Uncovered/Open', 'GarageDescription_Underground Garage', 'GarageDescription_Units Vary', 'GarageDescription_Valet Parking for Fee', 'PoolDescription_Above Ground', 'PoolDescription_Below Ground', 'PoolDescription_Heated', 'PoolDescription_Indoor', 'PoolDescription_None', 'PoolDescription_Outdoor', 'PoolDescription_Shared', 'ROOF_Age 8 Years or Less', 'ROOF_Age Over 8 Years', 'ROOF_Asphalt Shingles', 'ROOF_Flat', 'ROOF_Metal', 'ROOF_Other', 'ROOF_Pitched', 'ROOF_Rubber', 'ROOF_Shakes', 'ROOF_Slate', 'ROOF_Tar/Gravel', 'ROOF_Tile', 'ROOF_Unspecified Shingle', 'ROOF_Wood Shingles', 'ZONING_Business/Commercial', 'ZONING_Industrial', 'ZONING_Other', 'ZONING_Residential-Multi-Family', 'ZONING_Residential-Single']\n",
      "\n"
     ]
    }
   ],
   "source": [
    "print(f'''\n",
    "Total fields: {len(binary_cols)}\n",
    "{binary_cols}\n",
    "''')"
   ]
  },
  {
   "cell_type": "code",
   "execution_count": 50,
   "id": "a9a160b1-e6da-4908-bf64-dba733249d87",
   "metadata": {},
   "outputs": [
    {
     "name": "stdout",
     "output_type": "stream",
     "text": [
      "\n",
      "Total fields: 35\n",
      "['APPLIANCES_Indoor Grill', 'APPLIANCES_None', 'APPLIANCES_Tankless Water  Heater', 'APPLIANCES_Trash Compactor', 'APPLIANCES_Water Softener - Rented', 'BASEMENT_Insulating Concrete Forms', 'BASEMENT_Wood', 'BATHDESC_Jack & Jill 3/4', 'BATHDESC_Other', 'BATHDESC_Two Basement Baths', 'BATHDESC_Two Master Baths', 'CoolingDescription_Geothermal ', 'DiningRoomDescription_Other', 'EXTERIOR_Block', 'FENCE_Electric', 'FENCE_Rail', 'GarageDescription_Carport', 'GarageDescription_Contract Pkg Required', 'GarageDescription_More Parking Offsite for Fee', 'GarageDescription_Unassigned', 'GarageDescription_Units Vary', 'GarageDescription_Valet Parking for Fee', 'PoolDescription_Above Ground', 'PoolDescription_Indoor', 'ROOF_Metal', 'ROOF_Other', 'ROOF_Shakes', 'ROOF_Slate', 'ROOF_Tar/Gravel', 'ROOF_Tile', 'ROOF_Unspecified Shingle', 'ROOF_Wood Shingles', 'ZONING_Business/Commercial', 'ZONING_Industrial', 'ZONING_Other']\n",
      "\n"
     ]
    }
   ],
   "source": [
    "obs_threshold = 30\n",
    "cols_to_remove = list()\n",
    "\n",
    "# Inspect first 10 binary columns in list\n",
    "for col in binary_cols:\n",
    "    # Count the number of 1 values in the binary column\n",
    "    obs_count = df.agg(F.sum(f'`{col}`')).collect()[0][0]\n",
    "    \n",
    "    # If less than our observation threshold, remove\n",
    "    if obs_count < obs_threshold:\n",
    "        cols_to_remove.append(col)\n",
    "    \n",
    "print(f'''\n",
    "Total fields: {len(cols_to_remove)}\n",
    "{cols_to_remove}\n",
    "''')"
   ]
  },
  {
   "cell_type": "code",
   "execution_count": 51,
   "id": "520ad981-1601-485a-bd43-11629ea84378",
   "metadata": {},
   "outputs": [
    {
     "name": "stdout",
     "output_type": "stream",
     "text": [
      "Rows: 5000 Columns: 242\n",
      "Rows: 5000 Columns: 207\n"
     ]
    }
   ],
   "source": [
    "# Drop columns and print starting and ending dataframe shapes\n",
    "new_df = df.drop(*cols_to_remove)\n",
    "\n",
    "print('Rows: ' + str(df.count()) + ' Columns: ' + str(len(df.columns)))\n",
    "print('Rows: ' + str(new_df.count()) + ' Columns: ' + str(len(new_df.columns)))"
   ]
  },
  {
   "cell_type": "markdown",
   "id": "a0f10c56-9ef7-4d90-9059-0f69f7ef0b45",
   "metadata": {},
   "source": [
    "## Ex. 4 - Naively Handling Missing and Categorical Values\n",
    "\n",
    "Random Forest Regression is robust enough to allow us to ignore many of the more time consuming and tedious data preparation steps. While some implementations of Random Forest handle missing and categorical values automatically, PySpark's does not. The math remains the same however so we can get away with some naive value replacements.\n",
    "\n",
    "For missing values since our data is strictly positive, we will assign -1. The random forest will split on this value and handle it differently than the rest of the values in the same feature.\n",
    "\n",
    "For categorical values, we can just map the text values to numbers and again the random forest will appropriately handle them by splitting on them. In this example, we will dust off pipelines from Introduction to PySpark to write our code more concisely. Please note that the exercise will start by displaying the dtypes of the columns in the dataframe, compare them to the results at the end of this exercise.\n",
    "\n",
    "**Instructions:**\n",
    "\n",
    "1. Replace the values in `WALKSCORE` and `BIKESCORE` with `-1` using fillna() and the subset parameter.\n",
    "2. Create a list of `StringIndexers` by using list comprehension to iterate over each column in `categorical_cols`.\n",
    "3. Apply `fit()` and `transform()` to the pipeline `indexer_pipeline`.\n",
    "4. Drop the `categorical_cols` using drop() since they are no longer needed. Inspect the result data types using `dtypes`."
   ]
  },
  {
   "cell_type": "code",
   "execution_count": 52,
   "id": "8e24868e-33ae-49fa-88d7-ec429d2ed081",
   "metadata": {},
   "outputs": [
    {
     "data": {
      "text/plain": [
       "[('longitude', 'double'),\n",
       " ('latitude', 'double'),\n",
       " ('No.', 'int'),\n",
       " ('MLSID', 'string'),\n",
       " ('StreetNumberNumeric', 'int'),\n",
       " ('streetaddress', 'string'),\n",
       " ('STREETNAME', 'string'),\n",
       " ('PostalCode', 'int'),\n",
       " ('StateOrProvince', 'string'),\n",
       " ('SalesClosePrice', 'int'),\n",
       " ('LISTDATE', 'string'),\n",
       " ('LISTPRICE', 'int'),\n",
       " ('OriginalListPrice', 'int'),\n",
       " ('PricePerTSFT', 'double'),\n",
       " ('FOUNDATIONSIZE', 'int'),\n",
       " ('FENCE', 'string'),\n",
       " ('MapLetter', 'string'),\n",
       " ('LotSizeDimensions', 'string'),\n",
       " ('DAYSONMARKET', 'int'),\n",
       " ('offmarketdate', 'string'),\n",
       " ('Fireplaces', 'int'),\n",
       " ('RoomArea4', 'string'),\n",
       " ('roomtype', 'string'),\n",
       " ('ROOF', 'string'),\n",
       " ('RoomFloor4', 'string'),\n",
       " ('PoolDescription', 'string'),\n",
       " ('PDOM', 'int'),\n",
       " ('GarageDescription', 'string'),\n",
       " ('SQFTABOVEGROUND', 'int'),\n",
       " ('Taxes', 'int'),\n",
       " ('RoomFloor1', 'string'),\n",
       " ('RoomArea1', 'string'),\n",
       " ('TAXWITHASSESSMENTS', 'double'),\n",
       " ('TAXYEAR', 'int'),\n",
       " ('LivingArea', 'int'),\n",
       " ('UNITNUMBER', 'string'),\n",
       " ('YEARBUILT', 'int'),\n",
       " ('ZONING', 'string'),\n",
       " ('ACRES', 'double'),\n",
       " ('CoolingDescription', 'string'),\n",
       " ('APPLIANCES', 'string'),\n",
       " ('backonmarketdate', 'string'),\n",
       " ('ROOMFAMILYCHAR', 'string'),\n",
       " ('RoomArea3', 'string'),\n",
       " ('EXTERIOR', 'string'),\n",
       " ('RoomFloor3', 'string'),\n",
       " ('RoomFloor2', 'string'),\n",
       " ('RoomArea2', 'string'),\n",
       " ('DiningRoomDescription', 'string'),\n",
       " ('BASEMENT', 'string'),\n",
       " ('BathsFull', 'int'),\n",
       " ('BathsHalf', 'int'),\n",
       " ('BATHQUARTER', 'int'),\n",
       " ('BATHSTHREEQUARTER', 'int'),\n",
       " ('Class', 'string'),\n",
       " ('BATHSTOTAL', 'int'),\n",
       " ('BATHDESC', 'string'),\n",
       " ('RoomArea5', 'string'),\n",
       " ('RoomFloor5', 'string'),\n",
       " ('RoomArea6', 'string'),\n",
       " ('RoomFloor6', 'string'),\n",
       " ('RoomArea7', 'string'),\n",
       " ('RoomFloor7', 'string'),\n",
       " ('RoomArea8', 'string'),\n",
       " ('RoomFloor8', 'string'),\n",
       " ('Bedrooms', 'int'),\n",
       " ('SQFTBELOWGROUND', 'int'),\n",
       " ('AssociationFee', 'int'),\n",
       " ('AssessedValuation', 'double'),\n",
       " ('walkscore', 'int'),\n",
       " ('bikescore', 'int'),\n",
       " ('transitscore', 'int'),\n",
       " ('City_IDX', 'double'),\n",
       " ('LISTTYPE_IDX', 'double'),\n",
       " ('SchoolDistrictNumber_IDX', 'double'),\n",
       " ('PotentialShortSale_IDX', 'double'),\n",
       " ('STYLE_IDX', 'double'),\n",
       " ('AssumableMortgage_IDX', 'double'),\n",
       " ('ASSESSMENTPENDING_IDX', 'double')]"
      ]
     },
     "execution_count": 52,
     "metadata": {},
     "output_type": "execute_result"
    }
   ],
   "source": [
    "# Loading the data\n",
    "df = (real_state.select('*').join(coord_df, on='No.', how='left')\n",
    "                .withColumn('longitude', F.round('longitude', 5))\n",
    "                .withColumn('latitude', F.round('latitude', 5))\n",
    "                .join((neighborhood_walk_df.withColumn('longitude', F.round('longitude', 5))\n",
    "                                           .withColumn('latitude', F.round('latitude', 5))), \n",
    "                      on=['longitude', 'latitude'], how='left'))\n",
    "\n",
    "# Replace missing values\n",
    "df = df.fillna(-1, subset=['walkscore', 'bikescore'])\n",
    "\n",
    "# Create list of StringIndexers using list comprehension\n",
    "categorical_cols = ['City', 'LISTTYPE', 'SchoolDistrictNumber', 'PotentialShortSale', \n",
    "                    'STYLE', 'AssumableMortgage', 'ASSESSMENTPENDING']\n",
    "indexers = [StringIndexer(inputCol=col, outputCol=col+\"_IDX\").setHandleInvalid(\"keep\") \n",
    "            for col in categorical_cols]\n",
    "\n",
    "# Create pipeline of indexers\n",
    "indexer_pipeline = Pipeline(stages=indexers)\n",
    "\n",
    "# Fit and Transform the pipeline to the original data\n",
    "df_indexed = indexer_pipeline.fit(df).transform(df)\n",
    "\n",
    "# Clean up redundant columns\n",
    "df_indexed = df_indexed.drop(*categorical_cols)\n",
    "\n",
    "# Inspect data transformations\n",
    "df_indexed.dtypes"
   ]
  },
  {
   "cell_type": "markdown",
   "id": "afb4b223-e494-433b-b86a-7403158e1858",
   "metadata": {},
   "source": [
    "## Building a Model\n",
    "\n",
    "### Loading the data"
   ]
  },
  {
   "cell_type": "code",
   "execution_count": 53,
   "id": "e413b864-cb00-4fae-8a3e-2fe67ec4098b",
   "metadata": {},
   "outputs": [
    {
     "name": "stdout",
     "output_type": "stream",
     "text": [
      "Cast - Dataframe shape: (5000, 74)\n",
      "DateTime Features - Dataframe shape: (5000, 79)\n",
      "Joining - Dataframe shape: (5000, 85)\n",
      "Window & Lag - Dataframe shape: (5000, 90)\n",
      "Ratios - Dataframe shape: (5000, 96)\n",
      "Dropping 1 - Dataframe shape: (5000, 65)\n"
     ]
    }
   ],
   "source": [
    "# Step 1: Loading the data\n",
    "df = real_state.select('*')\n",
    "\n",
    "# Step 2: casting, joining, enrichment and cleaning\n",
    "df = cast_to_proper_format(df)\n",
    "df = work_with_datetime_features(df)\n",
    "df = enrich_joining_more_tables(df)\n",
    "df = adding_lags_with_window(df, show=False)\n",
    "df = adding_ratios_features(df)\n",
    "df = removing_unuseful_columns(df)\n",
    "\n",
    "saving_to_kitchen(df)"
   ]
  },
  {
   "cell_type": "code",
   "execution_count": 54,
   "id": "fd83ca75-318c-420e-8706-d070db0ca290",
   "metadata": {},
   "outputs": [
    {
     "name": "stdout",
     "output_type": "stream",
     "text": [
      "Dataframe shape: (5000, 65)\n",
      "Explode APPLIANCES - Dataframe shape: (5000, 86)\n",
      "Explode BASEMENT - Dataframe shape: (5000, 104)\n",
      "Explode BATHDESC - Dataframe shape: (5000, 129)\n",
      "Explode CoolingDescription - Dataframe shape: (5000, 134)\n",
      "Explode DiningRoomDescription - Dataframe shape: (5000, 140)\n",
      "Explode EXTERIOR - Dataframe shape: (5000, 150)\n"
     ]
    }
   ],
   "source": [
    "# Step 3: Explode list features\n",
    "df = read_from_kitchen()\n",
    "df, binary_cols = explode_list_features(df, cols_to_split_and_explode[:6])\n",
    "saving_to_kitchen(df)"
   ]
  },
  {
   "cell_type": "code",
   "execution_count": 55,
   "id": "fe074a09-1418-4d78-b88b-a9735e34d288",
   "metadata": {},
   "outputs": [
    {
     "name": "stdout",
     "output_type": "stream",
     "text": [
      "Dataframe shape: (5000, 150)\n",
      "Explode FENCE - Dataframe shape: (5000, 160)\n",
      "Explode GarageDescription - Dataframe shape: (5000, 187)\n",
      "Explode PoolDescription - Dataframe shape: (5000, 193)\n",
      "Explode ROOF - Dataframe shape: (5000, 206)\n",
      "Explode ZONING - Dataframe shape: (5000, 210)\n"
     ]
    }
   ],
   "source": [
    "df = read_from_kitchen()\n",
    "df, bin_cols = explode_list_features(df, cols_to_split_and_explode[6:])\n",
    "binary_cols += bin_cols\n",
    "saving_to_kitchen(df)"
   ]
  },
  {
   "cell_type": "code",
   "execution_count": 56,
   "id": "4d3e03b4-30ff-4e56-ae09-6ebbb8f60244",
   "metadata": {},
   "outputs": [
    {
     "name": "stdout",
     "output_type": "stream",
     "text": [
      "Dataframe shape: (5000, 210)\n",
      "Encode ASSESSMENTPENDING - Dataframe shape: (5000, 210)\n",
      "Encode AssumableMortgage - Dataframe shape: (5000, 210)\n",
      "Encode City - Dataframe shape: (5000, 210)\n",
      "Encode PotentialShortSale - Dataframe shape: (5000, 210)\n",
      "Encode SchoolDistrictNumber - Dataframe shape: (5000, 210)\n",
      "Encode LISTTYPE - Dataframe shape: (5000, 210)\n",
      "Encode STYLE - Dataframe shape: (5000, 210)\n"
     ]
    }
   ],
   "source": [
    "# Step 4: Encoding catego features\n",
    "df = read_from_kitchen()\n",
    "df = encode_catego_col(df, cols_to_pivot)\n",
    "saving_to_kitchen(df)"
   ]
  },
  {
   "cell_type": "code",
   "execution_count": 57,
   "id": "f5af0fe6-df34-4d88-b41e-df01f6299704",
   "metadata": {},
   "outputs": [
    {
     "name": "stdout",
     "output_type": "stream",
     "text": [
      "Dataframe shape: (5000, 210)\n",
      "Dropping 2 - Dataframe shape after removing: (5000, 210)\n"
     ]
    }
   ],
   "source": [
    "# Step 5: Removing features with less than 30 features\n",
    "df = read_from_kitchen()\n",
    "df = removing_columns_less_obs(df)\n",
    "saving_to_kitchen(df)"
   ]
  },
  {
   "cell_type": "code",
   "execution_count": 58,
   "id": "8ec34f4c-d646-4eb7-bf09-e1f30ee02a79",
   "metadata": {},
   "outputs": [
    {
     "name": "stdout",
     "output_type": "stream",
     "text": [
      "Dataframe shape: (5000, 210)\n"
     ]
    }
   ],
   "source": [
    "# Step 6: Replace missing values\n",
    "df = read_from_kitchen()\n",
    "df = df.fillna(-1)"
   ]
  },
  {
   "cell_type": "markdown",
   "id": "3ee29484-46fd-4b01-834a-6cce44b0772c",
   "metadata": {},
   "source": [
    "### Vectorizing the features for the ml"
   ]
  },
  {
   "cell_type": "code",
   "execution_count": 59,
   "id": "3b0e3175-aadf-4216-841e-68a06c010e95",
   "metadata": {},
   "outputs": [
    {
     "name": "stdout",
     "output_type": "stream",
     "text": [
      "Dropping 2 - Dataframe shape: (4828, 205)\n",
      "Dropping 2 - Dataframe shape: (154, 205)\n"
     ]
    }
   ],
   "source": [
    "# Splitting data between train and test\n",
    "train_df, test_df = split_data_by_date(df, split_col='offmarketdate', test_days=45)\n",
    "train_df = final_removing(train_df)\n",
    "test_df = final_removing(test_df)"
   ]
  },
  {
   "cell_type": "code",
   "execution_count": 60,
   "id": "afd4c6b4-8642-4e3b-a4d0-aded602de081",
   "metadata": {},
   "outputs": [
    {
     "data": {
      "text/html": [
       "<table border='1'>\n",
       "<tr><th>SalesClosePrice</th><th>LISTPRICE</th><th>OriginalListPrice</th><th>PricePerTSFT</th><th>FOUNDATIONSIZE</th><th>DAYSONMARKET</th><th>Fireplaces</th><th>SQFTABOVEGROUND</th><th>Taxes</th><th>TAXWITHASSESSMENTS</th><th>LivingArea</th><th>YEARBUILT</th><th>ACRES</th><th>BathsFull</th><th>BathsHalf</th><th>BATHQUARTER</th><th>BATHSTHREEQUARTER</th><th>BATHSTOTAL</th><th>Bedrooms</th><th>SQFTBELOWGROUND</th><th>AssociationFee</th><th>AssessedValuation</th><th>LIST_DAYOFMONTH</th><th>LIST_DAYOFYEAR</th><th>LIST_MONTH</th><th>LIST_WEEKOFYEAR</th><th>LIST_YEAR</th><th>walkscore</th><th>bikescore</th><th>transitscore</th><th>MedianHomeValue</th><th>MORTGAGE30US</th><th>MORTGAGE30US-1WK</th><th>MORTGAGE30US-2WK</th><th>MORTGAGE30US-3WK</th><th>MORTGAGE30US-4WK</th><th>ASSESSED_TO_LIST</th><th>BED_TO_BATHS</th><th>TAX_TO_LIST</th><th>SQFT_TOTAL</th><th>LISTING_PRICE_PER_SQFT</th><th>LISTING_TO_MEDIAN_RATIO</th><th>APPLIANCES_Air-To-Air Exchanger</th><th>APPLIANCES_Central Vacuum</th><th>APPLIANCES_Cooktop</th><th>APPLIANCES_Dishwasher</th><th>APPLIANCES_Disposal</th><th>APPLIANCES_Dryer</th><th>APPLIANCES_Electronic Air Filter</th><th>APPLIANCES_Exhaust Fan/Hood</th><th>APPLIANCES_Freezer</th><th>APPLIANCES_Furnace Humidifier</th><th>APPLIANCES_Indoor Grill</th><th>APPLIANCES_Microwave</th><th>APPLIANCES_None</th><th>APPLIANCES_Other</th><th>APPLIANCES_Range</th><th>APPLIANCES_Refrigerator</th><th>APPLIANCES_Tankless Water  Heater</th><th>APPLIANCES_Trash Compactor</th><th>APPLIANCES_Wall Oven</th><th>APPLIANCES_Washer</th><th>APPLIANCES_Water Softener - Owned</th><th>APPLIANCES_Water Softener - Rented</th><th>BASEMENT_Concrete Block</th><th>BASEMENT_Crawl Space</th><th>BASEMENT_Day/Lookout Windows</th><th>BASEMENT_Drain Tiled</th><th>BASEMENT_Drainage System</th><th>BASEMENT_Egress Windows</th><th>BASEMENT_Finished (Livable)</th><th>BASEMENT_Full</th><th>BASEMENT_Insulating Concrete Forms</th><th>BASEMENT_None</th><th>BASEMENT_Partial</th><th>BASEMENT_Partial Finished</th><th>BASEMENT_Poured Concrete</th><th>BASEMENT_Slab</th><th>BASEMENT_Stone</th><th>BASEMENT_Sump Pump</th><th>BASEMENT_Unfinished</th><th>BASEMENT_Walkout</th><th>BASEMENT_Wood</th><th>BATHDESC_1/2 Basement</th><th>BATHDESC_1/2 Master</th><th>BATHDESC_3/4 Basement</th><th>BATHDESC_3/4 Master</th><th>BATHDESC_Basement</th><th>BATHDESC_Bathroom Ensuite</th><th>BATHDESC_Full Basement</th><th>BATHDESC_Full Master</th><th>BATHDESC_Jack &amp; Jill 3/4</th><th>BATHDESC_Jack and Jill</th><th>BATHDESC_Main Floor 1/2 Bath</th><th>BATHDESC_Main Floor 3/4 Bath</th><th>BATHDESC_Main Floor Full Bath</th><th>BATHDESC_Master Walk-Thru</th><th>BATHDESC_Other</th><th>BATHDESC_Private Master</th><th>BATHDESC_Rough In</th><th>BATHDESC_Separate Tub &amp; Shower</th><th>BATHDESC_Two Basement Baths</th><th>BATHDESC_Two Master Baths</th><th>BATHDESC_Upper Level 1/2 Bath</th><th>BATHDESC_Upper Level 3/4 Bath</th><th>BATHDESC_Upper Level Full Bath </th><th>BATHDESC_Walk Thru</th><th>BATHDESC_Walk-In Shower</th><th>BATHDESC_Whirlpool</th><th>CoolingDescription_Central</th><th>CoolingDescription_Ductless Mini-Split</th><th>CoolingDescription_Geothermal </th><th>CoolingDescription_None</th><th>CoolingDescription_Wall</th><th>CoolingDescription_Window</th><th>DiningRoomDescription_Breakfast Area</th><th>DiningRoomDescription_Eat In Kitchen</th><th>DiningRoomDescription_Informal Dining Room</th><th>DiningRoomDescription_Kitchen/Dining Room</th><th>DiningRoomDescription_Living/Dining Room</th><th>DiningRoomDescription_Other</th><th>DiningRoomDescription_Separate/Formal Dining Room</th><th>EXTERIOR_Block</th><th>EXTERIOR_Brick/Stone</th><th>EXTERIOR_Cement Board</th><th>EXTERIOR_Engineered Wood</th><th>EXTERIOR_Fiber Board</th><th>EXTERIOR_Metal</th><th>EXTERIOR_Other</th><th>EXTERIOR_Shakes</th><th>EXTERIOR_Stucco</th><th>EXTERIOR_Vinyl</th><th>EXTERIOR_Wood</th><th>FENCE_Chain Link</th><th>FENCE_Electric</th><th>FENCE_Full</th><th>FENCE_Invisible</th><th>FENCE_None</th><th>FENCE_Other</th><th>FENCE_Partial</th><th>FENCE_Privacy</th><th>FENCE_Rail</th><th>FENCE_Wire</th><th>FENCE_Wood</th><th>GarageDescription_Assigned</th><th>GarageDescription_Attached Garage</th><th>GarageDescription_Carport</th><th>GarageDescription_Contract Pkg Required</th><th>GarageDescription_Covered</th><th>GarageDescription_Detached Garage</th><th>GarageDescription_Driveway - Asphalt</th><th>GarageDescription_Driveway - Concrete</th><th>GarageDescription_Driveway - Gravel</th><th>GarageDescription_Driveway - Other Surface</th><th>GarageDescription_Driveway - Shared</th><th>GarageDescription_Garage Door Opener</th><th>GarageDescription_Heated Garage</th><th>GarageDescription_Insulated Garage</th><th>GarageDescription_More Parking Offsite for Fee</th><th>GarageDescription_More Parking Onsite for Fee</th><th>GarageDescription_No Int Access to Dwelling</th><th>GarageDescription_None</th><th>GarageDescription_On-Street Parking Only</th><th>GarageDescription_Other</th><th>GarageDescription_Secured</th><th>GarageDescription_Tandem</th><th>GarageDescription_Tuckunder</th><th>GarageDescription_Unassigned</th><th>GarageDescription_Uncovered/Open</th><th>GarageDescription_Underground Garage</th><th>GarageDescription_Units Vary</th><th>GarageDescription_Valet Parking for Fee</th><th>PoolDescription_Above Ground</th><th>PoolDescription_Below Ground</th><th>PoolDescription_Heated</th><th>PoolDescription_Indoor</th><th>PoolDescription_None</th><th>PoolDescription_Outdoor</th><th>PoolDescription_Shared</th><th>ROOF_Age 8 Years or Less</th><th>ROOF_Age Over 8 Years</th><th>ROOF_Asphalt Shingles</th><th>ROOF_Flat</th><th>ROOF_Metal</th><th>ROOF_Other</th><th>ROOF_Pitched</th><th>ROOF_Rubber</th><th>ROOF_Shakes</th><th>ROOF_Slate</th><th>ROOF_Tar/Gravel</th><th>ROOF_Tile</th><th>ROOF_Unspecified Shingle</th><th>ROOF_Wood Shingles</th><th>ZONING_Business/Commercial</th><th>ZONING_Industrial</th><th>ZONING_Other</th><th>ZONING_Residential-Multi-Family</th><th>ZONING_Residential-Single</th><th>ASSESSMENTPENDING_vec</th><th>AssumableMortgage_vec</th><th>City_vec</th><th>PotentialShortSale_vec</th><th>SchoolDistrictNumber_vec</th><th>LISTTYPE_vec</th><th>STYLE_vec</th><th>features</th></tr>\n",
       "<tr><td>256232</td><td>250000</td><td>250000</td><td>121.322</td><td>1066</td><td>17</td><td>1</td><td>2112</td><td>2956</td><td>2956.0</td><td>2112</td><td>1913</td><td>0.161</td><td>1</td><td>1</td><td>0</td><td>1</td><td>3</td><td>4</td><td>0</td><td>0</td><td>0.0</td><td>1</td><td>244</td><td>9</td><td>35</td><td>2017</td><td>23</td><td>22</td><td>-1</td><td>172000</td><td>3.82</td><td>3.86</td><td>3.89</td><td>3.9</td><td>3.93</td><td>0.0</td><td>1.3333333333333333</td><td>0.011824</td><td>2112</td><td>118.37121212121212</td><td>1.4534883720930232</td><td>-1</td><td>-1</td><td>-1</td><td>1</td><td>-1</td><td>1</td><td>-1</td><td>-1</td><td>-1</td><td>-1</td><td>-1</td><td>1</td><td>-1</td><td>-1</td><td>1</td><td>1</td><td>-1</td><td>-1</td><td>-1</td><td>1</td><td>-1</td><td>-1</td><td>-1</td><td>-1</td><td>-1</td><td>-1</td><td>-1</td><td>-1</td><td>-1</td><td>-1</td><td>-1</td><td>1</td><td>-1</td><td>-1</td><td>-1</td><td>-1</td><td>-1</td><td>-1</td><td>-1</td><td>-1</td><td>-1</td><td>-1</td><td>-1</td><td>-1</td><td>-1</td><td>-1</td><td>-1</td><td>-1</td><td>-1</td><td>-1</td><td>-1</td><td>-1</td><td>-1</td><td>-1</td><td>-1</td><td>-1</td><td>-1</td><td>-1</td><td>-1</td><td>-1</td><td>-1</td><td>-1</td><td>-1</td><td>-1</td><td>-1</td><td>-1</td><td>-1</td><td>1</td><td>-1</td><td>-1</td><td>-1</td><td>-1</td><td>-1</td><td>1</td><td>1</td><td>-1</td><td>1</td><td>-1</td><td>-1</td><td>-1</td><td>-1</td><td>-1</td><td>-1</td><td>-1</td><td>-1</td><td>-1</td><td>-1</td><td>1</td><td>-1</td><td>-1</td><td>1</td><td>-1</td><td>-1</td><td>-1</td><td>-1</td><td>-1</td><td>-1</td><td>-1</td><td>-1</td><td>-1</td><td>-1</td><td>-1</td><td>-1</td><td>-1</td><td>-1</td><td>-1</td><td>-1</td><td>-1</td><td>-1</td><td>-1</td><td>-1</td><td>-1</td><td>-1</td><td>-1</td><td>-1</td><td>-1</td><td>-1</td><td>-1</td><td>-1</td><td>-1</td><td>-1</td><td>1</td><td>-1</td><td>-1</td><td>-1</td><td>-1</td><td>-1</td><td>-1</td><td>-1</td><td>-1</td><td>-1</td><td>-1</td><td>-1</td><td>-1</td><td>-1</td><td>-1</td><td>-1</td><td>1</td><td>-1</td><td>1</td><td>-1</td><td>-1</td><td>-1</td><td>-1</td><td>-1</td><td>-1</td><td>-1</td><td>-1</td><td>-1</td><td>-1</td><td>-1</td><td>-1</td><td>-1</td><td>-1</td><td>-1</td><td>1</td><td>(2,[0],[1.0])</td><td>(4,[1],[1.0])</td><td>(4,[0],[1.0])</td><td>(1,[0],[1.0])</td><td>(7,[0],[1.0])</td><td>(4,[0],[1.0])</td><td>(17,[0],[1.0])</td><td>[250000.0,250000....</td></tr>\n",
       "<tr><td>500000</td><td>500000</td><td>500000</td><td>200.1601</td><td>1055</td><td>3</td><td>1</td><td>1698</td><td>8843</td><td>9450.0</td><td>2498</td><td>1938</td><td>0.24</td><td>1</td><td>1</td><td>0</td><td>1</td><td>3</td><td>4</td><td>800</td><td>0</td><td>607.0</td><td>28</td><td>209</td><td>7</td><td>30</td><td>2017</td><td>65</td><td>63</td><td>-1</td><td>172000</td><td>3.92</td><td>3.96</td><td>4.03</td><td>3.96</td><td>3.88</td><td>0.001214</td><td>1.3333333333333333</td><td>0.017686</td><td>2498</td><td>200.160128102482</td><td>2.9069767441860463</td><td>-1</td><td>-1</td><td>1</td><td>1</td><td>1</td><td>1</td><td>-1</td><td>1</td><td>-1</td><td>-1</td><td>-1</td><td>1</td><td>-1</td><td>-1</td><td>1</td><td>1</td><td>-1</td><td>-1</td><td>-1</td><td>1</td><td>-1</td><td>-1</td><td>-1</td><td>-1</td><td>1</td><td>-1</td><td>-1</td><td>1</td><td>-1</td><td>-1</td><td>-1</td><td>-1</td><td>-1</td><td>-1</td><td>-1</td><td>-1</td><td>-1</td><td>-1</td><td>-1</td><td>-1</td><td>-1</td><td>-1</td><td>-1</td><td>-1</td><td>-1</td><td>-1</td><td>-1</td><td>-1</td><td>-1</td><td>-1</td><td>-1</td><td>-1</td><td>-1</td><td>-1</td><td>-1</td><td>-1</td><td>-1</td><td>-1</td><td>-1</td><td>-1</td><td>-1</td><td>-1</td><td>-1</td><td>1</td><td>-1</td><td>-1</td><td>-1</td><td>1</td><td>-1</td><td>-1</td><td>-1</td><td>-1</td><td>-1</td><td>-1</td><td>-1</td><td>-1</td><td>-1</td><td>-1</td><td>-1</td><td>1</td><td>-1</td><td>-1</td><td>-1</td><td>-1</td><td>-1</td><td>-1</td><td>-1</td><td>-1</td><td>-1</td><td>1</td><td>-1</td><td>-1</td><td>-1</td><td>-1</td><td>-1</td><td>-1</td><td>1</td><td>-1</td><td>-1</td><td>-1</td><td>-1</td><td>-1</td><td>-1</td><td>1</td><td>-1</td><td>-1</td><td>-1</td><td>-1</td><td>1</td><td>-1</td><td>-1</td><td>-1</td><td>-1</td><td>1</td><td>-1</td><td>-1</td><td>-1</td><td>-1</td><td>-1</td><td>-1</td><td>-1</td><td>-1</td><td>-1</td><td>-1</td><td>-1</td><td>-1</td><td>-1</td><td>-1</td><td>-1</td><td>-1</td><td>-1</td><td>-1</td><td>-1</td><td>-1</td><td>1</td><td>-1</td><td>-1</td><td>-1</td><td>-1</td><td>-1</td><td>-1</td><td>-1</td><td>-1</td><td>-1</td><td>-1</td><td>-1</td><td>-1</td><td>-1</td><td>-1</td><td>-1</td><td>-1</td><td>-1</td><td>-1</td><td>-1</td><td>-1</td><td>1</td><td>(2,[1],[1.0])</td><td>(4,[1],[1.0])</td><td>(4,[0],[1.0])</td><td>(1,[0],[1.0])</td><td>(7,[0],[1.0])</td><td>(4,[0],[1.0])</td><td>(17,[1],[1.0])</td><td>[500000.0,500000....</td></tr>\n",
       "</table>\n"
      ],
      "text/plain": [
       "+---------------+---------+-----------------+------------+--------------+------------+----------+---------------+-----+------------------+----------+---------+-----+---------+---------+-----------+-----------------+----------+--------+---------------+--------------+-----------------+---------------+--------------+----------+---------------+---------+---------+---------+------------+---------------+------------+----------------+----------------+----------------+----------------+----------------+------------------+-----------+----------+----------------------+-----------------------+-------------------------------+-------------------------+------------------+---------------------+-------------------+----------------+--------------------------------+---------------------------+------------------+-----------------------------+-----------------------+--------------------+---------------+----------------+----------------+-----------------------+---------------------------------+--------------------------+--------------------+-----------------+---------------------------------+----------------------------------+-----------------------+--------------------+----------------------------+--------------------+------------------------+-----------------------+---------------------------+-------------+----------------------------------+-------------+----------------+-------------------------+------------------------+-------------+--------------+------------------+-------------------+----------------+-------------+---------------------+-------------------+---------------------+-------------------+-----------------+-------------------------+----------------------+--------------------+------------------------+----------------------+----------------------------+----------------------------+-----------------------------+-------------------------+--------------+-----------------------+-----------------+------------------------------+---------------------------+-------------------------+-----------------------------+-----------------------------+-------------------------------+------------------+-----------------------+------------------+--------------------------+--------------------------------------+------------------------------+-----------------------+-----------------------+-------------------------+------------------------------------+------------------------------------+------------------------------------------+-----------------------------------------+----------------------------------------+---------------------------+-------------------------------------------------+--------------+--------------------+---------------------+------------------------+--------------------+--------------+--------------+---------------+---------------+--------------+-------------+----------------+--------------+----------+---------------+----------+-----------+-------------+-------------+----------+----------+----------+--------------------------+---------------------------------+-------------------------+---------------------------------------+-------------------------+---------------------------------+------------------------------------+-------------------------------------+-----------------------------------+------------------------------------------+-----------------------------------+------------------------------------+-------------------------------+----------------------------------+----------------------------------------------+---------------------------------------------+-------------------------------------------+----------------------+----------------------------------------+-----------------------+-------------------------+------------------------+---------------------------+----------------------------+--------------------------------+------------------------------------+----------------------------+---------------------------------------+----------------------------+----------------------------+----------------------+----------------------+--------------------+-----------------------+----------------------+------------------------+---------------------+---------------------+---------+----------+----------+------------+-----------+-----------+----------+---------------+---------+------------------------+------------------+--------------------------+-----------------+------------+-------------------------------+-------------------------+---------------------+---------------------+-------------+----------------------+------------------------+-------------+--------------+--------------------+\n",
       "|SalesClosePrice|LISTPRICE|OriginalListPrice|PricePerTSFT|FOUNDATIONSIZE|DAYSONMARKET|Fireplaces|SQFTABOVEGROUND|Taxes|TAXWITHASSESSMENTS|LivingArea|YEARBUILT|ACRES|BathsFull|BathsHalf|BATHQUARTER|BATHSTHREEQUARTER|BATHSTOTAL|Bedrooms|SQFTBELOWGROUND|AssociationFee|AssessedValuation|LIST_DAYOFMONTH|LIST_DAYOFYEAR|LIST_MONTH|LIST_WEEKOFYEAR|LIST_YEAR|walkscore|bikescore|transitscore|MedianHomeValue|MORTGAGE30US|MORTGAGE30US-1WK|MORTGAGE30US-2WK|MORTGAGE30US-3WK|MORTGAGE30US-4WK|ASSESSED_TO_LIST|      BED_TO_BATHS|TAX_TO_LIST|SQFT_TOTAL|LISTING_PRICE_PER_SQFT|LISTING_TO_MEDIAN_RATIO|APPLIANCES_Air-To-Air Exchanger|APPLIANCES_Central Vacuum|APPLIANCES_Cooktop|APPLIANCES_Dishwasher|APPLIANCES_Disposal|APPLIANCES_Dryer|APPLIANCES_Electronic Air Filter|APPLIANCES_Exhaust Fan/Hood|APPLIANCES_Freezer|APPLIANCES_Furnace Humidifier|APPLIANCES_Indoor Grill|APPLIANCES_Microwave|APPLIANCES_None|APPLIANCES_Other|APPLIANCES_Range|APPLIANCES_Refrigerator|APPLIANCES_Tankless Water  Heater|APPLIANCES_Trash Compactor|APPLIANCES_Wall Oven|APPLIANCES_Washer|APPLIANCES_Water Softener - Owned|APPLIANCES_Water Softener - Rented|BASEMENT_Concrete Block|BASEMENT_Crawl Space|BASEMENT_Day/Lookout Windows|BASEMENT_Drain Tiled|BASEMENT_Drainage System|BASEMENT_Egress Windows|BASEMENT_Finished (Livable)|BASEMENT_Full|BASEMENT_Insulating Concrete Forms|BASEMENT_None|BASEMENT_Partial|BASEMENT_Partial Finished|BASEMENT_Poured Concrete|BASEMENT_Slab|BASEMENT_Stone|BASEMENT_Sump Pump|BASEMENT_Unfinished|BASEMENT_Walkout|BASEMENT_Wood|BATHDESC_1/2 Basement|BATHDESC_1/2 Master|BATHDESC_3/4 Basement|BATHDESC_3/4 Master|BATHDESC_Basement|BATHDESC_Bathroom Ensuite|BATHDESC_Full Basement|BATHDESC_Full Master|BATHDESC_Jack & Jill 3/4|BATHDESC_Jack and Jill|BATHDESC_Main Floor 1/2 Bath|BATHDESC_Main Floor 3/4 Bath|BATHDESC_Main Floor Full Bath|BATHDESC_Master Walk-Thru|BATHDESC_Other|BATHDESC_Private Master|BATHDESC_Rough In|BATHDESC_Separate Tub & Shower|BATHDESC_Two Basement Baths|BATHDESC_Two Master Baths|BATHDESC_Upper Level 1/2 Bath|BATHDESC_Upper Level 3/4 Bath|BATHDESC_Upper Level Full Bath |BATHDESC_Walk Thru|BATHDESC_Walk-In Shower|BATHDESC_Whirlpool|CoolingDescription_Central|CoolingDescription_Ductless Mini-Split|CoolingDescription_Geothermal |CoolingDescription_None|CoolingDescription_Wall|CoolingDescription_Window|DiningRoomDescription_Breakfast Area|DiningRoomDescription_Eat In Kitchen|DiningRoomDescription_Informal Dining Room|DiningRoomDescription_Kitchen/Dining Room|DiningRoomDescription_Living/Dining Room|DiningRoomDescription_Other|DiningRoomDescription_Separate/Formal Dining Room|EXTERIOR_Block|EXTERIOR_Brick/Stone|EXTERIOR_Cement Board|EXTERIOR_Engineered Wood|EXTERIOR_Fiber Board|EXTERIOR_Metal|EXTERIOR_Other|EXTERIOR_Shakes|EXTERIOR_Stucco|EXTERIOR_Vinyl|EXTERIOR_Wood|FENCE_Chain Link|FENCE_Electric|FENCE_Full|FENCE_Invisible|FENCE_None|FENCE_Other|FENCE_Partial|FENCE_Privacy|FENCE_Rail|FENCE_Wire|FENCE_Wood|GarageDescription_Assigned|GarageDescription_Attached Garage|GarageDescription_Carport|GarageDescription_Contract Pkg Required|GarageDescription_Covered|GarageDescription_Detached Garage|GarageDescription_Driveway - Asphalt|GarageDescription_Driveway - Concrete|GarageDescription_Driveway - Gravel|GarageDescription_Driveway - Other Surface|GarageDescription_Driveway - Shared|GarageDescription_Garage Door Opener|GarageDescription_Heated Garage|GarageDescription_Insulated Garage|GarageDescription_More Parking Offsite for Fee|GarageDescription_More Parking Onsite for Fee|GarageDescription_No Int Access to Dwelling|GarageDescription_None|GarageDescription_On-Street Parking Only|GarageDescription_Other|GarageDescription_Secured|GarageDescription_Tandem|GarageDescription_Tuckunder|GarageDescription_Unassigned|GarageDescription_Uncovered/Open|GarageDescription_Underground Garage|GarageDescription_Units Vary|GarageDescription_Valet Parking for Fee|PoolDescription_Above Ground|PoolDescription_Below Ground|PoolDescription_Heated|PoolDescription_Indoor|PoolDescription_None|PoolDescription_Outdoor|PoolDescription_Shared|ROOF_Age 8 Years or Less|ROOF_Age Over 8 Years|ROOF_Asphalt Shingles|ROOF_Flat|ROOF_Metal|ROOF_Other|ROOF_Pitched|ROOF_Rubber|ROOF_Shakes|ROOF_Slate|ROOF_Tar/Gravel|ROOF_Tile|ROOF_Unspecified Shingle|ROOF_Wood Shingles|ZONING_Business/Commercial|ZONING_Industrial|ZONING_Other|ZONING_Residential-Multi-Family|ZONING_Residential-Single|ASSESSMENTPENDING_vec|AssumableMortgage_vec|     City_vec|PotentialShortSale_vec|SchoolDistrictNumber_vec| LISTTYPE_vec|     STYLE_vec|            features|\n",
       "+---------------+---------+-----------------+------------+--------------+------------+----------+---------------+-----+------------------+----------+---------+-----+---------+---------+-----------+-----------------+----------+--------+---------------+--------------+-----------------+---------------+--------------+----------+---------------+---------+---------+---------+------------+---------------+------------+----------------+----------------+----------------+----------------+----------------+------------------+-----------+----------+----------------------+-----------------------+-------------------------------+-------------------------+------------------+---------------------+-------------------+----------------+--------------------------------+---------------------------+------------------+-----------------------------+-----------------------+--------------------+---------------+----------------+----------------+-----------------------+---------------------------------+--------------------------+--------------------+-----------------+---------------------------------+----------------------------------+-----------------------+--------------------+----------------------------+--------------------+------------------------+-----------------------+---------------------------+-------------+----------------------------------+-------------+----------------+-------------------------+------------------------+-------------+--------------+------------------+-------------------+----------------+-------------+---------------------+-------------------+---------------------+-------------------+-----------------+-------------------------+----------------------+--------------------+------------------------+----------------------+----------------------------+----------------------------+-----------------------------+-------------------------+--------------+-----------------------+-----------------+------------------------------+---------------------------+-------------------------+-----------------------------+-----------------------------+-------------------------------+------------------+-----------------------+------------------+--------------------------+--------------------------------------+------------------------------+-----------------------+-----------------------+-------------------------+------------------------------------+------------------------------------+------------------------------------------+-----------------------------------------+----------------------------------------+---------------------------+-------------------------------------------------+--------------+--------------------+---------------------+------------------------+--------------------+--------------+--------------+---------------+---------------+--------------+-------------+----------------+--------------+----------+---------------+----------+-----------+-------------+-------------+----------+----------+----------+--------------------------+---------------------------------+-------------------------+---------------------------------------+-------------------------+---------------------------------+------------------------------------+-------------------------------------+-----------------------------------+------------------------------------------+-----------------------------------+------------------------------------+-------------------------------+----------------------------------+----------------------------------------------+---------------------------------------------+-------------------------------------------+----------------------+----------------------------------------+-----------------------+-------------------------+------------------------+---------------------------+----------------------------+--------------------------------+------------------------------------+----------------------------+---------------------------------------+----------------------------+----------------------------+----------------------+----------------------+--------------------+-----------------------+----------------------+------------------------+---------------------+---------------------+---------+----------+----------+------------+-----------+-----------+----------+---------------+---------+------------------------+------------------+--------------------------+-----------------+------------+-------------------------------+-------------------------+---------------------+---------------------+-------------+----------------------+------------------------+-------------+--------------+--------------------+\n",
       "|         256232|   250000|           250000|     121.322|          1066|          17|         1|           2112| 2956|            2956.0|      2112|     1913|0.161|        1|        1|          0|                1|         3|       4|              0|             0|              0.0|              1|           244|         9|             35|     2017|       23|       22|          -1|         172000|        3.82|            3.86|            3.89|             3.9|            3.93|             0.0|1.3333333333333333|   0.011824|      2112|    118.37121212121212|     1.4534883720930232|                             -1|                       -1|                -1|                    1|                 -1|               1|                              -1|                         -1|                -1|                           -1|                     -1|                   1|             -1|              -1|               1|                      1|                               -1|                        -1|                  -1|                1|                               -1|                                -1|                     -1|                  -1|                          -1|                  -1|                      -1|                     -1|                         -1|           -1|                                -1|            1|              -1|                       -1|                      -1|           -1|            -1|                -1|                 -1|              -1|           -1|                   -1|                 -1|                   -1|                 -1|               -1|                       -1|                    -1|                  -1|                      -1|                    -1|                          -1|                          -1|                           -1|                       -1|            -1|                     -1|               -1|                            -1|                         -1|                       -1|                           -1|                           -1|                             -1|                -1|                     -1|                -1|                         1|                                    -1|                            -1|                     -1|                     -1|                       -1|                                   1|                                   1|                                        -1|                                        1|                                      -1|                         -1|                                               -1|            -1|                  -1|                   -1|                      -1|                  -1|            -1|            -1|              1|             -1|            -1|            1|              -1|            -1|        -1|             -1|        -1|         -1|           -1|           -1|        -1|        -1|        -1|                        -1|                               -1|                       -1|                                     -1|                       -1|                               -1|                                  -1|                                   -1|                                 -1|                                        -1|                                 -1|                                  -1|                             -1|                                -1|                                            -1|                                           -1|                                         -1|                    -1|                                      -1|                      1|                       -1|                      -1|                         -1|                          -1|                              -1|                                  -1|                          -1|                                     -1|                          -1|                          -1|                    -1|                    -1|                  -1|                     -1|                    -1|                       1|                   -1|                    1|       -1|        -1|        -1|          -1|         -1|         -1|        -1|             -1|       -1|                      -1|                -1|                        -1|               -1|          -1|                             -1|                        1|        (2,[0],[1.0])|        (4,[1],[1.0])|(4,[0],[1.0])|         (1,[0],[1.0])|           (7,[0],[1.0])|(4,[0],[1.0])|(17,[0],[1.0])|[250000.0,250000....|\n",
       "|         500000|   500000|           500000|    200.1601|          1055|           3|         1|           1698| 8843|            9450.0|      2498|     1938| 0.24|        1|        1|          0|                1|         3|       4|            800|             0|            607.0|             28|           209|         7|             30|     2017|       65|       63|          -1|         172000|        3.92|            3.96|            4.03|            3.96|            3.88|        0.001214|1.3333333333333333|   0.017686|      2498|      200.160128102482|     2.9069767441860463|                             -1|                       -1|                 1|                    1|                  1|               1|                              -1|                          1|                -1|                           -1|                     -1|                   1|             -1|              -1|               1|                      1|                               -1|                        -1|                  -1|                1|                               -1|                                -1|                     -1|                  -1|                           1|                  -1|                      -1|                      1|                         -1|           -1|                                -1|           -1|              -1|                       -1|                      -1|           -1|            -1|                -1|                 -1|              -1|           -1|                   -1|                 -1|                   -1|                 -1|               -1|                       -1|                    -1|                  -1|                      -1|                    -1|                          -1|                          -1|                           -1|                       -1|            -1|                     -1|               -1|                            -1|                         -1|                       -1|                           -1|                           -1|                              1|                -1|                     -1|                -1|                         1|                                    -1|                            -1|                     -1|                     -1|                       -1|                                  -1|                                  -1|                                        -1|                                       -1|                                      -1|                         -1|                                                1|            -1|                  -1|                   -1|                      -1|                  -1|            -1|            -1|             -1|             -1|             1|           -1|              -1|            -1|        -1|             -1|        -1|          1|           -1|           -1|        -1|        -1|        -1|                        -1|                                1|                       -1|                                     -1|                       -1|                               -1|                                   1|                                   -1|                                 -1|                                        -1|                                 -1|                                   1|                             -1|                                -1|                                            -1|                                           -1|                                         -1|                    -1|                                      -1|                     -1|                       -1|                      -1|                         -1|                          -1|                              -1|                                  -1|                          -1|                                     -1|                          -1|                          -1|                    -1|                    -1|                   1|                     -1|                    -1|                      -1|                   -1|                   -1|       -1|        -1|        -1|          -1|         -1|         -1|        -1|             -1|       -1|                      -1|                -1|                        -1|               -1|          -1|                             -1|                        1|        (2,[1],[1.0])|        (4,[1],[1.0])|(4,[0],[1.0])|         (1,[0],[1.0])|           (7,[0],[1.0])|(4,[0],[1.0])|(17,[1],[1.0])|[500000.0,500000....|\n",
       "+---------------+---------+-----------------+------------+--------------+------------+----------+---------------+-----+------------------+----------+---------+-----+---------+---------+-----------+-----------------+----------+--------+---------------+--------------+-----------------+---------------+--------------+----------+---------------+---------+---------+---------+------------+---------------+------------+----------------+----------------+----------------+----------------+----------------+------------------+-----------+----------+----------------------+-----------------------+-------------------------------+-------------------------+------------------+---------------------+-------------------+----------------+--------------------------------+---------------------------+------------------+-----------------------------+-----------------------+--------------------+---------------+----------------+----------------+-----------------------+---------------------------------+--------------------------+--------------------+-----------------+---------------------------------+----------------------------------+-----------------------+--------------------+----------------------------+--------------------+------------------------+-----------------------+---------------------------+-------------+----------------------------------+-------------+----------------+-------------------------+------------------------+-------------+--------------+------------------+-------------------+----------------+-------------+---------------------+-------------------+---------------------+-------------------+-----------------+-------------------------+----------------------+--------------------+------------------------+----------------------+----------------------------+----------------------------+-----------------------------+-------------------------+--------------+-----------------------+-----------------+------------------------------+---------------------------+-------------------------+-----------------------------+-----------------------------+-------------------------------+------------------+-----------------------+------------------+--------------------------+--------------------------------------+------------------------------+-----------------------+-----------------------+-------------------------+------------------------------------+------------------------------------+------------------------------------------+-----------------------------------------+----------------------------------------+---------------------------+-------------------------------------------------+--------------+--------------------+---------------------+------------------------+--------------------+--------------+--------------+---------------+---------------+--------------+-------------+----------------+--------------+----------+---------------+----------+-----------+-------------+-------------+----------+----------+----------+--------------------------+---------------------------------+-------------------------+---------------------------------------+-------------------------+---------------------------------+------------------------------------+-------------------------------------+-----------------------------------+------------------------------------------+-----------------------------------+------------------------------------+-------------------------------+----------------------------------+----------------------------------------------+---------------------------------------------+-------------------------------------------+----------------------+----------------------------------------+-----------------------+-------------------------+------------------------+---------------------------+----------------------------+--------------------------------+------------------------------------+----------------------------+---------------------------------------+----------------------------+----------------------------+----------------------+----------------------+--------------------+-----------------------+----------------------+------------------------+---------------------+---------------------+---------+----------+----------+------------+-----------+-----------+----------+---------------+---------+------------------------+------------------+--------------------------+-----------------+------------+-------------------------------+-------------------------+---------------------+---------------------+-------------+----------------------+------------------------+-------------+--------------+--------------------+"
      ]
     },
     "execution_count": 60,
     "metadata": {},
     "output_type": "execute_result"
    }
   ],
   "source": [
    "target_col = 'SalesClosePrice' \n",
    "predict_col = 'PredPrice'\n",
    "\n",
    "model = VectorAssembler(inputCols=train_df.drop(target_col).columns, outputCol='features')\n",
    "train_df = model.transform(train_df)\n",
    "test_df = model.transform(test_df)\n",
    "\n",
    "train_df.limit(2)"
   ]
  },
  {
   "cell_type": "markdown",
   "id": "5b75565f-4acc-4941-98c4-aeae421eb6eb",
   "metadata": {},
   "source": [
    "### Training a Random Forest"
   ]
  },
  {
   "cell_type": "code",
   "execution_count": 61,
   "id": "82f840ba-6013-493c-a71c-de624b791725",
   "metadata": {},
   "outputs": [],
   "source": [
    "# Initialize model with columns to utilize\n",
    "model_rfr = RandomForestRegressor(featuresCol=\"features\", labelCol=target_col, predictionCol=predict_col,\n",
    "                              seed=42)\n",
    "\n",
    "# Train model\n",
    "model_rfr = model_rfr.fit(train_df)"
   ]
  },
  {
   "cell_type": "markdown",
   "id": "83441187-ddf2-4027-842a-687fb7fb21d1",
   "metadata": {},
   "source": [
    "### Predicting with a Model"
   ]
  },
  {
   "cell_type": "code",
   "execution_count": 62,
   "id": "af2ad9b4-0a91-4c6c-b7cb-ff8fc487c8c0",
   "metadata": {},
   "outputs": [
    {
     "name": "stdout",
     "output_type": "stream",
     "text": [
      "+------------------+---------------+\n",
      "|         PredPrice|SalesClosePrice|\n",
      "+------------------+---------------+\n",
      "| 236471.6803406473|         224879|\n",
      "|  175012.201655954|         175000|\n",
      "|146472.71081608784|         138500|\n",
      "| 374836.1408278668|         352450|\n",
      "|272376.59048311797|         270000|\n",
      "+------------------+---------------+\n",
      "only showing top 5 rows\n",
      "\n"
     ]
    }
   ],
   "source": [
    "# Make predictions\n",
    "predictions_rfr = model_rfr.transform(test_df)\n",
    "\n",
    "# Inspect results\n",
    "predictions_rfr.select(predict_col, target_col).show(5)"
   ]
  },
  {
   "cell_type": "markdown",
   "id": "6e50023d-adbd-4121-a84c-5556a88f627a",
   "metadata": {},
   "source": [
    "### Evaluating a Model"
   ]
  },
  {
   "cell_type": "code",
   "execution_count": 63,
   "id": "334a7243-6ba9-490b-8e15-d1bd13a7c3b0",
   "metadata": {},
   "outputs": [
    {
     "name": "stdout",
     "output_type": "stream",
     "text": [
      "RMSE: 19947.50830910839\n",
      "R^2: 0.9746941367142943\n"
     ]
    }
   ],
   "source": [
    "# Select columns to compute test error\n",
    "evaluator = RegressionEvaluator(labelCol=target_col, predictionCol=predict_col)\n",
    "\n",
    "# Create evaluation metrics\n",
    "rmse = evaluator.evaluate(predictions_rfr, {evaluator.metricName: \"rmse\"})\n",
    "r2 = evaluator.evaluate(predictions_rfr, {evaluator.metricName: \"r2\"})\n",
    "\n",
    "# Print Model Metrics\n",
    "print('RMSE: ' + str(rmse))\n",
    "print('R^2: ' + str(r2))"
   ]
  },
  {
   "cell_type": "markdown",
   "id": "89fcbb74-b67b-472c-b5f8-e22d69c5eb94",
   "metadata": {},
   "source": [
    "## Ex. 5 - Building a Regression Model\n",
    "\r\n",
    "One of the great things about` PySpar`k` M`L module is that most algorithms can be tried and tested without changing much code. Random Forest Regression is a fairly simple ensemble model, using bagging to fit. Another tree based ensemble model is Gradient Boosted Trees which uses a different approach called boosting to fit. In this exercise let's train a` GBTRegresso`r.\r",
    "**\n",
    "\r\n",
    "Instructi:**\n",
    "01.  XP\r\n",
    "Im`port GBTRegr`essor `from pyspark.ml.regre`ssion which you will notice is the same modul`e as RandomForestRegr`es2. sor.\r\n",
    "Instan`tiate GBTReg`ressor` with featu`resCol set to the vector column of our features n`amed, fe`at`ures, la`belCol set to our dependent vari`able, SALESCLOS`EPRICE and the random se`ed` 3. to 42\r\n",
    "Train the model by c`allin`g fit() on gbt with the imported training` data, t`rain_df."
   ]
  },
  {
   "cell_type": "code",
   "execution_count": 64,
   "id": "9c667969-3b3b-4c5c-beb8-0249a7b7cf0f",
   "metadata": {},
   "outputs": [],
   "source": [
    "# Initialize model with columns to utilize\n",
    "model_gbt = GBTRegressor(featuresCol=\"features\", labelCol=target_col, predictionCol=predict_col,\n",
    "                     seed=42)\n",
    "\n",
    "# Train model\n",
    "model_gbt = model_gbt.fit(train_df)"
   ]
  },
  {
   "cell_type": "markdown",
   "id": "1683efe5-9eb4-4568-ad49-116b804f2db7",
   "metadata": {},
   "source": [
    "## Ex. 6 - Evaluating & Comparing Algorithms\n",
    "\n",
    "Now that we've created a new model with `GBTRegressor` its time to compare it against our baseline of `RandomForestRegressor`. To do this we will compare the `predictions` of both models to the actual data and calculate `RMSE` and `R^2`.\n",
    "\n",
    "**Instructions:**\n",
    "\n",
    "1. Import `RegressionEvaluator` from `pyspark.ml.evaluation` so it is available for use later.\n",
    "2. Initialize `RegressionEvaluator` by setting `labelCol` to our actual data, `SALESCLOSEPRICE` and `predictionCol` to our predicted data, `Prediction_Price`\n",
    "3. To calculate our metrics, call evaluate on evaluator with the prediction values `preds` and create a dictionary with key `evaluator.metricName` and value of `rmse`, do the same for the `r2` metric."
   ]
  },
  {
   "cell_type": "code",
   "execution_count": 65,
   "id": "c57ba407-8f88-4ea0-9542-be22668af5b8",
   "metadata": {},
   "outputs": [
    {
     "name": "stdout",
     "output_type": "stream",
     "text": [
      "Gradient Boosted Trees RMSE: 16062.082720514649\n",
      "Gradient Boosted Trees R^2: 0.9835923053714396\n",
      "Random Forest Regression RMSE: 19947.50830910839\n",
      "Random Forest Regression R^2: 0.9746941367142943\n"
     ]
    }
   ],
   "source": [
    "# Complete the preditions for model_gbt\n",
    "predictions_gbt = model_gbt.transform(test_df)\n",
    "\n",
    "# Select columns to compute test error\n",
    "evaluator = RegressionEvaluator(labelCol=target_col, predictionCol=predict_col)\n",
    "\n",
    "# Dictionary of model predictions to loop over\n",
    "models = {'Gradient Boosted Trees': predictions_gbt, \n",
    "          'Random Forest Regression': predictions_rfr}\n",
    "\n",
    "for key, preds in models.items():\n",
    "  # Create evaluation metrics\n",
    "  rmse = evaluator.evaluate(preds, {evaluator.metricName: 'rmse'})\n",
    "  r2 = evaluator.evaluate(preds, {evaluator.metricName: 'r2'})\n",
    "  \n",
    "  # Print Model Metrics\n",
    "  print(key + ' RMSE: ' + str(rmse))\n",
    "  print(key + ' R^2: ' + str(r2))"
   ]
  },
  {
   "cell_type": "markdown",
   "id": "b1e05209-52c6-4a09-8395-b6734a4e766b",
   "metadata": {},
   "source": [
    "## Interpreting, Saving & Loading\n",
    "\n",
    "### Interpreting a Model"
   ]
  },
  {
   "cell_type": "code",
   "execution_count": 66,
   "id": "bd209ceb-ce86-4755-bc03-fa6bf56e9b18",
   "metadata": {},
   "outputs": [
    {
     "data": {
      "text/html": [
       "<div>\n",
       "<style scoped>\n",
       "    .dataframe tbody tr th:only-of-type {\n",
       "        vertical-align: middle;\n",
       "    }\n",
       "\n",
       "    .dataframe tbody tr th {\n",
       "        vertical-align: top;\n",
       "    }\n",
       "\n",
       "    .dataframe thead th {\n",
       "        text-align: right;\n",
       "    }\n",
       "</style>\n",
       "<table border=\"1\" class=\"dataframe\">\n",
       "  <thead>\n",
       "    <tr style=\"text-align: right;\">\n",
       "      <th></th>\n",
       "      <th>importance</th>\n",
       "      <th>feature</th>\n",
       "    </tr>\n",
       "  </thead>\n",
       "  <tbody>\n",
       "    <tr>\n",
       "      <th>0</th>\n",
       "      <td>0.398508</td>\n",
       "      <td>LISTPRICE</td>\n",
       "    </tr>\n",
       "    <tr>\n",
       "      <th>1</th>\n",
       "      <td>0.353775</td>\n",
       "      <td>OriginalListPrice</td>\n",
       "    </tr>\n",
       "    <tr>\n",
       "      <th>40</th>\n",
       "      <td>0.056558</td>\n",
       "      <td>LISTING_TO_MEDIAN_RATIO</td>\n",
       "    </tr>\n",
       "    <tr>\n",
       "      <th>38</th>\n",
       "      <td>0.048381</td>\n",
       "      <td>SQFT_TOTAL</td>\n",
       "    </tr>\n",
       "    <tr>\n",
       "      <th>6</th>\n",
       "      <td>0.025101</td>\n",
       "      <td>SQFTABOVEGROUND</td>\n",
       "    </tr>\n",
       "    <tr>\n",
       "      <th>9</th>\n",
       "      <td>0.017145</td>\n",
       "      <td>LivingArea</td>\n",
       "    </tr>\n",
       "    <tr>\n",
       "      <th>7</th>\n",
       "      <td>0.014175</td>\n",
       "      <td>Taxes</td>\n",
       "    </tr>\n",
       "    <tr>\n",
       "      <th>16</th>\n",
       "      <td>0.012765</td>\n",
       "      <td>BATHSTOTAL</td>\n",
       "    </tr>\n",
       "    <tr>\n",
       "      <th>8</th>\n",
       "      <td>0.012555</td>\n",
       "      <td>TAXWITHASSESSMENTS</td>\n",
       "    </tr>\n",
       "  </tbody>\n",
       "</table>\n",
       "</div>"
      ],
      "text/plain": [
       "    importance                  feature\n",
       "0     0.398508                LISTPRICE\n",
       "1     0.353775        OriginalListPrice\n",
       "40    0.056558  LISTING_TO_MEDIAN_RATIO\n",
       "38    0.048381               SQFT_TOTAL\n",
       "6     0.025101          SQFTABOVEGROUND\n",
       "9     0.017145               LivingArea\n",
       "7     0.014175                    Taxes\n",
       "16    0.012765               BATHSTOTAL\n",
       "8     0.012555       TAXWITHASSESSMENTS"
      ]
     },
     "execution_count": 66,
     "metadata": {},
     "output_type": "execute_result"
    }
   ],
   "source": [
    "# Convert feature importances to a pandas column\n",
    "rfr_df = pd.DataFrame(model_rfr.featureImportances.toArray(),\n",
    "                     columns = ['importance'])\n",
    "\n",
    "# Convert list of feature names to pandas column\n",
    "feature_cols = train_df.drop(target_col).columns\n",
    "rfr_df['feature'] = pd.Series(feature_cols)\n",
    "\n",
    "# Sort the data based on feature importance\n",
    "rfr_df.sort_values(by=['importance'], ascending=False, inplace=True)\n",
    "\n",
    "# Interpret results\n",
    "rfr_df.head(9)"
   ]
  },
  {
   "cell_type": "markdown",
   "id": "25644f3d-23bb-47cb-8730-7012aa4582f1",
   "metadata": {},
   "source": [
    "### Saving & Loading Models"
   ]
  },
  {
   "cell_type": "code",
   "execution_count": 67,
   "id": "d1b60414-f665-4944-a976-29b29767c787",
   "metadata": {},
   "outputs": [
    {
     "data": {
      "text/plain": [
       "RandomForestRegressionModel: uid=RandomForestRegressor_6924256a3cef, numTrees=20, numFeatures=236"
      ]
     },
     "execution_count": 67,
     "metadata": {},
     "output_type": "execute_result"
    }
   ],
   "source": [
    "# Save model\n",
    "model_rfr.write().overwrite().save('model/rfr_real_estate_model')\n",
    "\n",
    "# Load model from\n",
    "loaded_model = RandomForestRegressionModel.load('model/rfr_real_estate_model')\n",
    "loaded_model"
   ]
  },
  {
   "cell_type": "markdown",
   "id": "7ce54cc4-ac49-4900-9b30-f9d1500c2003",
   "metadata": {},
   "source": [
    "## Ex. 7 - Interpreting Results\n",
    "\n",
    "It is almost always important to know which features are influencing your prediction the most. Perhaps its counterintuitive and that's an insight? Perhaps a hand full of features account for most of the accuracy of your model and you don't need to perform time acquiring or massaging other features.\n",
    "\n",
    "In this example we will be looking at a model that has been trained without any LISTPRICE information. With that gone, what influences the price the most?\n",
    "\n",
    "**Instructions:**\n",
    "\n",
    "1. Create a pandas dataframe using the values of importances and name the column importance by setting the parameter columns.\n",
    "2. Using the imported list of features names, `feature_cols`, create a new `pandas.Series` by wrapping it in the `pd.Series()` function. Set it to the column `fi_df['feature']`.\n",
    "3. Sort the dataframe using `sort_values()`, setting the by parameter to our importance column and sort it descending by setting `ascending` to `False`. Inspect the results."
   ]
  },
  {
   "cell_type": "code",
   "execution_count": 68,
   "id": "182323e7-6de3-4e71-b27b-78e3ce53d8c5",
   "metadata": {},
   "outputs": [
    {
     "data": {
      "text/html": [
       "<div>\n",
       "<style scoped>\n",
       "    .dataframe tbody tr th:only-of-type {\n",
       "        vertical-align: middle;\n",
       "    }\n",
       "\n",
       "    .dataframe tbody tr th {\n",
       "        vertical-align: top;\n",
       "    }\n",
       "\n",
       "    .dataframe thead th {\n",
       "        text-align: right;\n",
       "    }\n",
       "</style>\n",
       "<table border=\"1\" class=\"dataframe\">\n",
       "  <thead>\n",
       "    <tr style=\"text-align: right;\">\n",
       "      <th></th>\n",
       "      <th>importance</th>\n",
       "      <th>feature</th>\n",
       "    </tr>\n",
       "  </thead>\n",
       "  <tbody>\n",
       "    <tr>\n",
       "      <th>0</th>\n",
       "      <td>0.736077</td>\n",
       "      <td>LISTPRICE</td>\n",
       "    </tr>\n",
       "    <tr>\n",
       "      <th>40</th>\n",
       "      <td>0.026718</td>\n",
       "      <td>LISTING_TO_MEDIAN_RATIO</td>\n",
       "    </tr>\n",
       "    <tr>\n",
       "      <th>2</th>\n",
       "      <td>0.025460</td>\n",
       "      <td>PricePerTSFT</td>\n",
       "    </tr>\n",
       "    <tr>\n",
       "      <th>6</th>\n",
       "      <td>0.025331</td>\n",
       "      <td>SQFTABOVEGROUND</td>\n",
       "    </tr>\n",
       "    <tr>\n",
       "      <th>4</th>\n",
       "      <td>0.020757</td>\n",
       "      <td>DAYSONMARKET</td>\n",
       "    </tr>\n",
       "    <tr>\n",
       "      <th>21</th>\n",
       "      <td>0.019973</td>\n",
       "      <td>LIST_DAYOFMONTH</td>\n",
       "    </tr>\n",
       "    <tr>\n",
       "      <th>11</th>\n",
       "      <td>0.016557</td>\n",
       "      <td>ACRES</td>\n",
       "    </tr>\n",
       "    <tr>\n",
       "      <th>9</th>\n",
       "      <td>0.016406</td>\n",
       "      <td>LivingArea</td>\n",
       "    </tr>\n",
       "    <tr>\n",
       "      <th>16</th>\n",
       "      <td>0.013993</td>\n",
       "      <td>BATHSTOTAL</td>\n",
       "    </tr>\n",
       "  </tbody>\n",
       "</table>\n",
       "</div>"
      ],
      "text/plain": [
       "    importance                  feature\n",
       "0     0.736077                LISTPRICE\n",
       "40    0.026718  LISTING_TO_MEDIAN_RATIO\n",
       "2     0.025460             PricePerTSFT\n",
       "6     0.025331          SQFTABOVEGROUND\n",
       "4     0.020757             DAYSONMARKET\n",
       "21    0.019973          LIST_DAYOFMONTH\n",
       "11    0.016557                    ACRES\n",
       "9     0.016406               LivingArea\n",
       "16    0.013993               BATHSTOTAL"
      ]
     },
     "execution_count": 68,
     "metadata": {},
     "output_type": "execute_result"
    }
   ],
   "source": [
    "# Getting the required information\n",
    "importances = model_gbt.featureImportances.toArray()\n",
    "feature_cols = train_df.drop(target_col).columns\n",
    "\n",
    "# Convert feature importances to a pandas column\n",
    "fi_df = pd.DataFrame(importances, columns=['importance'])\n",
    "\n",
    "# Convert list of feature names to pandas column\n",
    "fi_df['feature'] = pd.Series(feature_cols)\n",
    "\n",
    "# Sort the data based on feature importance\n",
    "fi_df.sort_values(by=['importance'], ascending=False, inplace=True)\n",
    "\n",
    "# Inspect Results\n",
    "fi_df.head(9)"
   ]
  },
  {
   "cell_type": "markdown",
   "id": "9c48f81e-257d-44d4-846c-d8408ea7dc77",
   "metadata": {},
   "source": [
    "## Ex. 8 - Saving & Loading Models\n",
    "\n",
    "Often times you may find yourself going back to a previous model to see what assumptions or settings were used when diagnosing where your prediction errors were coming from. Perhaps there was something wrong with the data? Maybe you need to incorporate a new feature to capture an unusual event that occurred?\n",
    "\n",
    "In this example, you will practice saving and loading a model.\n",
    "\n",
    "**Instructions:**\n",
    "\n",
    "1. Import `RandomForestRegressionModel` from `pyspark.ml.regression`.\n",
    "2. Using the model in memory called model call the `save()` method on it and name the model `rfr_no_listprice`.\n",
    "3. Reload the saved model file `rfr_no_listprice` by calling `load()` on `RandomForestRegressionModel` and storing it into `loaded_model`."
   ]
  },
  {
   "cell_type": "code",
   "execution_count": 69,
   "id": "aed519a7-8182-45e0-b36e-5eaa00f54a9a",
   "metadata": {},
   "outputs": [
    {
     "data": {
      "text/plain": [
       "GBTRegressionModel: uid=GBTRegressor_98d23640d2a8, numTrees=20, numFeatures=236"
      ]
     },
     "execution_count": 69,
     "metadata": {},
     "output_type": "execute_result"
    }
   ],
   "source": [
    "# Save model\n",
    "model_gbt.write().overwrite().save('model/gbt_real_estate_model')\n",
    "\n",
    "# Load model from\n",
    "loaded_model = GBTRegressionModel.load('model/gbt_real_estate_model')\n",
    "loaded_model"
   ]
  },
  {
   "cell_type": "markdown",
   "id": "c84744cb-27ee-40bb-a5c3-a8b24d7342c0",
   "metadata": {},
   "source": [
    "## Close session"
   ]
  },
  {
   "cell_type": "code",
   "execution_count": 70,
   "id": "0a35b740-9e99-4e09-8ccc-81e0ea59e93f",
   "metadata": {},
   "outputs": [],
   "source": [
    "spark.stop()"
   ]
  },
  {
   "cell_type": "code",
   "execution_count": null,
   "id": "382aa0d6-d5f7-4180-a803-f58b165acd30",
   "metadata": {},
   "outputs": [],
   "source": []
  }
 ],
 "metadata": {
  "kernelspec": {
   "display_name": "Python 3 (ipykernel)",
   "language": "python",
   "name": "python3"
  },
  "language_info": {
   "codemirror_mode": {
    "name": "ipython",
    "version": 3
   },
   "file_extension": ".py",
   "mimetype": "text/x-python",
   "name": "python",
   "nbconvert_exporter": "python",
   "pygments_lexer": "ipython3",
   "version": "3.11.9"
  }
 },
 "nbformat": 4,
 "nbformat_minor": 5
}
