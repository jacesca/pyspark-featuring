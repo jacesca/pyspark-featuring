{
 "cells": [
  {
   "cell_type": "markdown",
   "id": "fd52b2d0-2d28-4a65-ba23-4cf13241492a",
   "metadata": {},
   "source": [
    "# Feature Engineering\n",
    "\n",
    "In this chapter learn how to create new features for your machine learning model to learn from. We'll look at generating them by combining fields, extracting values from messy columns or encoding them for better results.\n",
    "\n",
    "## Preparing the environment\n",
    "\n",
    "### Importing libraries"
   ]
  },
  {
   "cell_type": "code",
   "execution_count": 1,
   "id": "28324045-dc3b-4602-af05-403a49290bcf",
   "metadata": {},
   "outputs": [],
   "source": [
    "import pandas as pd\n",
    "import seaborn as sns\n",
    "import sys\n",
    "import matplotlib.pyplot as plt\n",
    "\n",
    "from environment import histogram_boxplot, linear_model_plot, labeled_barplot\n",
    "from typing import List\n",
    "from pprint import pprint\n",
    "\n",
    "from pyspark.sql.types import (_parse_datatype_string, StructType, StructField,\n",
    "                               DoubleType, IntegerType, StringType)\n",
    "from pyspark.sql import SparkSession\n",
    "from pyspark.sql import functions as F\n",
    "from pyspark.sql.window import Window\n",
    "from pyspark.ml.feature import Binarizer, Bucketizer, OneHotEncoder, StringIndexer"
   ]
  },
  {
   "cell_type": "markdown",
   "id": "dd3751f7-cc7f-4c27-9055-d76887924963",
   "metadata": {},
   "source": [
    "### Connect to Spark"
   ]
  },
  {
   "cell_type": "code",
   "execution_count": 2,
   "id": "d00fd800-7416-4120-b336-c915d9797bd4",
   "metadata": {},
   "outputs": [],
   "source": [
    "spark = SparkSession.builder.getOrCreate()\n",
    "\n",
    "# eval DataFrame in notebooks\n",
    "spark.conf.set('spark.sql.repl.eagerEval.enabled', True)"
   ]
  },
  {
   "cell_type": "code",
   "execution_count": 3,
   "id": "ffd0fb21-d1fe-49c0-abf0-15b3702f5313",
   "metadata": {},
   "outputs": [],
   "source": [
    "sc = spark.sparkContext"
   ]
  },
  {
   "cell_type": "markdown",
   "id": "132fd9ba-c788-4d78-bb68-af3ee696d882",
   "metadata": {},
   "source": [
    "### Checking the version of PySpark and Python"
   ]
  },
  {
   "cell_type": "code",
   "execution_count": 4,
   "id": "67c55ea4-47f0-4b3e-b282-8ba1fcdff33c",
   "metadata": {},
   "outputs": [
    {
     "name": "stdout",
     "output_type": "stream",
     "text": [
      "Spark  version: 3.5.1\n",
      "Python version: sys.version_info(major=3, minor=11, micro=9, releaselevel='final', serial=0)\n"
     ]
    }
   ],
   "source": [
    "print('Spark  version:', spark.version)\n",
    "print('Python version:', sys.version_info)"
   ]
  },
  {
   "cell_type": "markdown",
   "id": "ea505934-a70b-4017-9af1-e33c8399adb0",
   "metadata": {},
   "source": [
    "### Loading data"
   ]
  },
  {
   "cell_type": "code",
   "execution_count": 5,
   "id": "22b83775-1081-484a-a393-9944be747d7d",
   "metadata": {},
   "outputs": [
    {
     "name": "stdout",
     "output_type": "stream",
     "text": [
      "root\n",
      " |-- No.: integer (nullable = true)\n",
      " |-- MLSID: string (nullable = true)\n",
      " |-- StreetNumberNumeric: integer (nullable = true)\n",
      " |-- streetaddress: string (nullable = true)\n",
      " |-- STREETNAME: string (nullable = true)\n",
      " |-- PostalCode: integer (nullable = true)\n",
      " |-- StateOrProvince: string (nullable = true)\n",
      " |-- City: string (nullable = true)\n",
      " |-- SalesClosePrice: integer (nullable = true)\n",
      " |-- LISTDATE: string (nullable = true)\n",
      " |-- LISTPRICE: integer (nullable = true)\n",
      " |-- LISTTYPE: string (nullable = true)\n",
      " |-- OriginalListPrice: integer (nullable = true)\n",
      " |-- PricePerTSFT: double (nullable = true)\n",
      " |-- FOUNDATIONSIZE: integer (nullable = true)\n",
      " |-- FENCE: string (nullable = true)\n",
      " |-- MapLetter: string (nullable = true)\n",
      " |-- LotSizeDimensions: string (nullable = true)\n",
      " |-- SchoolDistrictNumber: string (nullable = true)\n",
      " |-- DAYSONMARKET: integer (nullable = true)\n",
      " |-- offmarketdate: timestamp (nullable = true)\n",
      " |-- Fireplaces: integer (nullable = true)\n",
      " |-- RoomArea4: string (nullable = true)\n",
      " |-- roomtype: string (nullable = true)\n",
      " |-- ROOF: string (nullable = true)\n",
      " |-- RoomFloor4: string (nullable = true)\n",
      " |-- PotentialShortSale: string (nullable = true)\n",
      " |-- PoolDescription: string (nullable = true)\n",
      " |-- PDOM: integer (nullable = true)\n",
      " |-- GarageDescription: string (nullable = true)\n",
      " |-- SQFTABOVEGROUND: integer (nullable = true)\n",
      " |-- Taxes: integer (nullable = true)\n",
      " |-- RoomFloor1: string (nullable = true)\n",
      " |-- RoomArea1: string (nullable = true)\n",
      " |-- TAXWITHASSESSMENTS: double (nullable = true)\n",
      " |-- TAXYEAR: integer (nullable = true)\n",
      " |-- LivingArea: integer (nullable = true)\n",
      " |-- UNITNUMBER: string (nullable = true)\n",
      " |-- YEARBUILT: integer (nullable = true)\n",
      " |-- ZONING: string (nullable = true)\n",
      " |-- STYLE: string (nullable = true)\n",
      " |-- ACRES: double (nullable = true)\n",
      " |-- CoolingDescription: string (nullable = true)\n",
      " |-- APPLIANCES: string (nullable = true)\n",
      " |-- backonmarketdate: double (nullable = true)\n",
      " |-- ROOMFAMILYCHAR: string (nullable = true)\n",
      " |-- RoomArea3: string (nullable = true)\n",
      " |-- EXTERIOR: string (nullable = true)\n",
      " |-- RoomFloor3: string (nullable = true)\n",
      " |-- RoomFloor2: string (nullable = true)\n",
      " |-- RoomArea2: string (nullable = true)\n",
      " |-- DiningRoomDescription: string (nullable = true)\n",
      " |-- BASEMENT: string (nullable = true)\n",
      " |-- BathsFull: integer (nullable = true)\n",
      " |-- BathsHalf: integer (nullable = true)\n",
      " |-- BATHQUARTER: integer (nullable = true)\n",
      " |-- BATHSTHREEQUARTER: integer (nullable = true)\n",
      " |-- Class: string (nullable = true)\n",
      " |-- BATHSTOTAL: integer (nullable = true)\n",
      " |-- BATHDESC: string (nullable = true)\n",
      " |-- RoomArea5: string (nullable = true)\n",
      " |-- RoomFloor5: string (nullable = true)\n",
      " |-- RoomArea6: string (nullable = true)\n",
      " |-- RoomFloor6: string (nullable = true)\n",
      " |-- RoomArea7: string (nullable = true)\n",
      " |-- RoomFloor7: string (nullable = true)\n",
      " |-- RoomArea8: string (nullable = true)\n",
      " |-- RoomFloor8: string (nullable = true)\n",
      " |-- Bedrooms: integer (nullable = true)\n",
      " |-- SQFTBELOWGROUND: long (nullable = true)\n",
      " |-- AssumableMortgage: string (nullable = true)\n",
      " |-- AssociationFee: long (nullable = true)\n",
      " |-- ASSESSMENTPENDING: string (nullable = true)\n",
      " |-- AssessedValuation: double (nullable = true)\n",
      "\n"
     ]
    },
    {
     "data": {
      "text/html": [
       "<table border='1'>\n",
       "<tr><th>No.</th><th>MLSID</th><th>StreetNumberNumeric</th><th>streetaddress</th><th>STREETNAME</th><th>PostalCode</th><th>StateOrProvince</th><th>City</th><th>SalesClosePrice</th><th>LISTDATE</th><th>LISTPRICE</th><th>LISTTYPE</th><th>OriginalListPrice</th><th>PricePerTSFT</th><th>FOUNDATIONSIZE</th><th>FENCE</th><th>MapLetter</th><th>LotSizeDimensions</th><th>SchoolDistrictNumber</th><th>DAYSONMARKET</th><th>offmarketdate</th><th>Fireplaces</th><th>RoomArea4</th><th>roomtype</th><th>ROOF</th><th>RoomFloor4</th><th>PotentialShortSale</th><th>PoolDescription</th><th>PDOM</th><th>GarageDescription</th><th>SQFTABOVEGROUND</th><th>Taxes</th><th>RoomFloor1</th><th>RoomArea1</th><th>TAXWITHASSESSMENTS</th><th>TAXYEAR</th><th>LivingArea</th><th>UNITNUMBER</th><th>YEARBUILT</th><th>ZONING</th><th>STYLE</th><th>ACRES</th><th>CoolingDescription</th><th>APPLIANCES</th><th>backonmarketdate</th><th>ROOMFAMILYCHAR</th><th>RoomArea3</th><th>EXTERIOR</th><th>RoomFloor3</th><th>RoomFloor2</th><th>RoomArea2</th><th>DiningRoomDescription</th><th>BASEMENT</th><th>BathsFull</th><th>BathsHalf</th><th>BATHQUARTER</th><th>BATHSTHREEQUARTER</th><th>Class</th><th>BATHSTOTAL</th><th>BATHDESC</th><th>RoomArea5</th><th>RoomFloor5</th><th>RoomArea6</th><th>RoomFloor6</th><th>RoomArea7</th><th>RoomFloor7</th><th>RoomArea8</th><th>RoomFloor8</th><th>Bedrooms</th><th>SQFTBELOWGROUND</th><th>AssumableMortgage</th><th>AssociationFee</th><th>ASSESSMENTPENDING</th><th>AssessedValuation</th></tr>\n",
       "<tr><td>1</td><td>RMLS</td><td>11511</td><td>11511 Stillwater ...</td><td>Stillwater</td><td>55042</td><td>MN</td><td>LELM - Lake Elmo</td><td>143000</td><td>7/15/2017 0:00</td><td>139900</td><td>Exclusive Right</td><td>139900</td><td>145.9184</td><td>980</td><td>Other</td><td>C4</td><td>279X200</td><td>834 - Stillwater</td><td>10</td><td>2017-07-30 00:00:00</td><td>0</td><td>12 x  9</td><td>Living Room, Dini...</td><td>NULL</td><td>Main</td><td>No</td><td>NULL</td><td>10</td><td>Attached Garage</td><td>980</td><td>1858</td><td>Main</td><td>16 x 13</td><td>1858.0</td><td>2017</td><td>980</td><td>NULL</td><td>1950</td><td>Residential-Single</td><td>(SF) One Story</td><td>1.28</td><td>Central</td><td>Range, Dishwasher...</td><td>NULL</td><td>NULL</td><td>NULL</td><td>Vinyl</td><td>NULL</td><td>Main</td><td>9 x  7</td><td>Eat In Kitchen</td><td>Full</td><td>1</td><td>1</td><td>0</td><td>0</td><td>SF</td><td>2</td><td>Main Floor 3/4 Ba...</td><td>13 x 11</td><td>Main</td><td>10 x 10</td><td>Main</td><td>NULL</td><td>NULL</td><td>NULL</td><td>NULL</td><td>3</td><td>0</td><td>NULL</td><td>0</td><td>Unknown</td><td>0.0</td></tr>\n",
       "<tr><td>2</td><td>RMLS</td><td>11200</td><td>11200 31st St N</td><td>31st</td><td>55042</td><td>MN</td><td>LELM - Lake Elmo</td><td>190000</td><td>10/9/2017 0:00</td><td>210000</td><td>Exclusive Right</td><td>210000</td><td>85.2783</td><td>1144</td><td>NULL</td><td>C1</td><td>100x140</td><td>834 - Stillwater</td><td>4</td><td>2017-10-13 00:00:00</td><td>0</td><td>11x11</td><td>Living Room, Dini...</td><td>Asphalt Shingles,...</td><td>Main</td><td>No</td><td>NULL</td><td>4</td><td>Attached Garage, ...</td><td>1268</td><td>1640</td><td>Main</td><td>22x14</td><td>1640.0</td><td>2017</td><td>2228</td><td>NULL</td><td>1971</td><td>Residential-Single</td><td>(SF) Split Entry ...</td><td>0.32</td><td>Central</td><td>Range, Microwave,...</td><td>NULL</td><td>Lower Level</td><td>22x14</td><td>Vinyl</td><td>Lower</td><td>Main</td><td>11x12</td><td>Informal Dining R...</td><td>Full, Partial Fin...</td><td>1</td><td>0</td><td>0</td><td>2</td><td>SF</td><td>3</td><td>Main Floor Full B...</td><td>15x11</td><td>Main</td><td>14x11</td><td>Main</td><td>10x11</td><td>Main</td><td>11x11</td><td>Lower</td><td>4</td><td>960</td><td>NULL</td><td>0</td><td>Unknown</td><td>0.0</td></tr>\n",
       "</table>\n"
      ],
      "text/plain": [
       "+---+-----+-------------------+--------------------+----------+----------+---------------+----------------+---------------+--------------+---------+---------------+-----------------+------------+--------------+-----+---------+-----------------+--------------------+------------+-------------------+----------+---------+--------------------+--------------------+----------+------------------+---------------+----+--------------------+---------------+-----+----------+---------+------------------+-------+----------+----------+---------+------------------+--------------------+-----+------------------+--------------------+----------------+--------------+---------+--------+----------+----------+---------+---------------------+--------------------+---------+---------+-----------+-----------------+-----+----------+--------------------+---------+----------+---------+----------+---------+----------+---------+----------+--------+---------------+-----------------+--------------+-----------------+-----------------+\n",
       "|No.|MLSID|StreetNumberNumeric|       streetaddress|STREETNAME|PostalCode|StateOrProvince|            City|SalesClosePrice|      LISTDATE|LISTPRICE|       LISTTYPE|OriginalListPrice|PricePerTSFT|FOUNDATIONSIZE|FENCE|MapLetter|LotSizeDimensions|SchoolDistrictNumber|DAYSONMARKET|      offmarketdate|Fireplaces|RoomArea4|            roomtype|                ROOF|RoomFloor4|PotentialShortSale|PoolDescription|PDOM|   GarageDescription|SQFTABOVEGROUND|Taxes|RoomFloor1|RoomArea1|TAXWITHASSESSMENTS|TAXYEAR|LivingArea|UNITNUMBER|YEARBUILT|            ZONING|               STYLE|ACRES|CoolingDescription|          APPLIANCES|backonmarketdate|ROOMFAMILYCHAR|RoomArea3|EXTERIOR|RoomFloor3|RoomFloor2|RoomArea2|DiningRoomDescription|            BASEMENT|BathsFull|BathsHalf|BATHQUARTER|BATHSTHREEQUARTER|Class|BATHSTOTAL|            BATHDESC|RoomArea5|RoomFloor5|RoomArea6|RoomFloor6|RoomArea7|RoomFloor7|RoomArea8|RoomFloor8|Bedrooms|SQFTBELOWGROUND|AssumableMortgage|AssociationFee|ASSESSMENTPENDING|AssessedValuation|\n",
       "+---+-----+-------------------+--------------------+----------+----------+---------------+----------------+---------------+--------------+---------+---------------+-----------------+------------+--------------+-----+---------+-----------------+--------------------+------------+-------------------+----------+---------+--------------------+--------------------+----------+------------------+---------------+----+--------------------+---------------+-----+----------+---------+------------------+-------+----------+----------+---------+------------------+--------------------+-----+------------------+--------------------+----------------+--------------+---------+--------+----------+----------+---------+---------------------+--------------------+---------+---------+-----------+-----------------+-----+----------+--------------------+---------+----------+---------+----------+---------+----------+---------+----------+--------+---------------+-----------------+--------------+-----------------+-----------------+\n",
       "|  1| RMLS|              11511|11511 Stillwater ...|Stillwater|     55042|             MN|LELM - Lake Elmo|         143000|7/15/2017 0:00|   139900|Exclusive Right|           139900|    145.9184|           980|Other|       C4|          279X200|    834 - Stillwater|          10|2017-07-30 00:00:00|         0|  12 x  9|Living Room, Dini...|                NULL|      Main|                No|           NULL|  10|     Attached Garage|            980| 1858|      Main|  16 x 13|            1858.0|   2017|       980|      NULL|     1950|Residential-Single|      (SF) One Story| 1.28|           Central|Range, Dishwasher...|            NULL|          NULL|     NULL|   Vinyl|      NULL|      Main|   9 x  7|       Eat In Kitchen|                Full|        1|        1|          0|                0|   SF|         2|Main Floor 3/4 Ba...|  13 x 11|      Main|  10 x 10|      Main|     NULL|      NULL|     NULL|      NULL|       3|              0|             NULL|             0|          Unknown|              0.0|\n",
       "|  2| RMLS|              11200|     11200 31st St N|      31st|     55042|             MN|LELM - Lake Elmo|         190000|10/9/2017 0:00|   210000|Exclusive Right|           210000|     85.2783|          1144| NULL|       C1|          100x140|    834 - Stillwater|           4|2017-10-13 00:00:00|         0|    11x11|Living Room, Dini...|Asphalt Shingles,...|      Main|                No|           NULL|   4|Attached Garage, ...|           1268| 1640|      Main|    22x14|            1640.0|   2017|      2228|      NULL|     1971|Residential-Single|(SF) Split Entry ...| 0.32|           Central|Range, Microwave,...|            NULL|   Lower Level|    22x14|   Vinyl|     Lower|      Main|    11x12| Informal Dining R...|Full, Partial Fin...|        1|        0|          0|                2|   SF|         3|Main Floor Full B...|    15x11|      Main|    14x11|      Main|    10x11|      Main|    11x11|     Lower|       4|            960|             NULL|             0|          Unknown|              0.0|\n",
       "+---+-----+-------------------+--------------------+----------+----------+---------------+----------------+---------------+--------------+---------+---------------+-----------------+------------+--------------+-----+---------+-----------------+--------------------+------------+-------------------+----------+---------+--------------------+--------------------+----------+------------------+---------------+----+--------------------+---------------+-----+----------+---------+------------------+-------+----------+----------+---------+------------------+--------------------+-----+------------------+--------------------+----------------+--------------+---------+--------+----------+----------+---------+---------------------+--------------------+---------+---------+-----------+-----------------+-----+----------+--------------------+---------+----------+---------+----------+---------+----------+---------+----------+--------+---------------+-----------------+--------------+-----------------+-----------------+"
      ]
     },
     "execution_count": 5,
     "metadata": {},
     "output_type": "execute_result"
    }
   ],
   "source": [
    "# read file\n",
    "real_state = spark.read.csv('data-sources/2017_StPaul_MN_Real_Estate.csv', header=True, inferSchema=True)\n",
    "\n",
    "# cast columns\n",
    "for col_name in ['SQFTBELOWGROUND', 'AssociationFee']:\n",
    "    real_state = real_state.withColumn(col_name, real_state[col_name].cast('bigint'))\n",
    "real_state = real_state.withColumn('backonmarketdate', real_state['backonmarketdate'].cast('double'))\n",
    "real_state = real_state.withColumn(\"offmarketdate\", \n",
    "                                       F.to_timestamp(real_state[\"offmarketdate\"], \"M/d/yyyy H:m\"))\n",
    "\n",
    "# save to parquet format\n",
    "file_path = 'spark-warehouse/real_state.parquet'\n",
    "real_state.write.parquet(file_path, mode=\"overwrite\")\n",
    "real_state = spark.read.parquet(file_path)\n",
    "real_state.createOrReplaceTempView(\"real_state\")\n",
    "real_state.printSchema()\n",
    "real_state.limit(2)"
   ]
  },
  {
   "cell_type": "markdown",
   "id": "6b9d4812-a693-4bca-ad36-d6f4f26cdc84",
   "metadata": {},
   "source": [
    "### Tables catalogue"
   ]
  },
  {
   "cell_type": "code",
   "execution_count": 6,
   "id": "79396001-462c-4a29-af32-99de195527fd",
   "metadata": {},
   "outputs": [
    {
     "data": {
      "text/plain": [
       "[Table(name='real_state', catalog=None, namespace=[], description=None, tableType='TEMPORARY', isTemporary=True)]"
      ]
     },
     "execution_count": 6,
     "metadata": {},
     "output_type": "execute_result"
    }
   ],
   "source": [
    "spark.catalog.listTables()"
   ]
  },
  {
   "cell_type": "markdown",
   "id": "efc166fe-a0c2-43a3-91ef-29cf0a09bb0d",
   "metadata": {},
   "source": [
    "## Ex. 1 - Differences\n",
    "Let's explore generating features using existing ones. In the midwest of the U.S. many single family homes have extra land around them for green space. In this example you will create a new feature called `'YARD_SIZE'`, and then see if the new feature is correlated with our outcome variable.\n",
    "\n",
    "**Instructions:**\n",
    "\n",
    "1. Create a new column using `withColumn()` called `LOT_SIZE_SQFT` and convert `ACRES` to square feet by multiplying by `acres_to_sqfeet` the conversion factor.\n",
    "2. Create another new column called `YARD_SIZE` by subtracting `FOUNDATIONSIZE` from `LOT_SIZE_SQFT`.\n",
    "3. Run `corr()` on each of the independent variables `YARD_SIZE`, `FOUNDATIONSIZE`, `LOT_SIZE_SQFT` against the dependent variable `SalesClosePrice`. Does new feature show a stronger correlation than either of its components?"
   ]
  },
  {
   "cell_type": "code",
   "execution_count": 7,
   "id": "7ecc1bad-cc56-4bff-b354-a9c721580c2e",
   "metadata": {},
   "outputs": [
    {
     "name": "stdout",
     "output_type": "stream",
     "text": [
      "Dataframe shape: (5000, 74)\n"
     ]
    },
    {
     "data": {
      "text/html": [
       "<table border='1'>\n",
       "<tr><th>No.</th><th>MLSID</th><th>StreetNumberNumeric</th><th>streetaddress</th><th>STREETNAME</th><th>PostalCode</th><th>StateOrProvince</th><th>City</th><th>SalesClosePrice</th><th>LISTDATE</th><th>LISTPRICE</th><th>LISTTYPE</th><th>OriginalListPrice</th><th>PricePerTSFT</th><th>FOUNDATIONSIZE</th><th>FENCE</th><th>MapLetter</th><th>LotSizeDimensions</th><th>SchoolDistrictNumber</th><th>DAYSONMARKET</th><th>offmarketdate</th><th>Fireplaces</th><th>RoomArea4</th><th>roomtype</th><th>ROOF</th><th>RoomFloor4</th><th>PotentialShortSale</th><th>PoolDescription</th><th>PDOM</th><th>GarageDescription</th><th>SQFTABOVEGROUND</th><th>Taxes</th><th>RoomFloor1</th><th>RoomArea1</th><th>TAXWITHASSESSMENTS</th><th>TAXYEAR</th><th>LivingArea</th><th>UNITNUMBER</th><th>YEARBUILT</th><th>ZONING</th><th>STYLE</th><th>ACRES</th><th>CoolingDescription</th><th>APPLIANCES</th><th>backonmarketdate</th><th>ROOMFAMILYCHAR</th><th>RoomArea3</th><th>EXTERIOR</th><th>RoomFloor3</th><th>RoomFloor2</th><th>RoomArea2</th><th>DiningRoomDescription</th><th>BASEMENT</th><th>BathsFull</th><th>BathsHalf</th><th>BATHQUARTER</th><th>BATHSTHREEQUARTER</th><th>Class</th><th>BATHSTOTAL</th><th>BATHDESC</th><th>RoomArea5</th><th>RoomFloor5</th><th>RoomArea6</th><th>RoomFloor6</th><th>RoomArea7</th><th>RoomFloor7</th><th>RoomArea8</th><th>RoomFloor8</th><th>Bedrooms</th><th>SQFTBELOWGROUND</th><th>AssumableMortgage</th><th>AssociationFee</th><th>ASSESSMENTPENDING</th><th>AssessedValuation</th></tr>\n",
       "<tr><td>1</td><td>RMLS</td><td>11511</td><td>11511 Stillwater ...</td><td>Stillwater</td><td>55042</td><td>MN</td><td>LELM - Lake Elmo</td><td>143000</td><td>7/15/2017 0:00</td><td>139900</td><td>Exclusive Right</td><td>139900</td><td>145.9184</td><td>980</td><td>Other</td><td>C4</td><td>279X200</td><td>834 - Stillwater</td><td>10</td><td>2017-07-30 00:00:00</td><td>0</td><td>12 x  9</td><td>Living Room, Dini...</td><td>NULL</td><td>Main</td><td>No</td><td>NULL</td><td>10</td><td>Attached Garage</td><td>980</td><td>1858</td><td>Main</td><td>16 x 13</td><td>1858.0</td><td>2017</td><td>980</td><td>NULL</td><td>1950</td><td>Residential-Single</td><td>(SF) One Story</td><td>1.28</td><td>Central</td><td>Range, Dishwasher...</td><td>NULL</td><td>NULL</td><td>NULL</td><td>Vinyl</td><td>NULL</td><td>Main</td><td>9 x  7</td><td>Eat In Kitchen</td><td>Full</td><td>1</td><td>1</td><td>0</td><td>0</td><td>SF</td><td>2</td><td>Main Floor 3/4 Ba...</td><td>13 x 11</td><td>Main</td><td>10 x 10</td><td>Main</td><td>NULL</td><td>NULL</td><td>NULL</td><td>NULL</td><td>3</td><td>0</td><td>NULL</td><td>0</td><td>Unknown</td><td>0.0</td></tr>\n",
       "<tr><td>2</td><td>RMLS</td><td>11200</td><td>11200 31st St N</td><td>31st</td><td>55042</td><td>MN</td><td>LELM - Lake Elmo</td><td>190000</td><td>10/9/2017 0:00</td><td>210000</td><td>Exclusive Right</td><td>210000</td><td>85.2783</td><td>1144</td><td>NULL</td><td>C1</td><td>100x140</td><td>834 - Stillwater</td><td>4</td><td>2017-10-13 00:00:00</td><td>0</td><td>11x11</td><td>Living Room, Dini...</td><td>Asphalt Shingles,...</td><td>Main</td><td>No</td><td>NULL</td><td>4</td><td>Attached Garage, ...</td><td>1268</td><td>1640</td><td>Main</td><td>22x14</td><td>1640.0</td><td>2017</td><td>2228</td><td>NULL</td><td>1971</td><td>Residential-Single</td><td>(SF) Split Entry ...</td><td>0.32</td><td>Central</td><td>Range, Microwave,...</td><td>NULL</td><td>Lower Level</td><td>22x14</td><td>Vinyl</td><td>Lower</td><td>Main</td><td>11x12</td><td>Informal Dining R...</td><td>Full, Partial Fin...</td><td>1</td><td>0</td><td>0</td><td>2</td><td>SF</td><td>3</td><td>Main Floor Full B...</td><td>15x11</td><td>Main</td><td>14x11</td><td>Main</td><td>10x11</td><td>Main</td><td>11x11</td><td>Lower</td><td>4</td><td>960</td><td>NULL</td><td>0</td><td>Unknown</td><td>0.0</td></tr>\n",
       "</table>\n"
      ],
      "text/plain": [
       "+---+-----+-------------------+--------------------+----------+----------+---------------+----------------+---------------+--------------+---------+---------------+-----------------+------------+--------------+-----+---------+-----------------+--------------------+------------+-------------------+----------+---------+--------------------+--------------------+----------+------------------+---------------+----+--------------------+---------------+-----+----------+---------+------------------+-------+----------+----------+---------+------------------+--------------------+-----+------------------+--------------------+----------------+--------------+---------+--------+----------+----------+---------+---------------------+--------------------+---------+---------+-----------+-----------------+-----+----------+--------------------+---------+----------+---------+----------+---------+----------+---------+----------+--------+---------------+-----------------+--------------+-----------------+-----------------+\n",
       "|No.|MLSID|StreetNumberNumeric|       streetaddress|STREETNAME|PostalCode|StateOrProvince|            City|SalesClosePrice|      LISTDATE|LISTPRICE|       LISTTYPE|OriginalListPrice|PricePerTSFT|FOUNDATIONSIZE|FENCE|MapLetter|LotSizeDimensions|SchoolDistrictNumber|DAYSONMARKET|      offmarketdate|Fireplaces|RoomArea4|            roomtype|                ROOF|RoomFloor4|PotentialShortSale|PoolDescription|PDOM|   GarageDescription|SQFTABOVEGROUND|Taxes|RoomFloor1|RoomArea1|TAXWITHASSESSMENTS|TAXYEAR|LivingArea|UNITNUMBER|YEARBUILT|            ZONING|               STYLE|ACRES|CoolingDescription|          APPLIANCES|backonmarketdate|ROOMFAMILYCHAR|RoomArea3|EXTERIOR|RoomFloor3|RoomFloor2|RoomArea2|DiningRoomDescription|            BASEMENT|BathsFull|BathsHalf|BATHQUARTER|BATHSTHREEQUARTER|Class|BATHSTOTAL|            BATHDESC|RoomArea5|RoomFloor5|RoomArea6|RoomFloor6|RoomArea7|RoomFloor7|RoomArea8|RoomFloor8|Bedrooms|SQFTBELOWGROUND|AssumableMortgage|AssociationFee|ASSESSMENTPENDING|AssessedValuation|\n",
       "+---+-----+-------------------+--------------------+----------+----------+---------------+----------------+---------------+--------------+---------+---------------+-----------------+------------+--------------+-----+---------+-----------------+--------------------+------------+-------------------+----------+---------+--------------------+--------------------+----------+------------------+---------------+----+--------------------+---------------+-----+----------+---------+------------------+-------+----------+----------+---------+------------------+--------------------+-----+------------------+--------------------+----------------+--------------+---------+--------+----------+----------+---------+---------------------+--------------------+---------+---------+-----------+-----------------+-----+----------+--------------------+---------+----------+---------+----------+---------+----------+---------+----------+--------+---------------+-----------------+--------------+-----------------+-----------------+\n",
       "|  1| RMLS|              11511|11511 Stillwater ...|Stillwater|     55042|             MN|LELM - Lake Elmo|         143000|7/15/2017 0:00|   139900|Exclusive Right|           139900|    145.9184|           980|Other|       C4|          279X200|    834 - Stillwater|          10|2017-07-30 00:00:00|         0|  12 x  9|Living Room, Dini...|                NULL|      Main|                No|           NULL|  10|     Attached Garage|            980| 1858|      Main|  16 x 13|            1858.0|   2017|       980|      NULL|     1950|Residential-Single|      (SF) One Story| 1.28|           Central|Range, Dishwasher...|            NULL|          NULL|     NULL|   Vinyl|      NULL|      Main|   9 x  7|       Eat In Kitchen|                Full|        1|        1|          0|                0|   SF|         2|Main Floor 3/4 Ba...|  13 x 11|      Main|  10 x 10|      Main|     NULL|      NULL|     NULL|      NULL|       3|              0|             NULL|             0|          Unknown|              0.0|\n",
       "|  2| RMLS|              11200|     11200 31st St N|      31st|     55042|             MN|LELM - Lake Elmo|         190000|10/9/2017 0:00|   210000|Exclusive Right|           210000|     85.2783|          1144| NULL|       C1|          100x140|    834 - Stillwater|           4|2017-10-13 00:00:00|         0|    11x11|Living Room, Dini...|Asphalt Shingles,...|      Main|                No|           NULL|   4|Attached Garage, ...|           1268| 1640|      Main|    22x14|            1640.0|   2017|      2228|      NULL|     1971|Residential-Single|(SF) Split Entry ...| 0.32|           Central|Range, Microwave,...|            NULL|   Lower Level|    22x14|   Vinyl|     Lower|      Main|    11x12| Informal Dining R...|Full, Partial Fin...|        1|        0|          0|                2|   SF|         3|Main Floor Full B...|    15x11|      Main|    14x11|      Main|    10x11|      Main|    11x11|     Lower|       4|            960|             NULL|             0|          Unknown|              0.0|\n",
       "+---+-----+-------------------+--------------------+----------+----------+---------------+----------------+---------------+--------------+---------+---------------+-----------------+------------+--------------+-----+---------+-----------------+--------------------+------------+-------------------+----------+---------+--------------------+--------------------+----------+------------------+---------------+----+--------------------+---------------+-----+----------+---------+------------------+-------+----------+----------+---------+------------------+--------------------+-----+------------------+--------------------+----------------+--------------+---------+--------+----------+----------+---------+---------------------+--------------------+---------+---------+-----------+-----------------+-----+----------+--------------------+---------+----------+---------+----------+---------+----------+---------+----------+--------+---------------+-----------------+--------------+-----------------+-----------------+"
      ]
     },
     "execution_count": 7,
     "metadata": {},
     "output_type": "execute_result"
    }
   ],
   "source": [
    "# Initializing the data\n",
    "df = real_state.select('*')\n",
    "df.createOrReplaceTempView(\"df\")\n",
    "print('Dataframe shape:', (df.count(), len(df.columns)))\n",
    "df.limit(2)"
   ]
  },
  {
   "cell_type": "code",
   "execution_count": 8,
   "id": "353436ab-a86d-4740-88ca-da7c383ee274",
   "metadata": {},
   "outputs": [
    {
     "name": "stdout",
     "output_type": "stream",
     "text": [
      "Dataframe shape: (5000, 76)\n"
     ]
    },
    {
     "data": {
      "text/html": [
       "<table border='1'>\n",
       "<tr><th>ACRES</th><th>LOT_SIZE_SQFT</th><th>YARD_SIZE</th><th>FOUNDATIONSIZE</th></tr>\n",
       "<tr><td>1.28</td><td>55756.8</td><td>54776.8</td><td>980</td></tr>\n",
       "<tr><td>0.32</td><td>13939.2</td><td>12795.2</td><td>1144</td></tr>\n",
       "</table>\n"
      ],
      "text/plain": [
       "+-----+-------------+---------+--------------+\n",
       "|ACRES|LOT_SIZE_SQFT|YARD_SIZE|FOUNDATIONSIZE|\n",
       "+-----+-------------+---------+--------------+\n",
       "| 1.28|      55756.8|  54776.8|           980|\n",
       "| 0.32|      13939.2|  12795.2|          1144|\n",
       "+-----+-------------+---------+--------------+"
      ]
     },
     "execution_count": 8,
     "metadata": {},
     "output_type": "execute_result"
    }
   ],
   "source": [
    "# Lot size in square feet\n",
    "acres_to_sqfeet = 43560\n",
    "df = df.withColumn('LOT_SIZE_SQFT', df['ACRES'] * acres_to_sqfeet)\n",
    "\n",
    "# Create new column YARD_SIZE\n",
    "df = df.withColumn('YARD_SIZE', df['LOT_SIZE_SQFT'] - df['FOUNDATIONSIZE'])\n",
    "\n",
    "print('Dataframe shape:', (df.count(), len(df.columns)))\n",
    "df.select('ACRES', 'LOT_SIZE_SQFT', 'YARD_SIZE', 'FOUNDATIONSIZE').limit(2)"
   ]
  },
  {
   "cell_type": "code",
   "execution_count": 9,
   "id": "583da1c4-2ba7-4889-b40f-a053545dc22f",
   "metadata": {},
   "outputs": [
    {
     "name": "stdout",
     "output_type": "stream",
     "text": [
      "Corr of ACRES vs SalesClosePrice: 0.22060612588935333\n",
      "Corr of LOT_SIZE_SQFT vs SalesClosePrice: 0.22060612588935338\n",
      "Corr of YARD_SIZE vs SalesClosePrice: 0.22060612588935338\n",
      "Corr of FOUNDATIONSIZE vs SalesClosePrice: 0.6152231695664402\n"
     ]
    }
   ],
   "source": [
    "# Corr of ACRES vs SalesClosePrice\n",
    "print(\"Corr of ACRES vs SalesClosePrice: \" + str(df.corr('SalesClosePrice', 'ACRES')))\n",
    "\n",
    "# Corr of LOT_SIZE_SQFT vs SalesClosePrice\n",
    "print(\"Corr of LOT_SIZE_SQFT vs SalesClosePrice: \" + str(df.corr('SalesClosePrice', 'LOT_SIZE_SQFT')))\n",
    "\n",
    "# Corr of YARD_SIZE vs SalesClosePrice\n",
    "print(\"Corr of YARD_SIZE vs SalesClosePrice: \" + str(df.corr('SalesClosePrice', 'LOT_SIZE_SQFT')))\n",
    "\n",
    "# Corr of FOUNDATIONSIZE vs SalesClosePrice\n",
    "print(\"Corr of FOUNDATIONSIZE vs SalesClosePrice: \" + str(df.corr('SalesClosePrice', 'FOUNDATIONSIZE')))"
   ]
  },
  {
   "cell_type": "markdown",
   "id": "bee776dd-8b46-4f00-8f73-81cbf46bac26",
   "metadata": {},
   "source": [
    "## Ex. 2 - Ratios\n",
    "\n",
    "Ratios are all around us. Whether it's miles per gallon or click through rate, they are everywhere. In this exercise, we'll create some ratios by dividing out pairs of columns.\n",
    "\n",
    "**Instructions:**\n",
    "\n",
    "1. Create a new variable `ASSESSED_TO_LIST` by dividing `ASSESSEDVALUATION` by `LISTPRICE` to help us understand if the having a high or low assessment value impacts our price.\n",
    "2. Create another new variable `TAX_TO_LIST` to help us understand the approximate tax rate by dividing `TAXES` by `LISTPRICE`.\n",
    "3. Lastly create another variable `BED_TO_BATHS` to help us know how crowded our bathrooms might be by dividing `BEDROOMS` by `BATHSTOTAL`."
   ]
  },
  {
   "cell_type": "code",
   "execution_count": 10,
   "id": "3cd89c0f-5059-41aa-a433-5b8db6a02d31",
   "metadata": {},
   "outputs": [
    {
     "name": "stdout",
     "output_type": "stream",
     "text": [
      "Dataframe shape: (5000, 79)\n"
     ]
    },
    {
     "data": {
      "text/html": [
       "<table border='1'>\n",
       "<tr><th>ASSESSEDVALUATION</th><th>LISTPRICE</th><th>ASSESSED_TO_LIST</th><th>TAX_TO_LIST</th><th>TAXES</th><th>LISTPRICE</th><th>BED_TO_BATHS</th><th>BEDROOMS</th><th>BATHSTOTAL</th></tr>\n",
       "<tr><td>0.0</td><td>139900</td><td>0.0</td><td>0.013280914939242315</td><td>1858</td><td>139900</td><td>1.5</td><td>3</td><td>2</td></tr>\n",
       "<tr><td>0.0</td><td>210000</td><td>0.0</td><td>0.00780952380952381</td><td>1640</td><td>210000</td><td>1.3333333333333333</td><td>4</td><td>3</td></tr>\n",
       "<tr><td>0.0</td><td>225000</td><td>0.0</td><td>0.010622222222222222</td><td>2390</td><td>225000</td><td>2.0</td><td>2</td><td>1</td></tr>\n",
       "<tr><td>0.0</td><td>230000</td><td>0.0</td><td>0.009330434782608695</td><td>2146</td><td>230000</td><td>1.0</td><td>2</td><td>2</td></tr>\n",
       "<tr><td>0.0</td><td>239900</td><td>0.0</td><td>0.008378491037932471</td><td>2010</td><td>239900</td><td>1.5</td><td>3</td><td>2</td></tr>\n",
       "</table>\n"
      ],
      "text/plain": [
       "+-----------------+---------+----------------+--------------------+-----+---------+------------------+--------+----------+\n",
       "|ASSESSEDVALUATION|LISTPRICE|ASSESSED_TO_LIST|         TAX_TO_LIST|TAXES|LISTPRICE|      BED_TO_BATHS|BEDROOMS|BATHSTOTAL|\n",
       "+-----------------+---------+----------------+--------------------+-----+---------+------------------+--------+----------+\n",
       "|              0.0|   139900|             0.0|0.013280914939242315| 1858|   139900|               1.5|       3|         2|\n",
       "|              0.0|   210000|             0.0| 0.00780952380952381| 1640|   210000|1.3333333333333333|       4|         3|\n",
       "|              0.0|   225000|             0.0|0.010622222222222222| 2390|   225000|               2.0|       2|         1|\n",
       "|              0.0|   230000|             0.0|0.009330434782608695| 2146|   230000|               1.0|       2|         2|\n",
       "|              0.0|   239900|             0.0|0.008378491037932471| 2010|   239900|               1.5|       3|         2|\n",
       "+-----------------+---------+----------------+--------------------+-----+---------+------------------+--------+----------+"
      ]
     },
     "execution_count": 10,
     "metadata": {},
     "output_type": "execute_result"
    }
   ],
   "source": [
    "# Creating new features\n",
    "df = df.withColumn('ASSESSED_TO_LIST', df['ASSESSEDVALUATION'] / df['LISTPRICE'])\n",
    "df = df.withColumn('TAX_TO_LIST', df['TAXES'] / df['LISTPRICE'])\n",
    "df = df.withColumn('BED_TO_BATHS', df['BEDROOMS'] / df['BATHSTOTAL'])\n",
    "\n",
    "print('Dataframe shape:', (df.count(), len(df.columns)))\n",
    "df[['ASSESSEDVALUATION', 'LISTPRICE', 'ASSESSED_TO_LIST', \n",
    "    'TAX_TO_LIST', 'TAXES', 'LISTPRICE',\n",
    "    'BED_TO_BATHS', 'BEDROOMS', 'BATHSTOTAL']].limit(5)"
   ]
  },
  {
   "cell_type": "code",
   "execution_count": 11,
   "id": "e53433c5-aed8-4a48-97a2-e95a94a7f8f1",
   "metadata": {},
   "outputs": [
    {
     "name": "stdout",
     "output_type": "stream",
     "text": [
      "\n",
      "Corr of *ASSESSEDVALUATION vs SalesClosePrice: -0.0341935782115541\n",
      "Corr of          LISTPRICE vs SalesClosePrice: 0.9966856408762303\n",
      "Corr of   ASSESSED_TO_LIST vs SalesClosePrice: -0.1279625135984936\n",
      "Corr of       *TAX_TO_LIST vs SalesClosePrice: 9.933509462680419e-05\n",
      "Corr of              TAXES vs SalesClosePrice: 0.04330623090283576\n",
      "Corr of          LISTPRICE vs SalesClosePrice: 0.9966856408762303\n",
      "Corr of      *BED_TO_BATHS vs SalesClosePrice: -0.2733668713362839\n",
      "Corr of           BEDROOMS vs SalesClosePrice: 0.5348605700654713\n",
      "Corr of         BATHSTOTAL vs SalesClosePrice: 0.6922501532803715\n",
      "\n"
     ]
    }
   ],
   "source": [
    "# Calculating the correlation\n",
    "print(f'''\n",
    "Corr of {'*ASSESSEDVALUATION':>18} vs SalesClosePrice: {str(df.corr('SalesClosePrice', 'ASSESSEDVALUATION'))}\n",
    "Corr of {'LISTPRICE':>18} vs SalesClosePrice: {str(df.corr('SalesClosePrice', 'LISTPRICE'))}\n",
    "Corr of {'ASSESSED_TO_LIST':>18} vs SalesClosePrice: {str(df.corr('SalesClosePrice', 'ASSESSED_TO_LIST'))}\n",
    "Corr of {'*TAX_TO_LIST':>18} vs SalesClosePrice: {str(df.corr('SalesClosePrice', 'TAX_TO_LIST'))}\n",
    "Corr of {'TAXES':>18} vs SalesClosePrice: {str(df.corr('SalesClosePrice', 'TAXES'))}\n",
    "Corr of {'LISTPRICE':>18} vs SalesClosePrice: {str(df.corr('SalesClosePrice', 'LISTPRICE'))}\n",
    "Corr of {'*BED_TO_BATHS':>18} vs SalesClosePrice: {str(df.corr('SalesClosePrice', 'BED_TO_BATHS'))}\n",
    "Corr of {'BEDROOMS':>18} vs SalesClosePrice: {str(df.corr('SalesClosePrice', 'BEDROOMS'))}\n",
    "Corr of {'BATHSTOTAL':>18} vs SalesClosePrice: {str(df.corr('SalesClosePrice', 'BATHSTOTAL'))}\n",
    "''')"
   ]
  },
  {
   "cell_type": "markdown",
   "id": "5701547f-217d-48a7-8144-e6e9c82e970f",
   "metadata": {},
   "source": [
    "## Ex. 3 - Deeper Features\n",
    "\n",
    "In previous exercises we showed how combining two features together can create good additional features for a predictive model. In this exercise, you will generate 'deeper' features by combining the effects of three variables into one. Then you will check to see if deeper and more complicated features always make for better predictors.\n",
    "\n",
    "**Instructions:**\n",
    "\n",
    "1. Create a new feature by adding `SQFTBELOWGROUND` and `SQFTABOVEGROUND` and creating a new column `Total_SQFT`\n",
    "2. Using `Total_SQFT`, create yet another feature called `BATHS_PER_1000SQFT` with `BATHSTOTAL`. Be sure to scale Total_SQFT to 1000's\n",
    "3. Use `describe()` to inspect the new min, max and mean of our newest feature `BATHS_PER_1000SQFT`. Notice anything strange?\n",
    "4. Create two `jointplots()`s with `Total_SQFT` and `BATHS_PER_1000SQFT` as the `x` values and `SalesClosePrice` as the 'y' value to see which has the better `r ** 2` fit. Does this more complicated feature have a stronger relationship with `SalesClosePrice`?"
   ]
  },
  {
   "cell_type": "code",
   "execution_count": 12,
   "id": "98281304-bb34-4e6e-8944-7ef71dff7f13",
   "metadata": {},
   "outputs": [
    {
     "name": "stdout",
     "output_type": "stream",
     "text": [
      "Dataframe shape: (5000, 81)\n"
     ]
    },
    {
     "data": {
      "text/html": [
       "<table border='1'>\n",
       "<tr><th>Total_SQFT</th><th>SQFTBELOWGROUND</th><th>SQFTABOVEGROUND</th><th>BATHS_PER_1000SQFT</th><th>BATHSTOTAL</th></tr>\n",
       "<tr><td>980</td><td>0</td><td>980</td><td>2.0408163265306123</td><td>2</td></tr>\n",
       "<tr><td>2228</td><td>960</td><td>1268</td><td>1.3464991023339317</td><td>3</td></tr>\n",
       "<tr><td>1102</td><td>0</td><td>1102</td><td>0.9074410163339383</td><td>1</td></tr>\n",
       "<tr><td>1632</td><td>348</td><td>1284</td><td>1.2254901960784315</td><td>2</td></tr>\n",
       "<tr><td>2052</td><td>1026</td><td>1026</td><td>0.9746588693957114</td><td>2</td></tr>\n",
       "</table>\n"
      ],
      "text/plain": [
       "+----------+---------------+---------------+------------------+----------+\n",
       "|Total_SQFT|SQFTBELOWGROUND|SQFTABOVEGROUND|BATHS_PER_1000SQFT|BATHSTOTAL|\n",
       "+----------+---------------+---------------+------------------+----------+\n",
       "|       980|              0|            980|2.0408163265306123|         2|\n",
       "|      2228|            960|           1268|1.3464991023339317|         3|\n",
       "|      1102|              0|           1102|0.9074410163339383|         1|\n",
       "|      1632|            348|           1284|1.2254901960784315|         2|\n",
       "|      2052|           1026|           1026|0.9746588693957114|         2|\n",
       "+----------+---------------+---------------+------------------+----------+"
      ]
     },
     "execution_count": 12,
     "metadata": {},
     "output_type": "execute_result"
    }
   ],
   "source": [
    "# Create new featur\n",
    "df = df.withColumn('Total_SQFT', df['SQFTBELOWGROUND'] + df['SQFTABOVEGROUND'])\n",
    "df = df.withColumn('BATHS_PER_1000SQFT', df['BATHSTOTAL'] / (df['Total_SQFT'] / 1000))\n",
    "\n",
    "print('Dataframe shape:', (df.count(), len(df.columns)))\n",
    "df[['Total_SQFT', 'SQFTBELOWGROUND', 'SQFTABOVEGROUND', 'BATHS_PER_1000SQFT', 'BATHSTOTAL']].limit(5)"
   ]
  },
  {
   "cell_type": "code",
   "execution_count": 13,
   "id": "ad8536ae-ddad-4796-8c26-9e6a6ae94558",
   "metadata": {},
   "outputs": [
    {
     "name": "stdout",
     "output_type": "stream",
     "text": [
      "+-------+-------------------+\n",
      "|summary| BATHS_PER_1000SQFT|\n",
      "+-------+-------------------+\n",
      "|  count|               5000|\n",
      "|   mean| 1.4302617483739894|\n",
      "| stddev|  14.12890410245937|\n",
      "|    min|0.39123630672926446|\n",
      "|    max|             1000.0|\n",
      "+-------+-------------------+\n",
      "\n"
     ]
    }
   ],
   "source": [
    "# Reviewing deeply the column\n",
    "df[['BATHS_PER_1000SQFT']].describe().show()"
   ]
  },
  {
   "cell_type": "code",
   "execution_count": 14,
   "id": "75d61a58-ecd8-43f7-abf3-9741960c7edd",
   "metadata": {},
   "outputs": [
    {
     "data": {
      "image/png": "[encoded data removed]",
      "text/plain": [
       "<Figure size 600x600 with 3 Axes>"
      ]
     },
     "metadata": {},
     "output_type": "display_data"
    }
   ],
   "source": [
    "# Sample and create pandas dataframe\n",
    "pandas_df = df.sample(False, 0.5, 0).toPandas()\n",
    "\n",
    "# Linear model plots - Total_SQFT\n",
    "linear_model_plot(x='Bedrooms', y='SalesClosePrice', df=pandas_df)\n",
    "plt.show()"
   ]
  },
  {
   "cell_type": "code",
   "execution_count": 15,
   "id": "fc72dd6a-8344-4b73-9670-c03107285488",
   "metadata": {},
   "outputs": [
    {
     "data": {
      "image/png": "[encoded data removed]",
      "text/plain": [
       "<Figure size 600x600 with 3 Axes>"
      ]
     },
     "metadata": {},
     "output_type": "display_data"
    }
   ],
   "source": [
    "# Linear model plots - BATHS_PER_1000SQFT\n",
    "linear_model_plot(x='BATHS_PER_1000SQFT', y='SalesClosePrice', df=pandas_df)\n",
    "plt.show()"
   ]
  },
  {
   "cell_type": "markdown",
   "id": "4b37b6c4-4dac-4f5a-89d7-41d8a0676954",
   "metadata": {},
   "source": [
    "## Time Features\n",
    "\n",
    "### Treating Date Fields as Dates"
   ]
  },
  {
   "cell_type": "code",
   "execution_count": 16,
   "id": "821e4b36-a9e5-4603-a3b3-6bad9b13264b",
   "metadata": {},
   "outputs": [
    {
     "name": "stdout",
     "output_type": "stream",
     "text": [
      "Dataframe shape: (5000, 74)\n"
     ]
    },
    {
     "data": {
      "text/html": [
       "<table border='1'>\n",
       "<tr><th>No.</th><th>MLSID</th><th>StreetNumberNumeric</th><th>streetaddress</th><th>STREETNAME</th><th>PostalCode</th><th>StateOrProvince</th><th>City</th><th>SalesClosePrice</th><th>LISTDATE</th><th>LISTPRICE</th><th>LISTTYPE</th><th>OriginalListPrice</th><th>PricePerTSFT</th><th>FOUNDATIONSIZE</th><th>FENCE</th><th>MapLetter</th><th>LotSizeDimensions</th><th>SchoolDistrictNumber</th><th>DAYSONMARKET</th><th>offmarketdate</th><th>Fireplaces</th><th>RoomArea4</th><th>roomtype</th><th>ROOF</th><th>RoomFloor4</th><th>PotentialShortSale</th><th>PoolDescription</th><th>PDOM</th><th>GarageDescription</th><th>SQFTABOVEGROUND</th><th>Taxes</th><th>RoomFloor1</th><th>RoomArea1</th><th>TAXWITHASSESSMENTS</th><th>TAXYEAR</th><th>LivingArea</th><th>UNITNUMBER</th><th>YEARBUILT</th><th>ZONING</th><th>STYLE</th><th>ACRES</th><th>CoolingDescription</th><th>APPLIANCES</th><th>backonmarketdate</th><th>ROOMFAMILYCHAR</th><th>RoomArea3</th><th>EXTERIOR</th><th>RoomFloor3</th><th>RoomFloor2</th><th>RoomArea2</th><th>DiningRoomDescription</th><th>BASEMENT</th><th>BathsFull</th><th>BathsHalf</th><th>BATHQUARTER</th><th>BATHSTHREEQUARTER</th><th>Class</th><th>BATHSTOTAL</th><th>BATHDESC</th><th>RoomArea5</th><th>RoomFloor5</th><th>RoomArea6</th><th>RoomFloor6</th><th>RoomArea7</th><th>RoomFloor7</th><th>RoomArea8</th><th>RoomFloor8</th><th>Bedrooms</th><th>SQFTBELOWGROUND</th><th>AssumableMortgage</th><th>AssociationFee</th><th>ASSESSMENTPENDING</th><th>AssessedValuation</th></tr>\n",
       "<tr><td>1</td><td>RMLS</td><td>11511</td><td>11511 Stillwater ...</td><td>Stillwater</td><td>55042</td><td>MN</td><td>LELM - Lake Elmo</td><td>143000</td><td>7/15/2017 0:00</td><td>139900</td><td>Exclusive Right</td><td>139900</td><td>145.9184</td><td>980</td><td>Other</td><td>C4</td><td>279X200</td><td>834 - Stillwater</td><td>10</td><td>2017-07-30 00:00:00</td><td>0</td><td>12 x  9</td><td>Living Room, Dini...</td><td>NULL</td><td>Main</td><td>No</td><td>NULL</td><td>10</td><td>Attached Garage</td><td>980</td><td>1858</td><td>Main</td><td>16 x 13</td><td>1858.0</td><td>2017</td><td>980</td><td>NULL</td><td>1950</td><td>Residential-Single</td><td>(SF) One Story</td><td>1.28</td><td>Central</td><td>Range, Dishwasher...</td><td>NULL</td><td>NULL</td><td>NULL</td><td>Vinyl</td><td>NULL</td><td>Main</td><td>9 x  7</td><td>Eat In Kitchen</td><td>Full</td><td>1</td><td>1</td><td>0</td><td>0</td><td>SF</td><td>2</td><td>Main Floor 3/4 Ba...</td><td>13 x 11</td><td>Main</td><td>10 x 10</td><td>Main</td><td>NULL</td><td>NULL</td><td>NULL</td><td>NULL</td><td>3</td><td>0</td><td>NULL</td><td>0</td><td>Unknown</td><td>0.0</td></tr>\n",
       "<tr><td>2</td><td>RMLS</td><td>11200</td><td>11200 31st St N</td><td>31st</td><td>55042</td><td>MN</td><td>LELM - Lake Elmo</td><td>190000</td><td>10/9/2017 0:00</td><td>210000</td><td>Exclusive Right</td><td>210000</td><td>85.2783</td><td>1144</td><td>NULL</td><td>C1</td><td>100x140</td><td>834 - Stillwater</td><td>4</td><td>2017-10-13 00:00:00</td><td>0</td><td>11x11</td><td>Living Room, Dini...</td><td>Asphalt Shingles,...</td><td>Main</td><td>No</td><td>NULL</td><td>4</td><td>Attached Garage, ...</td><td>1268</td><td>1640</td><td>Main</td><td>22x14</td><td>1640.0</td><td>2017</td><td>2228</td><td>NULL</td><td>1971</td><td>Residential-Single</td><td>(SF) Split Entry ...</td><td>0.32</td><td>Central</td><td>Range, Microwave,...</td><td>NULL</td><td>Lower Level</td><td>22x14</td><td>Vinyl</td><td>Lower</td><td>Main</td><td>11x12</td><td>Informal Dining R...</td><td>Full, Partial Fin...</td><td>1</td><td>0</td><td>0</td><td>2</td><td>SF</td><td>3</td><td>Main Floor Full B...</td><td>15x11</td><td>Main</td><td>14x11</td><td>Main</td><td>10x11</td><td>Main</td><td>11x11</td><td>Lower</td><td>4</td><td>960</td><td>NULL</td><td>0</td><td>Unknown</td><td>0.0</td></tr>\n",
       "</table>\n"
      ],
      "text/plain": [
       "+---+-----+-------------------+--------------------+----------+----------+---------------+----------------+---------------+--------------+---------+---------------+-----------------+------------+--------------+-----+---------+-----------------+--------------------+------------+-------------------+----------+---------+--------------------+--------------------+----------+------------------+---------------+----+--------------------+---------------+-----+----------+---------+------------------+-------+----------+----------+---------+------------------+--------------------+-----+------------------+--------------------+----------------+--------------+---------+--------+----------+----------+---------+---------------------+--------------------+---------+---------+-----------+-----------------+-----+----------+--------------------+---------+----------+---------+----------+---------+----------+---------+----------+--------+---------------+-----------------+--------------+-----------------+-----------------+\n",
       "|No.|MLSID|StreetNumberNumeric|       streetaddress|STREETNAME|PostalCode|StateOrProvince|            City|SalesClosePrice|      LISTDATE|LISTPRICE|       LISTTYPE|OriginalListPrice|PricePerTSFT|FOUNDATIONSIZE|FENCE|MapLetter|LotSizeDimensions|SchoolDistrictNumber|DAYSONMARKET|      offmarketdate|Fireplaces|RoomArea4|            roomtype|                ROOF|RoomFloor4|PotentialShortSale|PoolDescription|PDOM|   GarageDescription|SQFTABOVEGROUND|Taxes|RoomFloor1|RoomArea1|TAXWITHASSESSMENTS|TAXYEAR|LivingArea|UNITNUMBER|YEARBUILT|            ZONING|               STYLE|ACRES|CoolingDescription|          APPLIANCES|backonmarketdate|ROOMFAMILYCHAR|RoomArea3|EXTERIOR|RoomFloor3|RoomFloor2|RoomArea2|DiningRoomDescription|            BASEMENT|BathsFull|BathsHalf|BATHQUARTER|BATHSTHREEQUARTER|Class|BATHSTOTAL|            BATHDESC|RoomArea5|RoomFloor5|RoomArea6|RoomFloor6|RoomArea7|RoomFloor7|RoomArea8|RoomFloor8|Bedrooms|SQFTBELOWGROUND|AssumableMortgage|AssociationFee|ASSESSMENTPENDING|AssessedValuation|\n",
       "+---+-----+-------------------+--------------------+----------+----------+---------------+----------------+---------------+--------------+---------+---------------+-----------------+------------+--------------+-----+---------+-----------------+--------------------+------------+-------------------+----------+---------+--------------------+--------------------+----------+------------------+---------------+----+--------------------+---------------+-----+----------+---------+------------------+-------+----------+----------+---------+------------------+--------------------+-----+------------------+--------------------+----------------+--------------+---------+--------+----------+----------+---------+---------------------+--------------------+---------+---------+-----------+-----------------+-----+----------+--------------------+---------+----------+---------+----------+---------+----------+---------+----------+--------+---------------+-----------------+--------------+-----------------+-----------------+\n",
       "|  1| RMLS|              11511|11511 Stillwater ...|Stillwater|     55042|             MN|LELM - Lake Elmo|         143000|7/15/2017 0:00|   139900|Exclusive Right|           139900|    145.9184|           980|Other|       C4|          279X200|    834 - Stillwater|          10|2017-07-30 00:00:00|         0|  12 x  9|Living Room, Dini...|                NULL|      Main|                No|           NULL|  10|     Attached Garage|            980| 1858|      Main|  16 x 13|            1858.0|   2017|       980|      NULL|     1950|Residential-Single|      (SF) One Story| 1.28|           Central|Range, Dishwasher...|            NULL|          NULL|     NULL|   Vinyl|      NULL|      Main|   9 x  7|       Eat In Kitchen|                Full|        1|        1|          0|                0|   SF|         2|Main Floor 3/4 Ba...|  13 x 11|      Main|  10 x 10|      Main|     NULL|      NULL|     NULL|      NULL|       3|              0|             NULL|             0|          Unknown|              0.0|\n",
       "|  2| RMLS|              11200|     11200 31st St N|      31st|     55042|             MN|LELM - Lake Elmo|         190000|10/9/2017 0:00|   210000|Exclusive Right|           210000|     85.2783|          1144| NULL|       C1|          100x140|    834 - Stillwater|           4|2017-10-13 00:00:00|         0|    11x11|Living Room, Dini...|Asphalt Shingles,...|      Main|                No|           NULL|   4|Attached Garage, ...|           1268| 1640|      Main|    22x14|            1640.0|   2017|      2228|      NULL|     1971|Residential-Single|(SF) Split Entry ...| 0.32|           Central|Range, Microwave,...|            NULL|   Lower Level|    22x14|   Vinyl|     Lower|      Main|    11x12| Informal Dining R...|Full, Partial Fin...|        1|        0|          0|                2|   SF|         3|Main Floor Full B...|    15x11|      Main|    14x11|      Main|    10x11|      Main|    11x11|     Lower|       4|            960|             NULL|             0|          Unknown|              0.0|\n",
       "+---+-----+-------------------+--------------------+----------+----------+---------------+----------------+---------------+--------------+---------+---------------+-----------------+------------+--------------+-----+---------+-----------------+--------------------+------------+-------------------+----------+---------+--------------------+--------------------+----------+------------------+---------------+----+--------------------+---------------+-----+----------+---------+------------------+-------+----------+----------+---------+------------------+--------------------+-----+------------------+--------------------+----------------+--------------+---------+--------+----------+----------+---------+---------------------+--------------------+---------+---------+-----------+-----------------+-----+----------+--------------------+---------+----------+---------+----------+---------+----------+---------+----------+--------+---------------+-----------------+--------------+-----------------+-----------------+"
      ]
     },
     "execution_count": 16,
     "metadata": {},
     "output_type": "execute_result"
    }
   ],
   "source": [
    "# Initializing the data\n",
    "df = real_state.select('*')\n",
    "print('Dataframe shape:', (df.count(), len(df.columns)))\n",
    "df.limit(2)"
   ]
  },
  {
   "cell_type": "code",
   "execution_count": 17,
   "id": "62306100-2665-43d6-b3d4-e9e089d5741a",
   "metadata": {},
   "outputs": [
    {
     "name": "stdout",
     "output_type": "stream",
     "text": [
      "[('LISTDATE', 'string')]\n",
      "+--------------+\n",
      "|      LISTDATE|\n",
      "+--------------+\n",
      "|7/15/2017 0:00|\n",
      "|10/9/2017 0:00|\n",
      "+--------------+\n",
      "only showing top 2 rows\n",
      "\n"
     ]
    }
   ],
   "source": [
    "# Inspect the field\n",
    "print(df[['LISTDATE']].dtypes)\n",
    "df[['LISTDATE']].show(2)"
   ]
  },
  {
   "cell_type": "code",
   "execution_count": 18,
   "id": "f400020e-70a9-4854-ab1f-886a1b1d64f7",
   "metadata": {},
   "outputs": [
    {
     "name": "stdout",
     "output_type": "stream",
     "text": [
      "[('LISTDATE', 'date')]\n",
      "+----------+\n",
      "|  LISTDATE|\n",
      "+----------+\n",
      "|2017-07-15|\n",
      "|2017-10-09|\n",
      "+----------+\n",
      "only showing top 2 rows\n",
      "\n"
     ]
    }
   ],
   "source": [
    "# Cast the data type to Date\n",
    "df = df.withColumn('LISTDATE', F.to_date('LISTDATE', format='M/d/yyyy H:m'))\n",
    "\n",
    "# Inspecting results\n",
    "print(df[['LISTDATE']].dtypes)\n",
    "df[['LISTDATE']].show(2)"
   ]
  },
  {
   "cell_type": "markdown",
   "id": "56c77c04-ed89-4dc0-9992-9f28ad534fc3",
   "metadata": {},
   "source": [
    "### Time Components"
   ]
  },
  {
   "cell_type": "code",
   "execution_count": 19,
   "id": "3526969a-4ac8-4597-a5fc-c104369fa751",
   "metadata": {},
   "outputs": [
    {
     "name": "stdout",
     "output_type": "stream",
     "text": [
      "[('LISTDATE', 'date'),\n",
      " ('LIST_YEAR', 'int'),\n",
      " ('LIST_MONTH', 'int'),\n",
      " ('LIST_DAYOFMONTH', 'int'),\n",
      " ('LIST_WEEKOFYEAR', 'int'),\n",
      " ('DAY_NAME_ABR', 'string'),\n",
      " ('DAY_NAME', 'string')]\n",
      "+----------+---------+----------+---------------+---------------+------------+--------+\n",
      "|  LISTDATE|LIST_YEAR|LIST_MONTH|LIST_DAYOFMONTH|LIST_WEEKOFYEAR|DAY_NAME_ABR|DAY_NAME|\n",
      "+----------+---------+----------+---------------+---------------+------------+--------+\n",
      "|2017-07-15|     2017|         7|             15|             28|         Sat|Saturday|\n",
      "|2017-10-09|     2017|        10|              9|             41|         Mon|  Monday|\n",
      "+----------+---------+----------+---------------+---------------+------------+--------+\n",
      "only showing top 2 rows\n",
      "\n"
     ]
    }
   ],
   "source": [
    "# Create a new column of year number\n",
    "df = df.withColumn('LIST_YEAR', F.year('LISTDATE'))\n",
    "\n",
    "# Create a new column of month number\n",
    "df = df.withColumn('LIST_MONTH', F.month('LISTDATE'))\n",
    "\n",
    "# Create new columns of the day number within the month\n",
    "df = df.withColumn('LIST_DAYOFMONTH', F.dayofmonth('LISTDATE'))\n",
    "\n",
    "# Create new columns of the week number within the year\n",
    "df = df.withColumn('LIST_WEEKOFYEAR', F.weekofyear('LISTDATE'))\n",
    "\n",
    "# Create new columns of the week number within the year\n",
    "df = df.withColumn('DAY_NAME_ABR', F.date_format('LISTDATE', 'E'))\n",
    "\n",
    "# Create new columns of the week number within the year\n",
    "df = df.withColumn('DAY_NAME', F.date_format('LISTDATE', 'EEEE'))\n",
    "\n",
    "# Inspecting results\n",
    "column_list = ['LISTDATE', 'LIST_YEAR', 'LIST_MONTH', 'LIST_DAYOFMONTH', 'LIST_WEEKOFYEAR',\n",
    "               'DAY_NAME_ABR', 'DAY_NAME']\n",
    "pprint(df[column_list].dtypes)\n",
    "df[column_list].show(2)"
   ]
  },
  {
   "cell_type": "markdown",
   "id": "a7b0ecf7-f458-450d-aca3-d51049cd51d0",
   "metadata": {},
   "source": [
    "### Basic Time Based Metrics"
   ]
  },
  {
   "cell_type": "code",
   "execution_count": 20,
   "id": "045485e5-e69c-4ff3-9aa6-8a19c47fa83e",
   "metadata": {},
   "outputs": [
    {
     "name": "stdout",
     "output_type": "stream",
     "text": [
      "[('DAYSONMARKET', 'int'), ('OFFMARKETDATE', 'timestamp'), ('LISTDATE', 'date')]\n",
      "+------------+-------------------+----------+\n",
      "|DAYSONMARKET|      OFFMARKETDATE|  LISTDATE|\n",
      "+------------+-------------------+----------+\n",
      "|          10|2017-07-30 00:00:00|2017-07-15|\n",
      "|           4|2017-10-13 00:00:00|2017-10-09|\n",
      "+------------+-------------------+----------+\n",
      "only showing top 2 rows\n",
      "\n"
     ]
    }
   ],
   "source": [
    "# Calculate difference between two date fields\n",
    "df.withColumn('DAYSONMARKET', F.datediff('OFFMARKETDATE', 'LISTDATE'))\n",
    "\n",
    "# Inspecting results\n",
    "column_list = ['DAYSONMARKET', 'OFFMARKETDATE', 'LISTDATE']\n",
    "pprint(df[column_list].dtypes)\n",
    "df[column_list].show(2)"
   ]
  },
  {
   "cell_type": "markdown",
   "id": "09a530bc-70d3-41f6-a2da-1ab3fec8d8e3",
   "metadata": {},
   "source": [
    "### Lagging Features"
   ]
  },
  {
   "cell_type": "code",
   "execution_count": 21,
   "id": "5ab24f48-967a-42dd-95e0-d11c474c07a0",
   "metadata": {},
   "outputs": [
    {
     "name": "stdout",
     "output_type": "stream",
     "text": [
      "[('LISTDATE', 'date'), ('LISTPRICE-WK', 'int'), ('LISTPRICE', 'int')]\n",
      "+----------+------------+---------+\n",
      "|  LISTDATE|LISTPRICE-WK|LISTPRICE|\n",
      "+----------+------------+---------+\n",
      "|2017-02-23|        NULL|   194000|\n",
      "|2017-02-24|        NULL|   189900|\n",
      "|2017-02-24|      194000|   206900|\n",
      "|2017-02-24|      189900|   239900|\n",
      "|2017-02-24|      206900|   139900|\n",
      "+----------+------------+---------+\n",
      "only showing top 5 rows\n",
      "\n"
     ]
    }
   ],
   "source": [
    "# Create Window\n",
    "w = Window().orderBy(df['LISTDATE'])\n",
    "\n",
    "# Create lagged column\n",
    "df = df.withColumn('LISTPRICE-WK', F.lag('LISTPRICE', offset=2).over(w))\n",
    "\n",
    "# Inspect results\n",
    "column_list = ['LISTDATE', 'LISTPRICE-WK', 'LISTPRICE']\n",
    "pprint(df[column_list].dtypes)\n",
    "df[column_list].show(5)"
   ]
  },
  {
   "cell_type": "markdown",
   "id": "4a742847-84a5-499f-8dd7-de012ca6fe48",
   "metadata": {},
   "source": [
    "## Ex. 4 - Time Components\n",
    "\n",
    "Being able to work with time components for building features is important but you can also use them to explore and understand your data further. In this exercise, you'll be looking to see if there is a pattern to which day of the week a house lists on. Please keep in mind that PySpark's week starts on Sunday, with a value of 1 and ends on Saturday, a value of 7.\n",
    "\n",
    "**Instructions:**\n",
    "\n",
    "1. Import `to_date()` and `dayofweek()` functions from `pyspark.sql.functions` (Already done.)\n",
    "2. Use the `to_date()` function to convert `LISTDATE` to a Spark `date` type, save the converted column in place using `withColumn()`\n",
    "3. Create a new column using `LISTDATE` and `dayofweek()` then save it as `List_Day_of_Week` using `withColumn()`\n",
    "4. Sample half the dataframe and convert it to a pandas dataframe with `toPandas()` and plot the count of the pandas dataframe's `List_Day_of_Week` column by using seaborn `countplot()` where `x = List_Day_of_Week`."
   ]
  },
  {
   "cell_type": "code",
   "execution_count": 22,
   "id": "7fe82042-f99a-47ea-9906-fd703dfd63e0",
   "metadata": {},
   "outputs": [
    {
     "name": "stdout",
     "output_type": "stream",
     "text": [
      "Dataframe shape: (5000, 74)\n"
     ]
    },
    {
     "data": {
      "text/html": [
       "<table border='1'>\n",
       "<tr><th>No.</th><th>MLSID</th><th>StreetNumberNumeric</th><th>streetaddress</th><th>STREETNAME</th><th>PostalCode</th><th>StateOrProvince</th><th>City</th><th>SalesClosePrice</th><th>LISTDATE</th><th>LISTPRICE</th><th>LISTTYPE</th><th>OriginalListPrice</th><th>PricePerTSFT</th><th>FOUNDATIONSIZE</th><th>FENCE</th><th>MapLetter</th><th>LotSizeDimensions</th><th>SchoolDistrictNumber</th><th>DAYSONMARKET</th><th>offmarketdate</th><th>Fireplaces</th><th>RoomArea4</th><th>roomtype</th><th>ROOF</th><th>RoomFloor4</th><th>PotentialShortSale</th><th>PoolDescription</th><th>PDOM</th><th>GarageDescription</th><th>SQFTABOVEGROUND</th><th>Taxes</th><th>RoomFloor1</th><th>RoomArea1</th><th>TAXWITHASSESSMENTS</th><th>TAXYEAR</th><th>LivingArea</th><th>UNITNUMBER</th><th>YEARBUILT</th><th>ZONING</th><th>STYLE</th><th>ACRES</th><th>CoolingDescription</th><th>APPLIANCES</th><th>backonmarketdate</th><th>ROOMFAMILYCHAR</th><th>RoomArea3</th><th>EXTERIOR</th><th>RoomFloor3</th><th>RoomFloor2</th><th>RoomArea2</th><th>DiningRoomDescription</th><th>BASEMENT</th><th>BathsFull</th><th>BathsHalf</th><th>BATHQUARTER</th><th>BATHSTHREEQUARTER</th><th>Class</th><th>BATHSTOTAL</th><th>BATHDESC</th><th>RoomArea5</th><th>RoomFloor5</th><th>RoomArea6</th><th>RoomFloor6</th><th>RoomArea7</th><th>RoomFloor7</th><th>RoomArea8</th><th>RoomFloor8</th><th>Bedrooms</th><th>SQFTBELOWGROUND</th><th>AssumableMortgage</th><th>AssociationFee</th><th>ASSESSMENTPENDING</th><th>AssessedValuation</th></tr>\n",
       "<tr><td>1</td><td>RMLS</td><td>11511</td><td>11511 Stillwater ...</td><td>Stillwater</td><td>55042</td><td>MN</td><td>LELM - Lake Elmo</td><td>143000</td><td>7/15/2017 0:00</td><td>139900</td><td>Exclusive Right</td><td>139900</td><td>145.9184</td><td>980</td><td>Other</td><td>C4</td><td>279X200</td><td>834 - Stillwater</td><td>10</td><td>2017-07-30 00:00:00</td><td>0</td><td>12 x  9</td><td>Living Room, Dini...</td><td>NULL</td><td>Main</td><td>No</td><td>NULL</td><td>10</td><td>Attached Garage</td><td>980</td><td>1858</td><td>Main</td><td>16 x 13</td><td>1858.0</td><td>2017</td><td>980</td><td>NULL</td><td>1950</td><td>Residential-Single</td><td>(SF) One Story</td><td>1.28</td><td>Central</td><td>Range, Dishwasher...</td><td>NULL</td><td>NULL</td><td>NULL</td><td>Vinyl</td><td>NULL</td><td>Main</td><td>9 x  7</td><td>Eat In Kitchen</td><td>Full</td><td>1</td><td>1</td><td>0</td><td>0</td><td>SF</td><td>2</td><td>Main Floor 3/4 Ba...</td><td>13 x 11</td><td>Main</td><td>10 x 10</td><td>Main</td><td>NULL</td><td>NULL</td><td>NULL</td><td>NULL</td><td>3</td><td>0</td><td>NULL</td><td>0</td><td>Unknown</td><td>0.0</td></tr>\n",
       "<tr><td>2</td><td>RMLS</td><td>11200</td><td>11200 31st St N</td><td>31st</td><td>55042</td><td>MN</td><td>LELM - Lake Elmo</td><td>190000</td><td>10/9/2017 0:00</td><td>210000</td><td>Exclusive Right</td><td>210000</td><td>85.2783</td><td>1144</td><td>NULL</td><td>C1</td><td>100x140</td><td>834 - Stillwater</td><td>4</td><td>2017-10-13 00:00:00</td><td>0</td><td>11x11</td><td>Living Room, Dini...</td><td>Asphalt Shingles,...</td><td>Main</td><td>No</td><td>NULL</td><td>4</td><td>Attached Garage, ...</td><td>1268</td><td>1640</td><td>Main</td><td>22x14</td><td>1640.0</td><td>2017</td><td>2228</td><td>NULL</td><td>1971</td><td>Residential-Single</td><td>(SF) Split Entry ...</td><td>0.32</td><td>Central</td><td>Range, Microwave,...</td><td>NULL</td><td>Lower Level</td><td>22x14</td><td>Vinyl</td><td>Lower</td><td>Main</td><td>11x12</td><td>Informal Dining R...</td><td>Full, Partial Fin...</td><td>1</td><td>0</td><td>0</td><td>2</td><td>SF</td><td>3</td><td>Main Floor Full B...</td><td>15x11</td><td>Main</td><td>14x11</td><td>Main</td><td>10x11</td><td>Main</td><td>11x11</td><td>Lower</td><td>4</td><td>960</td><td>NULL</td><td>0</td><td>Unknown</td><td>0.0</td></tr>\n",
       "</table>\n"
      ],
      "text/plain": [
       "+---+-----+-------------------+--------------------+----------+----------+---------------+----------------+---------------+--------------+---------+---------------+-----------------+------------+--------------+-----+---------+-----------------+--------------------+------------+-------------------+----------+---------+--------------------+--------------------+----------+------------------+---------------+----+--------------------+---------------+-----+----------+---------+------------------+-------+----------+----------+---------+------------------+--------------------+-----+------------------+--------------------+----------------+--------------+---------+--------+----------+----------+---------+---------------------+--------------------+---------+---------+-----------+-----------------+-----+----------+--------------------+---------+----------+---------+----------+---------+----------+---------+----------+--------+---------------+-----------------+--------------+-----------------+-----------------+\n",
       "|No.|MLSID|StreetNumberNumeric|       streetaddress|STREETNAME|PostalCode|StateOrProvince|            City|SalesClosePrice|      LISTDATE|LISTPRICE|       LISTTYPE|OriginalListPrice|PricePerTSFT|FOUNDATIONSIZE|FENCE|MapLetter|LotSizeDimensions|SchoolDistrictNumber|DAYSONMARKET|      offmarketdate|Fireplaces|RoomArea4|            roomtype|                ROOF|RoomFloor4|PotentialShortSale|PoolDescription|PDOM|   GarageDescription|SQFTABOVEGROUND|Taxes|RoomFloor1|RoomArea1|TAXWITHASSESSMENTS|TAXYEAR|LivingArea|UNITNUMBER|YEARBUILT|            ZONING|               STYLE|ACRES|CoolingDescription|          APPLIANCES|backonmarketdate|ROOMFAMILYCHAR|RoomArea3|EXTERIOR|RoomFloor3|RoomFloor2|RoomArea2|DiningRoomDescription|            BASEMENT|BathsFull|BathsHalf|BATHQUARTER|BATHSTHREEQUARTER|Class|BATHSTOTAL|            BATHDESC|RoomArea5|RoomFloor5|RoomArea6|RoomFloor6|RoomArea7|RoomFloor7|RoomArea8|RoomFloor8|Bedrooms|SQFTBELOWGROUND|AssumableMortgage|AssociationFee|ASSESSMENTPENDING|AssessedValuation|\n",
       "+---+-----+-------------------+--------------------+----------+----------+---------------+----------------+---------------+--------------+---------+---------------+-----------------+------------+--------------+-----+---------+-----------------+--------------------+------------+-------------------+----------+---------+--------------------+--------------------+----------+------------------+---------------+----+--------------------+---------------+-----+----------+---------+------------------+-------+----------+----------+---------+------------------+--------------------+-----+------------------+--------------------+----------------+--------------+---------+--------+----------+----------+---------+---------------------+--------------------+---------+---------+-----------+-----------------+-----+----------+--------------------+---------+----------+---------+----------+---------+----------+---------+----------+--------+---------------+-----------------+--------------+-----------------+-----------------+\n",
       "|  1| RMLS|              11511|11511 Stillwater ...|Stillwater|     55042|             MN|LELM - Lake Elmo|         143000|7/15/2017 0:00|   139900|Exclusive Right|           139900|    145.9184|           980|Other|       C4|          279X200|    834 - Stillwater|          10|2017-07-30 00:00:00|         0|  12 x  9|Living Room, Dini...|                NULL|      Main|                No|           NULL|  10|     Attached Garage|            980| 1858|      Main|  16 x 13|            1858.0|   2017|       980|      NULL|     1950|Residential-Single|      (SF) One Story| 1.28|           Central|Range, Dishwasher...|            NULL|          NULL|     NULL|   Vinyl|      NULL|      Main|   9 x  7|       Eat In Kitchen|                Full|        1|        1|          0|                0|   SF|         2|Main Floor 3/4 Ba...|  13 x 11|      Main|  10 x 10|      Main|     NULL|      NULL|     NULL|      NULL|       3|              0|             NULL|             0|          Unknown|              0.0|\n",
       "|  2| RMLS|              11200|     11200 31st St N|      31st|     55042|             MN|LELM - Lake Elmo|         190000|10/9/2017 0:00|   210000|Exclusive Right|           210000|     85.2783|          1144| NULL|       C1|          100x140|    834 - Stillwater|           4|2017-10-13 00:00:00|         0|    11x11|Living Room, Dini...|Asphalt Shingles,...|      Main|                No|           NULL|   4|Attached Garage, ...|           1268| 1640|      Main|    22x14|            1640.0|   2017|      2228|      NULL|     1971|Residential-Single|(SF) Split Entry ...| 0.32|           Central|Range, Microwave,...|            NULL|   Lower Level|    22x14|   Vinyl|     Lower|      Main|    11x12| Informal Dining R...|Full, Partial Fin...|        1|        0|          0|                2|   SF|         3|Main Floor Full B...|    15x11|      Main|    14x11|      Main|    10x11|      Main|    11x11|     Lower|       4|            960|             NULL|             0|          Unknown|              0.0|\n",
       "+---+-----+-------------------+--------------------+----------+----------+---------------+----------------+---------------+--------------+---------+---------------+-----------------+------------+--------------+-----+---------+-----------------+--------------------+------------+-------------------+----------+---------+--------------------+--------------------+----------+------------------+---------------+----+--------------------+---------------+-----+----------+---------+------------------+-------+----------+----------+---------+------------------+--------------------+-----+------------------+--------------------+----------------+--------------+---------+--------+----------+----------+---------+---------------------+--------------------+---------+---------+-----------+-----------------+-----+----------+--------------------+---------+----------+---------+----------+---------+----------+---------+----------+--------+---------------+-----------------+--------------+-----------------+-----------------+"
      ]
     },
     "execution_count": 22,
     "metadata": {},
     "output_type": "execute_result"
    }
   ],
   "source": [
    "# Initializing the data\n",
    "df = real_state.select('*')\n",
    "print('Dataframe shape:', (df.count(), len(df.columns)))\n",
    "df.limit(2)"
   ]
  },
  {
   "cell_type": "code",
   "execution_count": 23,
   "id": "c51d981b-bc28-4068-a2da-0fa3c4449bf5",
   "metadata": {},
   "outputs": [
    {
     "name": "stdout",
     "output_type": "stream",
     "text": [
      "[('LISTDATE', 'date'), ('List_Day_of_Week', 'int')]\n",
      "+----------+----------------+\n",
      "|  LISTDATE|List_Day_of_Week|\n",
      "+----------+----------------+\n",
      "|2017-07-15|               7|\n",
      "|2017-10-09|               2|\n",
      "+----------+----------------+\n",
      "only showing top 2 rows\n",
      "\n"
     ]
    }
   ],
   "source": [
    "# Convert to date type\n",
    "if df[['LISTDATE']].dtypes[0][1] == 'string':\n",
    "    df = df.withColumn('LISTDATE', F.to_date('LISTDATE', format='M/d/yyyy H:m'))\n",
    "\n",
    "# Get the day of the week\n",
    "df = df.withColumn('List_Day_of_Week', F.dayofweek('LISTDATE'))\n",
    "\n",
    "# Inspect the result\n",
    "column_list = ['LISTDATE', 'List_Day_of_Week']\n",
    "pprint(df[column_list].dtypes)\n",
    "df[column_list].show(2)"
   ]
  },
  {
   "cell_type": "code",
   "execution_count": 24,
   "id": "c9c528e0-e3cb-45e8-8e78-7506e9c22481",
   "metadata": {},
   "outputs": [
    {
     "data": {
      "image/png": "[encoded data removed]",
      "text/plain": [
       "<Figure size 640x480 with 1 Axes>"
      ]
     },
     "metadata": {},
     "output_type": "display_data"
    }
   ],
   "source": [
    "# Sample and convert to pandas dataframe\n",
    "sample_df = df.sample(False, .5, 42).toPandas()\n",
    "\n",
    "# Plot count plot of of day of week\n",
    "sns.countplot(x=\"List_Day_of_Week\", data=sample_df)\n",
    "plt.show()"
   ]
  },
  {
   "cell_type": "code",
   "execution_count": 25,
   "id": "ec53b6e7-f109-4071-9f00-563d6193687b",
   "metadata": {},
   "outputs": [
    {
     "data": {
      "image/png": "[encoded data removed]",
      "text/plain": [
       "<Figure size 600x300 with 1 Axes>"
      ]
     },
     "metadata": {},
     "output_type": "display_data"
    }
   ],
   "source": [
    "# Using the custom function\n",
    "labeled_barplot(sample_df[\"List_Day_of_Week\"], order=False)\n",
    "plt.legend(loc='upper left')\n",
    "plt.show()"
   ]
  },
  {
   "cell_type": "markdown",
   "id": "25fca7fd-ddea-46ce-9688-0e2435eac705",
   "metadata": {},
   "source": [
    "## Ex. 5 - Joining On Time \n",
    "\n",
    "Often times you will use date components to join in other sets of information. However, in this example, we need to use data that would have been available to those considering buying a house. This means we will need to use the previous year's reporting data for our analysis.\n",
    "\n",
    "**Instructions:**\n",
    "\n",
    "1. Extract the year from `LISTDATE` using `year()` and put it into a new column called `list_year` with `withColumn()`\n",
    "2. Create another new column called `report_year` by subtracting `1` from the `list_year`\n",
    "3. Create a join condition that matches `df['CITY']` with `price_df['City']` and `df['report_year']` with `price_df['Year']`\n",
    "4. Perform a left join between `df` and `price_df`"
   ]
  },
  {
   "cell_type": "code",
   "execution_count": 26,
   "id": "6b5f0326-8bb2-4a17-b6ba-434e7a9dcc56",
   "metadata": {},
   "outputs": [
    {
     "name": "stdout",
     "output_type": "stream",
     "text": [
      "Dataframe shape: (10, 3)\n",
      "root\n",
      " |-- MedianCity: string (nullable = true)\n",
      " |-- MedianHomeValue: integer (nullable = true)\n",
      " |-- MedianYear: integer (nullable = true)\n",
      "\n"
     ]
    },
    {
     "data": {
      "text/html": [
       "<table border='1'>\n",
       "<tr><th>MedianCity</th><th>MedianHomeValue</th><th>MedianYear</th></tr>\n",
       "<tr><td>LELM - Lake Elmo</td><td>401000</td><td>2016</td></tr>\n",
       "<tr><td>MAPW - Maplewood</td><td>193000</td><td>2016</td></tr>\n",
       "<tr><td>STP - Saint Paul</td><td>172000</td><td>2016</td></tr>\n",
       "<tr><td>WB - Woodbury</td><td>291000</td><td>2016</td></tr>\n",
       "<tr><td>OAKD - Oakdale</td><td>210000</td><td>2016</td></tr>\n",
       "<tr><td>LELM - Lake Elmo</td><td>385000</td><td>2015</td></tr>\n",
       "<tr><td>MAPW - Maplewood</td><td>187000</td><td>2015</td></tr>\n",
       "<tr><td>STP - Saint Paul</td><td>162000</td><td>2015</td></tr>\n",
       "<tr><td>WB - Woodbury</td><td>277000</td><td>2015</td></tr>\n",
       "<tr><td>OAKD - Oakdale</td><td>192000</td><td>2015</td></tr>\n",
       "</table>\n"
      ],
      "text/plain": [
       "+----------------+---------------+----------+\n",
       "|      MedianCity|MedianHomeValue|MedianYear|\n",
       "+----------------+---------------+----------+\n",
       "|LELM - Lake Elmo|         401000|      2016|\n",
       "|MAPW - Maplewood|         193000|      2016|\n",
       "|STP - Saint Paul|         172000|      2016|\n",
       "|   WB - Woodbury|         291000|      2016|\n",
       "|  OAKD - Oakdale|         210000|      2016|\n",
       "|LELM - Lake Elmo|         385000|      2015|\n",
       "|MAPW - Maplewood|         187000|      2015|\n",
       "|STP - Saint Paul|         162000|      2015|\n",
       "|   WB - Woodbury|         277000|      2015|\n",
       "|  OAKD - Oakdale|         192000|      2015|\n",
       "+----------------+---------------+----------+"
      ]
     },
     "execution_count": 26,
     "metadata": {},
     "output_type": "execute_result"
    }
   ],
   "source": [
    "# Loading a new table\n",
    "price_df = spark.read.csv('data-sources/real-state-medianprices.csv', header=True, inferSchema=True)\n",
    "print('Dataframe shape:', (price_df.count(), len(price_df.columns)))\n",
    "price_df.printSchema()\n",
    "price_df"
   ]
  },
  {
   "cell_type": "code",
   "execution_count": 27,
   "id": "2855f932-db54-4c1f-ac03-26adf1e4b0e8",
   "metadata": {},
   "outputs": [
    {
     "name": "stdout",
     "output_type": "stream",
     "text": [
      "[('CITY', 'string'), ('list_year', 'int'), ('report_year', 'int')]\n",
      "+----------------+---------+-----------+\n",
      "|            CITY|list_year|report_year|\n",
      "+----------------+---------+-----------+\n",
      "|LELM - Lake Elmo|     2017|       2016|\n",
      "|LELM - Lake Elmo|     2017|       2016|\n",
      "+----------------+---------+-----------+\n",
      "only showing top 2 rows\n",
      "\n"
     ]
    }
   ],
   "source": [
    "# Create year column\n",
    "df = df.withColumn('list_year', F.year('LISTDATE'))\n",
    "\n",
    "# Adjust year to match\n",
    "df = df.withColumn('report_year', (df['list_year'] - 1))\n",
    "\n",
    "# Inspect the result\n",
    "column_list = ['CITY', 'list_year', 'report_year']\n",
    "pprint(df[column_list].dtypes)\n",
    "df[column_list].show(2)"
   ]
  },
  {
   "cell_type": "code",
   "execution_count": 28,
   "id": "0d54ac73-4643-47bc-a85c-51587c810828",
   "metadata": {},
   "outputs": [
    {
     "name": "stdout",
     "output_type": "stream",
     "text": [
      "[('CITY', 'string'),\n",
      " ('list_year', 'int'),\n",
      " ('report_year', 'int'),\n",
      " ('MedianHomeValue', 'int')]\n",
      "+----------------+---------+-----------+---------------+\n",
      "|            CITY|list_year|report_year|MedianHomeValue|\n",
      "+----------------+---------+-----------+---------------+\n",
      "|LELM - Lake Elmo|     2017|       2016|         401000|\n",
      "|LELM - Lake Elmo|     2017|       2016|         401000|\n",
      "+----------------+---------+-----------+---------------+\n",
      "only showing top 2 rows\n",
      "\n"
     ]
    }
   ],
   "source": [
    "# Create join condition\n",
    "condition = [df['CITY'] == price_df['MedianCity'], df['report_year'] == price_df['MedianYear']]\n",
    "\n",
    "# Join the dataframes together\n",
    "df = df.join(price_df, on=condition, how='left')\n",
    "\n",
    "# Inspect that new columns are available\n",
    "column_list = ['CITY', 'list_year', 'report_year', 'MedianHomeValue']\n",
    "pprint(df[column_list].dtypes)\n",
    "df[column_list].show(2)"
   ]
  },
  {
   "cell_type": "markdown",
   "id": "8ddbfe9d-f4ac-4cc0-a2ab-4373d4c342fe",
   "metadata": {},
   "source": [
    "## Ex. 6 - Date Math\n",
    "\n",
    "In this example, we'll look at verifying the frequency of our data. The Mortgage dataset is supposed to have weekly data but let's make sure by lagging the report date and then taking the difference of the dates.\n",
    "\n",
    "Recall that to create a lagged feature we will need to create a `Window()`. `Window()` allows you to return a value for each record based off some calculation against a group of records, in this case, the previous period's mortgage rate.\n",
    "\n",
    "**Instructions:**\n",
    "\n",
    "1. Cast `mort_df['DATE']` to `date` type with `to_date()`\n",
    "2. Create a window with the `Window()` function and use `orderBy()` to sort by `mort_df[DATE]`\n",
    "3. Create a new column `DATE-1` using `withColumn()` by lagging the `DATE` column with `lag()` and window it using `over(w)`\n",
    "4. Calculate the difference between `DATE` and `DATE-1` using `datediff()` and name it `Days_Between_Report`"
   ]
  },
  {
   "cell_type": "code",
   "execution_count": 29,
   "id": "c8792320-1d94-4076-89e5-2ea9a3cc43d2",
   "metadata": {},
   "outputs": [
    {
     "name": "stdout",
     "output_type": "stream",
     "text": [
      "Dataframe shape: (261, 2)\n",
      "root\n",
      " |-- DATE: string (nullable = true)\n",
      " |-- MORTGAGE30US: double (nullable = true)\n",
      "\n",
      "+----------+------------+\n",
      "|      DATE|MORTGAGE30US|\n",
      "+----------+------------+\n",
      "|10/10/2013|        4.23|\n",
      "|10/17/2013|        4.28|\n",
      "+----------+------------+\n",
      "only showing top 2 rows\n",
      "\n"
     ]
    }
   ],
   "source": [
    "# Loading the data\n",
    "mort_df = spark.read.csv('data-sources/mortage-data.csv', header=True, inferSchema=True)\n",
    "print('Dataframe shape:', (mort_df.count(), len(mort_df.columns)))\n",
    "mort_df.printSchema()\n",
    "mort_df.show(2)"
   ]
  },
  {
   "cell_type": "code",
   "execution_count": 30,
   "id": "cd61517e-dcea-4fe5-8c96-d0a82230af9f",
   "metadata": {},
   "outputs": [
    {
     "name": "stdout",
     "output_type": "stream",
     "text": [
      "[('DATE', 'date'), ('DATE-1', 'date'), ('Days_Between_Report', 'int')]\n",
      "+----------+----------+-------------------+\n",
      "|      DATE|    DATE-1|Days_Between_Report|\n",
      "+----------+----------+-------------------+\n",
      "|2013-10-10|      NULL|               NULL|\n",
      "|2013-10-17|2013-10-10|                  7|\n",
      "|2013-10-24|2013-10-17|                  7|\n",
      "|2013-10-31|2013-10-24|                  7|\n",
      "|2013-11-07|2013-10-31|                  7|\n",
      "+----------+----------+-------------------+\n",
      "only showing top 5 rows\n",
      "\n"
     ]
    }
   ],
   "source": [
    "# Cast data type\n",
    "mort_df = mort_df.withColumn('DATE', F.to_date('DATE', format='M/d/yyyy'))\n",
    "\n",
    "# Create window\n",
    "w = Window().orderBy(mort_df['DATE'])\n",
    "\n",
    "# Create lag column\n",
    "mort_df = mort_df.withColumn('DATE-1', F.lag('DATE', offset=1).over(w))\n",
    "\n",
    "# Calculate difference between date columns\n",
    "mort_df = mort_df.withColumn('Days_Between_Report', F.datediff('DATE', 'DATE-1'))\n",
    "\n",
    "# Inspect the result\n",
    "column_list = ['DATE', 'DATE-1', 'Days_Between_Report']\n",
    "pprint(mort_df[column_list].dtypes)\n",
    "mort_df[column_list].show(5)"
   ]
  },
  {
   "cell_type": "code",
   "execution_count": 31,
   "id": "56ba49cb-545c-495a-b553-12c0a092faa1",
   "metadata": {},
   "outputs": [
    {
     "data": {
      "text/html": [
       "<table border='1'>\n",
       "<tr><th>Days_Between_Report</th><th>count</th></tr>\n",
       "<tr><td>7</td><td>248</td></tr>\n",
       "<tr><td>6</td><td>6</td></tr>\n",
       "<tr><td>8</td><td>6</td></tr>\n",
       "<tr><td>NULL</td><td>1</td></tr>\n",
       "</table>\n"
      ],
      "text/plain": [
       "+-------------------+-----+\n",
       "|Days_Between_Report|count|\n",
       "+-------------------+-----+\n",
       "|                  7|  248|\n",
       "|                  6|    6|\n",
       "|                  8|    6|\n",
       "|               NULL|    1|\n",
       "+-------------------+-----+"
      ]
     },
     "execution_count": 31,
     "metadata": {},
     "output_type": "execute_result"
    }
   ],
   "source": [
    "mort_df.groupby('Days_Between_Report').count()"
   ]
  },
  {
   "cell_type": "markdown",
   "id": "9d43cb35-a881-4f96-a3d5-8543aa343b17",
   "metadata": {},
   "source": [
    "## Extracting Features"
   ]
  },
  {
   "cell_type": "code",
   "execution_count": 32,
   "id": "dab143dd-779e-4d2e-b9ee-00e9e6e7dc86",
   "metadata": {},
   "outputs": [
    {
     "name": "stdout",
     "output_type": "stream",
     "text": [
      "Dataframe shape: (8, 2)\n",
      "root\n",
      " |-- ID: integer (nullable = true)\n",
      " |-- ROOF: string (nullable = true)\n",
      "\n",
      "+---+--------------------+\n",
      "| ID|                ROOF|\n",
      "+---+--------------------+\n",
      "|  1|Asphalt Shingles,...|\n",
      "|  2|                NULL|\n",
      "|  3|Asphalt Shingles,...|\n",
      "|  4|Asphalt Shingles,...|\n",
      "|  5|    Asphalt Shingles|\n",
      "|  6|Metal, Age Over 8...|\n",
      "|  7|Tile, Age 8 Years...|\n",
      "|  8|    Asphalt Shingles|\n",
      "+---+--------------------+\n",
      "\n"
     ]
    }
   ],
   "source": [
    "# Loading the data.\n",
    "roof_df = spark.createDataFrame([\n",
    "    (1, \"Asphalt Shingles, Pitched, Age 8 Years or Less\"),\n",
    "    (2, None),\n",
    "    (3, \"Asphalt Shingles, Age Over 8 Years\"),\n",
    "    (4, \"Asphalt Shingles, Age 8 Years or Less\"),\n",
    "    (5, \"Asphalt Shingles\"),\n",
    "    (6, \"Metal, Age Over 8 Years\"),\n",
    "    (7, \"Tile, Age 8 Years or Less\"),\n",
    "    (8, \"Asphalt Shingles\")\n",
    "], schema='ID int, ROOF string')\n",
    "print('Dataframe shape:', (roof_df.count(), len(roof_df.columns)))\n",
    "roof_df.printSchema()\n",
    "roof_df.show()"
   ]
  },
  {
   "cell_type": "markdown",
   "id": "8c029b74-c9ba-4e1a-8d06-8c19cae542ba",
   "metadata": {},
   "source": [
    "### Extracting Age with Text Match"
   ]
  },
  {
   "cell_type": "code",
   "execution_count": 33,
   "id": "5a4e4090-b598-4c36-b7d5-c7b7e790fd23",
   "metadata": {},
   "outputs": [
    {
     "name": "stdout",
     "output_type": "stream",
     "text": [
      "+---+----------------------------------------------+---------+\n",
      "| ID|                                          ROOF|Roof>8yrs|\n",
      "+---+----------------------------------------------+---------+\n",
      "|  1|Asphalt Shingles, Pitched, Age 8 Years or Less|        0|\n",
      "|  2|                                          NULL|     NULL|\n",
      "|  3|            Asphalt Shingles, Age Over 8 Years|        1|\n",
      "|  4|         Asphalt Shingles, Age 8 Years or Less|        0|\n",
      "|  5|                              Asphalt Shingles|     NULL|\n",
      "|  6|                       Metal, Age Over 8 Years|        1|\n",
      "|  7|                     Tile, Age 8 Years or Less|        0|\n",
      "|  8|                              Asphalt Shingles|     NULL|\n",
      "+---+----------------------------------------------+---------+\n",
      "\n"
     ]
    }
   ],
   "source": [
    "# Create boolean filters\n",
    "find_under_8 = roof_df['ROOF'].like('%Age 8 Years or Less%')\n",
    "find_over_8 = roof_df['ROOF'].like('%Age Over 8 Years%')\n",
    "\n",
    "# Apply filters using when() and otherwise()\n",
    "roof_df = roof_df.withColumn('Roof>8yrs', \n",
    "                             F.when(find_over_8, 1).when(find_under_8, 0).otherwise(None))\n",
    "# Inspect results\n",
    "roof_df.show(truncate=100)"
   ]
  },
  {
   "cell_type": "markdown",
   "id": "63a46814-b409-43aa-8874-508cabc1e189",
   "metadata": {},
   "source": [
    "### Splitting Columns"
   ]
  },
  {
   "cell_type": "code",
   "execution_count": 34,
   "id": "d2c13718-2f56-4324-b0a6-842e2e8f66e8",
   "metadata": {},
   "outputs": [
    {
     "name": "stdout",
     "output_type": "stream",
     "text": [
      "+---+----------------------------------------------+---------+----------------+\n",
      "| ID|                                          ROOF|Roof>8yrs|   Roof_Material|\n",
      "+---+----------------------------------------------+---------+----------------+\n",
      "|  1|Asphalt Shingles, Pitched, Age 8 Years or Less|        0|Asphalt Shingles|\n",
      "|  2|                                          NULL|     NULL|            NULL|\n",
      "|  3|            Asphalt Shingles, Age Over 8 Years|        1|Asphalt Shingles|\n",
      "|  4|         Asphalt Shingles, Age 8 Years or Less|        0|Asphalt Shingles|\n",
      "|  5|                              Asphalt Shingles|     NULL|Asphalt Shingles|\n",
      "|  6|                       Metal, Age Over 8 Years|        1|           Metal|\n",
      "|  7|                     Tile, Age 8 Years or Less|        0|            Tile|\n",
      "|  8|                              Asphalt Shingles|     NULL|Asphalt Shingles|\n",
      "+---+----------------------------------------------+---------+----------------+\n",
      "\n"
     ]
    }
   ],
   "source": [
    "# Split the column on commas into a list\n",
    "split_col = F.split(roof_df['ROOF'], ',')\n",
    "\n",
    "# Put the first value of the list into a new column\n",
    "roof_df = roof_df.withColumn('Roof_Material', split_col.getItem(0))\n",
    "\n",
    "# Inspect results\n",
    "roof_df.show(truncate=100)"
   ]
  },
  {
   "cell_type": "markdown",
   "id": "a55ca250-0bd6-4f96-8247-5e7d2dd6b58a",
   "metadata": {},
   "source": [
    "### Explode & Pivot"
   ]
  },
  {
   "cell_type": "code",
   "execution_count": 35,
   "id": "48934798-a59b-4a69-9726-0507697ff521",
   "metadata": {},
   "outputs": [
    {
     "name": "stdout",
     "output_type": "stream",
     "text": [
      "+---+----------------------------------------+---------+----------------+----------------------------------------+\n",
      "| ID|                                    ROOF|Roof>8yrs|   Roof_Material|                               roof_list|\n",
      "+---+----------------------------------------+---------+----------------+----------------------------------------+\n",
      "|  1|Asphalt Shingles, Pitched, Age 8 Year...|        0|Asphalt Shingles|[Asphalt Shingles, Pitched, Age 8 Yea...|\n",
      "|  2|                                    NULL|     NULL|            NULL|                                    NULL|\n",
      "|  3|      Asphalt Shingles, Age Over 8 Years|        1|Asphalt Shingles|    [Asphalt Shingles, Age Over 8 Years]|\n",
      "|  4|   Asphalt Shingles, Age 8 Years or Less|        0|Asphalt Shingles| [Asphalt Shingles, Age 8 Years or Less]|\n",
      "|  5|                        Asphalt Shingles|     NULL|Asphalt Shingles|                      [Asphalt Shingles]|\n",
      "|  6|                 Metal, Age Over 8 Years|        1|           Metal|               [Metal, Age Over 8 Years]|\n",
      "|  7|               Tile, Age 8 Years or Less|        0|            Tile|             [Tile, Age 8 Years or Less]|\n",
      "|  8|                        Asphalt Shingles|     NULL|Asphalt Shingles|                      [Asphalt Shingles]|\n",
      "+---+----------------------------------------+---------+----------------+----------------------------------------+\n",
      "\n"
     ]
    }
   ],
   "source": [
    "# Split the column on commas into a list\n",
    "roof_df = roof_df.withColumn('roof_list', F.split(roof_df['ROOF'], ', '))\n",
    "roof_df.show(truncate=40)"
   ]
  },
  {
   "cell_type": "code",
   "execution_count": 36,
   "id": "9298bc76-b6cd-47af-beb3-af042e20aa6a",
   "metadata": {},
   "outputs": [
    {
     "name": "stdout",
     "output_type": "stream",
     "text": [
      "+---+----------------------------------------+----------------------------------------+-------------------+\n",
      "| ID|                                    ROOF|                               roof_list|       ex_roof_list|\n",
      "+---+----------------------------------------+----------------------------------------+-------------------+\n",
      "|  1|Asphalt Shingles, Pitched, Age 8 Year...|[Asphalt Shingles, Pitched, Age 8 Yea...|   Asphalt Shingles|\n",
      "|  1|Asphalt Shingles, Pitched, Age 8 Year...|[Asphalt Shingles, Pitched, Age 8 Yea...|            Pitched|\n",
      "|  1|Asphalt Shingles, Pitched, Age 8 Year...|[Asphalt Shingles, Pitched, Age 8 Yea...|Age 8 Years or Less|\n",
      "|  3|      Asphalt Shingles, Age Over 8 Years|    [Asphalt Shingles, Age Over 8 Years]|   Asphalt Shingles|\n",
      "|  3|      Asphalt Shingles, Age Over 8 Years|    [Asphalt Shingles, Age Over 8 Years]|   Age Over 8 Years|\n",
      "|  4|   Asphalt Shingles, Age 8 Years or Less| [Asphalt Shingles, Age 8 Years or Less]|   Asphalt Shingles|\n",
      "|  4|   Asphalt Shingles, Age 8 Years or Less| [Asphalt Shingles, Age 8 Years or Less]|Age 8 Years or Less|\n",
      "|  5|                        Asphalt Shingles|                      [Asphalt Shingles]|   Asphalt Shingles|\n",
      "|  6|                 Metal, Age Over 8 Years|               [Metal, Age Over 8 Years]|              Metal|\n",
      "|  6|                 Metal, Age Over 8 Years|               [Metal, Age Over 8 Years]|   Age Over 8 Years|\n",
      "|  7|               Tile, Age 8 Years or Less|             [Tile, Age 8 Years or Less]|               Tile|\n",
      "|  7|               Tile, Age 8 Years or Less|             [Tile, Age 8 Years or Less]|Age 8 Years or Less|\n",
      "|  8|                        Asphalt Shingles|                      [Asphalt Shingles]|   Asphalt Shingles|\n",
      "+---+----------------------------------------+----------------------------------------+-------------------+\n",
      "\n"
     ]
    }
   ],
   "source": [
    "# Explode list into new records for each value\n",
    "ex_df = roof_df.withColumn('ex_roof_list', F.explode(roof_df['roof_list']))\n",
    "ex_df.select('ID', 'ROOF', 'roof_list', 'ex_roof_list').show(truncate=40)"
   ]
  },
  {
   "cell_type": "code",
   "execution_count": 37,
   "id": "98438020-dad0-4977-8b52-22c000c951e8",
   "metadata": {},
   "outputs": [
    {
     "name": "stdout",
     "output_type": "stream",
     "text": [
      "+---+----------------------------------------+----------------------------------------+-------------------+\n",
      "| ID|                                    ROOF|                               roof_list|       ex_roof_list|\n",
      "+---+----------------------------------------+----------------------------------------+-------------------+\n",
      "|  1|Asphalt Shingles, Pitched, Age 8 Year...|[Asphalt Shingles, Pitched, Age 8 Yea...|   Asphalt Shingles|\n",
      "|  1|Asphalt Shingles, Pitched, Age 8 Year...|[Asphalt Shingles, Pitched, Age 8 Yea...|            Pitched|\n",
      "|  1|Asphalt Shingles, Pitched, Age 8 Year...|[Asphalt Shingles, Pitched, Age 8 Yea...|Age 8 Years or Less|\n",
      "|  2|                                    NULL|                                    NULL|               NULL|\n",
      "|  3|      Asphalt Shingles, Age Over 8 Years|    [Asphalt Shingles, Age Over 8 Years]|   Asphalt Shingles|\n",
      "|  3|      Asphalt Shingles, Age Over 8 Years|    [Asphalt Shingles, Age Over 8 Years]|   Age Over 8 Years|\n",
      "|  4|   Asphalt Shingles, Age 8 Years or Less| [Asphalt Shingles, Age 8 Years or Less]|   Asphalt Shingles|\n",
      "|  4|   Asphalt Shingles, Age 8 Years or Less| [Asphalt Shingles, Age 8 Years or Less]|Age 8 Years or Less|\n",
      "|  5|                        Asphalt Shingles|                      [Asphalt Shingles]|   Asphalt Shingles|\n",
      "|  6|                 Metal, Age Over 8 Years|               [Metal, Age Over 8 Years]|              Metal|\n",
      "|  6|                 Metal, Age Over 8 Years|               [Metal, Age Over 8 Years]|   Age Over 8 Years|\n",
      "|  7|               Tile, Age 8 Years or Less|             [Tile, Age 8 Years or Less]|               Tile|\n",
      "|  7|               Tile, Age 8 Years or Less|             [Tile, Age 8 Years or Less]|Age 8 Years or Less|\n",
      "|  8|                        Asphalt Shingles|                      [Asphalt Shingles]|   Asphalt Shingles|\n",
      "+---+----------------------------------------+----------------------------------------+-------------------+\n",
      "\n"
     ]
    }
   ],
   "source": [
    "# Not loosing Nulls\n",
    "(\n",
    "    roof_df.withColumn('ex_roof_list', F.explode_outer(roof_df['roof_list']))\n",
    "           .select('ID', 'ROOF', 'roof_list', 'ex_roof_list')\n",
    "           .show(truncate=40)\n",
    ")"
   ]
  },
  {
   "cell_type": "code",
   "execution_count": 38,
   "id": "0975754c-0027-4518-ac06-f264675312e7",
   "metadata": {},
   "outputs": [
    {
     "name": "stdout",
     "output_type": "stream",
     "text": [
      "Dataframe shape: (7, 9)\n",
      "root\n",
      " |-- ID: integer (nullable = true)\n",
      " |-- ROOF: string (nullable = true)\n",
      " |-- roof_list: array (nullable = true)\n",
      " |    |-- element: string (containsNull = false)\n",
      " |-- Age 8 Years or Less: integer (nullable = true)\n",
      " |-- Age Over 8 Years: integer (nullable = true)\n",
      " |-- Asphalt Shingles: integer (nullable = true)\n",
      " |-- Metal: integer (nullable = true)\n",
      " |-- Pitched: integer (nullable = true)\n",
      " |-- Tile: integer (nullable = true)\n",
      "\n"
     ]
    },
    {
     "data": {
      "text/html": [
       "<table border='1'>\n",
       "<tr><th>ID</th><th>ROOF</th><th>roof_list</th><th>Age 8 Years or Less</th><th>Age Over 8 Years</th><th>Asphalt Shingles</th><th>Metal</th><th>Pitched</th><th>Tile</th></tr>\n",
       "<tr><td>1</td><td>Asphalt Shingles,...</td><td>[Asphalt Shingles...</td><td>1</td><td>NULL</td><td>1</td><td>NULL</td><td>1</td><td>NULL</td></tr>\n",
       "<tr><td>8</td><td>Asphalt Shingles</td><td>[Asphalt Shingles]</td><td>NULL</td><td>NULL</td><td>1</td><td>NULL</td><td>NULL</td><td>NULL</td></tr>\n",
       "<tr><td>7</td><td>Tile, Age 8 Years...</td><td>[Tile, Age 8 Year...</td><td>1</td><td>NULL</td><td>NULL</td><td>NULL</td><td>NULL</td><td>1</td></tr>\n",
       "<tr><td>5</td><td>Asphalt Shingles</td><td>[Asphalt Shingles]</td><td>NULL</td><td>NULL</td><td>1</td><td>NULL</td><td>NULL</td><td>NULL</td></tr>\n",
       "<tr><td>4</td><td>Asphalt Shingles,...</td><td>[Asphalt Shingles...</td><td>1</td><td>NULL</td><td>1</td><td>NULL</td><td>NULL</td><td>NULL</td></tr>\n",
       "<tr><td>6</td><td>Metal, Age Over 8...</td><td>[Metal, Age Over ...</td><td>NULL</td><td>1</td><td>NULL</td><td>1</td><td>NULL</td><td>NULL</td></tr>\n",
       "<tr><td>3</td><td>Asphalt Shingles,...</td><td>[Asphalt Shingles...</td><td>NULL</td><td>1</td><td>1</td><td>NULL</td><td>NULL</td><td>NULL</td></tr>\n",
       "</table>\n"
      ],
      "text/plain": [
       "+---+--------------------+--------------------+-------------------+----------------+----------------+-----+-------+----+\n",
       "| ID|                ROOF|           roof_list|Age 8 Years or Less|Age Over 8 Years|Asphalt Shingles|Metal|Pitched|Tile|\n",
       "+---+--------------------+--------------------+-------------------+----------------+----------------+-----+-------+----+\n",
       "|  1|Asphalt Shingles,...|[Asphalt Shingles...|                  1|            NULL|               1| NULL|      1|NULL|\n",
       "|  8|    Asphalt Shingles|  [Asphalt Shingles]|               NULL|            NULL|               1| NULL|   NULL|NULL|\n",
       "|  7|Tile, Age 8 Years...|[Tile, Age 8 Year...|                  1|            NULL|            NULL| NULL|   NULL|   1|\n",
       "|  5|    Asphalt Shingles|  [Asphalt Shingles]|               NULL|            NULL|               1| NULL|   NULL|NULL|\n",
       "|  4|Asphalt Shingles,...|[Asphalt Shingles...|                  1|            NULL|               1| NULL|   NULL|NULL|\n",
       "|  6|Metal, Age Over 8...|[Metal, Age Over ...|               NULL|               1|            NULL|    1|   NULL|NULL|\n",
       "|  3|Asphalt Shingles,...|[Asphalt Shingles...|               NULL|               1|               1| NULL|   NULL|NULL|\n",
       "+---+--------------------+--------------------+-------------------+----------------+----------------+-----+-------+----+"
      ]
     },
     "execution_count": 38,
     "metadata": {},
     "output_type": "execute_result"
    }
   ],
   "source": [
    "# Create a dummy column of constant value\n",
    "ex_df = ex_df.withColumn('constant_val', F.lit(1))\n",
    "\n",
    "# Pivot the values into boolean columns\n",
    "piv_df = ex_df.groupBy(['ID', 'ROOF', 'roof_list']).pivot('ex_roof_list').agg(F.coalesce(F.first('constant_val')))\n",
    "\n",
    "# Inspect the result\n",
    "print('Dataframe shape:', (piv_df.count(), len(piv_df.columns)))\n",
    "piv_df.printSchema()\n",
    "piv_df"
   ]
  },
  {
   "cell_type": "markdown",
   "id": "7033b9a1-974f-4308-9b95-a17547d30084",
   "metadata": {},
   "source": [
    "## Ex. 7 - Extracting Text to New Features\n",
    "\n",
    "Garages are an important consideration for houses in Minnesota where most people own a car and the snow is annoying to clear off a car parked outside. The type of garage is also important, can you get to your car without braving the cold or not? Let's look at creating a feature `has_attached_garage` that captures whether the garage is attached to the house or not.\n",
    "\n",
    "**Instructions:**\n",
    "\n",
    "1. Import the needed function `when()` from `pyspark.sql.functions`. (Already Done)\n",
    "2. Create a string matching condition using `like()` to look for for the string pattern Attached Garage in `df['GARAGEDESCRIPTION']` and use wildcards `%` so it will match anywhere in the field.\n",
    "3. Similarly, create another condition using `like()` to find the string pattern Detached Garage in `df['GARAGEDESCRIPTION']` and use wildcards `%` so it will match anywhere in the field.\n",
    "4. Create a new column `has_attached_garage` using `when()` to assign the value `1` if it has an attached garage, zero if detached and use `otherwise()` to assign null with `None` if it is neither."
   ]
  },
  {
   "cell_type": "code",
   "execution_count": 39,
   "id": "ebd3a9f8-d635-4ef4-a504-ba1041d04897",
   "metadata": {},
   "outputs": [
    {
     "name": "stdout",
     "output_type": "stream",
     "text": [
      "Dataframe shape: (5000, 74)\n",
      "+--------------------------------------------------------------+\n",
      "|GARAGEDESCRIPTION                                             |\n",
      "+--------------------------------------------------------------+\n",
      "|Attached Garage                                               |\n",
      "|Attached Garage, Driveway - Asphalt, Garage Door Opener       |\n",
      "|Attached Garage                                               |\n",
      "|Attached Garage, Detached Garage, Tuckunder, Driveway - Gravel|\n",
      "|Attached Garage, Driveway - Asphalt, Garage Door Opener       |\n",
      "|Attached Garage, Driveway - Asphalt                           |\n",
      "|Attached Garage, Driveway - Asphalt, Garage Door Opener       |\n",
      "|Attached Garage                                               |\n",
      "|Attached Garage                                               |\n",
      "|Attached Garage                                               |\n",
      "+--------------------------------------------------------------+\n",
      "only showing top 10 rows\n",
      "\n"
     ]
    }
   ],
   "source": [
    "# Initializing the data\n",
    "df = real_state.select('*')\n",
    "print('Dataframe shape:', (df.count(), len(df.columns)))\n",
    "df.select('GARAGEDESCRIPTION').show(10, truncate=False)"
   ]
  },
  {
   "cell_type": "code",
   "execution_count": 40,
   "id": "f3cabec1-1027-44d2-b27d-00321109ba29",
   "metadata": {},
   "outputs": [
    {
     "name": "stdout",
     "output_type": "stream",
     "text": [
      "+--------------------------------------------------------------+-------------------+\n",
      "|                                             GARAGEDESCRIPTION|has_attached_garage|\n",
      "+--------------------------------------------------------------+-------------------+\n",
      "|                                               Attached Garage|                  1|\n",
      "|       Attached Garage, Driveway - Asphalt, Garage Door Opener|                  1|\n",
      "|                                               Attached Garage|                  1|\n",
      "|Attached Garage, Detached Garage, Tuckunder, Driveway - Gravel|                  1|\n",
      "|       Attached Garage, Driveway - Asphalt, Garage Door Opener|                  1|\n",
      "|                           Attached Garage, Driveway - Asphalt|                  1|\n",
      "|       Attached Garage, Driveway - Asphalt, Garage Door Opener|                  1|\n",
      "|                                               Attached Garage|                  1|\n",
      "|                                               Attached Garage|                  1|\n",
      "|                                               Attached Garage|                  1|\n",
      "+--------------------------------------------------------------+-------------------+\n",
      "only showing top 10 rows\n",
      "\n"
     ]
    }
   ],
   "source": [
    "# Create boolean conditions for string matches\n",
    "has_attached_garage = df['GARAGEDESCRIPTION'].like(\"%Attached Garage%\")\n",
    "has_detached_garage = df['GARAGEDESCRIPTION'].like(\"%Detached Garage%\")\n",
    "\n",
    "# Conditional value assignment \n",
    "df = df.withColumn('has_attached_garage', (F.when(has_attached_garage, 1)\n",
    "                                            .when(has_detached_garage, 0)\n",
    "                                            .otherwise(None)))\n",
    "\n",
    "# Inspect results\n",
    "df[['GARAGEDESCRIPTION', 'has_attached_garage']].show(10, truncate=100)"
   ]
  },
  {
   "cell_type": "markdown",
   "id": "61116e8b-9db0-4d1f-9a31-968f68ffd513",
   "metadata": {},
   "source": [
    "## Ex. 8 - Splitting & Exploding\n",
    "\n",
    "Being able to take a compound field like `GARAGEDESCRIPTION` and massaging it into something useful is an involved process. It's helpful to understand early what value you might gain out of expanding it. In this example, we will convert our string to a list-like array, explode it and then inspect the unique values.\n",
    "\n",
    "**Instructions:**\n",
    "\n",
    "1. Import the needed functions `split()` and `explode()` from `pyspark.sql.functions` (Already done)\n",
    "2. Use `split()` to create a new column `garage_list` by splitting `df['GARAGEDESCRIPTION']` on `', '` which is both a comma and a space.\n",
    "3. Create a new record for each value in the `df['garage_list']` using `explode()` and assign it a new column `ex_garage_list`\n",
    "4. Use `distinct()` to get unique values of `ex_garage_list` and show the result, truncating them at `50` characters to display the values."
   ]
  },
  {
   "cell_type": "code",
   "execution_count": 41,
   "id": "e1eba0a9-45cf-442d-99df-0e76c0f07275",
   "metadata": {},
   "outputs": [
    {
     "name": "stdout",
     "output_type": "stream",
     "text": [
      "+---+----------------------------------------+----------------------------------------+------------------+\n",
      "|No.|                       GARAGEDESCRIPTION|                             garage_list|    ex_garage_list|\n",
      "+---+----------------------------------------+----------------------------------------+------------------+\n",
      "|  1|                         Attached Garage|                       [Attached Garage]|   Attached Garage|\n",
      "|  2|Attached Garage, Driveway - Asphalt, ...|[Attached Garage, Driveway - Asphalt,...|   Attached Garage|\n",
      "|  2|Attached Garage, Driveway - Asphalt, ...|[Attached Garage, Driveway - Asphalt,...|Driveway - Asphalt|\n",
      "|  2|Attached Garage, Driveway - Asphalt, ...|[Attached Garage, Driveway - Asphalt,...|Garage Door Opener|\n",
      "|  3|                         Attached Garage|                       [Attached Garage]|   Attached Garage|\n",
      "|  4|Attached Garage, Detached Garage, Tuc...|[Attached Garage, Detached Garage, Tu...|   Attached Garage|\n",
      "|  4|Attached Garage, Detached Garage, Tuc...|[Attached Garage, Detached Garage, Tu...|   Detached Garage|\n",
      "|  4|Attached Garage, Detached Garage, Tuc...|[Attached Garage, Detached Garage, Tu...|         Tuckunder|\n",
      "|  4|Attached Garage, Detached Garage, Tuc...|[Attached Garage, Detached Garage, Tu...| Driveway - Gravel|\n",
      "|  5|Attached Garage, Driveway - Asphalt, ...|[Attached Garage, Driveway - Asphalt,...|   Attached Garage|\n",
      "+---+----------------------------------------+----------------------------------------+------------------+\n",
      "only showing top 10 rows\n",
      "\n"
     ]
    }
   ],
   "source": [
    "# Convert string to list-like array\n",
    "df = df.withColumn('garage_list', F.split(df['GARAGEDESCRIPTION'], ', '))\n",
    "\n",
    "# Explode the values into new records\n",
    "ex_df = df.withColumn('ex_garage_list', F.explode(df['garage_list']))\n",
    "\n",
    "# Inspect result\n",
    "ex_df[['`No.`','GARAGEDESCRIPTION', 'garage_list', 'ex_garage_list']].show(10, truncate=40)"
   ]
  },
  {
   "cell_type": "code",
   "execution_count": 42,
   "id": "c2267b15-a152-40b7-95c1-d05734683106",
   "metadata": {},
   "outputs": [
    {
     "name": "stdout",
     "output_type": "stream",
     "text": [
      "Total rows: 28\n",
      "+----------------------------+\n",
      "|              ex_garage_list|\n",
      "+----------------------------+\n",
      "|             Attached Garage|\n",
      "|      On-Street Parking Only|\n",
      "|                        None|\n",
      "| More Parking Onsite for Fee|\n",
      "|          Garage Door Opener|\n",
      "|   No Int Access to Dwelling|\n",
      "|           Driveway - Gravel|\n",
      "|       Valet Parking for Fee|\n",
      "|              Uncovered/Open|\n",
      "|               Heated Garage|\n",
      "|          Underground Garage|\n",
      "|                       Other|\n",
      "|                  Unassigned|\n",
      "|More Parking Offsite for Fee|\n",
      "|    Driveway - Other Surface|\n",
      "|       Contract Pkg Required|\n",
      "|                     Carport|\n",
      "|                     Secured|\n",
      "|             Detached Garage|\n",
      "|          Driveway - Asphalt|\n",
      "+----------------------------+\n",
      "only showing top 20 rows\n",
      "\n"
     ]
    }
   ],
   "source": [
    "# Show unique values of `ex_garage_list`.\n",
    "print('Total rows:', ex_df[['ex_garage_list']].distinct().count())\n",
    "ex_df[['ex_garage_list']].distinct().show(truncate=50)"
   ]
  },
  {
   "cell_type": "code",
   "execution_count": 43,
   "id": "6ae9e2ba-eb6b-4bad-a853-fa7e757e5141",
   "metadata": {},
   "outputs": [
    {
     "name": "stdout",
     "output_type": "stream",
     "text": [
      "Total rows: 28\n",
      "+----------------------------+-----+\n",
      "|              ex_garage_list|count|\n",
      "+----------------------------+-----+\n",
      "|             Attached Garage| 2262|\n",
      "|      On-Street Parking Only|   35|\n",
      "|                        None|   62|\n",
      "| More Parking Onsite for Fee|   40|\n",
      "|          Garage Door Opener| 2129|\n",
      "|   No Int Access to Dwelling|   54|\n",
      "|           Driveway - Gravel|   65|\n",
      "|       Valet Parking for Fee|    8|\n",
      "|              Uncovered/Open|   99|\n",
      "|               Heated Garage|  289|\n",
      "|          Underground Garage|  160|\n",
      "|                       Other|   94|\n",
      "|                  Unassigned|   21|\n",
      "|More Parking Offsite for Fee|   26|\n",
      "|    Driveway - Other Surface|   51|\n",
      "|       Contract Pkg Required|   20|\n",
      "|                     Carport|   24|\n",
      "|                     Secured|   79|\n",
      "|             Detached Garage| 2198|\n",
      "|          Driveway - Asphalt| 1513|\n",
      "+----------------------------+-----+\n",
      "only showing top 20 rows\n",
      "\n"
     ]
    }
   ],
   "source": [
    "# Show unique values of `ex_garage_list`.\n",
    "print('Total rows:', ex_df.groupby('ex_garage_list').count().count())\n",
    "ex_df.groupby('ex_garage_list').count().show(truncate=50)"
   ]
  },
  {
   "cell_type": "markdown",
   "id": "4c05b368-6daf-4c12-a8ac-253f1dc112dd",
   "metadata": {},
   "source": [
    "## Ex. 9 - Pivot & Join\n",
    "\n",
    "Being able to explode and pivot a compound field is great, but you are left with a dataframe of only those pivoted values. To really be valuable you'll need to rejoin it to the original dataset! After joining the datasets we will have a lot of NULL values for the newly created columns since we know the context of how they were created we can safely fill them in with zero as either the new has an attribute or it doesn't.\n",
    "\n",
    "**Instructions:**\n",
    "\n",
    "1. Pivot the values of `ex_garage_list` by grouping by the record id NO with `groupBy()` use the provided code to aggregate `constant_val` to ignore nulls and take the first value.\n",
    "2. Left join `piv_df` to `df` using `No.` as the join condition.\n",
    "3. Create the list of columns, `zfill_cols`, to zero fill by using the columns attribute on `piv_df`\n",
    "4. Zero fill the pivoted dataframes columns, `zfill_cols`, by using `fillna()` with a subset."
   ]
  },
  {
   "cell_type": "code",
   "execution_count": 44,
   "id": "25f0bfba-7470-4df3-ba23-5f607297af64",
   "metadata": {},
   "outputs": [
    {
     "name": "stdout",
     "output_type": "stream",
     "text": [
      "Dataframe shape: (11209, 77)\n",
      "+---+----------------------------------------+----------------------------------------+------------------+\n",
      "|No.|                       GARAGEDESCRIPTION|                             garage_list|    ex_garage_list|\n",
      "+---+----------------------------------------+----------------------------------------+------------------+\n",
      "|  1|                         Attached Garage|                       [Attached Garage]|   Attached Garage|\n",
      "|  2|Attached Garage, Driveway - Asphalt, ...|[Attached Garage, Driveway - Asphalt,...|   Attached Garage|\n",
      "|  2|Attached Garage, Driveway - Asphalt, ...|[Attached Garage, Driveway - Asphalt,...|Driveway - Asphalt|\n",
      "|  2|Attached Garage, Driveway - Asphalt, ...|[Attached Garage, Driveway - Asphalt,...|Garage Door Opener|\n",
      "|  3|                         Attached Garage|                       [Attached Garage]|   Attached Garage|\n",
      "+---+----------------------------------------+----------------------------------------+------------------+\n",
      "only showing top 5 rows\n",
      "\n"
     ]
    }
   ],
   "source": [
    "# Reviewing the data\n",
    "print('Dataframe shape:', (ex_df.count(), len(ex_df.columns)))\n",
    "ex_df.select('`No.`', 'GARAGEDESCRIPTION', 'garage_list', 'ex_garage_list').show(5, truncate=40)"
   ]
  },
  {
   "cell_type": "code",
   "execution_count": 45,
   "id": "e3074f97-f76c-423b-8528-17c1335cf94a",
   "metadata": {},
   "outputs": [
    {
     "name": "stdout",
     "output_type": "stream",
     "text": [
      "Dataframe shape: (5000, 29)\n"
     ]
    },
    {
     "data": {
      "text/html": [
       "<table border='1'>\n",
       "<tr><th>No.</th><th>Assigned</th><th>Attached Garage</th><th>Carport</th><th>Contract Pkg Required</th><th>Covered</th><th>Detached Garage</th><th>Driveway - Asphalt</th><th>Driveway - Concrete</th><th>Driveway - Gravel</th><th>Driveway - Other Surface</th><th>Driveway - Shared</th><th>Garage Door Opener</th><th>Heated Garage</th><th>Insulated Garage</th><th>More Parking Offsite for Fee</th><th>More Parking Onsite for Fee</th><th>No Int Access to Dwelling</th><th>None</th><th>On-Street Parking Only</th><th>Other</th><th>Secured</th><th>Tandem</th><th>Tuckunder</th><th>Unassigned</th><th>Uncovered/Open</th><th>Underground Garage</th><th>Units Vary</th><th>Valet Parking for Fee</th></tr>\n",
       "<tr><td>3918</td><td>0</td><td>1</td><td>0</td><td>0</td><td>0</td><td>0</td><td>1</td><td>0</td><td>0</td><td>0</td><td>0</td><td>1</td><td>0</td><td>1</td><td>0</td><td>0</td><td>0</td><td>0</td><td>0</td><td>0</td><td>0</td><td>0</td><td>0</td><td>0</td><td>0</td><td>0</td><td>0</td><td>0</td></tr>\n",
       "<tr><td>4519</td><td>0</td><td>1</td><td>0</td><td>0</td><td>0</td><td>0</td><td>1</td><td>0</td><td>0</td><td>0</td><td>0</td><td>1</td><td>0</td><td>1</td><td>0</td><td>0</td><td>0</td><td>0</td><td>0</td><td>0</td><td>0</td><td>0</td><td>0</td><td>0</td><td>0</td><td>0</td><td>0</td><td>0</td></tr>\n",
       "<tr><td>1238</td><td>0</td><td>0</td><td>0</td><td>0</td><td>0</td><td>1</td><td>0</td><td>0</td><td>0</td><td>0</td><td>0</td><td>0</td><td>0</td><td>0</td><td>0</td><td>0</td><td>0</td><td>0</td><td>0</td><td>0</td><td>0</td><td>0</td><td>0</td><td>0</td><td>0</td><td>0</td><td>0</td><td>0</td></tr>\n",
       "</table>\n"
      ],
      "text/plain": [
       "+----+--------+---------------+-------+---------------------+-------+---------------+------------------+-------------------+-----------------+------------------------+-----------------+------------------+-------------+----------------+----------------------------+---------------------------+-------------------------+----+----------------------+-----+-------+------+---------+----------+--------------+------------------+----------+---------------------+\n",
       "| No.|Assigned|Attached Garage|Carport|Contract Pkg Required|Covered|Detached Garage|Driveway - Asphalt|Driveway - Concrete|Driveway - Gravel|Driveway - Other Surface|Driveway - Shared|Garage Door Opener|Heated Garage|Insulated Garage|More Parking Offsite for Fee|More Parking Onsite for Fee|No Int Access to Dwelling|None|On-Street Parking Only|Other|Secured|Tandem|Tuckunder|Unassigned|Uncovered/Open|Underground Garage|Units Vary|Valet Parking for Fee|\n",
       "+----+--------+---------------+-------+---------------------+-------+---------------+------------------+-------------------+-----------------+------------------------+-----------------+------------------+-------------+----------------+----------------------------+---------------------------+-------------------------+----+----------------------+-----+-------+------+---------+----------+--------------+------------------+----------+---------------------+\n",
       "|3918|       0|              1|      0|                    0|      0|              0|                 1|                  0|                0|                       0|                0|                 1|            0|               1|                           0|                          0|                        0|   0|                     0|    0|      0|     0|        0|         0|             0|                 0|         0|                    0|\n",
       "|4519|       0|              1|      0|                    0|      0|              0|                 1|                  0|                0|                       0|                0|                 1|            0|               1|                           0|                          0|                        0|   0|                     0|    0|      0|     0|        0|         0|             0|                 0|         0|                    0|\n",
       "|1238|       0|              0|      0|                    0|      0|              1|                 0|                  0|                0|                       0|                0|                 0|            0|               0|                           0|                          0|                        0|   0|                     0|    0|      0|     0|        0|         0|             0|                 0|         0|                    0|\n",
       "+----+--------+---------------+-------+---------------------+-------+---------------+------------------+-------------------+-----------------+------------------------+-----------------+------------------+-------------+----------------+----------------------------+---------------------------+-------------------------+----+----------------------+-----+-------+------+---------+----------+--------------+------------------+----------+---------------------+"
      ]
     },
     "execution_count": 45,
     "metadata": {},
     "output_type": "execute_result"
    }
   ],
   "source": [
    "# Create a dummy column of constant value\n",
    "ex_df = ex_df.withColumn('constant_val', F.lit(1))\n",
    "\n",
    "# Pivot \n",
    "piv_df = ex_df.groupBy('`No.`').pivot('ex_garage_list').agg(F.coalesce(F.first('constant_val')))\n",
    "print('Dataframe shape:', (piv_df.count(), len(piv_df.columns)))\n",
    "piv_df.fillna(0).limit(3)"
   ]
  },
  {
   "cell_type": "code",
   "execution_count": 46,
   "id": "057669a6-8ed7-4d27-99b3-6508e561157a",
   "metadata": {},
   "outputs": [
    {
     "name": "stdout",
     "output_type": "stream",
     "text": [
      "Dataframe shape: (5000, 104)\n"
     ]
    },
    {
     "data": {
      "text/html": [
       "<table border='1'>\n",
       "<tr><th>No.</th><th>MLSID</th><th>StreetNumberNumeric</th><th>streetaddress</th><th>STREETNAME</th><th>PostalCode</th><th>StateOrProvince</th><th>City</th><th>SalesClosePrice</th><th>LISTDATE</th><th>LISTPRICE</th><th>LISTTYPE</th><th>OriginalListPrice</th><th>PricePerTSFT</th><th>FOUNDATIONSIZE</th><th>FENCE</th><th>MapLetter</th><th>LotSizeDimensions</th><th>SchoolDistrictNumber</th><th>DAYSONMARKET</th><th>offmarketdate</th><th>Fireplaces</th><th>RoomArea4</th><th>roomtype</th><th>ROOF</th><th>RoomFloor4</th><th>PotentialShortSale</th><th>PoolDescription</th><th>PDOM</th><th>GarageDescription</th><th>SQFTABOVEGROUND</th><th>Taxes</th><th>RoomFloor1</th><th>RoomArea1</th><th>TAXWITHASSESSMENTS</th><th>TAXYEAR</th><th>LivingArea</th><th>UNITNUMBER</th><th>YEARBUILT</th><th>ZONING</th><th>STYLE</th><th>ACRES</th><th>CoolingDescription</th><th>APPLIANCES</th><th>backonmarketdate</th><th>ROOMFAMILYCHAR</th><th>RoomArea3</th><th>EXTERIOR</th><th>RoomFloor3</th><th>RoomFloor2</th><th>RoomArea2</th><th>DiningRoomDescription</th><th>BASEMENT</th><th>BathsFull</th><th>BathsHalf</th><th>BATHQUARTER</th><th>BATHSTHREEQUARTER</th><th>Class</th><th>BATHSTOTAL</th><th>BATHDESC</th><th>RoomArea5</th><th>RoomFloor5</th><th>RoomArea6</th><th>RoomFloor6</th><th>RoomArea7</th><th>RoomFloor7</th><th>RoomArea8</th><th>RoomFloor8</th><th>Bedrooms</th><th>SQFTBELOWGROUND</th><th>AssumableMortgage</th><th>AssociationFee</th><th>ASSESSMENTPENDING</th><th>AssessedValuation</th><th>has_attached_garage</th><th>garage_list</th><th>Assigned</th><th>Attached Garage</th><th>Carport</th><th>Contract Pkg Required</th><th>Covered</th><th>Detached Garage</th><th>Driveway - Asphalt</th><th>Driveway - Concrete</th><th>Driveway - Gravel</th><th>Driveway - Other Surface</th><th>Driveway - Shared</th><th>Garage Door Opener</th><th>Heated Garage</th><th>Insulated Garage</th><th>More Parking Offsite for Fee</th><th>More Parking Onsite for Fee</th><th>No Int Access to Dwelling</th><th>None</th><th>On-Street Parking Only</th><th>Other</th><th>Secured</th><th>Tandem</th><th>Tuckunder</th><th>Unassigned</th><th>Uncovered/Open</th><th>Underground Garage</th><th>Units Vary</th><th>Valet Parking for Fee</th></tr>\n",
       "<tr><td>1</td><td>RMLS</td><td>11511</td><td>11511 Stillwater ...</td><td>Stillwater</td><td>55042</td><td>MN</td><td>LELM - Lake Elmo</td><td>143000</td><td>7/15/2017 0:00</td><td>139900</td><td>Exclusive Right</td><td>139900</td><td>145.9184</td><td>980</td><td>Other</td><td>C4</td><td>279X200</td><td>834 - Stillwater</td><td>10</td><td>2017-07-30 00:00:00</td><td>0</td><td>12 x  9</td><td>Living Room, Dini...</td><td>NULL</td><td>Main</td><td>No</td><td>NULL</td><td>10</td><td>Attached Garage</td><td>980</td><td>1858</td><td>Main</td><td>16 x 13</td><td>1858.0</td><td>2017</td><td>980</td><td>NULL</td><td>1950</td><td>Residential-Single</td><td>(SF) One Story</td><td>1.28</td><td>Central</td><td>Range, Dishwasher...</td><td>NULL</td><td>NULL</td><td>NULL</td><td>Vinyl</td><td>NULL</td><td>Main</td><td>9 x  7</td><td>Eat In Kitchen</td><td>Full</td><td>1</td><td>1</td><td>0</td><td>0</td><td>SF</td><td>2</td><td>Main Floor 3/4 Ba...</td><td>13 x 11</td><td>Main</td><td>10 x 10</td><td>Main</td><td>NULL</td><td>NULL</td><td>NULL</td><td>NULL</td><td>3</td><td>0</td><td>NULL</td><td>0</td><td>Unknown</td><td>0.0</td><td>1</td><td>[Attached Garage]</td><td>NULL</td><td>1</td><td>NULL</td><td>NULL</td><td>NULL</td><td>NULL</td><td>NULL</td><td>NULL</td><td>NULL</td><td>NULL</td><td>NULL</td><td>NULL</td><td>NULL</td><td>NULL</td><td>NULL</td><td>NULL</td><td>NULL</td><td>NULL</td><td>NULL</td><td>NULL</td><td>NULL</td><td>NULL</td><td>NULL</td><td>NULL</td><td>NULL</td><td>NULL</td><td>NULL</td><td>NULL</td></tr>\n",
       "<tr><td>2</td><td>RMLS</td><td>11200</td><td>11200 31st St N</td><td>31st</td><td>55042</td><td>MN</td><td>LELM - Lake Elmo</td><td>190000</td><td>10/9/2017 0:00</td><td>210000</td><td>Exclusive Right</td><td>210000</td><td>85.2783</td><td>1144</td><td>NULL</td><td>C1</td><td>100x140</td><td>834 - Stillwater</td><td>4</td><td>2017-10-13 00:00:00</td><td>0</td><td>11x11</td><td>Living Room, Dini...</td><td>Asphalt Shingles,...</td><td>Main</td><td>No</td><td>NULL</td><td>4</td><td>Attached Garage, ...</td><td>1268</td><td>1640</td><td>Main</td><td>22x14</td><td>1640.0</td><td>2017</td><td>2228</td><td>NULL</td><td>1971</td><td>Residential-Single</td><td>(SF) Split Entry ...</td><td>0.32</td><td>Central</td><td>Range, Microwave,...</td><td>NULL</td><td>Lower Level</td><td>22x14</td><td>Vinyl</td><td>Lower</td><td>Main</td><td>11x12</td><td>Informal Dining R...</td><td>Full, Partial Fin...</td><td>1</td><td>0</td><td>0</td><td>2</td><td>SF</td><td>3</td><td>Main Floor Full B...</td><td>15x11</td><td>Main</td><td>14x11</td><td>Main</td><td>10x11</td><td>Main</td><td>11x11</td><td>Lower</td><td>4</td><td>960</td><td>NULL</td><td>0</td><td>Unknown</td><td>0.0</td><td>1</td><td>[Attached Garage,...</td><td>NULL</td><td>1</td><td>NULL</td><td>NULL</td><td>NULL</td><td>NULL</td><td>1</td><td>NULL</td><td>NULL</td><td>NULL</td><td>NULL</td><td>1</td><td>NULL</td><td>NULL</td><td>NULL</td><td>NULL</td><td>NULL</td><td>NULL</td><td>NULL</td><td>NULL</td><td>NULL</td><td>NULL</td><td>NULL</td><td>NULL</td><td>NULL</td><td>NULL</td><td>NULL</td><td>NULL</td></tr>\n",
       "</table>\n"
      ],
      "text/plain": [
       "+---+-----+-------------------+--------------------+----------+----------+---------------+----------------+---------------+--------------+---------+---------------+-----------------+------------+--------------+-----+---------+-----------------+--------------------+------------+-------------------+----------+---------+--------------------+--------------------+----------+------------------+---------------+----+--------------------+---------------+-----+----------+---------+------------------+-------+----------+----------+---------+------------------+--------------------+-----+------------------+--------------------+----------------+--------------+---------+--------+----------+----------+---------+---------------------+--------------------+---------+---------+-----------+-----------------+-----+----------+--------------------+---------+----------+---------+----------+---------+----------+---------+----------+--------+---------------+-----------------+--------------+-----------------+-----------------+-------------------+--------------------+--------+---------------+-------+---------------------+-------+---------------+------------------+-------------------+-----------------+------------------------+-----------------+------------------+-------------+----------------+----------------------------+---------------------------+-------------------------+----+----------------------+-----+-------+------+---------+----------+--------------+------------------+----------+---------------------+\n",
       "|No.|MLSID|StreetNumberNumeric|       streetaddress|STREETNAME|PostalCode|StateOrProvince|            City|SalesClosePrice|      LISTDATE|LISTPRICE|       LISTTYPE|OriginalListPrice|PricePerTSFT|FOUNDATIONSIZE|FENCE|MapLetter|LotSizeDimensions|SchoolDistrictNumber|DAYSONMARKET|      offmarketdate|Fireplaces|RoomArea4|            roomtype|                ROOF|RoomFloor4|PotentialShortSale|PoolDescription|PDOM|   GarageDescription|SQFTABOVEGROUND|Taxes|RoomFloor1|RoomArea1|TAXWITHASSESSMENTS|TAXYEAR|LivingArea|UNITNUMBER|YEARBUILT|            ZONING|               STYLE|ACRES|CoolingDescription|          APPLIANCES|backonmarketdate|ROOMFAMILYCHAR|RoomArea3|EXTERIOR|RoomFloor3|RoomFloor2|RoomArea2|DiningRoomDescription|            BASEMENT|BathsFull|BathsHalf|BATHQUARTER|BATHSTHREEQUARTER|Class|BATHSTOTAL|            BATHDESC|RoomArea5|RoomFloor5|RoomArea6|RoomFloor6|RoomArea7|RoomFloor7|RoomArea8|RoomFloor8|Bedrooms|SQFTBELOWGROUND|AssumableMortgage|AssociationFee|ASSESSMENTPENDING|AssessedValuation|has_attached_garage|         garage_list|Assigned|Attached Garage|Carport|Contract Pkg Required|Covered|Detached Garage|Driveway - Asphalt|Driveway - Concrete|Driveway - Gravel|Driveway - Other Surface|Driveway - Shared|Garage Door Opener|Heated Garage|Insulated Garage|More Parking Offsite for Fee|More Parking Onsite for Fee|No Int Access to Dwelling|None|On-Street Parking Only|Other|Secured|Tandem|Tuckunder|Unassigned|Uncovered/Open|Underground Garage|Units Vary|Valet Parking for Fee|\n",
       "+---+-----+-------------------+--------------------+----------+----------+---------------+----------------+---------------+--------------+---------+---------------+-----------------+------------+--------------+-----+---------+-----------------+--------------------+------------+-------------------+----------+---------+--------------------+--------------------+----------+------------------+---------------+----+--------------------+---------------+-----+----------+---------+------------------+-------+----------+----------+---------+------------------+--------------------+-----+------------------+--------------------+----------------+--------------+---------+--------+----------+----------+---------+---------------------+--------------------+---------+---------+-----------+-----------------+-----+----------+--------------------+---------+----------+---------+----------+---------+----------+---------+----------+--------+---------------+-----------------+--------------+-----------------+-----------------+-------------------+--------------------+--------+---------------+-------+---------------------+-------+---------------+------------------+-------------------+-----------------+------------------------+-----------------+------------------+-------------+----------------+----------------------------+---------------------------+-------------------------+----+----------------------+-----+-------+------+---------+----------+--------------+------------------+----------+---------------------+\n",
       "|  1| RMLS|              11511|11511 Stillwater ...|Stillwater|     55042|             MN|LELM - Lake Elmo|         143000|7/15/2017 0:00|   139900|Exclusive Right|           139900|    145.9184|           980|Other|       C4|          279X200|    834 - Stillwater|          10|2017-07-30 00:00:00|         0|  12 x  9|Living Room, Dini...|                NULL|      Main|                No|           NULL|  10|     Attached Garage|            980| 1858|      Main|  16 x 13|            1858.0|   2017|       980|      NULL|     1950|Residential-Single|      (SF) One Story| 1.28|           Central|Range, Dishwasher...|            NULL|          NULL|     NULL|   Vinyl|      NULL|      Main|   9 x  7|       Eat In Kitchen|                Full|        1|        1|          0|                0|   SF|         2|Main Floor 3/4 Ba...|  13 x 11|      Main|  10 x 10|      Main|     NULL|      NULL|     NULL|      NULL|       3|              0|             NULL|             0|          Unknown|              0.0|                  1|   [Attached Garage]|    NULL|              1|   NULL|                 NULL|   NULL|           NULL|              NULL|               NULL|             NULL|                    NULL|             NULL|              NULL|         NULL|            NULL|                        NULL|                       NULL|                     NULL|NULL|                  NULL| NULL|   NULL|  NULL|     NULL|      NULL|          NULL|              NULL|      NULL|                 NULL|\n",
       "|  2| RMLS|              11200|     11200 31st St N|      31st|     55042|             MN|LELM - Lake Elmo|         190000|10/9/2017 0:00|   210000|Exclusive Right|           210000|     85.2783|          1144| NULL|       C1|          100x140|    834 - Stillwater|           4|2017-10-13 00:00:00|         0|    11x11|Living Room, Dini...|Asphalt Shingles,...|      Main|                No|           NULL|   4|Attached Garage, ...|           1268| 1640|      Main|    22x14|            1640.0|   2017|      2228|      NULL|     1971|Residential-Single|(SF) Split Entry ...| 0.32|           Central|Range, Microwave,...|            NULL|   Lower Level|    22x14|   Vinyl|     Lower|      Main|    11x12| Informal Dining R...|Full, Partial Fin...|        1|        0|          0|                2|   SF|         3|Main Floor Full B...|    15x11|      Main|    14x11|      Main|    10x11|      Main|    11x11|     Lower|       4|            960|             NULL|             0|          Unknown|              0.0|                  1|[Attached Garage,...|    NULL|              1|   NULL|                 NULL|   NULL|           NULL|                 1|               NULL|             NULL|                    NULL|             NULL|                 1|         NULL|            NULL|                        NULL|                       NULL|                     NULL|NULL|                  NULL| NULL|   NULL|  NULL|     NULL|      NULL|          NULL|              NULL|      NULL|                 NULL|\n",
       "+---+-----+-------------------+--------------------+----------+----------+---------------+----------------+---------------+--------------+---------+---------------+-----------------+------------+--------------+-----+---------+-----------------+--------------------+------------+-------------------+----------+---------+--------------------+--------------------+----------+------------------+---------------+----+--------------------+---------------+-----+----------+---------+------------------+-------+----------+----------+---------+------------------+--------------------+-----+------------------+--------------------+----------------+--------------+---------+--------+----------+----------+---------+---------------------+--------------------+---------+---------+-----------+-----------------+-----+----------+--------------------+---------+----------+---------+----------+---------+----------+---------+----------+--------+---------------+-----------------+--------------+-----------------+-----------------+-------------------+--------------------+--------+---------------+-------+---------------------+-------+---------------+------------------+-------------------+-----------------+------------------------+-----------------+------------------+-------------+----------------+----------------------------+---------------------------+-------------------------+----+----------------------+-----+-------+------+---------+----------+--------------+------------------+----------+---------------------+"
      ]
     },
     "execution_count": 46,
     "metadata": {},
     "output_type": "execute_result"
    }
   ],
   "source": [
    "# Join the dataframes together\n",
    "joined_df = df.join(piv_df, on='No.', how='left')\n",
    "print('Dataframe shape:', (joined_df.count(), len(joined_df.columns)))\n",
    "joined_df.limit(2)"
   ]
  },
  {
   "cell_type": "code",
   "execution_count": 47,
   "id": "e1898c2d-9a7a-4209-8109-c412f85dd922",
   "metadata": {},
   "outputs": [
    {
     "name": "stdout",
     "output_type": "stream",
     "text": [
      "Dataframe shape: (5000, 104)\n"
     ]
    },
    {
     "data": {
      "text/html": [
       "<table border='1'>\n",
       "<tr><th>Assigned</th><th>Attached Garage</th><th>Carport</th><th>Contract Pkg Required</th><th>Covered</th><th>Detached Garage</th><th>Driveway - Asphalt</th><th>Driveway - Concrete</th><th>Driveway - Gravel</th><th>Driveway - Other Surface</th><th>Driveway - Shared</th><th>Garage Door Opener</th><th>Heated Garage</th><th>Insulated Garage</th><th>More Parking Offsite for Fee</th><th>More Parking Onsite for Fee</th><th>No Int Access to Dwelling</th><th>None</th><th>On-Street Parking Only</th><th>Other</th><th>Secured</th><th>Tandem</th><th>Tuckunder</th><th>Unassigned</th><th>Uncovered/Open</th><th>Underground Garage</th><th>Units Vary</th><th>Valet Parking for Fee</th></tr>\n",
       "<tr><td>0</td><td>1</td><td>0</td><td>0</td><td>0</td><td>0</td><td>0</td><td>0</td><td>0</td><td>0</td><td>0</td><td>0</td><td>0</td><td>0</td><td>0</td><td>0</td><td>0</td><td>0</td><td>0</td><td>0</td><td>0</td><td>0</td><td>0</td><td>0</td><td>0</td><td>0</td><td>0</td><td>0</td></tr>\n",
       "<tr><td>0</td><td>1</td><td>0</td><td>0</td><td>0</td><td>0</td><td>1</td><td>0</td><td>0</td><td>0</td><td>0</td><td>1</td><td>0</td><td>0</td><td>0</td><td>0</td><td>0</td><td>0</td><td>0</td><td>0</td><td>0</td><td>0</td><td>0</td><td>0</td><td>0</td><td>0</td><td>0</td><td>0</td></tr>\n",
       "</table>\n"
      ],
      "text/plain": [
       "+--------+---------------+-------+---------------------+-------+---------------+------------------+-------------------+-----------------+------------------------+-----------------+------------------+-------------+----------------+----------------------------+---------------------------+-------------------------+----+----------------------+-----+-------+------+---------+----------+--------------+------------------+----------+---------------------+\n",
       "|Assigned|Attached Garage|Carport|Contract Pkg Required|Covered|Detached Garage|Driveway - Asphalt|Driveway - Concrete|Driveway - Gravel|Driveway - Other Surface|Driveway - Shared|Garage Door Opener|Heated Garage|Insulated Garage|More Parking Offsite for Fee|More Parking Onsite for Fee|No Int Access to Dwelling|None|On-Street Parking Only|Other|Secured|Tandem|Tuckunder|Unassigned|Uncovered/Open|Underground Garage|Units Vary|Valet Parking for Fee|\n",
       "+--------+---------------+-------+---------------------+-------+---------------+------------------+-------------------+-----------------+------------------------+-----------------+------------------+-------------+----------------+----------------------------+---------------------------+-------------------------+----+----------------------+-----+-------+------+---------+----------+--------------+------------------+----------+---------------------+\n",
       "|       0|              1|      0|                    0|      0|              0|                 0|                  0|                0|                       0|                0|                 0|            0|               0|                           0|                          0|                        0|   0|                     0|    0|      0|     0|        0|         0|             0|                 0|         0|                    0|\n",
       "|       0|              1|      0|                    0|      0|              0|                 1|                  0|                0|                       0|                0|                 1|            0|               0|                           0|                          0|                        0|   0|                     0|    0|      0|     0|        0|         0|             0|                 0|         0|                    0|\n",
       "+--------+---------------+-------+---------------------+-------+---------------+------------------+-------------------+-----------------+------------------------+-----------------+------------------+-------------+----------------+----------------------------+---------------------------+-------------------------+----+----------------------+-----+-------+------+---------+----------+--------------+------------------+----------+---------------------+"
      ]
     },
     "execution_count": 47,
     "metadata": {},
     "output_type": "execute_result"
    }
   ],
   "source": [
    "# Columns to zero fill\n",
    "zfill_cols = piv_df.columns[1:]\n",
    "\n",
    "# Zero fill the pivoted values\n",
    "zfilled_df = joined_df.fillna(0, subset=zfill_cols)\n",
    "print('Dataframe shape:', (zfilled_df.count(), len(zfilled_df.columns)))\n",
    "zfilled_df.select(zfill_cols).limit(2)"
   ]
  },
  {
   "cell_type": "markdown",
   "id": "2d2df923-5133-4ccc-b8c2-98799d44a226",
   "metadata": {},
   "source": [
    "## Binarizing, Bucketing & Encoding"
   ]
  },
  {
   "cell_type": "code",
   "execution_count": 48,
   "id": "d607120d-b712-4beb-a7fd-7b90841c7b78",
   "metadata": {},
   "outputs": [
    {
     "name": "stdout",
     "output_type": "stream",
     "text": [
      "Dataframe shape: (5000, 74)\n",
      "[('Fireplaces', 'int'), ('City', 'string'), ('BATHSTOTAL', 'int')]\n",
      "+----------+----------------+----------+\n",
      "|Fireplaces|City            |BATHSTOTAL|\n",
      "+----------+----------------+----------+\n",
      "|2         |OAKD - Oakdale  |4         |\n",
      "|2         |MAPW - Maplewood|3         |\n",
      "|0         |OAKD - Oakdale  |1         |\n",
      "|2         |OAKD - Oakdale  |1         |\n",
      "|2         |LELM - Lake Elmo|4         |\n",
      "|1         |LELM - Lake Elmo|2         |\n",
      "|1         |WB - Woodbury   |5         |\n",
      "|1         |STP - Saint Paul|4         |\n",
      "|0         |LELM - Lake Elmo|2         |\n",
      "|8         |STP - Saint Paul|6         |\n",
      "|2         |OAKD - Oakdale  |2         |\n",
      "|3         |STP - Saint Paul|3         |\n",
      "|2         |WB - Woodbury   |6         |\n",
      "|1         |STP - Saint Paul|2         |\n",
      "|0         |OAKD - Oakdale  |5         |\n",
      "|1         |STP - Saint Paul|5         |\n",
      "|0         |LELM - Lake Elmo|1         |\n",
      "|0         |LELM - Lake Elmo|3         |\n",
      "|1         |OAKD - Oakdale  |4         |\n",
      "|0         |OAKD - Oakdale  |3         |\n",
      "|1         |WB - Woodbury   |3         |\n",
      "|3         |WB - Woodbury   |5         |\n",
      "|1         |WB - Woodbury   |6         |\n",
      "|3         |WB - Woodbury   |3         |\n",
      "|0         |STP - Saint Paul|7         |\n",
      "|3         |LELM - Lake Elmo|6         |\n",
      "|1         |MAPW - Maplewood|5         |\n",
      "|3         |OAKD - Oakdale  |2         |\n",
      "|0         |MAPW - Maplewood|3         |\n",
      "|2         |WB - Woodbury   |3         |\n",
      "|2         |STP - Saint Paul|3         |\n",
      "|1         |LELM - Lake Elmo|5         |\n",
      "|2         |MAPW - Maplewood|1         |\n",
      "|3         |MAPW - Maplewood|4         |\n",
      "|0         |LELM - Lake Elmo|5         |\n",
      "|1         |STP - Saint Paul|6         |\n",
      "|1         |WB - Woodbury   |7         |\n",
      "|1         |STP - Saint Paul|1         |\n",
      "|2         |LELM - Lake Elmo|3         |\n",
      "|2         |MAPW - Maplewood|2         |\n",
      "+----------+----------------+----------+\n",
      "only showing top 40 rows\n",
      "\n"
     ]
    }
   ],
   "source": [
    "# Initializing the data\n",
    "df = real_state.select('*')\n",
    "print('Dataframe shape:', (df.count(), len(df.columns)))\n",
    "column_list = ['Fireplaces', 'City', 'BATHSTOTAL']\n",
    "pprint(df[column_list].dtypes)\n",
    "df[column_list].distinct().show(40, truncate=False)"
   ]
  },
  {
   "cell_type": "markdown",
   "id": "c2473e08-3649-41bf-97d6-71511b73c141",
   "metadata": {},
   "source": [
    "### Binarizing"
   ]
  },
  {
   "cell_type": "code",
   "execution_count": 49,
   "id": "cb67d09e-7316-4de1-b76c-212ca75eb154",
   "metadata": {},
   "outputs": [
    {
     "name": "stdout",
     "output_type": "stream",
     "text": [
      "+----------+----------+\n",
      "|Fireplaces|FireplaceT|\n",
      "+----------+----------+\n",
      "|       6.0|       1.0|\n",
      "|       5.0|       1.0|\n",
      "|       1.0|       1.0|\n",
      "|       7.0|       1.0|\n",
      "|       3.0|       1.0|\n",
      "|       8.0|       1.0|\n",
      "|       2.0|       1.0|\n",
      "|       0.0|       0.0|\n",
      "|       4.0|       1.0|\n",
      "+----------+----------+\n",
      "\n"
     ]
    }
   ],
   "source": [
    "# Cast the data type to double - required for binarization\n",
    "df = df.withColumn('Fireplaces', df['Fireplaces'].cast('double'))\n",
    "\n",
    "# Create binarizing transformer\n",
    "bin = Binarizer(threshold=0.0, inputCol='Fireplaces', outputCol='FireplaceT')\n",
    "\n",
    "# Apply the transformer\n",
    "df_bin = bin.transform(df)\n",
    "\n",
    "# Inspect the results\n",
    "df_bin[['Fireplaces','FireplaceT']].distinct().show()"
   ]
  },
  {
   "cell_type": "markdown",
   "id": "00f14d90-21fa-4e71-b494-7b521495c917",
   "metadata": {},
   "source": [
    "### Bucketing"
   ]
  },
  {
   "cell_type": "code",
   "execution_count": 50,
   "id": "b6a211b7-f5e6-4cb3-9860-3a53f9620d91",
   "metadata": {},
   "outputs": [
    {
     "name": "stdout",
     "output_type": "stream",
     "text": [
      "+----------+-----+\n",
      "|BATHSTOTAL|baths|\n",
      "+----------+-----+\n",
      "|         6|  4.0|\n",
      "|         5|  4.0|\n",
      "|         4|  4.0|\n",
      "|         3|  3.0|\n",
      "|         2|  2.0|\n",
      "|         1|  1.0|\n",
      "|         7|  4.0|\n",
      "+----------+-----+\n",
      "\n"
     ]
    }
   ],
   "source": [
    "# Define how to split data\n",
    "catego_splits = [0, 1, 2, 3, 4, float('Inf')]\n",
    "\n",
    "# Create bucketing transformer\n",
    "buck = Bucketizer(splits=catego_splits, inputCol='BATHSTOTAL', outputCol='baths')\n",
    "\n",
    "# Apply transformer\n",
    "df_buck = buck.transform(df)\n",
    "\n",
    "# Inspect results\n",
    "df_buck[['BATHSTOTAL', 'baths']].distinct().show()"
   ]
  },
  {
   "cell_type": "markdown",
   "id": "b660891a-58e3-4550-875c-f5b805617944",
   "metadata": {},
   "source": [
    "### One Hot Encoding"
   ]
  },
  {
   "cell_type": "code",
   "execution_count": 51,
   "id": "455a0bda-eedd-49ca-940a-01d1bd8aecff",
   "metadata": {},
   "outputs": [
    {
     "name": "stdout",
     "output_type": "stream",
     "text": [
      "+----------------+----------+\n",
      "|            City|City_Index|\n",
      "+----------------+----------+\n",
      "|MAPW - Maplewood|       2.0|\n",
      "|  OAKD - Oakdale|       3.0|\n",
      "|LELM - Lake Elmo|       4.0|\n",
      "|   WB - Woodbury|       1.0|\n",
      "|STP - Saint Paul|       0.0|\n",
      "+----------------+----------+\n",
      "\n"
     ]
    }
   ],
   "source": [
    "# Create and fit the indexer transformer\n",
    "stringIndexer = StringIndexer(inputCol=\"City\", outputCol=\"City_Index\").fit(df)\n",
    "\n",
    "# Apply transformer\n",
    "df_indexed = stringIndexer.transform(df)\n",
    "\n",
    "# Inspect the results\n",
    "df_indexed[['City', 'City_Index']].distinct().show()"
   ]
  },
  {
   "cell_type": "code",
   "execution_count": 52,
   "id": "37e8223c-e5dc-47c2-8602-f457fdce566c",
   "metadata": {},
   "outputs": [
    {
     "name": "stdout",
     "output_type": "stream",
     "text": [
      "+----------------+----------+-------------+\n",
      "|            City|City_Index|     City_Vec|\n",
      "+----------------+----------+-------------+\n",
      "|MAPW - Maplewood|       2.0|(4,[2],[1.0])|\n",
      "|  OAKD - Oakdale|       3.0|(4,[3],[1.0])|\n",
      "|   WB - Woodbury|       1.0|(4,[1],[1.0])|\n",
      "|STP - Saint Paul|       0.0|(4,[0],[1.0])|\n",
      "|LELM - Lake Elmo|       4.0|    (4,[],[])|\n",
      "+----------------+----------+-------------+\n",
      "\n"
     ]
    }
   ],
   "source": [
    "# Create encoder transformer\n",
    "encoder = OneHotEncoder(inputCol='City_Index', outputCol='City_Vec').fit(df_indexed)\n",
    "                        \n",
    "# Apply the encoder transformer\n",
    "encoded_df = encoder.transform(df_indexed)\n",
    "\n",
    "# Inspect results\n",
    "encoded_df[['City', 'City_Index', 'City_Vec']].distinct().show(10)"
   ]
  },
  {
   "cell_type": "markdown",
   "id": "f96c0b3d-07fd-4001-9b4e-c9c2cbb308e7",
   "metadata": {},
   "source": [
    "## Ex. 10 - Binarizing Day of Week\n",
    "\n",
    "In a previous video, we saw that it was very unlikely for a home to list on the weekend. Let's create a new field that says if the house is listed for sale on a weekday or not. In this example there is a field called `List_Day_of_Week` that has `Monday` is labeled `1.0` and `Sunday` is `7.0`. Let's convert this to a binary field with weekday being `0` and weekend being `1`. We can use the pyspark feature transformer `Binarizer` to do this.\n",
    "\n",
    "**Instructions:**\n",
    "\n",
    "1. Import the feature transformer `Binarizer` from `pyspark` and the `ml.feature` module.\n",
    "2. Create the transformer using `Binarizer()` with the threshold for setting the value to `1` as anything after Friday, `5.0`, then set the input column as `List_Day_of_Week` and output column as `Listed_On_Weekend`.\n",
    "3. Apply the binarizer transformation on `df` using `transform()`.\n",
    "4. Verify the transformation worked correctly by selecting the `List_Day_of_Week` and `Listed_On_Weekend` columns with `show()`."
   ]
  },
  {
   "cell_type": "code",
   "execution_count": 53,
   "id": "0e17352d-e018-431e-a112-965fabd7ec73",
   "metadata": {},
   "outputs": [
    {
     "name": "stdout",
     "output_type": "stream",
     "text": [
      "Dataframe shape: (5000, 75)\n",
      "[('LISTDATE', 'date'), ('List_Day_of_Week', 'int')]\n",
      "+----------+----------------+\n",
      "|LISTDATE  |List_Day_of_Week|\n",
      "+----------+----------------+\n",
      "|2017-06-12|2               |\n",
      "|2017-10-09|2               |\n",
      "|2017-10-24|3               |\n",
      "|2017-10-14|7               |\n",
      "|2017-05-26|6               |\n",
      "|2017-10-10|3               |\n",
      "|2017-04-11|3               |\n",
      "|2017-11-25|7               |\n",
      "|2017-03-29|4               |\n",
      "|2017-07-19|4               |\n",
      "+----------+----------------+\n",
      "only showing top 10 rows\n",
      "\n"
     ]
    }
   ],
   "source": [
    "# Initializing the data\n",
    "df = real_state.select('*')\n",
    "df = df.withColumn('LISTDATE', F.to_date('LISTDATE', format='M/d/yyyy H:m'))\n",
    "df = df.withColumn('List_Day_of_Week', F.dayofweek('LISTDATE'))\n",
    "print('Dataframe shape:', (df.count(), len(df.columns)))\n",
    "column_list = ['LISTDATE', 'List_Day_of_Week']\n",
    "pprint(df[column_list].dtypes)\n",
    "df[column_list].distinct().show(10, truncate=False)"
   ]
  },
  {
   "cell_type": "code",
   "execution_count": 54,
   "id": "2e672d3a-ab26-454e-8987-67cb391201a0",
   "metadata": {},
   "outputs": [
    {
     "name": "stdout",
     "output_type": "stream",
     "text": [
      "+----------------+-----------------+\n",
      "|List_Day_of_Week|Listed_On_Weekend|\n",
      "+----------------+-----------------+\n",
      "|             2.0|              0.0|\n",
      "|             6.0|              1.0|\n",
      "|             7.0|              1.0|\n",
      "|             1.0|              0.0|\n",
      "|             4.0|              0.0|\n",
      "|             3.0|              0.0|\n",
      "|             5.0|              0.0|\n",
      "+----------------+-----------------+\n",
      "\n"
     ]
    }
   ],
   "source": [
    "# Cast the data type to double - required for binarization\n",
    "df = df.withColumn('List_Day_of_Week', df['List_Day_of_Week'].cast('double'))\n",
    "\n",
    "# Create binarizing transformer\n",
    "bin = Binarizer(threshold=5.0, inputCol='List_Day_of_Week', outputCol='Listed_On_Weekend')\n",
    "\n",
    "# Apply the transformer\n",
    "df_bin = bin.transform(df)\n",
    "\n",
    "# Inspect the results\n",
    "df_bin[['List_Day_of_Week','Listed_On_Weekend']].distinct().show()"
   ]
  },
  {
   "cell_type": "markdown",
   "id": "c80639b4-5631-40cc-a061-406b6ae4f6c2",
   "metadata": {},
   "source": [
    "## Ex. 11 - Bucketing\n",
    "If you are a homeowner its very important if a house has 1, 2, 3 or 4 bedrooms. But like bathrooms, once you hit a certain point you don't really care whether the house has 7 or 8. This example we'll look at how to figure out where are some good value points to bucket.\n",
    "\n",
    "**Instructions:**\n",
    "\n",
    "1. Plot a distribution plot of the pandas dataframe `sample_df` using Seaborn `distplot()`.\n",
    "2. Given it looks like there is a long tail of infrequent values after `5`, create the bucket splits of `1, 2, 3, 4, 5+`\n",
    "3. Create the transformer `buck` by instantiating `Bucketizer()` with the splits for setting the buckets, then set the input column as `BEDROOMS` and output column as `bedrooms`.\n",
    "4. Apply the Bucketizer transformation on `df` using `transform()` and assign the result to `df_bucket`. Then verify the results with `show()`"
   ]
  },
  {
   "cell_type": "code",
   "execution_count": 55,
   "id": "95d6f60b-0ab9-4008-996c-91976e21e223",
   "metadata": {},
   "outputs": [
    {
     "name": "stdout",
     "output_type": "stream",
     "text": [
      "[('Bedrooms', 'int')]\n",
      "+--------+\n",
      "|Bedrooms|\n",
      "+--------+\n",
      "|1       |\n",
      "|6       |\n",
      "|3       |\n",
      "|5       |\n",
      "|9       |\n",
      "|4       |\n",
      "|8       |\n",
      "|7       |\n",
      "|2       |\n",
      "|0       |\n",
      "+--------+\n",
      "\n"
     ]
    }
   ],
   "source": [
    "# Reviewing the data\n",
    "df = real_state.select('*')\n",
    "column_list = ['Bedrooms']\n",
    "pprint(df[column_list].dtypes)\n",
    "df[column_list].distinct().show(truncate=False)"
   ]
  },
  {
   "cell_type": "code",
   "execution_count": 56,
   "id": "ad97562b-c020-4db6-b614-314884442bc9",
   "metadata": {},
   "outputs": [
    {
     "data": {
      "image/png": "[encoded data removed]",
      "text/plain": [
       "<Figure size 640x480 with 1 Axes>"
      ]
     },
     "metadata": {},
     "output_type": "display_data"
    }
   ],
   "source": [
    "# Sample and create pandas dataframe\n",
    "pandas_df = df.select(['Bedrooms']).sample(withReplacement=False, fraction=0.5, seed=42).toPandas()\n",
    "\n",
    "# Plot distribution of sample_df\n",
    "_ = sns.histplot(pandas_df, kde=True, stat=\"density\", linewidth=0)\n",
    "plt.show()"
   ]
  },
  {
   "cell_type": "code",
   "execution_count": 57,
   "id": "e8e5800c-02ec-4692-a0f2-27a5393cae9a",
   "metadata": {},
   "outputs": [
    {
     "name": "stdout",
     "output_type": "stream",
     "text": [
      "+--------+-------------+\n",
      "|Bedrooms|bedrooms_buck|\n",
      "+--------+-------------+\n",
      "|       0|          0.0|\n",
      "|       1|          1.0|\n",
      "|       2|          2.0|\n",
      "|       3|          3.0|\n",
      "|       4|          4.0|\n",
      "|       5|          5.0|\n",
      "|       6|          5.0|\n",
      "|       7|          5.0|\n",
      "|       8|          5.0|\n",
      "|       9|          5.0|\n",
      "+--------+-------------+\n",
      "\n"
     ]
    }
   ],
   "source": [
    "# Create the bucket splits and bucketizer\n",
    "splits = [0, 1, 2, 3, 4, 5, float('Inf')]\n",
    "buck = Bucketizer(splits=splits, inputCol='Bedrooms', outputCol='bedrooms_buck')\n",
    "\n",
    "# Apply the transformation to df: df_bucket\n",
    "df_bucket = buck.transform(df)\n",
    "\n",
    "# Display results\n",
    "df_bucket[['Bedrooms', 'bedrooms_buck']].distinct().orderBy('Bedrooms').show()"
   ]
  },
  {
   "cell_type": "markdown",
   "id": "6c93d511-b978-412f-905f-fa699ed01a20",
   "metadata": {},
   "source": [
    "## Ex. 12 - One Hot Encoding\n",
    "\n",
    "In the United States where you live determines which schools your kids can attend. Therefore it's understandable that many people care deeply about which school districts their future home will be in. While the school districts are numbered in `SCHOOLDISTRICTNUMBER` they are really categorical. Meaning that summing or averaging these values has no apparent meaning. Therefore in this example we will convert `SCHOOLDISTRICTNUMBER` from a categorial variable into a numeric vector to use in our machine learning model later.\n",
    "\n",
    "**Instructions:**\n",
    "\n",
    "1. Instantiate a `StringIndexer` transformer called `string_indexer` with `SCHOOLDISTRICTNUMBER` as the `input` and `School_Index` as the `output`.\n",
    "2. Apply the transformer `string_indexer` to `df` with `fit()` and `transform()`. Store the transformed dataframe in `indexed_df`.\n",
    "3. Create a `OneHotEncoder` transformer called encoder using `School_Index` as the input and `School_Vec` as the `output`.\n",
    "4. Apply the transformation to `indexed_df` using `transform()`. Inspect the iterative steps of the transformation with the supplied code."
   ]
  },
  {
   "cell_type": "code",
   "execution_count": 58,
   "id": "574c7078-d1ad-45c2-8e40-503e816d951b",
   "metadata": {},
   "outputs": [
    {
     "name": "stdout",
     "output_type": "stream",
     "text": [
      "[('SchoolDistrictNumber', 'string')]\n",
      "+-----------------------------+\n",
      "|SchoolDistrictNumber         |\n",
      "+-----------------------------+\n",
      "|624 - White Bear Lake        |\n",
      "|6 - South St. Paul           |\n",
      "|832 - Mahtomedi              |\n",
      "|625 - St. Paul               |\n",
      "|623 - Roseville              |\n",
      "|622 - North St Paul-Maplewood|\n",
      "|833 - South Washington County|\n",
      "|834 - Stillwater             |\n",
      "+-----------------------------+\n",
      "\n"
     ]
    }
   ],
   "source": [
    "# Reviewing the data\n",
    "df = real_state.select('*')\n",
    "column_list = ['SchoolDistrictNumber']\n",
    "pprint(df[column_list].dtypes)\n",
    "df[column_list].distinct().show(truncate=False)"
   ]
  },
  {
   "cell_type": "code",
   "execution_count": 59,
   "id": "3c70462b-fcf4-4ac9-be8d-7424dd60d07a",
   "metadata": {},
   "outputs": [
    {
     "name": "stdout",
     "output_type": "stream",
     "text": [
      "+--------------------+------------+\n",
      "|SchoolDistrictNumber|School_Index|\n",
      "+--------------------+------------+\n",
      "|  6 - South St. Paul|         7.0|\n",
      "|833 - South Washi...|         2.0|\n",
      "|     623 - Roseville|         4.0|\n",
      "|      625 - St. Paul|         0.0|\n",
      "|622 - North St Pa...|         1.0|\n",
      "|    834 - Stillwater|         3.0|\n",
      "|     832 - Mahtomedi|         5.0|\n",
      "|624 - White Bear ...|         6.0|\n",
      "+--------------------+------------+\n",
      "\n"
     ]
    }
   ],
   "source": [
    "# Map strings to numbers with string indexer\n",
    "string_indexer = StringIndexer(inputCol='SchoolDistrictNumber', outputCol='School_Index').fit(df)\n",
    "indexed_df = string_indexer.transform(df)\n",
    "\n",
    "# Inspect the results\n",
    "indexed_df[['SchoolDistrictNumber', 'School_Index']].distinct().show()"
   ]
  },
  {
   "cell_type": "code",
   "execution_count": 60,
   "id": "2fe85b72-fd3b-4b97-ab61-4cae23e2d6a2",
   "metadata": {},
   "outputs": [
    {
     "name": "stdout",
     "output_type": "stream",
     "text": [
      "+----------------+----------+-------------+\n",
      "|            City|City_Index|     City_Vec|\n",
      "+----------------+----------+-------------+\n",
      "|MAPW - Maplewood|       2.0|(4,[2],[1.0])|\n",
      "|  OAKD - Oakdale|       3.0|(4,[3],[1.0])|\n",
      "|   WB - Woodbury|       1.0|(4,[1],[1.0])|\n",
      "|STP - Saint Paul|       0.0|(4,[0],[1.0])|\n",
      "|LELM - Lake Elmo|       4.0|    (4,[],[])|\n",
      "+----------------+----------+-------------+\n",
      "\n"
     ]
    }
   ],
   "source": [
    "# Create encoder transformer\n",
    "encoder = OneHotEncoder(inputCol='City_Index', outputCol='City_Vec').fit(df_indexed)\n",
    "                        \n",
    "# Apply the encoder transformer\n",
    "encoded_df = encoder.transform(df_indexed)\n",
    "\n",
    "# Inspect results\n",
    "encoded_df[['City', 'City_Index', 'City_Vec']].distinct().show(10)"
   ]
  },
  {
   "cell_type": "code",
   "execution_count": 61,
   "id": "cda38dce-c190-4a6d-9b3d-d6989403e9fc",
   "metadata": {},
   "outputs": [
    {
     "name": "stdout",
     "output_type": "stream",
     "text": [
      "+-----------------------------+------------+-------------+\n",
      "|         SchoolDistrictNumber|School_Index|   School_Vec|\n",
      "+-----------------------------+------------+-------------+\n",
      "|               625 - St. Paul|         0.0|(7,[0],[1.0])|\n",
      "|622 - North St Paul-Maplewood|         1.0|(7,[1],[1.0])|\n",
      "|833 - South Washington County|         2.0|(7,[2],[1.0])|\n",
      "|             834 - Stillwater|         3.0|(7,[3],[1.0])|\n",
      "|              623 - Roseville|         4.0|(7,[4],[1.0])|\n",
      "|              832 - Mahtomedi|         5.0|(7,[5],[1.0])|\n",
      "|        624 - White Bear Lake|         6.0|(7,[6],[1.0])|\n",
      "|           6 - South St. Paul|         7.0|    (7,[],[])|\n",
      "+-----------------------------+------------+-------------+\n",
      "\n"
     ]
    }
   ],
   "source": [
    "# Onehot encode indexed values\n",
    "encoder = OneHotEncoder(inputCol='School_Index', outputCol='School_Vec').fit(indexed_df)\n",
    "encoded_df = encoder.transform(indexed_df)\n",
    "\n",
    "# Inspect the transformation steps\n",
    "(\n",
    "    encoded_df.select(['SchoolDistrictNumber', 'School_Index', 'School_Vec'])\n",
    "              .distinct()\n",
    "              .orderBy('School_Index')\n",
    "              .show(truncate=100)\n",
    ")"
   ]
  },
  {
   "cell_type": "markdown",
   "id": "c84744cb-27ee-40bb-a5c3-a8b24d7342c0",
   "metadata": {},
   "source": [
    "## Close session"
   ]
  },
  {
   "cell_type": "code",
   "execution_count": 62,
   "id": "0a35b740-9e99-4e09-8ccc-81e0ea59e93f",
   "metadata": {},
   "outputs": [],
   "source": [
    "spark.stop()"
   ]
  },
  {
   "cell_type": "code",
   "execution_count": null,
   "id": "382aa0d6-d5f7-4180-a803-f58b165acd30",
   "metadata": {},
   "outputs": [],
   "source": []
  }
 ],
 "metadata": {
  "kernelspec": {
   "display_name": "Python 3 (ipykernel)",
   "language": "python",
   "name": "python3"
  },
  "language_info": {
   "codemirror_mode": {
    "name": "ipython",
    "version": 3
   },
   "file_extension": ".py",
   "mimetype": "text/x-python",
   "name": "python",
   "nbconvert_exporter": "python",
   "pygments_lexer": "ipython3",
   "version": "3.11.9"
  }
 },
 "nbformat": 4,
 "nbformat_minor": 5
}
