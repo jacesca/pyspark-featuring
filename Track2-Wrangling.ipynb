{
 "cells": [
  {
   "cell_type": "markdown",
   "id": "fd52b2d0-2d28-4a65-ba23-4cf13241492a",
   "metadata": {},
   "source": [
    "# Wrangling with Spark Functions\n",
    "\n",
    "Real data is rarely clean and ready for analysis. In this chapter learn to remove unneeded information, handle missing values and add additional data to your analysis.\n",
    "\n",
    "## Preparing the environment\n",
    "\n",
    "### Importing libraries"
   ]
  },
  {
   "cell_type": "code",
   "execution_count": 1,
   "id": "84770b51-2d57-4b9d-b8ff-bc5b8773783b",
   "metadata": {},
   "outputs": [],
   "source": [
    "import pandas as pd\n",
    "import seaborn as sns\n",
    "import sys\n",
    "import matplotlib.pyplot as plt\n",
    "\n",
    "from environment import histogram_boxplot\n",
    "from typing import List\n",
    "\n",
    "from pyspark.sql.types import (_parse_datatype_string, StructType, StructField,\n",
    "                               DoubleType, IntegerType, StringType)\n",
    "from pyspark.sql import SparkSession\n",
    "from pyspark.sql import functions as F"
   ]
  },
  {
   "cell_type": "markdown",
   "id": "dd3751f7-cc7f-4c27-9055-d76887924963",
   "metadata": {},
   "source": [
    "### Connect to Spark"
   ]
  },
  {
   "cell_type": "code",
   "execution_count": 2,
   "id": "d00fd800-7416-4120-b336-c915d9797bd4",
   "metadata": {},
   "outputs": [],
   "source": [
    "spark = SparkSession.builder.getOrCreate()\n",
    "\n",
    "# eval DataFrame in notebooks\n",
    "spark.conf.set('spark.sql.repl.eagerEval.enabled', True)"
   ]
  },
  {
   "cell_type": "code",
   "execution_count": 3,
   "id": "ffd0fb21-d1fe-49c0-abf0-15b3702f5313",
   "metadata": {},
   "outputs": [],
   "source": [
    "sc = spark.sparkContext"
   ]
  },
  {
   "cell_type": "markdown",
   "id": "132fd9ba-c788-4d78-bb68-af3ee696d882",
   "metadata": {},
   "source": [
    "### Checking the version of PySpark and Python"
   ]
  },
  {
   "cell_type": "code",
   "execution_count": 4,
   "id": "67c55ea4-47f0-4b3e-b282-8ba1fcdff33c",
   "metadata": {},
   "outputs": [
    {
     "name": "stdout",
     "output_type": "stream",
     "text": [
      "Spark  version: 3.5.1\n",
      "Python version: sys.version_info(major=3, minor=11, micro=9, releaselevel='final', serial=0)\n"
     ]
    }
   ],
   "source": [
    "print('Spark  version:', spark.version)\n",
    "print('Python version:', sys.version_info)"
   ]
  },
  {
   "cell_type": "markdown",
   "id": "ea505934-a70b-4017-9af1-e33c8399adb0",
   "metadata": {},
   "source": [
    "### Loading data"
   ]
  },
  {
   "cell_type": "code",
   "execution_count": 5,
   "id": "22b83775-1081-484a-a393-9944be747d7d",
   "metadata": {},
   "outputs": [
    {
     "name": "stdout",
     "output_type": "stream",
     "text": [
      "root\n",
      " |-- No.: integer (nullable = true)\n",
      " |-- MLSID: string (nullable = true)\n",
      " |-- StreetNumberNumeric: integer (nullable = true)\n",
      " |-- streetaddress: string (nullable = true)\n",
      " |-- STREETNAME: string (nullable = true)\n",
      " |-- PostalCode: integer (nullable = true)\n",
      " |-- StateOrProvince: string (nullable = true)\n",
      " |-- City: string (nullable = true)\n",
      " |-- SalesClosePrice: integer (nullable = true)\n",
      " |-- LISTDATE: string (nullable = true)\n",
      " |-- LISTPRICE: integer (nullable = true)\n",
      " |-- LISTTYPE: string (nullable = true)\n",
      " |-- OriginalListPrice: integer (nullable = true)\n",
      " |-- PricePerTSFT: double (nullable = true)\n",
      " |-- FOUNDATIONSIZE: integer (nullable = true)\n",
      " |-- FENCE: string (nullable = true)\n",
      " |-- MapLetter: string (nullable = true)\n",
      " |-- LotSizeDimensions: string (nullable = true)\n",
      " |-- SchoolDistrictNumber: string (nullable = true)\n",
      " |-- DAYSONMARKET: integer (nullable = true)\n",
      " |-- offmarketdate: timestamp (nullable = true)\n",
      " |-- Fireplaces: integer (nullable = true)\n",
      " |-- RoomArea4: string (nullable = true)\n",
      " |-- roomtype: string (nullable = true)\n",
      " |-- ROOF: string (nullable = true)\n",
      " |-- RoomFloor4: string (nullable = true)\n",
      " |-- PotentialShortSale: string (nullable = true)\n",
      " |-- PoolDescription: string (nullable = true)\n",
      " |-- PDOM: integer (nullable = true)\n",
      " |-- GarageDescription: string (nullable = true)\n",
      " |-- SQFTABOVEGROUND: integer (nullable = true)\n",
      " |-- Taxes: integer (nullable = true)\n",
      " |-- RoomFloor1: string (nullable = true)\n",
      " |-- RoomArea1: string (nullable = true)\n",
      " |-- TAXWITHASSESSMENTS: double (nullable = true)\n",
      " |-- TAXYEAR: integer (nullable = true)\n",
      " |-- LivingArea: integer (nullable = true)\n",
      " |-- UNITNUMBER: string (nullable = true)\n",
      " |-- YEARBUILT: integer (nullable = true)\n",
      " |-- ZONING: string (nullable = true)\n",
      " |-- STYLE: string (nullable = true)\n",
      " |-- ACRES: double (nullable = true)\n",
      " |-- CoolingDescription: string (nullable = true)\n",
      " |-- APPLIANCES: string (nullable = true)\n",
      " |-- backonmarketdate: double (nullable = true)\n",
      " |-- ROOMFAMILYCHAR: string (nullable = true)\n",
      " |-- RoomArea3: string (nullable = true)\n",
      " |-- EXTERIOR: string (nullable = true)\n",
      " |-- RoomFloor3: string (nullable = true)\n",
      " |-- RoomFloor2: string (nullable = true)\n",
      " |-- RoomArea2: string (nullable = true)\n",
      " |-- DiningRoomDescription: string (nullable = true)\n",
      " |-- BASEMENT: string (nullable = true)\n",
      " |-- BathsFull: integer (nullable = true)\n",
      " |-- BathsHalf: integer (nullable = true)\n",
      " |-- BATHQUARTER: integer (nullable = true)\n",
      " |-- BATHSTHREEQUARTER: integer (nullable = true)\n",
      " |-- Class: string (nullable = true)\n",
      " |-- BATHSTOTAL: integer (nullable = true)\n",
      " |-- BATHDESC: string (nullable = true)\n",
      " |-- RoomArea5: string (nullable = true)\n",
      " |-- RoomFloor5: string (nullable = true)\n",
      " |-- RoomArea6: string (nullable = true)\n",
      " |-- RoomFloor6: string (nullable = true)\n",
      " |-- RoomArea7: string (nullable = true)\n",
      " |-- RoomFloor7: string (nullable = true)\n",
      " |-- RoomArea8: string (nullable = true)\n",
      " |-- RoomFloor8: string (nullable = true)\n",
      " |-- Bedrooms: integer (nullable = true)\n",
      " |-- SQFTBELOWGROUND: long (nullable = true)\n",
      " |-- AssumableMortgage: string (nullable = true)\n",
      " |-- AssociationFee: long (nullable = true)\n",
      " |-- ASSESSMENTPENDING: string (nullable = true)\n",
      " |-- AssessedValuation: double (nullable = true)\n",
      "\n"
     ]
    },
    {
     "data": {
      "text/html": [
       "<table border='1'>\n",
       "<tr><th>No.</th><th>MLSID</th><th>StreetNumberNumeric</th><th>streetaddress</th><th>STREETNAME</th><th>PostalCode</th><th>StateOrProvince</th><th>City</th><th>SalesClosePrice</th><th>LISTDATE</th><th>LISTPRICE</th><th>LISTTYPE</th><th>OriginalListPrice</th><th>PricePerTSFT</th><th>FOUNDATIONSIZE</th><th>FENCE</th><th>MapLetter</th><th>LotSizeDimensions</th><th>SchoolDistrictNumber</th><th>DAYSONMARKET</th><th>offmarketdate</th><th>Fireplaces</th><th>RoomArea4</th><th>roomtype</th><th>ROOF</th><th>RoomFloor4</th><th>PotentialShortSale</th><th>PoolDescription</th><th>PDOM</th><th>GarageDescription</th><th>SQFTABOVEGROUND</th><th>Taxes</th><th>RoomFloor1</th><th>RoomArea1</th><th>TAXWITHASSESSMENTS</th><th>TAXYEAR</th><th>LivingArea</th><th>UNITNUMBER</th><th>YEARBUILT</th><th>ZONING</th><th>STYLE</th><th>ACRES</th><th>CoolingDescription</th><th>APPLIANCES</th><th>backonmarketdate</th><th>ROOMFAMILYCHAR</th><th>RoomArea3</th><th>EXTERIOR</th><th>RoomFloor3</th><th>RoomFloor2</th><th>RoomArea2</th><th>DiningRoomDescription</th><th>BASEMENT</th><th>BathsFull</th><th>BathsHalf</th><th>BATHQUARTER</th><th>BATHSTHREEQUARTER</th><th>Class</th><th>BATHSTOTAL</th><th>BATHDESC</th><th>RoomArea5</th><th>RoomFloor5</th><th>RoomArea6</th><th>RoomFloor6</th><th>RoomArea7</th><th>RoomFloor7</th><th>RoomArea8</th><th>RoomFloor8</th><th>Bedrooms</th><th>SQFTBELOWGROUND</th><th>AssumableMortgage</th><th>AssociationFee</th><th>ASSESSMENTPENDING</th><th>AssessedValuation</th></tr>\n",
       "<tr><td>1</td><td>RMLS</td><td>11511</td><td>11511 Stillwater ...</td><td>Stillwater</td><td>55042</td><td>MN</td><td>LELM - Lake Elmo</td><td>143000</td><td>7/15/2017 0:00</td><td>139900</td><td>Exclusive Right</td><td>139900</td><td>145.9184</td><td>980</td><td>Other</td><td>C4</td><td>279X200</td><td>834 - Stillwater</td><td>10</td><td>2017-07-30 00:00:00</td><td>0</td><td>12 x  9</td><td>Living Room, Dini...</td><td>NULL</td><td>Main</td><td>No</td><td>NULL</td><td>10</td><td>Attached Garage</td><td>980</td><td>1858</td><td>Main</td><td>16 x 13</td><td>1858.0</td><td>2017</td><td>980</td><td>NULL</td><td>1950</td><td>Residential-Single</td><td>(SF) One Story</td><td>1.28</td><td>Central</td><td>Range, Dishwasher...</td><td>NULL</td><td>NULL</td><td>NULL</td><td>Vinyl</td><td>NULL</td><td>Main</td><td>9 x  7</td><td>Eat In Kitchen</td><td>Full</td><td>1</td><td>1</td><td>0</td><td>0</td><td>SF</td><td>2</td><td>Main Floor 3/4 Ba...</td><td>13 x 11</td><td>Main</td><td>10 x 10</td><td>Main</td><td>NULL</td><td>NULL</td><td>NULL</td><td>NULL</td><td>3</td><td>0</td><td>NULL</td><td>0</td><td>Unknown</td><td>0.0</td></tr>\n",
       "<tr><td>2</td><td>RMLS</td><td>11200</td><td>11200 31st St N</td><td>31st</td><td>55042</td><td>MN</td><td>LELM - Lake Elmo</td><td>190000</td><td>10/9/2017 0:00</td><td>210000</td><td>Exclusive Right</td><td>210000</td><td>85.2783</td><td>1144</td><td>NULL</td><td>C1</td><td>100x140</td><td>834 - Stillwater</td><td>4</td><td>2017-10-13 00:00:00</td><td>0</td><td>11x11</td><td>Living Room, Dini...</td><td>Asphalt Shingles,...</td><td>Main</td><td>No</td><td>NULL</td><td>4</td><td>Attached Garage, ...</td><td>1268</td><td>1640</td><td>Main</td><td>22x14</td><td>1640.0</td><td>2017</td><td>2228</td><td>NULL</td><td>1971</td><td>Residential-Single</td><td>(SF) Split Entry ...</td><td>0.32</td><td>Central</td><td>Range, Microwave,...</td><td>NULL</td><td>Lower Level</td><td>22x14</td><td>Vinyl</td><td>Lower</td><td>Main</td><td>11x12</td><td>Informal Dining R...</td><td>Full, Partial Fin...</td><td>1</td><td>0</td><td>0</td><td>2</td><td>SF</td><td>3</td><td>Main Floor Full B...</td><td>15x11</td><td>Main</td><td>14x11</td><td>Main</td><td>10x11</td><td>Main</td><td>11x11</td><td>Lower</td><td>4</td><td>960</td><td>NULL</td><td>0</td><td>Unknown</td><td>0.0</td></tr>\n",
       "</table>\n"
      ],
      "text/plain": [
       "+---+-----+-------------------+--------------------+----------+----------+---------------+----------------+---------------+--------------+---------+---------------+-----------------+------------+--------------+-----+---------+-----------------+--------------------+------------+-------------------+----------+---------+--------------------+--------------------+----------+------------------+---------------+----+--------------------+---------------+-----+----------+---------+------------------+-------+----------+----------+---------+------------------+--------------------+-----+------------------+--------------------+----------------+--------------+---------+--------+----------+----------+---------+---------------------+--------------------+---------+---------+-----------+-----------------+-----+----------+--------------------+---------+----------+---------+----------+---------+----------+---------+----------+--------+---------------+-----------------+--------------+-----------------+-----------------+\n",
       "|No.|MLSID|StreetNumberNumeric|       streetaddress|STREETNAME|PostalCode|StateOrProvince|            City|SalesClosePrice|      LISTDATE|LISTPRICE|       LISTTYPE|OriginalListPrice|PricePerTSFT|FOUNDATIONSIZE|FENCE|MapLetter|LotSizeDimensions|SchoolDistrictNumber|DAYSONMARKET|      offmarketdate|Fireplaces|RoomArea4|            roomtype|                ROOF|RoomFloor4|PotentialShortSale|PoolDescription|PDOM|   GarageDescription|SQFTABOVEGROUND|Taxes|RoomFloor1|RoomArea1|TAXWITHASSESSMENTS|TAXYEAR|LivingArea|UNITNUMBER|YEARBUILT|            ZONING|               STYLE|ACRES|CoolingDescription|          APPLIANCES|backonmarketdate|ROOMFAMILYCHAR|RoomArea3|EXTERIOR|RoomFloor3|RoomFloor2|RoomArea2|DiningRoomDescription|            BASEMENT|BathsFull|BathsHalf|BATHQUARTER|BATHSTHREEQUARTER|Class|BATHSTOTAL|            BATHDESC|RoomArea5|RoomFloor5|RoomArea6|RoomFloor6|RoomArea7|RoomFloor7|RoomArea8|RoomFloor8|Bedrooms|SQFTBELOWGROUND|AssumableMortgage|AssociationFee|ASSESSMENTPENDING|AssessedValuation|\n",
       "+---+-----+-------------------+--------------------+----------+----------+---------------+----------------+---------------+--------------+---------+---------------+-----------------+------------+--------------+-----+---------+-----------------+--------------------+------------+-------------------+----------+---------+--------------------+--------------------+----------+------------------+---------------+----+--------------------+---------------+-----+----------+---------+------------------+-------+----------+----------+---------+------------------+--------------------+-----+------------------+--------------------+----------------+--------------+---------+--------+----------+----------+---------+---------------------+--------------------+---------+---------+-----------+-----------------+-----+----------+--------------------+---------+----------+---------+----------+---------+----------+---------+----------+--------+---------------+-----------------+--------------+-----------------+-----------------+\n",
       "|  1| RMLS|              11511|11511 Stillwater ...|Stillwater|     55042|             MN|LELM - Lake Elmo|         143000|7/15/2017 0:00|   139900|Exclusive Right|           139900|    145.9184|           980|Other|       C4|          279X200|    834 - Stillwater|          10|2017-07-30 00:00:00|         0|  12 x  9|Living Room, Dini...|                NULL|      Main|                No|           NULL|  10|     Attached Garage|            980| 1858|      Main|  16 x 13|            1858.0|   2017|       980|      NULL|     1950|Residential-Single|      (SF) One Story| 1.28|           Central|Range, Dishwasher...|            NULL|          NULL|     NULL|   Vinyl|      NULL|      Main|   9 x  7|       Eat In Kitchen|                Full|        1|        1|          0|                0|   SF|         2|Main Floor 3/4 Ba...|  13 x 11|      Main|  10 x 10|      Main|     NULL|      NULL|     NULL|      NULL|       3|              0|             NULL|             0|          Unknown|              0.0|\n",
       "|  2| RMLS|              11200|     11200 31st St N|      31st|     55042|             MN|LELM - Lake Elmo|         190000|10/9/2017 0:00|   210000|Exclusive Right|           210000|     85.2783|          1144| NULL|       C1|          100x140|    834 - Stillwater|           4|2017-10-13 00:00:00|         0|    11x11|Living Room, Dini...|Asphalt Shingles,...|      Main|                No|           NULL|   4|Attached Garage, ...|           1268| 1640|      Main|    22x14|            1640.0|   2017|      2228|      NULL|     1971|Residential-Single|(SF) Split Entry ...| 0.32|           Central|Range, Microwave,...|            NULL|   Lower Level|    22x14|   Vinyl|     Lower|      Main|    11x12| Informal Dining R...|Full, Partial Fin...|        1|        0|          0|                2|   SF|         3|Main Floor Full B...|    15x11|      Main|    14x11|      Main|    10x11|      Main|    11x11|     Lower|       4|            960|             NULL|             0|          Unknown|              0.0|\n",
       "+---+-----+-------------------+--------------------+----------+----------+---------------+----------------+---------------+--------------+---------+---------------+-----------------+------------+--------------+-----+---------+-----------------+--------------------+------------+-------------------+----------+---------+--------------------+--------------------+----------+------------------+---------------+----+--------------------+---------------+-----+----------+---------+------------------+-------+----------+----------+---------+------------------+--------------------+-----+------------------+--------------------+----------------+--------------+---------+--------+----------+----------+---------+---------------------+--------------------+---------+---------+-----------+-----------------+-----+----------+--------------------+---------+----------+---------+----------+---------+----------+---------+----------+--------+---------------+-----------------+--------------+-----------------+-----------------+"
      ]
     },
     "execution_count": 5,
     "metadata": {},
     "output_type": "execute_result"
    }
   ],
   "source": [
    "# read file\n",
    "real_state = spark.read.csv('data-sources/2017_StPaul_MN_Real_Estate.csv', header=True, inferSchema=True)\n",
    "\n",
    "# cast columns\n",
    "for col_name in ['SQFTBELOWGROUND', 'AssociationFee']:\n",
    "    real_state = real_state.withColumn(col_name, real_state[col_name].cast('bigint'))\n",
    "real_state = real_state.withColumn('backonmarketdate', real_state['backonmarketdate'].cast('double'))\n",
    "real_state = real_state.withColumn(\"offmarketdate\", \n",
    "                                       F.to_timestamp(real_state[\"offmarketdate\"], \"M/d/yyyy H:m\"))\n",
    "\n",
    "# save to parquet format\n",
    "file_path = 'spark-warehouse/real_state.parquet'\n",
    "real_state.write.parquet(file_path, mode=\"overwrite\")\n",
    "real_state = spark.read.parquet(file_path)\n",
    "real_state.createOrReplaceTempView(\"real_state\")\n",
    "real_state.printSchema()\n",
    "real_state.limit(2)"
   ]
  },
  {
   "cell_type": "markdown",
   "id": "6b9d4812-a693-4bca-ad36-d6f4f26cdc84",
   "metadata": {},
   "source": [
    "### Tables catalogue"
   ]
  },
  {
   "cell_type": "code",
   "execution_count": 6,
   "id": "79396001-462c-4a29-af32-99de195527fd",
   "metadata": {},
   "outputs": [
    {
     "data": {
      "text/plain": [
       "[Table(name='real_state', catalog=None, namespace=[], description=None, tableType='TEMPORARY', isTemporary=True)]"
      ]
     },
     "execution_count": 6,
     "metadata": {},
     "output_type": "execute_result"
    }
   ],
   "source": [
    "spark.catalog.listTables()"
   ]
  },
  {
   "cell_type": "markdown",
   "id": "ebdff908-43b3-4fc6-8c2c-879de05f8730",
   "metadata": {},
   "source": [
    "## Dropping data\n",
    "\n",
    "### Dropping Columns"
   ]
  },
  {
   "cell_type": "code",
   "execution_count": 7,
   "id": "ce0fc6e4-7339-4ec4-8571-bcb9b4a8f723",
   "metadata": {},
   "outputs": [
    {
     "name": "stdout",
     "output_type": "stream",
     "text": [
      "Dataframe shape: (5000, 74)\n"
     ]
    },
    {
     "data": {
      "text/html": [
       "<table border='1'>\n",
       "<tr><th>No.</th><th>MLSID</th><th>StreetNumberNumeric</th><th>streetaddress</th><th>STREETNAME</th><th>PostalCode</th><th>StateOrProvince</th><th>City</th><th>SalesClosePrice</th><th>LISTDATE</th><th>LISTPRICE</th><th>LISTTYPE</th><th>OriginalListPrice</th><th>PricePerTSFT</th><th>FOUNDATIONSIZE</th><th>FENCE</th><th>MapLetter</th><th>LotSizeDimensions</th><th>SchoolDistrictNumber</th><th>DAYSONMARKET</th><th>offmarketdate</th><th>Fireplaces</th><th>RoomArea4</th><th>roomtype</th><th>ROOF</th><th>RoomFloor4</th><th>PotentialShortSale</th><th>PoolDescription</th><th>PDOM</th><th>GarageDescription</th><th>SQFTABOVEGROUND</th><th>Taxes</th><th>RoomFloor1</th><th>RoomArea1</th><th>TAXWITHASSESSMENTS</th><th>TAXYEAR</th><th>LivingArea</th><th>UNITNUMBER</th><th>YEARBUILT</th><th>ZONING</th><th>STYLE</th><th>ACRES</th><th>CoolingDescription</th><th>APPLIANCES</th><th>backonmarketdate</th><th>ROOMFAMILYCHAR</th><th>RoomArea3</th><th>EXTERIOR</th><th>RoomFloor3</th><th>RoomFloor2</th><th>RoomArea2</th><th>DiningRoomDescription</th><th>BASEMENT</th><th>BathsFull</th><th>BathsHalf</th><th>BATHQUARTER</th><th>BATHSTHREEQUARTER</th><th>Class</th><th>BATHSTOTAL</th><th>BATHDESC</th><th>RoomArea5</th><th>RoomFloor5</th><th>RoomArea6</th><th>RoomFloor6</th><th>RoomArea7</th><th>RoomFloor7</th><th>RoomArea8</th><th>RoomFloor8</th><th>Bedrooms</th><th>SQFTBELOWGROUND</th><th>AssumableMortgage</th><th>AssociationFee</th><th>ASSESSMENTPENDING</th><th>AssessedValuation</th></tr>\n",
       "<tr><td>1</td><td>RMLS</td><td>11511</td><td>11511 Stillwater ...</td><td>Stillwater</td><td>55042</td><td>MN</td><td>LELM - Lake Elmo</td><td>143000</td><td>7/15/2017 0:00</td><td>139900</td><td>Exclusive Right</td><td>139900</td><td>145.9184</td><td>980</td><td>Other</td><td>C4</td><td>279X200</td><td>834 - Stillwater</td><td>10</td><td>2017-07-30 00:00:00</td><td>0</td><td>12 x  9</td><td>Living Room, Dini...</td><td>NULL</td><td>Main</td><td>No</td><td>NULL</td><td>10</td><td>Attached Garage</td><td>980</td><td>1858</td><td>Main</td><td>16 x 13</td><td>1858.0</td><td>2017</td><td>980</td><td>NULL</td><td>1950</td><td>Residential-Single</td><td>(SF) One Story</td><td>1.28</td><td>Central</td><td>Range, Dishwasher...</td><td>NULL</td><td>NULL</td><td>NULL</td><td>Vinyl</td><td>NULL</td><td>Main</td><td>9 x  7</td><td>Eat In Kitchen</td><td>Full</td><td>1</td><td>1</td><td>0</td><td>0</td><td>SF</td><td>2</td><td>Main Floor 3/4 Ba...</td><td>13 x 11</td><td>Main</td><td>10 x 10</td><td>Main</td><td>NULL</td><td>NULL</td><td>NULL</td><td>NULL</td><td>3</td><td>0</td><td>NULL</td><td>0</td><td>Unknown</td><td>0.0</td></tr>\n",
       "<tr><td>2</td><td>RMLS</td><td>11200</td><td>11200 31st St N</td><td>31st</td><td>55042</td><td>MN</td><td>LELM - Lake Elmo</td><td>190000</td><td>10/9/2017 0:00</td><td>210000</td><td>Exclusive Right</td><td>210000</td><td>85.2783</td><td>1144</td><td>NULL</td><td>C1</td><td>100x140</td><td>834 - Stillwater</td><td>4</td><td>2017-10-13 00:00:00</td><td>0</td><td>11x11</td><td>Living Room, Dini...</td><td>Asphalt Shingles,...</td><td>Main</td><td>No</td><td>NULL</td><td>4</td><td>Attached Garage, ...</td><td>1268</td><td>1640</td><td>Main</td><td>22x14</td><td>1640.0</td><td>2017</td><td>2228</td><td>NULL</td><td>1971</td><td>Residential-Single</td><td>(SF) Split Entry ...</td><td>0.32</td><td>Central</td><td>Range, Microwave,...</td><td>NULL</td><td>Lower Level</td><td>22x14</td><td>Vinyl</td><td>Lower</td><td>Main</td><td>11x12</td><td>Informal Dining R...</td><td>Full, Partial Fin...</td><td>1</td><td>0</td><td>0</td><td>2</td><td>SF</td><td>3</td><td>Main Floor Full B...</td><td>15x11</td><td>Main</td><td>14x11</td><td>Main</td><td>10x11</td><td>Main</td><td>11x11</td><td>Lower</td><td>4</td><td>960</td><td>NULL</td><td>0</td><td>Unknown</td><td>0.0</td></tr>\n",
       "</table>\n"
      ],
      "text/plain": [
       "+---+-----+-------------------+--------------------+----------+----------+---------------+----------------+---------------+--------------+---------+---------------+-----------------+------------+--------------+-----+---------+-----------------+--------------------+------------+-------------------+----------+---------+--------------------+--------------------+----------+------------------+---------------+----+--------------------+---------------+-----+----------+---------+------------------+-------+----------+----------+---------+------------------+--------------------+-----+------------------+--------------------+----------------+--------------+---------+--------+----------+----------+---------+---------------------+--------------------+---------+---------+-----------+-----------------+-----+----------+--------------------+---------+----------+---------+----------+---------+----------+---------+----------+--------+---------------+-----------------+--------------+-----------------+-----------------+\n",
       "|No.|MLSID|StreetNumberNumeric|       streetaddress|STREETNAME|PostalCode|StateOrProvince|            City|SalesClosePrice|      LISTDATE|LISTPRICE|       LISTTYPE|OriginalListPrice|PricePerTSFT|FOUNDATIONSIZE|FENCE|MapLetter|LotSizeDimensions|SchoolDistrictNumber|DAYSONMARKET|      offmarketdate|Fireplaces|RoomArea4|            roomtype|                ROOF|RoomFloor4|PotentialShortSale|PoolDescription|PDOM|   GarageDescription|SQFTABOVEGROUND|Taxes|RoomFloor1|RoomArea1|TAXWITHASSESSMENTS|TAXYEAR|LivingArea|UNITNUMBER|YEARBUILT|            ZONING|               STYLE|ACRES|CoolingDescription|          APPLIANCES|backonmarketdate|ROOMFAMILYCHAR|RoomArea3|EXTERIOR|RoomFloor3|RoomFloor2|RoomArea2|DiningRoomDescription|            BASEMENT|BathsFull|BathsHalf|BATHQUARTER|BATHSTHREEQUARTER|Class|BATHSTOTAL|            BATHDESC|RoomArea5|RoomFloor5|RoomArea6|RoomFloor6|RoomArea7|RoomFloor7|RoomArea8|RoomFloor8|Bedrooms|SQFTBELOWGROUND|AssumableMortgage|AssociationFee|ASSESSMENTPENDING|AssessedValuation|\n",
       "+---+-----+-------------------+--------------------+----------+----------+---------------+----------------+---------------+--------------+---------+---------------+-----------------+------------+--------------+-----+---------+-----------------+--------------------+------------+-------------------+----------+---------+--------------------+--------------------+----------+------------------+---------------+----+--------------------+---------------+-----+----------+---------+------------------+-------+----------+----------+---------+------------------+--------------------+-----+------------------+--------------------+----------------+--------------+---------+--------+----------+----------+---------+---------------------+--------------------+---------+---------+-----------+-----------------+-----+----------+--------------------+---------+----------+---------+----------+---------+----------+---------+----------+--------+---------------+-----------------+--------------+-----------------+-----------------+\n",
       "|  1| RMLS|              11511|11511 Stillwater ...|Stillwater|     55042|             MN|LELM - Lake Elmo|         143000|7/15/2017 0:00|   139900|Exclusive Right|           139900|    145.9184|           980|Other|       C4|          279X200|    834 - Stillwater|          10|2017-07-30 00:00:00|         0|  12 x  9|Living Room, Dini...|                NULL|      Main|                No|           NULL|  10|     Attached Garage|            980| 1858|      Main|  16 x 13|            1858.0|   2017|       980|      NULL|     1950|Residential-Single|      (SF) One Story| 1.28|           Central|Range, Dishwasher...|            NULL|          NULL|     NULL|   Vinyl|      NULL|      Main|   9 x  7|       Eat In Kitchen|                Full|        1|        1|          0|                0|   SF|         2|Main Floor 3/4 Ba...|  13 x 11|      Main|  10 x 10|      Main|     NULL|      NULL|     NULL|      NULL|       3|              0|             NULL|             0|          Unknown|              0.0|\n",
       "|  2| RMLS|              11200|     11200 31st St N|      31st|     55042|             MN|LELM - Lake Elmo|         190000|10/9/2017 0:00|   210000|Exclusive Right|           210000|     85.2783|          1144| NULL|       C1|          100x140|    834 - Stillwater|           4|2017-10-13 00:00:00|         0|    11x11|Living Room, Dini...|Asphalt Shingles,...|      Main|                No|           NULL|   4|Attached Garage, ...|           1268| 1640|      Main|    22x14|            1640.0|   2017|      2228|      NULL|     1971|Residential-Single|(SF) Split Entry ...| 0.32|           Central|Range, Microwave,...|            NULL|   Lower Level|    22x14|   Vinyl|     Lower|      Main|    11x12| Informal Dining R...|Full, Partial Fin...|        1|        0|          0|                2|   SF|         3|Main Floor Full B...|    15x11|      Main|    14x11|      Main|    10x11|      Main|    11x11|     Lower|       4|            960|             NULL|             0|          Unknown|              0.0|\n",
       "+---+-----+-------------------+--------------------+----------+----------+---------------+----------------+---------------+--------------+---------+---------------+-----------------+------------+--------------+-----+---------+-----------------+--------------------+------------+-------------------+----------+---------+--------------------+--------------------+----------+------------------+---------------+----+--------------------+---------------+-----+----------+---------+------------------+-------+----------+----------+---------+------------------+--------------------+-----+------------------+--------------------+----------------+--------------+---------+--------+----------+----------+---------+---------------------+--------------------+---------+---------+-----------+-----------------+-----+----------+--------------------+---------+----------+---------+----------+---------+----------+---------+----------+--------+---------------+-----------------+--------------+-----------------+-----------------+"
      ]
     },
     "execution_count": 7,
     "metadata": {},
     "output_type": "execute_result"
    }
   ],
   "source": [
    "# Preparing the data\n",
    "df = real_state.select('*')\n",
    "print('Dataframe shape:', (df.count(), len(df.columns)))\n",
    "df.limit(2)"
   ]
  },
  {
   "cell_type": "code",
   "execution_count": 8,
   "id": "41475f56-d1f1-4fb0-921e-20fb0d14a049",
   "metadata": {},
   "outputs": [
    {
     "name": "stdout",
     "output_type": "stream",
     "text": [
      "+---+----------+-----+\n",
      "|No.|UNITNUMBER|CLASS|\n",
      "+---+----------+-----+\n",
      "|  1|      NULL|   SF|\n",
      "|  2|      NULL|   SF|\n",
      "+---+----------+-----+\n",
      "only showing top 2 rows\n",
      "\n",
      "Dataframe shape after dropping columns: (5000, 71)\n"
     ]
    }
   ],
   "source": [
    "# Multiple fields are not needed for our analysis\n",
    "# Noted that only for select need to add '`' since the col name include '.'\n",
    "df.select('`No.`', 'UNITNUMBER', 'CLASS').show(2)\n",
    "\n",
    "# List of columns to drop\n",
    "cols_to_drop = ['No.', 'UNITNUMBER', 'CLASS']  \n",
    "\n",
    "# Drop the columns\n",
    "df = df.drop(*cols_to_drop)\n",
    "print('Dataframe shape after dropping columns:', (df.count(), len(df.columns)))"
   ]
  },
  {
   "cell_type": "markdown",
   "id": "6d1dab44-dae1-46b4-ba40-920151b7e8c0",
   "metadata": {},
   "source": [
    "### Text Filtering\n",
    "\n",
    "- `where(condition)`\n",
    "    - condition – a Column of types.BooleanType or a string of SQL expression.\n",
    "    - Filters dataframe where the condition is true\n",
    "- `like(other)`\n",
    "    - other – a SQL LIKE pattern\n",
    "    - return a boolean column\n",
    "- `~`\n",
    "    - The NOT condition"
   ]
  },
  {
   "cell_type": "code",
   "execution_count": 9,
   "id": "b501e20c-d01b-43e2-981a-03afef92cecd",
   "metadata": {},
   "outputs": [
    {
     "name": "stdout",
     "output_type": "stream",
     "text": [
      "Dataframe shape after text filtering: (4989, 71)\n"
     ]
    },
    {
     "data": {
      "text/html": [
       "<table border='1'>\n",
       "<tr><th>MLSID</th><th>StreetNumberNumeric</th><th>streetaddress</th><th>STREETNAME</th><th>PostalCode</th><th>StateOrProvince</th><th>City</th><th>SalesClosePrice</th><th>LISTDATE</th><th>LISTPRICE</th><th>LISTTYPE</th><th>OriginalListPrice</th><th>PricePerTSFT</th><th>FOUNDATIONSIZE</th><th>FENCE</th><th>MapLetter</th><th>LotSizeDimensions</th><th>SchoolDistrictNumber</th><th>DAYSONMARKET</th><th>offmarketdate</th><th>Fireplaces</th><th>RoomArea4</th><th>roomtype</th><th>ROOF</th><th>RoomFloor4</th><th>PotentialShortSale</th><th>PoolDescription</th><th>PDOM</th><th>GarageDescription</th><th>SQFTABOVEGROUND</th><th>Taxes</th><th>RoomFloor1</th><th>RoomArea1</th><th>TAXWITHASSESSMENTS</th><th>TAXYEAR</th><th>LivingArea</th><th>YEARBUILT</th><th>ZONING</th><th>STYLE</th><th>ACRES</th><th>CoolingDescription</th><th>APPLIANCES</th><th>backonmarketdate</th><th>ROOMFAMILYCHAR</th><th>RoomArea3</th><th>EXTERIOR</th><th>RoomFloor3</th><th>RoomFloor2</th><th>RoomArea2</th><th>DiningRoomDescription</th><th>BASEMENT</th><th>BathsFull</th><th>BathsHalf</th><th>BATHQUARTER</th><th>BATHSTHREEQUARTER</th><th>BATHSTOTAL</th><th>BATHDESC</th><th>RoomArea5</th><th>RoomFloor5</th><th>RoomArea6</th><th>RoomFloor6</th><th>RoomArea7</th><th>RoomFloor7</th><th>RoomArea8</th><th>RoomFloor8</th><th>Bedrooms</th><th>SQFTBELOWGROUND</th><th>AssumableMortgage</th><th>AssociationFee</th><th>ASSESSMENTPENDING</th><th>AssessedValuation</th></tr>\n",
       "<tr><td>RMLS</td><td>11511</td><td>11511 Stillwater ...</td><td>Stillwater</td><td>55042</td><td>MN</td><td>LELM - Lake Elmo</td><td>143000</td><td>7/15/2017 0:00</td><td>139900</td><td>Exclusive Right</td><td>139900</td><td>145.9184</td><td>980</td><td>Other</td><td>C4</td><td>279X200</td><td>834 - Stillwater</td><td>10</td><td>2017-07-30 00:00:00</td><td>0</td><td>12 x  9</td><td>Living Room, Dini...</td><td>NULL</td><td>Main</td><td>No</td><td>NULL</td><td>10</td><td>Attached Garage</td><td>980</td><td>1858</td><td>Main</td><td>16 x 13</td><td>1858.0</td><td>2017</td><td>980</td><td>1950</td><td>Residential-Single</td><td>(SF) One Story</td><td>1.28</td><td>Central</td><td>Range, Dishwasher...</td><td>NULL</td><td>NULL</td><td>NULL</td><td>Vinyl</td><td>NULL</td><td>Main</td><td>9 x  7</td><td>Eat In Kitchen</td><td>Full</td><td>1</td><td>1</td><td>0</td><td>0</td><td>2</td><td>Main Floor 3/4 Ba...</td><td>13 x 11</td><td>Main</td><td>10 x 10</td><td>Main</td><td>NULL</td><td>NULL</td><td>NULL</td><td>NULL</td><td>3</td><td>0</td><td>NULL</td><td>0</td><td>Unknown</td><td>0.0</td></tr>\n",
       "<tr><td>RMLS</td><td>11200</td><td>11200 31st St N</td><td>31st</td><td>55042</td><td>MN</td><td>LELM - Lake Elmo</td><td>190000</td><td>10/9/2017 0:00</td><td>210000</td><td>Exclusive Right</td><td>210000</td><td>85.2783</td><td>1144</td><td>NULL</td><td>C1</td><td>100x140</td><td>834 - Stillwater</td><td>4</td><td>2017-10-13 00:00:00</td><td>0</td><td>11x11</td><td>Living Room, Dini...</td><td>Asphalt Shingles,...</td><td>Main</td><td>No</td><td>NULL</td><td>4</td><td>Attached Garage, ...</td><td>1268</td><td>1640</td><td>Main</td><td>22x14</td><td>1640.0</td><td>2017</td><td>2228</td><td>1971</td><td>Residential-Single</td><td>(SF) Split Entry ...</td><td>0.32</td><td>Central</td><td>Range, Microwave,...</td><td>NULL</td><td>Lower Level</td><td>22x14</td><td>Vinyl</td><td>Lower</td><td>Main</td><td>11x12</td><td>Informal Dining R...</td><td>Full, Partial Fin...</td><td>1</td><td>0</td><td>0</td><td>2</td><td>3</td><td>Main Floor Full B...</td><td>15x11</td><td>Main</td><td>14x11</td><td>Main</td><td>10x11</td><td>Main</td><td>11x11</td><td>Lower</td><td>4</td><td>960</td><td>NULL</td><td>0</td><td>Unknown</td><td>0.0</td></tr>\n",
       "</table>\n"
      ],
      "text/plain": [
       "+-----+-------------------+--------------------+----------+----------+---------------+----------------+---------------+--------------+---------+---------------+-----------------+------------+--------------+-----+---------+-----------------+--------------------+------------+-------------------+----------+---------+--------------------+--------------------+----------+------------------+---------------+----+--------------------+---------------+-----+----------+---------+------------------+-------+----------+---------+------------------+--------------------+-----+------------------+--------------------+----------------+--------------+---------+--------+----------+----------+---------+---------------------+--------------------+---------+---------+-----------+-----------------+----------+--------------------+---------+----------+---------+----------+---------+----------+---------+----------+--------+---------------+-----------------+--------------+-----------------+-----------------+\n",
       "|MLSID|StreetNumberNumeric|       streetaddress|STREETNAME|PostalCode|StateOrProvince|            City|SalesClosePrice|      LISTDATE|LISTPRICE|       LISTTYPE|OriginalListPrice|PricePerTSFT|FOUNDATIONSIZE|FENCE|MapLetter|LotSizeDimensions|SchoolDistrictNumber|DAYSONMARKET|      offmarketdate|Fireplaces|RoomArea4|            roomtype|                ROOF|RoomFloor4|PotentialShortSale|PoolDescription|PDOM|   GarageDescription|SQFTABOVEGROUND|Taxes|RoomFloor1|RoomArea1|TAXWITHASSESSMENTS|TAXYEAR|LivingArea|YEARBUILT|            ZONING|               STYLE|ACRES|CoolingDescription|          APPLIANCES|backonmarketdate|ROOMFAMILYCHAR|RoomArea3|EXTERIOR|RoomFloor3|RoomFloor2|RoomArea2|DiningRoomDescription|            BASEMENT|BathsFull|BathsHalf|BATHQUARTER|BATHSTHREEQUARTER|BATHSTOTAL|            BATHDESC|RoomArea5|RoomFloor5|RoomArea6|RoomFloor6|RoomArea7|RoomFloor7|RoomArea8|RoomFloor8|Bedrooms|SQFTBELOWGROUND|AssumableMortgage|AssociationFee|ASSESSMENTPENDING|AssessedValuation|\n",
       "+-----+-------------------+--------------------+----------+----------+---------------+----------------+---------------+--------------+---------+---------------+-----------------+------------+--------------+-----+---------+-----------------+--------------------+------------+-------------------+----------+---------+--------------------+--------------------+----------+------------------+---------------+----+--------------------+---------------+-----+----------+---------+------------------+-------+----------+---------+------------------+--------------------+-----+------------------+--------------------+----------------+--------------+---------+--------+----------+----------+---------+---------------------+--------------------+---------+---------+-----------+-----------------+----------+--------------------+---------+----------+---------+----------+---------+----------+---------+----------+--------+---------------+-----------------+--------------+-----------------+-----------------+\n",
       "| RMLS|              11511|11511 Stillwater ...|Stillwater|     55042|             MN|LELM - Lake Elmo|         143000|7/15/2017 0:00|   139900|Exclusive Right|           139900|    145.9184|           980|Other|       C4|          279X200|    834 - Stillwater|          10|2017-07-30 00:00:00|         0|  12 x  9|Living Room, Dini...|                NULL|      Main|                No|           NULL|  10|     Attached Garage|            980| 1858|      Main|  16 x 13|            1858.0|   2017|       980|     1950|Residential-Single|      (SF) One Story| 1.28|           Central|Range, Dishwasher...|            NULL|          NULL|     NULL|   Vinyl|      NULL|      Main|   9 x  7|       Eat In Kitchen|                Full|        1|        1|          0|                0|         2|Main Floor 3/4 Ba...|  13 x 11|      Main|  10 x 10|      Main|     NULL|      NULL|     NULL|      NULL|       3|              0|             NULL|             0|          Unknown|              0.0|\n",
       "| RMLS|              11200|     11200 31st St N|      31st|     55042|             MN|LELM - Lake Elmo|         190000|10/9/2017 0:00|   210000|Exclusive Right|           210000|     85.2783|          1144| NULL|       C1|          100x140|    834 - Stillwater|           4|2017-10-13 00:00:00|         0|    11x11|Living Room, Dini...|Asphalt Shingles,...|      Main|                No|           NULL|   4|Attached Garage, ...|           1268| 1640|      Main|    22x14|            1640.0|   2017|      2228|     1971|Residential-Single|(SF) Split Entry ...| 0.32|           Central|Range, Microwave,...|            NULL|   Lower Level|    22x14|   Vinyl|     Lower|      Main|    11x12| Informal Dining R...|Full, Partial Fin...|        1|        0|          0|                2|         3|Main Floor Full B...|    15x11|      Main|    14x11|      Main|    10x11|      Main|    11x11|     Lower|       4|            960|             NULL|             0|          Unknown|              0.0|\n",
       "+-----+-------------------+--------------------+----------+----------+---------------+----------------+---------------+--------------+---------+---------------+-----------------+------------+--------------+-----+---------+-----------------+--------------------+------------+-------------------+----------+---------+--------------------+--------------------+----------+------------------+---------------+----+--------------------+---------------+-----+----------+---------+------------------+-------+----------+---------+------------------+--------------------+-----+------------------+--------------------+----------------+--------------+---------+--------+----------+----------+---------+---------------------+--------------------+---------+---------+-----------+-----------------+----------+--------------------+---------+----------+---------+----------+---------+----------+---------+----------+--------+---------------+-----------------+--------------+-----------------+-----------------+"
      ]
     },
     "execution_count": 9,
     "metadata": {},
     "output_type": "execute_result"
    }
   ],
   "source": [
    "# Filter data\n",
    "df = df.where(~df['POTENTIALSHORTSALE'].like('Not Disclosed'))\n",
    "print('Dataframe shape after text filtering:', (df.count(), len(df.columns)))\n",
    "df.limit(2)"
   ]
  },
  {
   "cell_type": "markdown",
   "id": "37499567-64af-4640-b186-a93499735ad0",
   "metadata": {},
   "source": [
    "### Outlier Filtering"
   ]
  },
  {
   "cell_type": "code",
   "execution_count": 10,
   "id": "af4d45b0-2875-46f5-bf64-d47dab504de5",
   "metadata": {},
   "outputs": [
    {
     "name": "stdout",
     "output_type": "stream",
     "text": [
      "\n",
      "    Std: 140647.09363099682\n",
      "    MEan: 262861.0811785929\n",
      "\n"
     ]
    }
   ],
   "source": [
    "# Calculate values used for filtering\n",
    "std_val = df.agg({'SALESCLOSEPRICE': 'stddev'}).collect()[0][0]\n",
    "mean_val = df.agg({'SALESCLOSEPRICE': 'mean'}).collect()[0][0]\n",
    "\n",
    "print(f'''\n",
    "    Std: {std_val}\n",
    "    MEan: {mean_val}\n",
    "''')"
   ]
  },
  {
   "cell_type": "code",
   "execution_count": 11,
   "id": "52ad1a75-99af-4d6d-afd0-1f7fa124318d",
   "metadata": {},
   "outputs": [
    {
     "name": "stdout",
     "output_type": "stream",
     "text": [
      "Dataframe shape after dropping outliers: (4905, 71)\n"
     ]
    },
    {
     "data": {
      "text/html": [
       "<table border='1'>\n",
       "<tr><th>MLSID</th><th>StreetNumberNumeric</th><th>streetaddress</th><th>STREETNAME</th><th>PostalCode</th><th>StateOrProvince</th><th>City</th><th>SalesClosePrice</th><th>LISTDATE</th><th>LISTPRICE</th><th>LISTTYPE</th><th>OriginalListPrice</th><th>PricePerTSFT</th><th>FOUNDATIONSIZE</th><th>FENCE</th><th>MapLetter</th><th>LotSizeDimensions</th><th>SchoolDistrictNumber</th><th>DAYSONMARKET</th><th>offmarketdate</th><th>Fireplaces</th><th>RoomArea4</th><th>roomtype</th><th>ROOF</th><th>RoomFloor4</th><th>PotentialShortSale</th><th>PoolDescription</th><th>PDOM</th><th>GarageDescription</th><th>SQFTABOVEGROUND</th><th>Taxes</th><th>RoomFloor1</th><th>RoomArea1</th><th>TAXWITHASSESSMENTS</th><th>TAXYEAR</th><th>LivingArea</th><th>YEARBUILT</th><th>ZONING</th><th>STYLE</th><th>ACRES</th><th>CoolingDescription</th><th>APPLIANCES</th><th>backonmarketdate</th><th>ROOMFAMILYCHAR</th><th>RoomArea3</th><th>EXTERIOR</th><th>RoomFloor3</th><th>RoomFloor2</th><th>RoomArea2</th><th>DiningRoomDescription</th><th>BASEMENT</th><th>BathsFull</th><th>BathsHalf</th><th>BATHQUARTER</th><th>BATHSTHREEQUARTER</th><th>BATHSTOTAL</th><th>BATHDESC</th><th>RoomArea5</th><th>RoomFloor5</th><th>RoomArea6</th><th>RoomFloor6</th><th>RoomArea7</th><th>RoomFloor7</th><th>RoomArea8</th><th>RoomFloor8</th><th>Bedrooms</th><th>SQFTBELOWGROUND</th><th>AssumableMortgage</th><th>AssociationFee</th><th>ASSESSMENTPENDING</th><th>AssessedValuation</th></tr>\n",
       "<tr><td>RMLS</td><td>11511</td><td>11511 Stillwater ...</td><td>Stillwater</td><td>55042</td><td>MN</td><td>LELM - Lake Elmo</td><td>143000</td><td>7/15/2017 0:00</td><td>139900</td><td>Exclusive Right</td><td>139900</td><td>145.9184</td><td>980</td><td>Other</td><td>C4</td><td>279X200</td><td>834 - Stillwater</td><td>10</td><td>2017-07-30 00:00:00</td><td>0</td><td>12 x  9</td><td>Living Room, Dini...</td><td>NULL</td><td>Main</td><td>No</td><td>NULL</td><td>10</td><td>Attached Garage</td><td>980</td><td>1858</td><td>Main</td><td>16 x 13</td><td>1858.0</td><td>2017</td><td>980</td><td>1950</td><td>Residential-Single</td><td>(SF) One Story</td><td>1.28</td><td>Central</td><td>Range, Dishwasher...</td><td>NULL</td><td>NULL</td><td>NULL</td><td>Vinyl</td><td>NULL</td><td>Main</td><td>9 x  7</td><td>Eat In Kitchen</td><td>Full</td><td>1</td><td>1</td><td>0</td><td>0</td><td>2</td><td>Main Floor 3/4 Ba...</td><td>13 x 11</td><td>Main</td><td>10 x 10</td><td>Main</td><td>NULL</td><td>NULL</td><td>NULL</td><td>NULL</td><td>3</td><td>0</td><td>NULL</td><td>0</td><td>Unknown</td><td>0.0</td></tr>\n",
       "<tr><td>RMLS</td><td>11200</td><td>11200 31st St N</td><td>31st</td><td>55042</td><td>MN</td><td>LELM - Lake Elmo</td><td>190000</td><td>10/9/2017 0:00</td><td>210000</td><td>Exclusive Right</td><td>210000</td><td>85.2783</td><td>1144</td><td>NULL</td><td>C1</td><td>100x140</td><td>834 - Stillwater</td><td>4</td><td>2017-10-13 00:00:00</td><td>0</td><td>11x11</td><td>Living Room, Dini...</td><td>Asphalt Shingles,...</td><td>Main</td><td>No</td><td>NULL</td><td>4</td><td>Attached Garage, ...</td><td>1268</td><td>1640</td><td>Main</td><td>22x14</td><td>1640.0</td><td>2017</td><td>2228</td><td>1971</td><td>Residential-Single</td><td>(SF) Split Entry ...</td><td>0.32</td><td>Central</td><td>Range, Microwave,...</td><td>NULL</td><td>Lower Level</td><td>22x14</td><td>Vinyl</td><td>Lower</td><td>Main</td><td>11x12</td><td>Informal Dining R...</td><td>Full, Partial Fin...</td><td>1</td><td>0</td><td>0</td><td>2</td><td>3</td><td>Main Floor Full B...</td><td>15x11</td><td>Main</td><td>14x11</td><td>Main</td><td>10x11</td><td>Main</td><td>11x11</td><td>Lower</td><td>4</td><td>960</td><td>NULL</td><td>0</td><td>Unknown</td><td>0.0</td></tr>\n",
       "</table>\n"
      ],
      "text/plain": [
       "+-----+-------------------+--------------------+----------+----------+---------------+----------------+---------------+--------------+---------+---------------+-----------------+------------+--------------+-----+---------+-----------------+--------------------+------------+-------------------+----------+---------+--------------------+--------------------+----------+------------------+---------------+----+--------------------+---------------+-----+----------+---------+------------------+-------+----------+---------+------------------+--------------------+-----+------------------+--------------------+----------------+--------------+---------+--------+----------+----------+---------+---------------------+--------------------+---------+---------+-----------+-----------------+----------+--------------------+---------+----------+---------+----------+---------+----------+---------+----------+--------+---------------+-----------------+--------------+-----------------+-----------------+\n",
       "|MLSID|StreetNumberNumeric|       streetaddress|STREETNAME|PostalCode|StateOrProvince|            City|SalesClosePrice|      LISTDATE|LISTPRICE|       LISTTYPE|OriginalListPrice|PricePerTSFT|FOUNDATIONSIZE|FENCE|MapLetter|LotSizeDimensions|SchoolDistrictNumber|DAYSONMARKET|      offmarketdate|Fireplaces|RoomArea4|            roomtype|                ROOF|RoomFloor4|PotentialShortSale|PoolDescription|PDOM|   GarageDescription|SQFTABOVEGROUND|Taxes|RoomFloor1|RoomArea1|TAXWITHASSESSMENTS|TAXYEAR|LivingArea|YEARBUILT|            ZONING|               STYLE|ACRES|CoolingDescription|          APPLIANCES|backonmarketdate|ROOMFAMILYCHAR|RoomArea3|EXTERIOR|RoomFloor3|RoomFloor2|RoomArea2|DiningRoomDescription|            BASEMENT|BathsFull|BathsHalf|BATHQUARTER|BATHSTHREEQUARTER|BATHSTOTAL|            BATHDESC|RoomArea5|RoomFloor5|RoomArea6|RoomFloor6|RoomArea7|RoomFloor7|RoomArea8|RoomFloor8|Bedrooms|SQFTBELOWGROUND|AssumableMortgage|AssociationFee|ASSESSMENTPENDING|AssessedValuation|\n",
       "+-----+-------------------+--------------------+----------+----------+---------------+----------------+---------------+--------------+---------+---------------+-----------------+------------+--------------+-----+---------+-----------------+--------------------+------------+-------------------+----------+---------+--------------------+--------------------+----------+------------------+---------------+----+--------------------+---------------+-----+----------+---------+------------------+-------+----------+---------+------------------+--------------------+-----+------------------+--------------------+----------------+--------------+---------+--------+----------+----------+---------+---------------------+--------------------+---------+---------+-----------+-----------------+----------+--------------------+---------+----------+---------+----------+---------+----------+---------+----------+--------+---------------+-----------------+--------------+-----------------+-----------------+\n",
       "| RMLS|              11511|11511 Stillwater ...|Stillwater|     55042|             MN|LELM - Lake Elmo|         143000|7/15/2017 0:00|   139900|Exclusive Right|           139900|    145.9184|           980|Other|       C4|          279X200|    834 - Stillwater|          10|2017-07-30 00:00:00|         0|  12 x  9|Living Room, Dini...|                NULL|      Main|                No|           NULL|  10|     Attached Garage|            980| 1858|      Main|  16 x 13|            1858.0|   2017|       980|     1950|Residential-Single|      (SF) One Story| 1.28|           Central|Range, Dishwasher...|            NULL|          NULL|     NULL|   Vinyl|      NULL|      Main|   9 x  7|       Eat In Kitchen|                Full|        1|        1|          0|                0|         2|Main Floor 3/4 Ba...|  13 x 11|      Main|  10 x 10|      Main|     NULL|      NULL|     NULL|      NULL|       3|              0|             NULL|             0|          Unknown|              0.0|\n",
       "| RMLS|              11200|     11200 31st St N|      31st|     55042|             MN|LELM - Lake Elmo|         190000|10/9/2017 0:00|   210000|Exclusive Right|           210000|     85.2783|          1144| NULL|       C1|          100x140|    834 - Stillwater|           4|2017-10-13 00:00:00|         0|    11x11|Living Room, Dini...|Asphalt Shingles,...|      Main|                No|           NULL|   4|Attached Garage, ...|           1268| 1640|      Main|    22x14|            1640.0|   2017|      2228|     1971|Residential-Single|(SF) Split Entry ...| 0.32|           Central|Range, Microwave,...|            NULL|   Lower Level|    22x14|   Vinyl|     Lower|      Main|    11x12| Informal Dining R...|Full, Partial Fin...|        1|        0|          0|                2|         3|Main Floor Full B...|    15x11|      Main|    14x11|      Main|    10x11|      Main|    11x11|     Lower|       4|            960|             NULL|             0|          Unknown|              0.0|\n",
       "+-----+-------------------+--------------------+----------+----------+---------------+----------------+---------------+--------------+---------+---------------+-----------------+------------+--------------+-----+---------+-----------------+--------------------+------------+-------------------+----------+---------+--------------------+--------------------+----------+------------------+---------------+----+--------------------+---------------+-----+----------+---------+------------------+-------+----------+---------+------------------+--------------------+-----+------------------+--------------------+----------------+--------------+---------+--------+----------+----------+---------+---------------------+--------------------+---------+---------+-----------+-----------------+----------+--------------------+---------+----------+---------+----------+---------+----------+---------+----------+--------+---------------+-----------------+--------------+-----------------+-----------------+"
      ]
     },
     "execution_count": 11,
     "metadata": {},
     "output_type": "execute_result"
    }
   ],
   "source": [
    "# Create three standard deviation (? ± 3?) upper and lower bounds for data\n",
    "hi_bound = mean_val + (3 * std_val)\n",
    "low_bound = mean_val - (3 * std_val)\n",
    "\n",
    "# Use where() to filter the DataFrame between values\n",
    "df = df.where((df['LISTPRICE'] < hi_bound) & (df['LISTPRICE'] > low_bound))\n",
    "print('Dataframe shape after dropping outliers:', (df.count(), len(df.columns)))\n",
    "df.limit(2)"
   ]
  },
  {
   "cell_type": "markdown",
   "id": "a9c05c0f-19ed-4c8d-bb5f-b0fb6c567d4a",
   "metadata": {},
   "source": [
    "### Counting nulls in data"
   ]
  },
  {
   "cell_type": "code",
   "execution_count": 12,
   "id": "99600ed1-dc21-4dbf-9f9d-c6620cf6b0ee",
   "metadata": {},
   "outputs": [
    {
     "data": {
      "text/plain": [
       "{'MLSID': 0,\n",
       " 'StreetNumberNumeric': 0,\n",
       " 'streetaddress': 0,\n",
       " 'STREETNAME': 0,\n",
       " 'PostalCode': 0,\n",
       " 'StateOrProvince': 0,\n",
       " 'City': 0,\n",
       " 'SalesClosePrice': 0,\n",
       " 'LISTDATE': 0,\n",
       " 'LISTPRICE': 0,\n",
       " 'LISTTYPE': 0,\n",
       " 'OriginalListPrice': 0,\n",
       " 'PricePerTSFT': 0,\n",
       " 'FOUNDATIONSIZE': 0,\n",
       " 'FENCE': 1978,\n",
       " 'MapLetter': 0,\n",
       " 'LotSizeDimensions': 0,\n",
       " 'SchoolDistrictNumber': 0,\n",
       " 'DAYSONMARKET': 0,\n",
       " 'offmarketdate': 0,\n",
       " 'Fireplaces': 0,\n",
       " 'RoomArea4': 299,\n",
       " 'roomtype': 0,\n",
       " 'ROOF': 754,\n",
       " 'RoomFloor4': 151,\n",
       " 'PotentialShortSale': 0,\n",
       " 'PoolDescription': 3234,\n",
       " 'PDOM': 0,\n",
       " 'GarageDescription': 0,\n",
       " 'SQFTABOVEGROUND': 0,\n",
       " 'Taxes': 0,\n",
       " 'RoomFloor1': 334,\n",
       " 'RoomArea1': 440,\n",
       " 'TAXWITHASSESSMENTS': 0,\n",
       " 'TAXYEAR': 0,\n",
       " 'LivingArea': 0,\n",
       " 'YEARBUILT': 0,\n",
       " 'ZONING': 0,\n",
       " 'STYLE': 0,\n",
       " 'ACRES': 0,\n",
       " 'CoolingDescription': 0,\n",
       " 'APPLIANCES': 322,\n",
       " 'backonmarketdate': 4905,\n",
       " 'ROOMFAMILYCHAR': 1940,\n",
       " 'RoomArea3': 2292,\n",
       " 'EXTERIOR': 0,\n",
       " 'RoomFloor3': 2184,\n",
       " 'RoomFloor2': 976,\n",
       " 'RoomArea2': 1115,\n",
       " 'DiningRoomDescription': 636,\n",
       " 'BASEMENT': 0,\n",
       " 'BathsFull': 0,\n",
       " 'BathsHalf': 0,\n",
       " 'BATHQUARTER': 0,\n",
       " 'BATHSTHREEQUARTER': 1,\n",
       " 'BATHSTOTAL': 0,\n",
       " 'BATHDESC': 358,\n",
       " 'RoomArea5': 242,\n",
       " 'RoomFloor5': 143,\n",
       " 'RoomArea6': 387,\n",
       " 'RoomFloor6': 291,\n",
       " 'RoomArea7': 1516,\n",
       " 'RoomFloor7': 1432,\n",
       " 'RoomArea8': 3464,\n",
       " 'RoomFloor8': 3419,\n",
       " 'Bedrooms': 0,\n",
       " 'SQFTBELOWGROUND': 0,\n",
       " 'AssumableMortgage': 3036,\n",
       " 'AssociationFee': 0,\n",
       " 'ASSESSMENTPENDING': 0,\n",
       " 'AssessedValuation': 0}"
      ]
     },
     "execution_count": 12,
     "metadata": {},
     "output_type": "execute_result"
    }
   ],
   "source": [
    "# How many null there are\n",
    "Dict_Null = {col: df.filter(df[col].isNull()).count() for col in df.columns}\n",
    "Dict_Null"
   ]
  },
  {
   "cell_type": "markdown",
   "id": "d06040b0-e276-43d8-b098-b0c7258d027a",
   "metadata": {},
   "source": [
    "### Dropping NA's or NULLs"
   ]
  },
  {
   "cell_type": "code",
   "execution_count": 13,
   "id": "f1f2f167-bc55-4779-8f5d-843550424f08",
   "metadata": {},
   "outputs": [
    {
     "name": "stdout",
     "output_type": "stream",
     "text": [
      "Dataframe shape after dropping nulls: (4905, 71)\n"
     ]
    },
    {
     "data": {
      "text/html": [
       "<table border='1'>\n",
       "<tr><th>MLSID</th><th>StreetNumberNumeric</th><th>streetaddress</th><th>STREETNAME</th><th>PostalCode</th><th>StateOrProvince</th><th>City</th><th>SalesClosePrice</th><th>LISTDATE</th><th>LISTPRICE</th><th>LISTTYPE</th><th>OriginalListPrice</th><th>PricePerTSFT</th><th>FOUNDATIONSIZE</th><th>FENCE</th><th>MapLetter</th><th>LotSizeDimensions</th><th>SchoolDistrictNumber</th><th>DAYSONMARKET</th><th>offmarketdate</th><th>Fireplaces</th><th>RoomArea4</th><th>roomtype</th><th>ROOF</th><th>RoomFloor4</th><th>PotentialShortSale</th><th>PoolDescription</th><th>PDOM</th><th>GarageDescription</th><th>SQFTABOVEGROUND</th><th>Taxes</th><th>RoomFloor1</th><th>RoomArea1</th><th>TAXWITHASSESSMENTS</th><th>TAXYEAR</th><th>LivingArea</th><th>YEARBUILT</th><th>ZONING</th><th>STYLE</th><th>ACRES</th><th>CoolingDescription</th><th>APPLIANCES</th><th>backonmarketdate</th><th>ROOMFAMILYCHAR</th><th>RoomArea3</th><th>EXTERIOR</th><th>RoomFloor3</th><th>RoomFloor2</th><th>RoomArea2</th><th>DiningRoomDescription</th><th>BASEMENT</th><th>BathsFull</th><th>BathsHalf</th><th>BATHQUARTER</th><th>BATHSTHREEQUARTER</th><th>BATHSTOTAL</th><th>BATHDESC</th><th>RoomArea5</th><th>RoomFloor5</th><th>RoomArea6</th><th>RoomFloor6</th><th>RoomArea7</th><th>RoomFloor7</th><th>RoomArea8</th><th>RoomFloor8</th><th>Bedrooms</th><th>SQFTBELOWGROUND</th><th>AssumableMortgage</th><th>AssociationFee</th><th>ASSESSMENTPENDING</th><th>AssessedValuation</th></tr>\n",
       "<tr><td>RMLS</td><td>11511</td><td>11511 Stillwater ...</td><td>Stillwater</td><td>55042</td><td>MN</td><td>LELM - Lake Elmo</td><td>143000</td><td>7/15/2017 0:00</td><td>139900</td><td>Exclusive Right</td><td>139900</td><td>145.9184</td><td>980</td><td>Other</td><td>C4</td><td>279X200</td><td>834 - Stillwater</td><td>10</td><td>2017-07-30 00:00:00</td><td>0</td><td>12 x  9</td><td>Living Room, Dini...</td><td>NULL</td><td>Main</td><td>No</td><td>NULL</td><td>10</td><td>Attached Garage</td><td>980</td><td>1858</td><td>Main</td><td>16 x 13</td><td>1858.0</td><td>2017</td><td>980</td><td>1950</td><td>Residential-Single</td><td>(SF) One Story</td><td>1.28</td><td>Central</td><td>Range, Dishwasher...</td><td>NULL</td><td>NULL</td><td>NULL</td><td>Vinyl</td><td>NULL</td><td>Main</td><td>9 x  7</td><td>Eat In Kitchen</td><td>Full</td><td>1</td><td>1</td><td>0</td><td>0</td><td>2</td><td>Main Floor 3/4 Ba...</td><td>13 x 11</td><td>Main</td><td>10 x 10</td><td>Main</td><td>NULL</td><td>NULL</td><td>NULL</td><td>NULL</td><td>3</td><td>0</td><td>NULL</td><td>0</td><td>Unknown</td><td>0.0</td></tr>\n",
       "<tr><td>RMLS</td><td>11200</td><td>11200 31st St N</td><td>31st</td><td>55042</td><td>MN</td><td>LELM - Lake Elmo</td><td>190000</td><td>10/9/2017 0:00</td><td>210000</td><td>Exclusive Right</td><td>210000</td><td>85.2783</td><td>1144</td><td>NULL</td><td>C1</td><td>100x140</td><td>834 - Stillwater</td><td>4</td><td>2017-10-13 00:00:00</td><td>0</td><td>11x11</td><td>Living Room, Dini...</td><td>Asphalt Shingles,...</td><td>Main</td><td>No</td><td>NULL</td><td>4</td><td>Attached Garage, ...</td><td>1268</td><td>1640</td><td>Main</td><td>22x14</td><td>1640.0</td><td>2017</td><td>2228</td><td>1971</td><td>Residential-Single</td><td>(SF) Split Entry ...</td><td>0.32</td><td>Central</td><td>Range, Microwave,...</td><td>NULL</td><td>Lower Level</td><td>22x14</td><td>Vinyl</td><td>Lower</td><td>Main</td><td>11x12</td><td>Informal Dining R...</td><td>Full, Partial Fin...</td><td>1</td><td>0</td><td>0</td><td>2</td><td>3</td><td>Main Floor Full B...</td><td>15x11</td><td>Main</td><td>14x11</td><td>Main</td><td>10x11</td><td>Main</td><td>11x11</td><td>Lower</td><td>4</td><td>960</td><td>NULL</td><td>0</td><td>Unknown</td><td>0.0</td></tr>\n",
       "</table>\n"
      ],
      "text/plain": [
       "+-----+-------------------+--------------------+----------+----------+---------------+----------------+---------------+--------------+---------+---------------+-----------------+------------+--------------+-----+---------+-----------------+--------------------+------------+-------------------+----------+---------+--------------------+--------------------+----------+------------------+---------------+----+--------------------+---------------+-----+----------+---------+------------------+-------+----------+---------+------------------+--------------------+-----+------------------+--------------------+----------------+--------------+---------+--------+----------+----------+---------+---------------------+--------------------+---------+---------+-----------+-----------------+----------+--------------------+---------+----------+---------+----------+---------+----------+---------+----------+--------+---------------+-----------------+--------------+-----------------+-----------------+\n",
       "|MLSID|StreetNumberNumeric|       streetaddress|STREETNAME|PostalCode|StateOrProvince|            City|SalesClosePrice|      LISTDATE|LISTPRICE|       LISTTYPE|OriginalListPrice|PricePerTSFT|FOUNDATIONSIZE|FENCE|MapLetter|LotSizeDimensions|SchoolDistrictNumber|DAYSONMARKET|      offmarketdate|Fireplaces|RoomArea4|            roomtype|                ROOF|RoomFloor4|PotentialShortSale|PoolDescription|PDOM|   GarageDescription|SQFTABOVEGROUND|Taxes|RoomFloor1|RoomArea1|TAXWITHASSESSMENTS|TAXYEAR|LivingArea|YEARBUILT|            ZONING|               STYLE|ACRES|CoolingDescription|          APPLIANCES|backonmarketdate|ROOMFAMILYCHAR|RoomArea3|EXTERIOR|RoomFloor3|RoomFloor2|RoomArea2|DiningRoomDescription|            BASEMENT|BathsFull|BathsHalf|BATHQUARTER|BATHSTHREEQUARTER|BATHSTOTAL|            BATHDESC|RoomArea5|RoomFloor5|RoomArea6|RoomFloor6|RoomArea7|RoomFloor7|RoomArea8|RoomFloor8|Bedrooms|SQFTBELOWGROUND|AssumableMortgage|AssociationFee|ASSESSMENTPENDING|AssessedValuation|\n",
       "+-----+-------------------+--------------------+----------+----------+---------------+----------------+---------------+--------------+---------+---------------+-----------------+------------+--------------+-----+---------+-----------------+--------------------+------------+-------------------+----------+---------+--------------------+--------------------+----------+------------------+---------------+----+--------------------+---------------+-----+----------+---------+------------------+-------+----------+---------+------------------+--------------------+-----+------------------+--------------------+----------------+--------------+---------+--------+----------+----------+---------+---------------------+--------------------+---------+---------+-----------+-----------------+----------+--------------------+---------+----------+---------+----------+---------+----------+---------+----------+--------+---------------+-----------------+--------------+-----------------+-----------------+\n",
       "| RMLS|              11511|11511 Stillwater ...|Stillwater|     55042|             MN|LELM - Lake Elmo|         143000|7/15/2017 0:00|   139900|Exclusive Right|           139900|    145.9184|           980|Other|       C4|          279X200|    834 - Stillwater|          10|2017-07-30 00:00:00|         0|  12 x  9|Living Room, Dini...|                NULL|      Main|                No|           NULL|  10|     Attached Garage|            980| 1858|      Main|  16 x 13|            1858.0|   2017|       980|     1950|Residential-Single|      (SF) One Story| 1.28|           Central|Range, Dishwasher...|            NULL|          NULL|     NULL|   Vinyl|      NULL|      Main|   9 x  7|       Eat In Kitchen|                Full|        1|        1|          0|                0|         2|Main Floor 3/4 Ba...|  13 x 11|      Main|  10 x 10|      Main|     NULL|      NULL|     NULL|      NULL|       3|              0|             NULL|             0|          Unknown|              0.0|\n",
       "| RMLS|              11200|     11200 31st St N|      31st|     55042|             MN|LELM - Lake Elmo|         190000|10/9/2017 0:00|   210000|Exclusive Right|           210000|     85.2783|          1144| NULL|       C1|          100x140|    834 - Stillwater|           4|2017-10-13 00:00:00|         0|    11x11|Living Room, Dini...|Asphalt Shingles,...|      Main|                No|           NULL|   4|Attached Garage, ...|           1268| 1640|      Main|    22x14|            1640.0|   2017|      2228|     1971|Residential-Single|(SF) Split Entry ...| 0.32|           Central|Range, Microwave,...|            NULL|   Lower Level|    22x14|   Vinyl|     Lower|      Main|    11x12| Informal Dining R...|Full, Partial Fin...|        1|        0|          0|                2|         3|Main Floor Full B...|    15x11|      Main|    14x11|      Main|    10x11|      Main|    11x11|     Lower|       4|            960|             NULL|             0|          Unknown|              0.0|\n",
       "+-----+-------------------+--------------------+----------+----------+---------------+----------------+---------------+--------------+---------+---------------+-----------------+------------+--------------+-----+---------+-----------------+--------------------+------------+-------------------+----------+---------+--------------------+--------------------+----------+------------------+---------------+----+--------------------+---------------+-----+----------+---------+------------------+-------+----------+---------+------------------+--------------------+-----+------------------+--------------------+----------------+--------------+---------+--------+----------+----------+---------+---------------------+--------------------+---------+---------+-----------+-----------------+----------+--------------------+---------+----------+---------+----------+---------+----------+---------+----------+--------+---------------+-----------------+--------------+-----------------+-----------------+"
      ]
     },
     "execution_count": 13,
     "metadata": {},
     "output_type": "execute_result"
    }
   ],
   "source": [
    "# drop records if both LISTPRICE and SALESCLOSEPRICE are NULL\n",
    "df = df.dropna(how='all', subset=['LISTPRICE', 'SALESCLOSEPRICE'])\n",
    "\n",
    "# Drop records where at least two columns have NULL values\n",
    "df = df.dropna(thresh=2)\n",
    "\n",
    "# # Drop any records with NULL values\n",
    "# df = df.dropna()\n",
    "\n",
    "# Review the data\n",
    "print('Dataframe shape after dropping nulls:', (df.count(), len(df.columns)))\n",
    "df.limit(2)"
   ]
  },
  {
   "cell_type": "markdown",
   "id": "74b86085-ec80-45eb-a6a7-6add4988730c",
   "metadata": {},
   "source": [
    "### Dropping Duplicates"
   ]
  },
  {
   "cell_type": "code",
   "execution_count": 14,
   "id": "7f4b3ff6-fb09-4821-b022-d55efbe84040",
   "metadata": {},
   "outputs": [
    {
     "data": {
      "text/plain": [
       "4905"
      ]
     },
     "execution_count": 14,
     "metadata": {},
     "output_type": "execute_result"
    }
   ],
   "source": [
    "# Entire DataFrame\n",
    "df.dropDuplicates().count()"
   ]
  },
  {
   "cell_type": "code",
   "execution_count": 15,
   "id": "dad4a663-e858-49be-b894-ff27b5d2655a",
   "metadata": {},
   "outputs": [
    {
     "data": {
      "text/plain": [
       "4890"
      ]
     },
     "execution_count": 15,
     "metadata": {},
     "output_type": "execute_result"
    }
   ],
   "source": [
    "# Check only a column list\n",
    "df.dropDuplicates(['streetaddress']).count()"
   ]
  },
  {
   "cell_type": "markdown",
   "id": "ee765874-74ae-40c4-b896-0417aff3eeb7",
   "metadata": {},
   "source": [
    "## Ex. 1 - Dropping a list of columns\n",
    "\n",
    "Our data set is rich with a lot of features, but not all are valuable. We have many that are going to be hard to wrangle into anything useful. For now, let's remove any columns that aren't immediately useful by dropping them.\n",
    "\n",
    "- 'STREETNUMBERNUMERIC': The postal address number on the home\n",
    "- 'FIREPLACES': Number of Fireplaces in the home\n",
    "- 'LOTSIZEDIMENSIONS': Free text describing the lot shape\n",
    "- 'LISTTYPE': Set list of values of sale type\n",
    "- 'ACRES': Numeric area of lot size\n",
    "\n",
    "**Instructions:**\n",
    "\n",
    "1. Read the list of column descriptions above and explore their top 30 values with `show()`, the dataframe is already filtered to the listed columns as `df`\n",
    "2. Create a list of two columns to drop based on their lack of relevance to predicting house prices called `cols_to_drop`. Recall that computers only interpret numbers explicitly and don't understand context.\n",
    "3. Use the `drop()` function to remove the columns in the list `cols_to_drop` from the dataframe `df`."
   ]
  },
  {
   "cell_type": "code",
   "execution_count": 16,
   "id": "94337179-83d2-4654-8979-5dfdbb2cdd59",
   "metadata": {},
   "outputs": [
    {
     "name": "stdout",
     "output_type": "stream",
     "text": [
      "Dataframe shape (5000, 5)\n",
      "+-------------------+----------+--------------------+---------------+-----+\n",
      "|STREETNUMBERNUMERIC|FIREPLACES|   LOTSIZEDIMENSIONS|       LISTTYPE|ACRES|\n",
      "+-------------------+----------+--------------------+---------------+-----+\n",
      "|              11511|         0|             279X200|Exclusive Right| 1.28|\n",
      "|              11200|         0|             100x140|Exclusive Right| 0.32|\n",
      "|               8583|         0|             120x296|Exclusive Right|0.822|\n",
      "|               9350|         1|             208X208|Exclusive Right| 0.94|\n",
      "|               2915|         1|             116x200|Exclusive Right|  0.0|\n",
      "|               3604|         1|              50x150|Exclusive Right|0.172|\n",
      "|               9957|         0|              common|Exclusive Right| 0.05|\n",
      "|               9934|         0|              common|Exclusive Right| 0.05|\n",
      "|               9926|         0|              common|Exclusive Right| 0.05|\n",
      "|               9928|         0|              common|Exclusive Right| 0.05|\n",
      "|               9902|         0|              common|Exclusive Right| 0.05|\n",
      "|               9904|         0|              common|Exclusive Right| 0.05|\n",
      "|               9894|         0|              common|Exclusive Right| 0.05|\n",
      "|               9892|         0|              COMMON|Exclusive Right| 0.05|\n",
      "|               9295|         1|261 x 293 x 287 x...|Exclusive Right|1.661|\n",
      "|               9930|         0|               36X32|Exclusive Right| 0.05|\n",
      "|               9898|         0|               36X32|Exclusive Right| 0.05|\n",
      "|               9924|         0|              COMMON|Exclusive Right| 0.05|\n",
      "|               9906|         0|              COMMON|Exclusive Right| 0.05|\n",
      "|               9938|         0|              COMMON|Exclusive Right| 0.05|\n",
      "|               9795|         1|               32X60|Exclusive Right| 0.04|\n",
      "|               9797|         1|               32X60|Exclusive Right| 0.04|\n",
      "|               8909|         2|             125x150|Exclusive Right| 0.43|\n",
      "|               3597|         2|             100x250|Exclusive Right|0.574|\n",
      "|               8656|         1|     151x158x130x151|Exclusive Right|0.498|\n",
      "|               9775|         1|               36X32|Exclusive Right| 0.04|\n",
      "|               8687|         2|                   -|Exclusive Right| 1.03|\n",
      "|               8367|         0|             285x305|Exclusive Right|1.995|\n",
      "|               2866|         0|           Irregular|Exclusive Right| 0.72|\n",
      "|               9793|         1|               42x60|Exclusive Right| 0.06|\n",
      "+-------------------+----------+--------------------+---------------+-----+\n",
      "only showing top 30 rows\n",
      "\n"
     ]
    }
   ],
   "source": [
    "# Initializing the data\n",
    "df = real_state.select('STREETNUMBERNUMERIC','FIREPLACES','LOTSIZEDIMENSIONS','LISTTYPE','ACRES')\n",
    "print('Dataframe shape', (df.count(), len(df.columns)))\n",
    "\n",
    "# Show top 30 records\n",
    "df.show(30)"
   ]
  },
  {
   "cell_type": "code",
   "execution_count": 17,
   "id": "869d937e-3de6-46e1-ac0c-376d6008bfab",
   "metadata": {},
   "outputs": [
    {
     "name": "stdout",
     "output_type": "stream",
     "text": [
      "Dataframe shape: (5000, 3)\n"
     ]
    },
    {
     "data": {
      "text/html": [
       "<table border='1'>\n",
       "<tr><th>FIREPLACES</th><th>LISTTYPE</th><th>ACRES</th></tr>\n",
       "<tr><td>0</td><td>Exclusive Right</td><td>1.28</td></tr>\n",
       "<tr><td>0</td><td>Exclusive Right</td><td>0.32</td></tr>\n",
       "</table>\n"
      ],
      "text/plain": [
       "+----------+---------------+-----+\n",
       "|FIREPLACES|       LISTTYPE|ACRES|\n",
       "+----------+---------------+-----+\n",
       "|         0|Exclusive Right| 1.28|\n",
       "|         0|Exclusive Right| 0.32|\n",
       "+----------+---------------+-----+"
      ]
     },
     "execution_count": 17,
     "metadata": {},
     "output_type": "execute_result"
    }
   ],
   "source": [
    "# List of columns to remove from dataset\n",
    "cols_to_drop = ['STREETNUMBERNUMERIC', 'LOTSIZEDIMENSIONS']\n",
    "\n",
    "# Drop columns in list\n",
    "df = df.drop(*cols_to_drop)\n",
    "\n",
    "print('Dataframe shape:', (df.count(), len(df.columns)))\n",
    "df.limit(2)"
   ]
  },
  {
   "cell_type": "markdown",
   "id": "d5e53553-da8b-464d-837c-9217fcace5bf",
   "metadata": {},
   "source": [
    "## Ex. 2 - Using text filters to remove records\n",
    "\n",
    "It pays to have to ask your clients lots of questions and take time to understand your variables. You find out that Assumable mortgage is an unusual occurrence in the real estate industry and your client suggests you exclude them. In this exercise we will use `isin()` which is similar to `like()` but allows us to pass a list of values to use as a filter rather than a single one.\n",
    "\n",
    "**Instructions:**\n",
    "\n",
    "1. Use `select()` and `show()` to inspect the distinct values in the column `'ASSUMABLEMORTGAGE'` and create the list `yes_values` for all the values containing the string `'Yes'`.\n",
    "2. Use `~df['ASSUMABLEMORTGAGE']`, `isin()`, and `.isNull()` to create a NOT filter to remove records containing corresponding values in the list `yes_values` and to keep records with null values. Store this filter in the variable `text_filter`.\n",
    "3. Use `where()` to apply the `text_filter` to `df`.\n",
    "4. Print out the number of records remaining in `df`."
   ]
  },
  {
   "cell_type": "code",
   "execution_count": 18,
   "id": "16f35076-0690-4aa0-9651-8e719f13234f",
   "metadata": {},
   "outputs": [
    {
     "name": "stdout",
     "output_type": "stream",
     "text": [
      "Dataframe shape: (5000, 74)\n"
     ]
    },
    {
     "data": {
      "text/html": [
       "<table border='1'>\n",
       "<tr><th>No.</th><th>MLSID</th><th>StreetNumberNumeric</th><th>streetaddress</th><th>STREETNAME</th><th>PostalCode</th><th>StateOrProvince</th><th>City</th><th>SalesClosePrice</th><th>LISTDATE</th><th>LISTPRICE</th><th>LISTTYPE</th><th>OriginalListPrice</th><th>PricePerTSFT</th><th>FOUNDATIONSIZE</th><th>FENCE</th><th>MapLetter</th><th>LotSizeDimensions</th><th>SchoolDistrictNumber</th><th>DAYSONMARKET</th><th>offmarketdate</th><th>Fireplaces</th><th>RoomArea4</th><th>roomtype</th><th>ROOF</th><th>RoomFloor4</th><th>PotentialShortSale</th><th>PoolDescription</th><th>PDOM</th><th>GarageDescription</th><th>SQFTABOVEGROUND</th><th>Taxes</th><th>RoomFloor1</th><th>RoomArea1</th><th>TAXWITHASSESSMENTS</th><th>TAXYEAR</th><th>LivingArea</th><th>UNITNUMBER</th><th>YEARBUILT</th><th>ZONING</th><th>STYLE</th><th>ACRES</th><th>CoolingDescription</th><th>APPLIANCES</th><th>backonmarketdate</th><th>ROOMFAMILYCHAR</th><th>RoomArea3</th><th>EXTERIOR</th><th>RoomFloor3</th><th>RoomFloor2</th><th>RoomArea2</th><th>DiningRoomDescription</th><th>BASEMENT</th><th>BathsFull</th><th>BathsHalf</th><th>BATHQUARTER</th><th>BATHSTHREEQUARTER</th><th>Class</th><th>BATHSTOTAL</th><th>BATHDESC</th><th>RoomArea5</th><th>RoomFloor5</th><th>RoomArea6</th><th>RoomFloor6</th><th>RoomArea7</th><th>RoomFloor7</th><th>RoomArea8</th><th>RoomFloor8</th><th>Bedrooms</th><th>SQFTBELOWGROUND</th><th>AssumableMortgage</th><th>AssociationFee</th><th>ASSESSMENTPENDING</th><th>AssessedValuation</th></tr>\n",
       "<tr><td>1</td><td>RMLS</td><td>11511</td><td>11511 Stillwater ...</td><td>Stillwater</td><td>55042</td><td>MN</td><td>LELM - Lake Elmo</td><td>143000</td><td>7/15/2017 0:00</td><td>139900</td><td>Exclusive Right</td><td>139900</td><td>145.9184</td><td>980</td><td>Other</td><td>C4</td><td>279X200</td><td>834 - Stillwater</td><td>10</td><td>2017-07-30 00:00:00</td><td>0</td><td>12 x  9</td><td>Living Room, Dini...</td><td>NULL</td><td>Main</td><td>No</td><td>NULL</td><td>10</td><td>Attached Garage</td><td>980</td><td>1858</td><td>Main</td><td>16 x 13</td><td>1858.0</td><td>2017</td><td>980</td><td>NULL</td><td>1950</td><td>Residential-Single</td><td>(SF) One Story</td><td>1.28</td><td>Central</td><td>Range, Dishwasher...</td><td>NULL</td><td>NULL</td><td>NULL</td><td>Vinyl</td><td>NULL</td><td>Main</td><td>9 x  7</td><td>Eat In Kitchen</td><td>Full</td><td>1</td><td>1</td><td>0</td><td>0</td><td>SF</td><td>2</td><td>Main Floor 3/4 Ba...</td><td>13 x 11</td><td>Main</td><td>10 x 10</td><td>Main</td><td>NULL</td><td>NULL</td><td>NULL</td><td>NULL</td><td>3</td><td>0</td><td>NULL</td><td>0</td><td>Unknown</td><td>0.0</td></tr>\n",
       "<tr><td>2</td><td>RMLS</td><td>11200</td><td>11200 31st St N</td><td>31st</td><td>55042</td><td>MN</td><td>LELM - Lake Elmo</td><td>190000</td><td>10/9/2017 0:00</td><td>210000</td><td>Exclusive Right</td><td>210000</td><td>85.2783</td><td>1144</td><td>NULL</td><td>C1</td><td>100x140</td><td>834 - Stillwater</td><td>4</td><td>2017-10-13 00:00:00</td><td>0</td><td>11x11</td><td>Living Room, Dini...</td><td>Asphalt Shingles,...</td><td>Main</td><td>No</td><td>NULL</td><td>4</td><td>Attached Garage, ...</td><td>1268</td><td>1640</td><td>Main</td><td>22x14</td><td>1640.0</td><td>2017</td><td>2228</td><td>NULL</td><td>1971</td><td>Residential-Single</td><td>(SF) Split Entry ...</td><td>0.32</td><td>Central</td><td>Range, Microwave,...</td><td>NULL</td><td>Lower Level</td><td>22x14</td><td>Vinyl</td><td>Lower</td><td>Main</td><td>11x12</td><td>Informal Dining R...</td><td>Full, Partial Fin...</td><td>1</td><td>0</td><td>0</td><td>2</td><td>SF</td><td>3</td><td>Main Floor Full B...</td><td>15x11</td><td>Main</td><td>14x11</td><td>Main</td><td>10x11</td><td>Main</td><td>11x11</td><td>Lower</td><td>4</td><td>960</td><td>NULL</td><td>0</td><td>Unknown</td><td>0.0</td></tr>\n",
       "</table>\n"
      ],
      "text/plain": [
       "+---+-----+-------------------+--------------------+----------+----------+---------------+----------------+---------------+--------------+---------+---------------+-----------------+------------+--------------+-----+---------+-----------------+--------------------+------------+-------------------+----------+---------+--------------------+--------------------+----------+------------------+---------------+----+--------------------+---------------+-----+----------+---------+------------------+-------+----------+----------+---------+------------------+--------------------+-----+------------------+--------------------+----------------+--------------+---------+--------+----------+----------+---------+---------------------+--------------------+---------+---------+-----------+-----------------+-----+----------+--------------------+---------+----------+---------+----------+---------+----------+---------+----------+--------+---------------+-----------------+--------------+-----------------+-----------------+\n",
       "|No.|MLSID|StreetNumberNumeric|       streetaddress|STREETNAME|PostalCode|StateOrProvince|            City|SalesClosePrice|      LISTDATE|LISTPRICE|       LISTTYPE|OriginalListPrice|PricePerTSFT|FOUNDATIONSIZE|FENCE|MapLetter|LotSizeDimensions|SchoolDistrictNumber|DAYSONMARKET|      offmarketdate|Fireplaces|RoomArea4|            roomtype|                ROOF|RoomFloor4|PotentialShortSale|PoolDescription|PDOM|   GarageDescription|SQFTABOVEGROUND|Taxes|RoomFloor1|RoomArea1|TAXWITHASSESSMENTS|TAXYEAR|LivingArea|UNITNUMBER|YEARBUILT|            ZONING|               STYLE|ACRES|CoolingDescription|          APPLIANCES|backonmarketdate|ROOMFAMILYCHAR|RoomArea3|EXTERIOR|RoomFloor3|RoomFloor2|RoomArea2|DiningRoomDescription|            BASEMENT|BathsFull|BathsHalf|BATHQUARTER|BATHSTHREEQUARTER|Class|BATHSTOTAL|            BATHDESC|RoomArea5|RoomFloor5|RoomArea6|RoomFloor6|RoomArea7|RoomFloor7|RoomArea8|RoomFloor8|Bedrooms|SQFTBELOWGROUND|AssumableMortgage|AssociationFee|ASSESSMENTPENDING|AssessedValuation|\n",
       "+---+-----+-------------------+--------------------+----------+----------+---------------+----------------+---------------+--------------+---------+---------------+-----------------+------------+--------------+-----+---------+-----------------+--------------------+------------+-------------------+----------+---------+--------------------+--------------------+----------+------------------+---------------+----+--------------------+---------------+-----+----------+---------+------------------+-------+----------+----------+---------+------------------+--------------------+-----+------------------+--------------------+----------------+--------------+---------+--------+----------+----------+---------+---------------------+--------------------+---------+---------+-----------+-----------------+-----+----------+--------------------+---------+----------+---------+----------+---------+----------+---------+----------+--------+---------------+-----------------+--------------+-----------------+-----------------+\n",
       "|  1| RMLS|              11511|11511 Stillwater ...|Stillwater|     55042|             MN|LELM - Lake Elmo|         143000|7/15/2017 0:00|   139900|Exclusive Right|           139900|    145.9184|           980|Other|       C4|          279X200|    834 - Stillwater|          10|2017-07-30 00:00:00|         0|  12 x  9|Living Room, Dini...|                NULL|      Main|                No|           NULL|  10|     Attached Garage|            980| 1858|      Main|  16 x 13|            1858.0|   2017|       980|      NULL|     1950|Residential-Single|      (SF) One Story| 1.28|           Central|Range, Dishwasher...|            NULL|          NULL|     NULL|   Vinyl|      NULL|      Main|   9 x  7|       Eat In Kitchen|                Full|        1|        1|          0|                0|   SF|         2|Main Floor 3/4 Ba...|  13 x 11|      Main|  10 x 10|      Main|     NULL|      NULL|     NULL|      NULL|       3|              0|             NULL|             0|          Unknown|              0.0|\n",
       "|  2| RMLS|              11200|     11200 31st St N|      31st|     55042|             MN|LELM - Lake Elmo|         190000|10/9/2017 0:00|   210000|Exclusive Right|           210000|     85.2783|          1144| NULL|       C1|          100x140|    834 - Stillwater|           4|2017-10-13 00:00:00|         0|    11x11|Living Room, Dini...|Asphalt Shingles,...|      Main|                No|           NULL|   4|Attached Garage, ...|           1268| 1640|      Main|    22x14|            1640.0|   2017|      2228|      NULL|     1971|Residential-Single|(SF) Split Entry ...| 0.32|           Central|Range, Microwave,...|            NULL|   Lower Level|    22x14|   Vinyl|     Lower|      Main|    11x12| Informal Dining R...|Full, Partial Fin...|        1|        0|          0|                2|   SF|         3|Main Floor Full B...|    15x11|      Main|    14x11|      Main|    10x11|      Main|    11x11|     Lower|       4|            960|             NULL|             0|          Unknown|              0.0|\n",
       "+---+-----+-------------------+--------------------+----------+----------+---------------+----------------+---------------+--------------+---------+---------------+-----------------+------------+--------------+-----+---------+-----------------+--------------------+------------+-------------------+----------+---------+--------------------+--------------------+----------+------------------+---------------+----+--------------------+---------------+-----+----------+---------+------------------+-------+----------+----------+---------+------------------+--------------------+-----+------------------+--------------------+----------------+--------------+---------+--------+----------+----------+---------+---------------------+--------------------+---------+---------+-----------+-----------------+-----+----------+--------------------+---------+----------+---------+----------+---------+----------+---------+----------+--------+---------------+-----------------+--------------+-----------------+-----------------+"
      ]
     },
     "execution_count": 18,
     "metadata": {},
     "output_type": "execute_result"
    }
   ],
   "source": [
    "# Initializing the data\n",
    "df = real_state.select('*')\n",
    "\n",
    "print('Dataframe shape:', (df.count(), len(df.columns)))\n",
    "df.limit(2)"
   ]
  },
  {
   "cell_type": "code",
   "execution_count": 19,
   "id": "d6080387-4260-4c29-b138-8e024c4ce972",
   "metadata": {},
   "outputs": [
    {
     "name": "stdout",
     "output_type": "stream",
     "text": [
      "+-------------------+\n",
      "|  ASSUMABLEMORTGAGE|\n",
      "+-------------------+\n",
      "|  Yes w/ Qualifying|\n",
      "| Information Coming|\n",
      "|Yes w/No Qualifying|\n",
      "|      Not Assumable|\n",
      "|               NULL|\n",
      "+-------------------+\n",
      "\n"
     ]
    }
   ],
   "source": [
    "# Inspect unique values in the column 'ASSUMABLEMORTGAGE'\n",
    "df.select(['ASSUMABLEMORTGAGE']).distinct().show()"
   ]
  },
  {
   "cell_type": "code",
   "execution_count": 20,
   "id": "e3c90d1e-f120-4547-8214-7afccc882ec8",
   "metadata": {},
   "outputs": [
    {
     "name": "stdout",
     "output_type": "stream",
     "text": [
      "Dataframe shape: (4976, 74)\n"
     ]
    }
   ],
   "source": [
    "# List of possible values containing 'yes'\n",
    "yes_values = ['Yes w/ Qualifying', 'Yes w/No Qualifying']\n",
    "\n",
    "# Filter the text values out of df but keep null values\n",
    "text_filter = ~df['ASSUMABLEMORTGAGE'].isin(yes_values) | df['ASSUMABLEMORTGAGE'].isNull()\n",
    "df = df.filter(text_filter)\n",
    "\n",
    "# Print count of remaining records\n",
    "print('Dataframe shape:', (df.count(), len(df.columns)))"
   ]
  },
  {
   "cell_type": "markdown",
   "id": "32a266b2-30a4-439d-8d30-1124def1fd1c",
   "metadata": {},
   "source": [
    "## Ex. 3 - Filtering numeric fields conditionally\n",
    "\n",
    "Again, understanding the context of your data is extremely important. We want to understand what a normal range of houses sell for. Let's make sure we exclude any outlier homes that have sold for significantly more or less than the average. Here we will calculate the mean and standard deviation and use them to filer the near normal field `log_SalesClosePrice`.\n",
    "\n",
    "**Instructions:**\n",
    "\n",
    "1. Import `mean()` and `stddev()` from `pyspark.sql.functions`. (Already done)\n",
    "2. Use `agg()` to calculate the mean and standard deviation for `'log_SalesClosePrice'` with the imported functions.\n",
    "3. Create the upper and lower bounds by taking `mean_val` +/- 3 times `stddev_val`.\n",
    "4. Create a `where()` filter for `'log_SalesClosePrice'` using both `low_bound` and `hi_bound`."
   ]
  },
  {
   "cell_type": "code",
   "execution_count": 21,
   "id": "20562589-b3df-4797-a480-0882bf9debcf",
   "metadata": {},
   "outputs": [
    {
     "name": "stdout",
     "output_type": "stream",
     "text": [
      "Dataframe shape: (5000, 75)\n"
     ]
    },
    {
     "data": {
      "text/html": [
       "<table border='1'>\n",
       "<tr><th>No.</th><th>MLSID</th><th>StreetNumberNumeric</th><th>streetaddress</th><th>STREETNAME</th><th>PostalCode</th><th>StateOrProvince</th><th>City</th><th>SalesClosePrice</th><th>LISTDATE</th><th>LISTPRICE</th><th>LISTTYPE</th><th>OriginalListPrice</th><th>PricePerTSFT</th><th>FOUNDATIONSIZE</th><th>FENCE</th><th>MapLetter</th><th>LotSizeDimensions</th><th>SchoolDistrictNumber</th><th>DAYSONMARKET</th><th>offmarketdate</th><th>Fireplaces</th><th>RoomArea4</th><th>roomtype</th><th>ROOF</th><th>RoomFloor4</th><th>PotentialShortSale</th><th>PoolDescription</th><th>PDOM</th><th>GarageDescription</th><th>SQFTABOVEGROUND</th><th>Taxes</th><th>RoomFloor1</th><th>RoomArea1</th><th>TAXWITHASSESSMENTS</th><th>TAXYEAR</th><th>LivingArea</th><th>UNITNUMBER</th><th>YEARBUILT</th><th>ZONING</th><th>STYLE</th><th>ACRES</th><th>CoolingDescription</th><th>APPLIANCES</th><th>backonmarketdate</th><th>ROOMFAMILYCHAR</th><th>RoomArea3</th><th>EXTERIOR</th><th>RoomFloor3</th><th>RoomFloor2</th><th>RoomArea2</th><th>DiningRoomDescription</th><th>BASEMENT</th><th>BathsFull</th><th>BathsHalf</th><th>BATHQUARTER</th><th>BATHSTHREEQUARTER</th><th>Class</th><th>BATHSTOTAL</th><th>BATHDESC</th><th>RoomArea5</th><th>RoomFloor5</th><th>RoomArea6</th><th>RoomFloor6</th><th>RoomArea7</th><th>RoomFloor7</th><th>RoomArea8</th><th>RoomFloor8</th><th>Bedrooms</th><th>SQFTBELOWGROUND</th><th>AssumableMortgage</th><th>AssociationFee</th><th>ASSESSMENTPENDING</th><th>AssessedValuation</th><th>log_SalesClosePrice</th></tr>\n",
       "<tr><td>1</td><td>RMLS</td><td>11511</td><td>11511 Stillwater ...</td><td>Stillwater</td><td>55042</td><td>MN</td><td>LELM - Lake Elmo</td><td>143000</td><td>7/15/2017 0:00</td><td>139900</td><td>Exclusive Right</td><td>139900</td><td>145.9184</td><td>980</td><td>Other</td><td>C4</td><td>279X200</td><td>834 - Stillwater</td><td>10</td><td>2017-07-30 00:00:00</td><td>0</td><td>12 x  9</td><td>Living Room, Dini...</td><td>NULL</td><td>Main</td><td>No</td><td>NULL</td><td>10</td><td>Attached Garage</td><td>980</td><td>1858</td><td>Main</td><td>16 x 13</td><td>1858.0</td><td>2017</td><td>980</td><td>NULL</td><td>1950</td><td>Residential-Single</td><td>(SF) One Story</td><td>1.28</td><td>Central</td><td>Range, Dishwasher...</td><td>NULL</td><td>NULL</td><td>NULL</td><td>Vinyl</td><td>NULL</td><td>Main</td><td>9 x  7</td><td>Eat In Kitchen</td><td>Full</td><td>1</td><td>1</td><td>0</td><td>0</td><td>SF</td><td>2</td><td>Main Floor 3/4 Ba...</td><td>13 x 11</td><td>Main</td><td>10 x 10</td><td>Main</td><td>NULL</td><td>NULL</td><td>NULL</td><td>NULL</td><td>3</td><td>0</td><td>NULL</td><td>0</td><td>Unknown</td><td>0.0</td><td>11.870599909242044</td></tr>\n",
       "<tr><td>2</td><td>RMLS</td><td>11200</td><td>11200 31st St N</td><td>31st</td><td>55042</td><td>MN</td><td>LELM - Lake Elmo</td><td>190000</td><td>10/9/2017 0:00</td><td>210000</td><td>Exclusive Right</td><td>210000</td><td>85.2783</td><td>1144</td><td>NULL</td><td>C1</td><td>100x140</td><td>834 - Stillwater</td><td>4</td><td>2017-10-13 00:00:00</td><td>0</td><td>11x11</td><td>Living Room, Dini...</td><td>Asphalt Shingles,...</td><td>Main</td><td>No</td><td>NULL</td><td>4</td><td>Attached Garage, ...</td><td>1268</td><td>1640</td><td>Main</td><td>22x14</td><td>1640.0</td><td>2017</td><td>2228</td><td>NULL</td><td>1971</td><td>Residential-Single</td><td>(SF) Split Entry ...</td><td>0.32</td><td>Central</td><td>Range, Microwave,...</td><td>NULL</td><td>Lower Level</td><td>22x14</td><td>Vinyl</td><td>Lower</td><td>Main</td><td>11x12</td><td>Informal Dining R...</td><td>Full, Partial Fin...</td><td>1</td><td>0</td><td>0</td><td>2</td><td>SF</td><td>3</td><td>Main Floor Full B...</td><td>15x11</td><td>Main</td><td>14x11</td><td>Main</td><td>10x11</td><td>Main</td><td>11x11</td><td>Lower</td><td>4</td><td>960</td><td>NULL</td><td>0</td><td>Unknown</td><td>0.0</td><td>12.154779351142624</td></tr>\n",
       "</table>\n"
      ],
      "text/plain": [
       "+---+-----+-------------------+--------------------+----------+----------+---------------+----------------+---------------+--------------+---------+---------------+-----------------+------------+--------------+-----+---------+-----------------+--------------------+------------+-------------------+----------+---------+--------------------+--------------------+----------+------------------+---------------+----+--------------------+---------------+-----+----------+---------+------------------+-------+----------+----------+---------+------------------+--------------------+-----+------------------+--------------------+----------------+--------------+---------+--------+----------+----------+---------+---------------------+--------------------+---------+---------+-----------+-----------------+-----+----------+--------------------+---------+----------+---------+----------+---------+----------+---------+----------+--------+---------------+-----------------+--------------+-----------------+-----------------+-------------------+\n",
       "|No.|MLSID|StreetNumberNumeric|       streetaddress|STREETNAME|PostalCode|StateOrProvince|            City|SalesClosePrice|      LISTDATE|LISTPRICE|       LISTTYPE|OriginalListPrice|PricePerTSFT|FOUNDATIONSIZE|FENCE|MapLetter|LotSizeDimensions|SchoolDistrictNumber|DAYSONMARKET|      offmarketdate|Fireplaces|RoomArea4|            roomtype|                ROOF|RoomFloor4|PotentialShortSale|PoolDescription|PDOM|   GarageDescription|SQFTABOVEGROUND|Taxes|RoomFloor1|RoomArea1|TAXWITHASSESSMENTS|TAXYEAR|LivingArea|UNITNUMBER|YEARBUILT|            ZONING|               STYLE|ACRES|CoolingDescription|          APPLIANCES|backonmarketdate|ROOMFAMILYCHAR|RoomArea3|EXTERIOR|RoomFloor3|RoomFloor2|RoomArea2|DiningRoomDescription|            BASEMENT|BathsFull|BathsHalf|BATHQUARTER|BATHSTHREEQUARTER|Class|BATHSTOTAL|            BATHDESC|RoomArea5|RoomFloor5|RoomArea6|RoomFloor6|RoomArea7|RoomFloor7|RoomArea8|RoomFloor8|Bedrooms|SQFTBELOWGROUND|AssumableMortgage|AssociationFee|ASSESSMENTPENDING|AssessedValuation|log_SalesClosePrice|\n",
       "+---+-----+-------------------+--------------------+----------+----------+---------------+----------------+---------------+--------------+---------+---------------+-----------------+------------+--------------+-----+---------+-----------------+--------------------+------------+-------------------+----------+---------+--------------------+--------------------+----------+------------------+---------------+----+--------------------+---------------+-----+----------+---------+------------------+-------+----------+----------+---------+------------------+--------------------+-----+------------------+--------------------+----------------+--------------+---------+--------+----------+----------+---------+---------------------+--------------------+---------+---------+-----------+-----------------+-----+----------+--------------------+---------+----------+---------+----------+---------+----------+---------+----------+--------+---------------+-----------------+--------------+-----------------+-----------------+-------------------+\n",
       "|  1| RMLS|              11511|11511 Stillwater ...|Stillwater|     55042|             MN|LELM - Lake Elmo|         143000|7/15/2017 0:00|   139900|Exclusive Right|           139900|    145.9184|           980|Other|       C4|          279X200|    834 - Stillwater|          10|2017-07-30 00:00:00|         0|  12 x  9|Living Room, Dini...|                NULL|      Main|                No|           NULL|  10|     Attached Garage|            980| 1858|      Main|  16 x 13|            1858.0|   2017|       980|      NULL|     1950|Residential-Single|      (SF) One Story| 1.28|           Central|Range, Dishwasher...|            NULL|          NULL|     NULL|   Vinyl|      NULL|      Main|   9 x  7|       Eat In Kitchen|                Full|        1|        1|          0|                0|   SF|         2|Main Floor 3/4 Ba...|  13 x 11|      Main|  10 x 10|      Main|     NULL|      NULL|     NULL|      NULL|       3|              0|             NULL|             0|          Unknown|              0.0| 11.870599909242044|\n",
       "|  2| RMLS|              11200|     11200 31st St N|      31st|     55042|             MN|LELM - Lake Elmo|         190000|10/9/2017 0:00|   210000|Exclusive Right|           210000|     85.2783|          1144| NULL|       C1|          100x140|    834 - Stillwater|           4|2017-10-13 00:00:00|         0|    11x11|Living Room, Dini...|Asphalt Shingles,...|      Main|                No|           NULL|   4|Attached Garage, ...|           1268| 1640|      Main|    22x14|            1640.0|   2017|      2228|      NULL|     1971|Residential-Single|(SF) Split Entry ...| 0.32|           Central|Range, Microwave,...|            NULL|   Lower Level|    22x14|   Vinyl|     Lower|      Main|    11x12| Informal Dining R...|Full, Partial Fin...|        1|        0|          0|                2|   SF|         3|Main Floor Full B...|    15x11|      Main|    14x11|      Main|    10x11|      Main|    11x11|     Lower|       4|            960|             NULL|             0|          Unknown|              0.0| 12.154779351142624|\n",
       "+---+-----+-------------------+--------------------+----------+----------+---------------+----------------+---------------+--------------+---------+---------------+-----------------+------------+--------------+-----+---------+-----------------+--------------------+------------+-------------------+----------+---------+--------------------+--------------------+----------+------------------+---------------+----+--------------------+---------------+-----+----------+---------+------------------+-------+----------+----------+---------+------------------+--------------------+-----+------------------+--------------------+----------------+--------------+---------+--------+----------+----------+---------+---------------------+--------------------+---------+---------+-----------+-----------------+-----+----------+--------------------+---------+----------+---------+----------+---------+----------+---------+----------+--------+---------------+-----------------+--------------+-----------------+-----------------+-------------------+"
      ]
     },
     "execution_count": 21,
     "metadata": {},
     "output_type": "execute_result"
    }
   ],
   "source": [
    "# Initializing the data\n",
    "df = real_state.select('*')\n",
    "df = df.withColumn('log_SalesClosePrice', F.log('SalesClosePrice'))\n",
    "    \n",
    "print('Dataframe shape:', (df.count(), len(df.columns)))\n",
    "df.limit(2)"
   ]
  },
  {
   "cell_type": "code",
   "execution_count": 22,
   "id": "40920957-4485-48e9-a0a1-fee6fd3103ff",
   "metadata": {},
   "outputs": [
    {
     "name": "stdout",
     "output_type": "stream",
     "text": [
      "+---------------+-------------------+\n",
      "|SalesClosePrice|log_SalesClosePrice|\n",
      "+---------------+-------------------+\n",
      "|         143000| 11.870599909242044|\n",
      "|         190000| 12.154779351142624|\n",
      "|         225000| 12.323855681186558|\n",
      "|         265000| 12.487485104968359|\n",
      "|         249900| 12.428816116823043|\n",
      "+---------------+-------------------+\n",
      "only showing top 5 rows\n",
      "\n"
     ]
    }
   ],
   "source": [
    "df.select('SalesClosePrice', 'log_SalesClosePrice').show(5)"
   ]
  },
  {
   "cell_type": "code",
   "execution_count": 23,
   "id": "77f02d07-f954-466b-95cf-1bc9449a787d",
   "metadata": {},
   "outputs": [
    {
     "name": "stdout",
     "output_type": "stream",
     "text": [
      "Dataframe shape: (4968, 75)\n"
     ]
    },
    {
     "data": {
      "text/html": [
       "<table border='1'>\n",
       "<tr><th>No.</th><th>MLSID</th><th>StreetNumberNumeric</th><th>streetaddress</th><th>STREETNAME</th><th>PostalCode</th><th>StateOrProvince</th><th>City</th><th>SalesClosePrice</th><th>LISTDATE</th><th>LISTPRICE</th><th>LISTTYPE</th><th>OriginalListPrice</th><th>PricePerTSFT</th><th>FOUNDATIONSIZE</th><th>FENCE</th><th>MapLetter</th><th>LotSizeDimensions</th><th>SchoolDistrictNumber</th><th>DAYSONMARKET</th><th>offmarketdate</th><th>Fireplaces</th><th>RoomArea4</th><th>roomtype</th><th>ROOF</th><th>RoomFloor4</th><th>PotentialShortSale</th><th>PoolDescription</th><th>PDOM</th><th>GarageDescription</th><th>SQFTABOVEGROUND</th><th>Taxes</th><th>RoomFloor1</th><th>RoomArea1</th><th>TAXWITHASSESSMENTS</th><th>TAXYEAR</th><th>LivingArea</th><th>UNITNUMBER</th><th>YEARBUILT</th><th>ZONING</th><th>STYLE</th><th>ACRES</th><th>CoolingDescription</th><th>APPLIANCES</th><th>backonmarketdate</th><th>ROOMFAMILYCHAR</th><th>RoomArea3</th><th>EXTERIOR</th><th>RoomFloor3</th><th>RoomFloor2</th><th>RoomArea2</th><th>DiningRoomDescription</th><th>BASEMENT</th><th>BathsFull</th><th>BathsHalf</th><th>BATHQUARTER</th><th>BATHSTHREEQUARTER</th><th>Class</th><th>BATHSTOTAL</th><th>BATHDESC</th><th>RoomArea5</th><th>RoomFloor5</th><th>RoomArea6</th><th>RoomFloor6</th><th>RoomArea7</th><th>RoomFloor7</th><th>RoomArea8</th><th>RoomFloor8</th><th>Bedrooms</th><th>SQFTBELOWGROUND</th><th>AssumableMortgage</th><th>AssociationFee</th><th>ASSESSMENTPENDING</th><th>AssessedValuation</th><th>log_SalesClosePrice</th></tr>\n",
       "<tr><td>1</td><td>RMLS</td><td>11511</td><td>11511 Stillwater ...</td><td>Stillwater</td><td>55042</td><td>MN</td><td>LELM - Lake Elmo</td><td>143000</td><td>7/15/2017 0:00</td><td>139900</td><td>Exclusive Right</td><td>139900</td><td>145.9184</td><td>980</td><td>Other</td><td>C4</td><td>279X200</td><td>834 - Stillwater</td><td>10</td><td>2017-07-30 00:00:00</td><td>0</td><td>12 x  9</td><td>Living Room, Dini...</td><td>NULL</td><td>Main</td><td>No</td><td>NULL</td><td>10</td><td>Attached Garage</td><td>980</td><td>1858</td><td>Main</td><td>16 x 13</td><td>1858.0</td><td>2017</td><td>980</td><td>NULL</td><td>1950</td><td>Residential-Single</td><td>(SF) One Story</td><td>1.28</td><td>Central</td><td>Range, Dishwasher...</td><td>NULL</td><td>NULL</td><td>NULL</td><td>Vinyl</td><td>NULL</td><td>Main</td><td>9 x  7</td><td>Eat In Kitchen</td><td>Full</td><td>1</td><td>1</td><td>0</td><td>0</td><td>SF</td><td>2</td><td>Main Floor 3/4 Ba...</td><td>13 x 11</td><td>Main</td><td>10 x 10</td><td>Main</td><td>NULL</td><td>NULL</td><td>NULL</td><td>NULL</td><td>3</td><td>0</td><td>NULL</td><td>0</td><td>Unknown</td><td>0.0</td><td>11.870599909242044</td></tr>\n",
       "<tr><td>2</td><td>RMLS</td><td>11200</td><td>11200 31st St N</td><td>31st</td><td>55042</td><td>MN</td><td>LELM - Lake Elmo</td><td>190000</td><td>10/9/2017 0:00</td><td>210000</td><td>Exclusive Right</td><td>210000</td><td>85.2783</td><td>1144</td><td>NULL</td><td>C1</td><td>100x140</td><td>834 - Stillwater</td><td>4</td><td>2017-10-13 00:00:00</td><td>0</td><td>11x11</td><td>Living Room, Dini...</td><td>Asphalt Shingles,...</td><td>Main</td><td>No</td><td>NULL</td><td>4</td><td>Attached Garage, ...</td><td>1268</td><td>1640</td><td>Main</td><td>22x14</td><td>1640.0</td><td>2017</td><td>2228</td><td>NULL</td><td>1971</td><td>Residential-Single</td><td>(SF) Split Entry ...</td><td>0.32</td><td>Central</td><td>Range, Microwave,...</td><td>NULL</td><td>Lower Level</td><td>22x14</td><td>Vinyl</td><td>Lower</td><td>Main</td><td>11x12</td><td>Informal Dining R...</td><td>Full, Partial Fin...</td><td>1</td><td>0</td><td>0</td><td>2</td><td>SF</td><td>3</td><td>Main Floor Full B...</td><td>15x11</td><td>Main</td><td>14x11</td><td>Main</td><td>10x11</td><td>Main</td><td>11x11</td><td>Lower</td><td>4</td><td>960</td><td>NULL</td><td>0</td><td>Unknown</td><td>0.0</td><td>12.154779351142624</td></tr>\n",
       "</table>\n"
      ],
      "text/plain": [
       "+---+-----+-------------------+--------------------+----------+----------+---------------+----------------+---------------+--------------+---------+---------------+-----------------+------------+--------------+-----+---------+-----------------+--------------------+------------+-------------------+----------+---------+--------------------+--------------------+----------+------------------+---------------+----+--------------------+---------------+-----+----------+---------+------------------+-------+----------+----------+---------+------------------+--------------------+-----+------------------+--------------------+----------------+--------------+---------+--------+----------+----------+---------+---------------------+--------------------+---------+---------+-----------+-----------------+-----+----------+--------------------+---------+----------+---------+----------+---------+----------+---------+----------+--------+---------------+-----------------+--------------+-----------------+-----------------+-------------------+\n",
       "|No.|MLSID|StreetNumberNumeric|       streetaddress|STREETNAME|PostalCode|StateOrProvince|            City|SalesClosePrice|      LISTDATE|LISTPRICE|       LISTTYPE|OriginalListPrice|PricePerTSFT|FOUNDATIONSIZE|FENCE|MapLetter|LotSizeDimensions|SchoolDistrictNumber|DAYSONMARKET|      offmarketdate|Fireplaces|RoomArea4|            roomtype|                ROOF|RoomFloor4|PotentialShortSale|PoolDescription|PDOM|   GarageDescription|SQFTABOVEGROUND|Taxes|RoomFloor1|RoomArea1|TAXWITHASSESSMENTS|TAXYEAR|LivingArea|UNITNUMBER|YEARBUILT|            ZONING|               STYLE|ACRES|CoolingDescription|          APPLIANCES|backonmarketdate|ROOMFAMILYCHAR|RoomArea3|EXTERIOR|RoomFloor3|RoomFloor2|RoomArea2|DiningRoomDescription|            BASEMENT|BathsFull|BathsHalf|BATHQUARTER|BATHSTHREEQUARTER|Class|BATHSTOTAL|            BATHDESC|RoomArea5|RoomFloor5|RoomArea6|RoomFloor6|RoomArea7|RoomFloor7|RoomArea8|RoomFloor8|Bedrooms|SQFTBELOWGROUND|AssumableMortgage|AssociationFee|ASSESSMENTPENDING|AssessedValuation|log_SalesClosePrice|\n",
       "+---+-----+-------------------+--------------------+----------+----------+---------------+----------------+---------------+--------------+---------+---------------+-----------------+------------+--------------+-----+---------+-----------------+--------------------+------------+-------------------+----------+---------+--------------------+--------------------+----------+------------------+---------------+----+--------------------+---------------+-----+----------+---------+------------------+-------+----------+----------+---------+------------------+--------------------+-----+------------------+--------------------+----------------+--------------+---------+--------+----------+----------+---------+---------------------+--------------------+---------+---------+-----------+-----------------+-----+----------+--------------------+---------+----------+---------+----------+---------+----------+---------+----------+--------+---------------+-----------------+--------------+-----------------+-----------------+-------------------+\n",
       "|  1| RMLS|              11511|11511 Stillwater ...|Stillwater|     55042|             MN|LELM - Lake Elmo|         143000|7/15/2017 0:00|   139900|Exclusive Right|           139900|    145.9184|           980|Other|       C4|          279X200|    834 - Stillwater|          10|2017-07-30 00:00:00|         0|  12 x  9|Living Room, Dini...|                NULL|      Main|                No|           NULL|  10|     Attached Garage|            980| 1858|      Main|  16 x 13|            1858.0|   2017|       980|      NULL|     1950|Residential-Single|      (SF) One Story| 1.28|           Central|Range, Dishwasher...|            NULL|          NULL|     NULL|   Vinyl|      NULL|      Main|   9 x  7|       Eat In Kitchen|                Full|        1|        1|          0|                0|   SF|         2|Main Floor 3/4 Ba...|  13 x 11|      Main|  10 x 10|      Main|     NULL|      NULL|     NULL|      NULL|       3|              0|             NULL|             0|          Unknown|              0.0| 11.870599909242044|\n",
       "|  2| RMLS|              11200|     11200 31st St N|      31st|     55042|             MN|LELM - Lake Elmo|         190000|10/9/2017 0:00|   210000|Exclusive Right|           210000|     85.2783|          1144| NULL|       C1|          100x140|    834 - Stillwater|           4|2017-10-13 00:00:00|         0|    11x11|Living Room, Dini...|Asphalt Shingles,...|      Main|                No|           NULL|   4|Attached Garage, ...|           1268| 1640|      Main|    22x14|            1640.0|   2017|      2228|      NULL|     1971|Residential-Single|(SF) Split Entry ...| 0.32|           Central|Range, Microwave,...|            NULL|   Lower Level|    22x14|   Vinyl|     Lower|      Main|    11x12| Informal Dining R...|Full, Partial Fin...|        1|        0|          0|                2|   SF|         3|Main Floor Full B...|    15x11|      Main|    14x11|      Main|    10x11|      Main|    11x11|     Lower|       4|            960|             NULL|             0|          Unknown|              0.0| 12.154779351142624|\n",
       "+---+-----+-------------------+--------------------+----------+----------+---------------+----------------+---------------+--------------+---------+---------------+-----------------+------------+--------------+-----+---------+-----------------+--------------------+------------+-------------------+----------+---------+--------------------+--------------------+----------+------------------+---------------+----+--------------------+---------------+-----+----------+---------+------------------+-------+----------+----------+---------+------------------+--------------------+-----+------------------+--------------------+----------------+--------------+---------+--------+----------+----------+---------+---------------------+--------------------+---------+---------+-----------+-----------------+-----+----------+--------------------+---------+----------+---------+----------+---------+----------+---------+----------+--------+---------------+-----------------+--------------+-----------------+-----------------+-------------------+"
      ]
     },
     "execution_count": 23,
     "metadata": {},
     "output_type": "execute_result"
    }
   ],
   "source": [
    "# Calculate values used for outlier filtering\n",
    "mean_val = df.agg(F.mean('log_SalesClosePrice')).collect()[0][0]\n",
    "stddev_val = df.agg(F.stddev('log_SalesClosePrice')).collect()[0][0]\n",
    "\n",
    "# Create three standard deviation (μ ± 3σ) lower and upper bounds for data\n",
    "low_bound = mean_val - (3 * stddev_val)\n",
    "hi_bound = mean_val + (3 * stddev_val)\n",
    "\n",
    "# Filter the data to fit between the lower and upper bounds\n",
    "df = df.where((df['log_SalesClosePrice'] < hi_bound) & (df['log_SalesClosePrice'] > low_bound))\n",
    "\n",
    "print('Dataframe shape:', (df.count(), len(df.columns)))\n",
    "df.limit(2)"
   ]
  },
  {
   "cell_type": "markdown",
   "id": "301ddfd2-3daa-48de-84b6-914273814518",
   "metadata": {},
   "source": [
    "## Adjusting Data\n",
    "\n",
    "### Minmax Scaling"
   ]
  },
  {
   "cell_type": "code",
   "execution_count": 24,
   "id": "a95a529e-ba7e-43cc-b491-76809b47f50f",
   "metadata": {},
   "outputs": [
    {
     "name": "stdout",
     "output_type": "stream",
     "text": [
      "Dataframe shape: (5000, 74)\n"
     ]
    },
    {
     "data": {
      "text/html": [
       "<table border='1'>\n",
       "<tr><th>No.</th><th>MLSID</th><th>StreetNumberNumeric</th><th>streetaddress</th><th>STREETNAME</th><th>PostalCode</th><th>StateOrProvince</th><th>City</th><th>SalesClosePrice</th><th>LISTDATE</th><th>LISTPRICE</th><th>LISTTYPE</th><th>OriginalListPrice</th><th>PricePerTSFT</th><th>FOUNDATIONSIZE</th><th>FENCE</th><th>MapLetter</th><th>LotSizeDimensions</th><th>SchoolDistrictNumber</th><th>DAYSONMARKET</th><th>offmarketdate</th><th>Fireplaces</th><th>RoomArea4</th><th>roomtype</th><th>ROOF</th><th>RoomFloor4</th><th>PotentialShortSale</th><th>PoolDescription</th><th>PDOM</th><th>GarageDescription</th><th>SQFTABOVEGROUND</th><th>Taxes</th><th>RoomFloor1</th><th>RoomArea1</th><th>TAXWITHASSESSMENTS</th><th>TAXYEAR</th><th>LivingArea</th><th>UNITNUMBER</th><th>YEARBUILT</th><th>ZONING</th><th>STYLE</th><th>ACRES</th><th>CoolingDescription</th><th>APPLIANCES</th><th>backonmarketdate</th><th>ROOMFAMILYCHAR</th><th>RoomArea3</th><th>EXTERIOR</th><th>RoomFloor3</th><th>RoomFloor2</th><th>RoomArea2</th><th>DiningRoomDescription</th><th>BASEMENT</th><th>BathsFull</th><th>BathsHalf</th><th>BATHQUARTER</th><th>BATHSTHREEQUARTER</th><th>Class</th><th>BATHSTOTAL</th><th>BATHDESC</th><th>RoomArea5</th><th>RoomFloor5</th><th>RoomArea6</th><th>RoomFloor6</th><th>RoomArea7</th><th>RoomFloor7</th><th>RoomArea8</th><th>RoomFloor8</th><th>Bedrooms</th><th>SQFTBELOWGROUND</th><th>AssumableMortgage</th><th>AssociationFee</th><th>ASSESSMENTPENDING</th><th>AssessedValuation</th></tr>\n",
       "<tr><td>1</td><td>RMLS</td><td>11511</td><td>11511 Stillwater ...</td><td>Stillwater</td><td>55042</td><td>MN</td><td>LELM - Lake Elmo</td><td>143000</td><td>7/15/2017 0:00</td><td>139900</td><td>Exclusive Right</td><td>139900</td><td>145.9184</td><td>980</td><td>Other</td><td>C4</td><td>279X200</td><td>834 - Stillwater</td><td>10</td><td>2017-07-30 00:00:00</td><td>0</td><td>12 x  9</td><td>Living Room, Dini...</td><td>NULL</td><td>Main</td><td>No</td><td>NULL</td><td>10</td><td>Attached Garage</td><td>980</td><td>1858</td><td>Main</td><td>16 x 13</td><td>1858.0</td><td>2017</td><td>980</td><td>NULL</td><td>1950</td><td>Residential-Single</td><td>(SF) One Story</td><td>1.28</td><td>Central</td><td>Range, Dishwasher...</td><td>NULL</td><td>NULL</td><td>NULL</td><td>Vinyl</td><td>NULL</td><td>Main</td><td>9 x  7</td><td>Eat In Kitchen</td><td>Full</td><td>1</td><td>1</td><td>0</td><td>0</td><td>SF</td><td>2</td><td>Main Floor 3/4 Ba...</td><td>13 x 11</td><td>Main</td><td>10 x 10</td><td>Main</td><td>NULL</td><td>NULL</td><td>NULL</td><td>NULL</td><td>3</td><td>0</td><td>NULL</td><td>0</td><td>Unknown</td><td>0.0</td></tr>\n",
       "<tr><td>2</td><td>RMLS</td><td>11200</td><td>11200 31st St N</td><td>31st</td><td>55042</td><td>MN</td><td>LELM - Lake Elmo</td><td>190000</td><td>10/9/2017 0:00</td><td>210000</td><td>Exclusive Right</td><td>210000</td><td>85.2783</td><td>1144</td><td>NULL</td><td>C1</td><td>100x140</td><td>834 - Stillwater</td><td>4</td><td>2017-10-13 00:00:00</td><td>0</td><td>11x11</td><td>Living Room, Dini...</td><td>Asphalt Shingles,...</td><td>Main</td><td>No</td><td>NULL</td><td>4</td><td>Attached Garage, ...</td><td>1268</td><td>1640</td><td>Main</td><td>22x14</td><td>1640.0</td><td>2017</td><td>2228</td><td>NULL</td><td>1971</td><td>Residential-Single</td><td>(SF) Split Entry ...</td><td>0.32</td><td>Central</td><td>Range, Microwave,...</td><td>NULL</td><td>Lower Level</td><td>22x14</td><td>Vinyl</td><td>Lower</td><td>Main</td><td>11x12</td><td>Informal Dining R...</td><td>Full, Partial Fin...</td><td>1</td><td>0</td><td>0</td><td>2</td><td>SF</td><td>3</td><td>Main Floor Full B...</td><td>15x11</td><td>Main</td><td>14x11</td><td>Main</td><td>10x11</td><td>Main</td><td>11x11</td><td>Lower</td><td>4</td><td>960</td><td>NULL</td><td>0</td><td>Unknown</td><td>0.0</td></tr>\n",
       "</table>\n"
      ],
      "text/plain": [
       "+---+-----+-------------------+--------------------+----------+----------+---------------+----------------+---------------+--------------+---------+---------------+-----------------+------------+--------------+-----+---------+-----------------+--------------------+------------+-------------------+----------+---------+--------------------+--------------------+----------+------------------+---------------+----+--------------------+---------------+-----+----------+---------+------------------+-------+----------+----------+---------+------------------+--------------------+-----+------------------+--------------------+----------------+--------------+---------+--------+----------+----------+---------+---------------------+--------------------+---------+---------+-----------+-----------------+-----+----------+--------------------+---------+----------+---------+----------+---------+----------+---------+----------+--------+---------------+-----------------+--------------+-----------------+-----------------+\n",
       "|No.|MLSID|StreetNumberNumeric|       streetaddress|STREETNAME|PostalCode|StateOrProvince|            City|SalesClosePrice|      LISTDATE|LISTPRICE|       LISTTYPE|OriginalListPrice|PricePerTSFT|FOUNDATIONSIZE|FENCE|MapLetter|LotSizeDimensions|SchoolDistrictNumber|DAYSONMARKET|      offmarketdate|Fireplaces|RoomArea4|            roomtype|                ROOF|RoomFloor4|PotentialShortSale|PoolDescription|PDOM|   GarageDescription|SQFTABOVEGROUND|Taxes|RoomFloor1|RoomArea1|TAXWITHASSESSMENTS|TAXYEAR|LivingArea|UNITNUMBER|YEARBUILT|            ZONING|               STYLE|ACRES|CoolingDescription|          APPLIANCES|backonmarketdate|ROOMFAMILYCHAR|RoomArea3|EXTERIOR|RoomFloor3|RoomFloor2|RoomArea2|DiningRoomDescription|            BASEMENT|BathsFull|BathsHalf|BATHQUARTER|BATHSTHREEQUARTER|Class|BATHSTOTAL|            BATHDESC|RoomArea5|RoomFloor5|RoomArea6|RoomFloor6|RoomArea7|RoomFloor7|RoomArea8|RoomFloor8|Bedrooms|SQFTBELOWGROUND|AssumableMortgage|AssociationFee|ASSESSMENTPENDING|AssessedValuation|\n",
       "+---+-----+-------------------+--------------------+----------+----------+---------------+----------------+---------------+--------------+---------+---------------+-----------------+------------+--------------+-----+---------+-----------------+--------------------+------------+-------------------+----------+---------+--------------------+--------------------+----------+------------------+---------------+----+--------------------+---------------+-----+----------+---------+------------------+-------+----------+----------+---------+------------------+--------------------+-----+------------------+--------------------+----------------+--------------+---------+--------+----------+----------+---------+---------------------+--------------------+---------+---------+-----------+-----------------+-----+----------+--------------------+---------+----------+---------+----------+---------+----------+---------+----------+--------+---------------+-----------------+--------------+-----------------+-----------------+\n",
       "|  1| RMLS|              11511|11511 Stillwater ...|Stillwater|     55042|             MN|LELM - Lake Elmo|         143000|7/15/2017 0:00|   139900|Exclusive Right|           139900|    145.9184|           980|Other|       C4|          279X200|    834 - Stillwater|          10|2017-07-30 00:00:00|         0|  12 x  9|Living Room, Dini...|                NULL|      Main|                No|           NULL|  10|     Attached Garage|            980| 1858|      Main|  16 x 13|            1858.0|   2017|       980|      NULL|     1950|Residential-Single|      (SF) One Story| 1.28|           Central|Range, Dishwasher...|            NULL|          NULL|     NULL|   Vinyl|      NULL|      Main|   9 x  7|       Eat In Kitchen|                Full|        1|        1|          0|                0|   SF|         2|Main Floor 3/4 Ba...|  13 x 11|      Main|  10 x 10|      Main|     NULL|      NULL|     NULL|      NULL|       3|              0|             NULL|             0|          Unknown|              0.0|\n",
       "|  2| RMLS|              11200|     11200 31st St N|      31st|     55042|             MN|LELM - Lake Elmo|         190000|10/9/2017 0:00|   210000|Exclusive Right|           210000|     85.2783|          1144| NULL|       C1|          100x140|    834 - Stillwater|           4|2017-10-13 00:00:00|         0|    11x11|Living Room, Dini...|Asphalt Shingles,...|      Main|                No|           NULL|   4|Attached Garage, ...|           1268| 1640|      Main|    22x14|            1640.0|   2017|      2228|      NULL|     1971|Residential-Single|(SF) Split Entry ...| 0.32|           Central|Range, Microwave,...|            NULL|   Lower Level|    22x14|   Vinyl|     Lower|      Main|    11x12| Informal Dining R...|Full, Partial Fin...|        1|        0|          0|                2|   SF|         3|Main Floor Full B...|    15x11|      Main|    14x11|      Main|    10x11|      Main|    11x11|     Lower|       4|            960|             NULL|             0|          Unknown|              0.0|\n",
       "+---+-----+-------------------+--------------------+----------+----------+---------------+----------------+---------------+--------------+---------+---------------+-----------------+------------+--------------+-----+---------+-----------------+--------------------+------------+-------------------+----------+---------+--------------------+--------------------+----------+------------------+---------------+----+--------------------+---------------+-----+----------+---------+------------------+-------+----------+----------+---------+------------------+--------------------+-----+------------------+--------------------+----------------+--------------+---------+--------+----------+----------+---------+---------------------+--------------------+---------+---------+-----------+-----------------+-----+----------+--------------------+---------+----------+---------+----------+---------+----------+---------+----------+--------+---------------+-----------------+--------------+-----------------+-----------------+"
      ]
     },
     "execution_count": 24,
     "metadata": {},
     "output_type": "execute_result"
    }
   ],
   "source": [
    "# Initializing the data\n",
    "df = real_state.select('*')    \n",
    "print('Dataframe shape:', (df.count(), len(df.columns)))\n",
    "df.limit(2)"
   ]
  },
  {
   "cell_type": "code",
   "execution_count": 25,
   "id": "feb1a874-9ea5-43ac-bf38-364f76d0f5c2",
   "metadata": {},
   "outputs": [
    {
     "name": "stdout",
     "output_type": "stream",
     "text": [
      "+------------+--------------------+\n",
      "|DAYSONMARKET|         scaled_days|\n",
      "+------------+--------------------+\n",
      "|          10|0.044444444444444446|\n",
      "|           4|0.017777777777777778|\n",
      "|          28| 0.12444444444444444|\n",
      "|          19| 0.08444444444444445|\n",
      "|          21| 0.09333333333333334|\n",
      "+------------+--------------------+\n",
      "only showing top 5 rows\n",
      "\n"
     ]
    }
   ],
   "source": [
    "# define min and max values and collect them\n",
    "max_days = df.agg(F.max('DAYSONMARKET')).collect()[0][0]\n",
    "min_days = df.agg(F.min('DAYSONMARKET')).collect()[0][0]\n",
    "\n",
    "# create a new column based off the scaled data\n",
    "df = df.withColumn(\"scaled_days\", (df['DAYSONMARKET'] - min_days) / (max_days - min_days))\n",
    "df[['DAYSONMARKET', 'scaled_days']].show(5)"
   ]
  },
  {
   "cell_type": "markdown",
   "id": "85c6b97d-6452-47d8-8209-604eb2245049",
   "metadata": {},
   "source": [
    "### Standardization"
   ]
  },
  {
   "cell_type": "code",
   "execution_count": 26,
   "id": "84a40057-15d9-4516-9eba-ef65889943bd",
   "metadata": {},
   "outputs": [
    {
     "name": "stdout",
     "output_type": "stream",
     "text": [
      "+------------+--------------------+\n",
      "|DAYSONMARKET|         ztrans_days|\n",
      "+------------+--------------------+\n",
      "|          10| -0.6394716073380993|\n",
      "|           4| -0.8484674699420623|\n",
      "|          28|-0.01248401952621...|\n",
      "|          19|-0.32597781343215465|\n",
      "|          21| -0.2563125258975003|\n",
      "+------------+--------------------+\n",
      "only showing top 5 rows\n",
      "\n"
     ]
    }
   ],
   "source": [
    "mean_days = df.agg(F.mean('DAYSONMARKET')).collect()[0][0]\n",
    "stddev_days = df.agg(F.stddev('DAYSONMARKET')).collect()[0][0]\n",
    "\n",
    "# Create a new column with the scaled data\n",
    "df = df.withColumn(\"ztrans_days\", (df['DAYSONMARKET'] - mean_days) / stddev_days)\n",
    "df[['DAYSONMARKET', 'ztrans_days']].show(5)"
   ]
  },
  {
   "cell_type": "code",
   "execution_count": 27,
   "id": "3f61fd7e-3f93-4171-bc29-32a682292135",
   "metadata": {},
   "outputs": [
    {
     "name": "stdout",
     "output_type": "stream",
     "text": [
      "\n",
      "Mean before transformation: 28.3584\n",
      "Mean after transformation : -0.0000\n",
      "\n",
      "Std. before transformation: 28.7087\n",
      "Std. after transformation : 1.0000\n",
      "\n"
     ]
    }
   ],
   "source": [
    "print(f'''\n",
    "Mean before transformation: {mean_days:0.4f}\n",
    "Mean after transformation : {df.agg(F.mean('ztrans_days')).collect()[0][0]:0.4f}\n",
    "\n",
    "Std. before transformation: {stddev_days:0.4f}\n",
    "Std. after transformation : {df.agg(F.stddev('ztrans_days')).collect()[0][0]:0.4f}\n",
    "''')"
   ]
  },
  {
   "cell_type": "markdown",
   "id": "62a00626-5704-494c-8a5a-80f2faae8e18",
   "metadata": {},
   "source": [
    "### Log Scaling"
   ]
  },
  {
   "cell_type": "code",
   "execution_count": 28,
   "id": "bb724172-3735-4322-8e78-cb5421392457",
   "metadata": {},
   "outputs": [
    {
     "data": {
      "image/png": "[encoded data removed]",
      "text/plain": [
       "<Figure size 600x300 with 2 Axes>"
      ]
     },
     "metadata": {},
     "output_type": "display_data"
    }
   ],
   "source": [
    "# Using our library\n",
    "column_name = 'SalesClosePrice'\n",
    "histogram_boxplot(df.select(column_name).toPandas()[column_name])"
   ]
  },
  {
   "cell_type": "code",
   "execution_count": 29,
   "id": "12e3765b-0552-4a3f-acec-5f7cef76e366",
   "metadata": {},
   "outputs": [
    {
     "name": "stdout",
     "output_type": "stream",
     "text": [
      "+---------------+-------------------+\n",
      "|SalesClosePrice|log_SalesClosePrice|\n",
      "+---------------+-------------------+\n",
      "|         143000| 11.870599909242044|\n",
      "|         190000| 12.154779351142624|\n",
      "|         225000| 12.323855681186558|\n",
      "|         265000| 12.487485104968359|\n",
      "|         249900| 12.428816116823043|\n",
      "+---------------+-------------------+\n",
      "only showing top 5 rows\n",
      "\n"
     ]
    }
   ],
   "source": [
    "# Recalculate log of SALESCLOSEPRICE\n",
    "df = df.withColumn('log_SalesClosePrice', F.log('SalesClosePrice'))\n",
    "df[['SalesClosePrice', 'log_SalesClosePrice']].show(5)"
   ]
  },
  {
   "cell_type": "code",
   "execution_count": 30,
   "id": "fc844478-10d7-4604-af4e-b26532852bf7",
   "metadata": {},
   "outputs": [
    {
     "data": {
      "image/png": "[encoded data removed]",
      "text/plain": [
       "<Figure size 600x300 with 2 Axes>"
      ]
     },
     "metadata": {},
     "output_type": "display_data"
    }
   ],
   "source": [
    "# Using our library\n",
    "column_name = 'log_SalesClosePrice'\n",
    "histogram_boxplot(df.select(column_name).toPandas()[column_name])"
   ]
  },
  {
   "cell_type": "markdown",
   "id": "c0309427-8133-49b2-b650-1d1468ab9317",
   "metadata": {},
   "source": [
    "## Ex. 4 - Custom Percentage Scaling\n",
    "\n",
    "**Instructions:**\n",
    "\n",
    "1. Calculate the `max` and `min` of `DAYSONMARKET` and put them into variables `max_days` and `min_days`, don't forget to use `collect()` on `agg()`.\n",
    "2. Using `withColumn()` create a new column called `'percentagescaleddays'` based on `DAYSONMARKET`.\n",
    "3. `percentage_scaled_days` should be a column of integers ranging from `0` to `100`, use `round()` to get integers.\n",
    "4. Print the `max()` and `min()` for the new column `percentage_scaled_days`."
   ]
  },
  {
   "cell_type": "code",
   "execution_count": 31,
   "id": "ddb9b86b-0c69-41ae-80f8-7b86fe255fa6",
   "metadata": {},
   "outputs": [
    {
     "name": "stdout",
     "output_type": "stream",
     "text": [
      "Dataframe shape: (5000, 74)\n"
     ]
    },
    {
     "data": {
      "text/html": [
       "<table border='1'>\n",
       "<tr><th>No.</th><th>MLSID</th><th>StreetNumberNumeric</th><th>streetaddress</th><th>STREETNAME</th><th>PostalCode</th><th>StateOrProvince</th><th>City</th><th>SalesClosePrice</th><th>LISTDATE</th><th>LISTPRICE</th><th>LISTTYPE</th><th>OriginalListPrice</th><th>PricePerTSFT</th><th>FOUNDATIONSIZE</th><th>FENCE</th><th>MapLetter</th><th>LotSizeDimensions</th><th>SchoolDistrictNumber</th><th>DAYSONMARKET</th><th>offmarketdate</th><th>Fireplaces</th><th>RoomArea4</th><th>roomtype</th><th>ROOF</th><th>RoomFloor4</th><th>PotentialShortSale</th><th>PoolDescription</th><th>PDOM</th><th>GarageDescription</th><th>SQFTABOVEGROUND</th><th>Taxes</th><th>RoomFloor1</th><th>RoomArea1</th><th>TAXWITHASSESSMENTS</th><th>TAXYEAR</th><th>LivingArea</th><th>UNITNUMBER</th><th>YEARBUILT</th><th>ZONING</th><th>STYLE</th><th>ACRES</th><th>CoolingDescription</th><th>APPLIANCES</th><th>backonmarketdate</th><th>ROOMFAMILYCHAR</th><th>RoomArea3</th><th>EXTERIOR</th><th>RoomFloor3</th><th>RoomFloor2</th><th>RoomArea2</th><th>DiningRoomDescription</th><th>BASEMENT</th><th>BathsFull</th><th>BathsHalf</th><th>BATHQUARTER</th><th>BATHSTHREEQUARTER</th><th>Class</th><th>BATHSTOTAL</th><th>BATHDESC</th><th>RoomArea5</th><th>RoomFloor5</th><th>RoomArea6</th><th>RoomFloor6</th><th>RoomArea7</th><th>RoomFloor7</th><th>RoomArea8</th><th>RoomFloor8</th><th>Bedrooms</th><th>SQFTBELOWGROUND</th><th>AssumableMortgage</th><th>AssociationFee</th><th>ASSESSMENTPENDING</th><th>AssessedValuation</th></tr>\n",
       "<tr><td>1</td><td>RMLS</td><td>11511</td><td>11511 Stillwater ...</td><td>Stillwater</td><td>55042</td><td>MN</td><td>LELM - Lake Elmo</td><td>143000</td><td>7/15/2017 0:00</td><td>139900</td><td>Exclusive Right</td><td>139900</td><td>145.9184</td><td>980</td><td>Other</td><td>C4</td><td>279X200</td><td>834 - Stillwater</td><td>10</td><td>2017-07-30 00:00:00</td><td>0</td><td>12 x  9</td><td>Living Room, Dini...</td><td>NULL</td><td>Main</td><td>No</td><td>NULL</td><td>10</td><td>Attached Garage</td><td>980</td><td>1858</td><td>Main</td><td>16 x 13</td><td>1858.0</td><td>2017</td><td>980</td><td>NULL</td><td>1950</td><td>Residential-Single</td><td>(SF) One Story</td><td>1.28</td><td>Central</td><td>Range, Dishwasher...</td><td>NULL</td><td>NULL</td><td>NULL</td><td>Vinyl</td><td>NULL</td><td>Main</td><td>9 x  7</td><td>Eat In Kitchen</td><td>Full</td><td>1</td><td>1</td><td>0</td><td>0</td><td>SF</td><td>2</td><td>Main Floor 3/4 Ba...</td><td>13 x 11</td><td>Main</td><td>10 x 10</td><td>Main</td><td>NULL</td><td>NULL</td><td>NULL</td><td>NULL</td><td>3</td><td>0</td><td>NULL</td><td>0</td><td>Unknown</td><td>0.0</td></tr>\n",
       "<tr><td>2</td><td>RMLS</td><td>11200</td><td>11200 31st St N</td><td>31st</td><td>55042</td><td>MN</td><td>LELM - Lake Elmo</td><td>190000</td><td>10/9/2017 0:00</td><td>210000</td><td>Exclusive Right</td><td>210000</td><td>85.2783</td><td>1144</td><td>NULL</td><td>C1</td><td>100x140</td><td>834 - Stillwater</td><td>4</td><td>2017-10-13 00:00:00</td><td>0</td><td>11x11</td><td>Living Room, Dini...</td><td>Asphalt Shingles,...</td><td>Main</td><td>No</td><td>NULL</td><td>4</td><td>Attached Garage, ...</td><td>1268</td><td>1640</td><td>Main</td><td>22x14</td><td>1640.0</td><td>2017</td><td>2228</td><td>NULL</td><td>1971</td><td>Residential-Single</td><td>(SF) Split Entry ...</td><td>0.32</td><td>Central</td><td>Range, Microwave,...</td><td>NULL</td><td>Lower Level</td><td>22x14</td><td>Vinyl</td><td>Lower</td><td>Main</td><td>11x12</td><td>Informal Dining R...</td><td>Full, Partial Fin...</td><td>1</td><td>0</td><td>0</td><td>2</td><td>SF</td><td>3</td><td>Main Floor Full B...</td><td>15x11</td><td>Main</td><td>14x11</td><td>Main</td><td>10x11</td><td>Main</td><td>11x11</td><td>Lower</td><td>4</td><td>960</td><td>NULL</td><td>0</td><td>Unknown</td><td>0.0</td></tr>\n",
       "</table>\n"
      ],
      "text/plain": [
       "+---+-----+-------------------+--------------------+----------+----------+---------------+----------------+---------------+--------------+---------+---------------+-----------------+------------+--------------+-----+---------+-----------------+--------------------+------------+-------------------+----------+---------+--------------------+--------------------+----------+------------------+---------------+----+--------------------+---------------+-----+----------+---------+------------------+-------+----------+----------+---------+------------------+--------------------+-----+------------------+--------------------+----------------+--------------+---------+--------+----------+----------+---------+---------------------+--------------------+---------+---------+-----------+-----------------+-----+----------+--------------------+---------+----------+---------+----------+---------+----------+---------+----------+--------+---------------+-----------------+--------------+-----------------+-----------------+\n",
       "|No.|MLSID|StreetNumberNumeric|       streetaddress|STREETNAME|PostalCode|StateOrProvince|            City|SalesClosePrice|      LISTDATE|LISTPRICE|       LISTTYPE|OriginalListPrice|PricePerTSFT|FOUNDATIONSIZE|FENCE|MapLetter|LotSizeDimensions|SchoolDistrictNumber|DAYSONMARKET|      offmarketdate|Fireplaces|RoomArea4|            roomtype|                ROOF|RoomFloor4|PotentialShortSale|PoolDescription|PDOM|   GarageDescription|SQFTABOVEGROUND|Taxes|RoomFloor1|RoomArea1|TAXWITHASSESSMENTS|TAXYEAR|LivingArea|UNITNUMBER|YEARBUILT|            ZONING|               STYLE|ACRES|CoolingDescription|          APPLIANCES|backonmarketdate|ROOMFAMILYCHAR|RoomArea3|EXTERIOR|RoomFloor3|RoomFloor2|RoomArea2|DiningRoomDescription|            BASEMENT|BathsFull|BathsHalf|BATHQUARTER|BATHSTHREEQUARTER|Class|BATHSTOTAL|            BATHDESC|RoomArea5|RoomFloor5|RoomArea6|RoomFloor6|RoomArea7|RoomFloor7|RoomArea8|RoomFloor8|Bedrooms|SQFTBELOWGROUND|AssumableMortgage|AssociationFee|ASSESSMENTPENDING|AssessedValuation|\n",
       "+---+-----+-------------------+--------------------+----------+----------+---------------+----------------+---------------+--------------+---------+---------------+-----------------+------------+--------------+-----+---------+-----------------+--------------------+------------+-------------------+----------+---------+--------------------+--------------------+----------+------------------+---------------+----+--------------------+---------------+-----+----------+---------+------------------+-------+----------+----------+---------+------------------+--------------------+-----+------------------+--------------------+----------------+--------------+---------+--------+----------+----------+---------+---------------------+--------------------+---------+---------+-----------+-----------------+-----+----------+--------------------+---------+----------+---------+----------+---------+----------+---------+----------+--------+---------------+-----------------+--------------+-----------------+-----------------+\n",
       "|  1| RMLS|              11511|11511 Stillwater ...|Stillwater|     55042|             MN|LELM - Lake Elmo|         143000|7/15/2017 0:00|   139900|Exclusive Right|           139900|    145.9184|           980|Other|       C4|          279X200|    834 - Stillwater|          10|2017-07-30 00:00:00|         0|  12 x  9|Living Room, Dini...|                NULL|      Main|                No|           NULL|  10|     Attached Garage|            980| 1858|      Main|  16 x 13|            1858.0|   2017|       980|      NULL|     1950|Residential-Single|      (SF) One Story| 1.28|           Central|Range, Dishwasher...|            NULL|          NULL|     NULL|   Vinyl|      NULL|      Main|   9 x  7|       Eat In Kitchen|                Full|        1|        1|          0|                0|   SF|         2|Main Floor 3/4 Ba...|  13 x 11|      Main|  10 x 10|      Main|     NULL|      NULL|     NULL|      NULL|       3|              0|             NULL|             0|          Unknown|              0.0|\n",
       "|  2| RMLS|              11200|     11200 31st St N|      31st|     55042|             MN|LELM - Lake Elmo|         190000|10/9/2017 0:00|   210000|Exclusive Right|           210000|     85.2783|          1144| NULL|       C1|          100x140|    834 - Stillwater|           4|2017-10-13 00:00:00|         0|    11x11|Living Room, Dini...|Asphalt Shingles,...|      Main|                No|           NULL|   4|Attached Garage, ...|           1268| 1640|      Main|    22x14|            1640.0|   2017|      2228|      NULL|     1971|Residential-Single|(SF) Split Entry ...| 0.32|           Central|Range, Microwave,...|            NULL|   Lower Level|    22x14|   Vinyl|     Lower|      Main|    11x12| Informal Dining R...|Full, Partial Fin...|        1|        0|          0|                2|   SF|         3|Main Floor Full B...|    15x11|      Main|    14x11|      Main|    10x11|      Main|    11x11|     Lower|       4|            960|             NULL|             0|          Unknown|              0.0|\n",
       "+---+-----+-------------------+--------------------+----------+----------+---------------+----------------+---------------+--------------+---------+---------------+-----------------+------------+--------------+-----+---------+-----------------+--------------------+------------+-------------------+----------+---------+--------------------+--------------------+----------+------------------+---------------+----+--------------------+---------------+-----+----------+---------+------------------+-------+----------+----------+---------+------------------+--------------------+-----+------------------+--------------------+----------------+--------------+---------+--------+----------+----------+---------+---------------------+--------------------+---------+---------+-----------+-----------------+-----+----------+--------------------+---------+----------+---------+----------+---------+----------+---------+----------+--------+---------------+-----------------+--------------+-----------------+-----------------+"
      ]
     },
     "execution_count": 31,
     "metadata": {},
     "output_type": "execute_result"
    }
   ],
   "source": [
    "# Initializing the data\n",
    "df = real_state.select('*')    \n",
    "print('Dataframe shape:', (df.count(), len(df.columns)))\n",
    "df.limit(2)"
   ]
  },
  {
   "cell_type": "code",
   "execution_count": 32,
   "id": "10891b3a-331a-4cd4-a75e-e33a9fdf5333",
   "metadata": {},
   "outputs": [
    {
     "name": "stdout",
     "output_type": "stream",
     "text": [
      "[Row(max(percentage_scaled_days)=100.0)]\n",
      "[Row(min(percentage_scaled_days)=0.0)]\n"
     ]
    }
   ],
   "source": [
    "# Define max and min values and collect them\n",
    "max_days = df.agg(F.max('DAYSONMARKET')).collect()[0][0]\n",
    "min_days = df.agg(F.min('DAYSONMARKET')).collect()[0][0]\n",
    "\n",
    "# Create a new column based off the scaled data\n",
    "df = df.withColumn('percentage_scaled_days', \n",
    "                   F.round((df['DAYSONMARKET'] - min_days) / (max_days - min_days)) * 100)\n",
    "\n",
    "# Calc max and min for new column\n",
    "print(df.agg({'percentage_scaled_days': 'max'}).collect())\n",
    "print(df.agg({'percentage_scaled_days': 'min'}).collect())"
   ]
  },
  {
   "cell_type": "markdown",
   "id": "b51d3951-0833-49df-b37e-1e2ef20cf1ad",
   "metadata": {},
   "source": [
    "## Ex. 5 - Scaling your scalers\n",
    "In the previous exercise, we minmax scaled a single variable. Suppose you have a LOT of variables to scale, you don't want hundreds of lines to code for each. Let's expand on the previous exercise and make it a function.\n",
    "\n",
    "**Instructions:**\n",
    "\n",
    "1. Define a function called `min_max_scaler` that takes parameters `df` a dataframe and `cols_to_scale` the list of columns to scale.\n",
    "2. Use a `for` loop to iterate through each column in the list and minmax scale them.\n",
    "3. Return the dataframe `df` with the new columns added.\n",
    "4. Apply the function `min_max_scaler()` on `df` and the list of columns"
   ]
  },
  {
   "cell_type": "code",
   "execution_count": 33,
   "id": "d9b91254-6974-4279-bd61-6595fc17846b",
   "metadata": {},
   "outputs": [
    {
     "name": "stdout",
     "output_type": "stream",
     "text": [
      "Dataframe shape: (5000, 74)\n"
     ]
    },
    {
     "data": {
      "text/html": [
       "<table border='1'>\n",
       "<tr><th>No.</th><th>MLSID</th><th>StreetNumberNumeric</th><th>streetaddress</th><th>STREETNAME</th><th>PostalCode</th><th>StateOrProvince</th><th>City</th><th>SalesClosePrice</th><th>LISTDATE</th><th>LISTPRICE</th><th>LISTTYPE</th><th>OriginalListPrice</th><th>PricePerTSFT</th><th>FOUNDATIONSIZE</th><th>FENCE</th><th>MapLetter</th><th>LotSizeDimensions</th><th>SchoolDistrictNumber</th><th>DAYSONMARKET</th><th>offmarketdate</th><th>Fireplaces</th><th>RoomArea4</th><th>roomtype</th><th>ROOF</th><th>RoomFloor4</th><th>PotentialShortSale</th><th>PoolDescription</th><th>PDOM</th><th>GarageDescription</th><th>SQFTABOVEGROUND</th><th>Taxes</th><th>RoomFloor1</th><th>RoomArea1</th><th>TAXWITHASSESSMENTS</th><th>TAXYEAR</th><th>LivingArea</th><th>UNITNUMBER</th><th>YEARBUILT</th><th>ZONING</th><th>STYLE</th><th>ACRES</th><th>CoolingDescription</th><th>APPLIANCES</th><th>backonmarketdate</th><th>ROOMFAMILYCHAR</th><th>RoomArea3</th><th>EXTERIOR</th><th>RoomFloor3</th><th>RoomFloor2</th><th>RoomArea2</th><th>DiningRoomDescription</th><th>BASEMENT</th><th>BathsFull</th><th>BathsHalf</th><th>BATHQUARTER</th><th>BATHSTHREEQUARTER</th><th>Class</th><th>BATHSTOTAL</th><th>BATHDESC</th><th>RoomArea5</th><th>RoomFloor5</th><th>RoomArea6</th><th>RoomFloor6</th><th>RoomArea7</th><th>RoomFloor7</th><th>RoomArea8</th><th>RoomFloor8</th><th>Bedrooms</th><th>SQFTBELOWGROUND</th><th>AssumableMortgage</th><th>AssociationFee</th><th>ASSESSMENTPENDING</th><th>AssessedValuation</th></tr>\n",
       "<tr><td>1</td><td>RMLS</td><td>11511</td><td>11511 Stillwater ...</td><td>Stillwater</td><td>55042</td><td>MN</td><td>LELM - Lake Elmo</td><td>143000</td><td>7/15/2017 0:00</td><td>139900</td><td>Exclusive Right</td><td>139900</td><td>145.9184</td><td>980</td><td>Other</td><td>C4</td><td>279X200</td><td>834 - Stillwater</td><td>10</td><td>2017-07-30 00:00:00</td><td>0</td><td>12 x  9</td><td>Living Room, Dini...</td><td>NULL</td><td>Main</td><td>No</td><td>NULL</td><td>10</td><td>Attached Garage</td><td>980</td><td>1858</td><td>Main</td><td>16 x 13</td><td>1858.0</td><td>2017</td><td>980</td><td>NULL</td><td>1950</td><td>Residential-Single</td><td>(SF) One Story</td><td>1.28</td><td>Central</td><td>Range, Dishwasher...</td><td>NULL</td><td>NULL</td><td>NULL</td><td>Vinyl</td><td>NULL</td><td>Main</td><td>9 x  7</td><td>Eat In Kitchen</td><td>Full</td><td>1</td><td>1</td><td>0</td><td>0</td><td>SF</td><td>2</td><td>Main Floor 3/4 Ba...</td><td>13 x 11</td><td>Main</td><td>10 x 10</td><td>Main</td><td>NULL</td><td>NULL</td><td>NULL</td><td>NULL</td><td>3</td><td>0</td><td>NULL</td><td>0</td><td>Unknown</td><td>0.0</td></tr>\n",
       "<tr><td>2</td><td>RMLS</td><td>11200</td><td>11200 31st St N</td><td>31st</td><td>55042</td><td>MN</td><td>LELM - Lake Elmo</td><td>190000</td><td>10/9/2017 0:00</td><td>210000</td><td>Exclusive Right</td><td>210000</td><td>85.2783</td><td>1144</td><td>NULL</td><td>C1</td><td>100x140</td><td>834 - Stillwater</td><td>4</td><td>2017-10-13 00:00:00</td><td>0</td><td>11x11</td><td>Living Room, Dini...</td><td>Asphalt Shingles,...</td><td>Main</td><td>No</td><td>NULL</td><td>4</td><td>Attached Garage, ...</td><td>1268</td><td>1640</td><td>Main</td><td>22x14</td><td>1640.0</td><td>2017</td><td>2228</td><td>NULL</td><td>1971</td><td>Residential-Single</td><td>(SF) Split Entry ...</td><td>0.32</td><td>Central</td><td>Range, Microwave,...</td><td>NULL</td><td>Lower Level</td><td>22x14</td><td>Vinyl</td><td>Lower</td><td>Main</td><td>11x12</td><td>Informal Dining R...</td><td>Full, Partial Fin...</td><td>1</td><td>0</td><td>0</td><td>2</td><td>SF</td><td>3</td><td>Main Floor Full B...</td><td>15x11</td><td>Main</td><td>14x11</td><td>Main</td><td>10x11</td><td>Main</td><td>11x11</td><td>Lower</td><td>4</td><td>960</td><td>NULL</td><td>0</td><td>Unknown</td><td>0.0</td></tr>\n",
       "</table>\n"
      ],
      "text/plain": [
       "+---+-----+-------------------+--------------------+----------+----------+---------------+----------------+---------------+--------------+---------+---------------+-----------------+------------+--------------+-----+---------+-----------------+--------------------+------------+-------------------+----------+---------+--------------------+--------------------+----------+------------------+---------------+----+--------------------+---------------+-----+----------+---------+------------------+-------+----------+----------+---------+------------------+--------------------+-----+------------------+--------------------+----------------+--------------+---------+--------+----------+----------+---------+---------------------+--------------------+---------+---------+-----------+-----------------+-----+----------+--------------------+---------+----------+---------+----------+---------+----------+---------+----------+--------+---------------+-----------------+--------------+-----------------+-----------------+\n",
       "|No.|MLSID|StreetNumberNumeric|       streetaddress|STREETNAME|PostalCode|StateOrProvince|            City|SalesClosePrice|      LISTDATE|LISTPRICE|       LISTTYPE|OriginalListPrice|PricePerTSFT|FOUNDATIONSIZE|FENCE|MapLetter|LotSizeDimensions|SchoolDistrictNumber|DAYSONMARKET|      offmarketdate|Fireplaces|RoomArea4|            roomtype|                ROOF|RoomFloor4|PotentialShortSale|PoolDescription|PDOM|   GarageDescription|SQFTABOVEGROUND|Taxes|RoomFloor1|RoomArea1|TAXWITHASSESSMENTS|TAXYEAR|LivingArea|UNITNUMBER|YEARBUILT|            ZONING|               STYLE|ACRES|CoolingDescription|          APPLIANCES|backonmarketdate|ROOMFAMILYCHAR|RoomArea3|EXTERIOR|RoomFloor3|RoomFloor2|RoomArea2|DiningRoomDescription|            BASEMENT|BathsFull|BathsHalf|BATHQUARTER|BATHSTHREEQUARTER|Class|BATHSTOTAL|            BATHDESC|RoomArea5|RoomFloor5|RoomArea6|RoomFloor6|RoomArea7|RoomFloor7|RoomArea8|RoomFloor8|Bedrooms|SQFTBELOWGROUND|AssumableMortgage|AssociationFee|ASSESSMENTPENDING|AssessedValuation|\n",
       "+---+-----+-------------------+--------------------+----------+----------+---------------+----------------+---------------+--------------+---------+---------------+-----------------+------------+--------------+-----+---------+-----------------+--------------------+------------+-------------------+----------+---------+--------------------+--------------------+----------+------------------+---------------+----+--------------------+---------------+-----+----------+---------+------------------+-------+----------+----------+---------+------------------+--------------------+-----+------------------+--------------------+----------------+--------------+---------+--------+----------+----------+---------+---------------------+--------------------+---------+---------+-----------+-----------------+-----+----------+--------------------+---------+----------+---------+----------+---------+----------+---------+----------+--------+---------------+-----------------+--------------+-----------------+-----------------+\n",
       "|  1| RMLS|              11511|11511 Stillwater ...|Stillwater|     55042|             MN|LELM - Lake Elmo|         143000|7/15/2017 0:00|   139900|Exclusive Right|           139900|    145.9184|           980|Other|       C4|          279X200|    834 - Stillwater|          10|2017-07-30 00:00:00|         0|  12 x  9|Living Room, Dini...|                NULL|      Main|                No|           NULL|  10|     Attached Garage|            980| 1858|      Main|  16 x 13|            1858.0|   2017|       980|      NULL|     1950|Residential-Single|      (SF) One Story| 1.28|           Central|Range, Dishwasher...|            NULL|          NULL|     NULL|   Vinyl|      NULL|      Main|   9 x  7|       Eat In Kitchen|                Full|        1|        1|          0|                0|   SF|         2|Main Floor 3/4 Ba...|  13 x 11|      Main|  10 x 10|      Main|     NULL|      NULL|     NULL|      NULL|       3|              0|             NULL|             0|          Unknown|              0.0|\n",
       "|  2| RMLS|              11200|     11200 31st St N|      31st|     55042|             MN|LELM - Lake Elmo|         190000|10/9/2017 0:00|   210000|Exclusive Right|           210000|     85.2783|          1144| NULL|       C1|          100x140|    834 - Stillwater|           4|2017-10-13 00:00:00|         0|    11x11|Living Room, Dini...|Asphalt Shingles,...|      Main|                No|           NULL|   4|Attached Garage, ...|           1268| 1640|      Main|    22x14|            1640.0|   2017|      2228|      NULL|     1971|Residential-Single|(SF) Split Entry ...| 0.32|           Central|Range, Microwave,...|            NULL|   Lower Level|    22x14|   Vinyl|     Lower|      Main|    11x12| Informal Dining R...|Full, Partial Fin...|        1|        0|          0|                2|   SF|         3|Main Floor Full B...|    15x11|      Main|    14x11|      Main|    10x11|      Main|    11x11|     Lower|       4|            960|             NULL|             0|          Unknown|              0.0|\n",
       "+---+-----+-------------------+--------------------+----------+----------+---------------+----------------+---------------+--------------+---------+---------------+-----------------+------------+--------------+-----+---------+-----------------+--------------------+------------+-------------------+----------+---------+--------------------+--------------------+----------+------------------+---------------+----+--------------------+---------------+-----+----------+---------+------------------+-------+----------+----------+---------+------------------+--------------------+-----+------------------+--------------------+----------------+--------------+---------+--------+----------+----------+---------+---------------------+--------------------+---------+---------+-----------+-----------------+-----+----------+--------------------+---------+----------+---------+----------+---------+----------+---------+----------+--------+---------------+-----------------+--------------+-----------------+-----------------+"
      ]
     },
     "execution_count": 33,
     "metadata": {},
     "output_type": "execute_result"
    }
   ],
   "source": [
    "# Initializing the data\n",
    "df = real_state.select('*')    \n",
    "print('Dataframe shape:', (df.count(), len(df.columns)))\n",
    "df.limit(2)"
   ]
  },
  {
   "cell_type": "code",
   "execution_count": 34,
   "id": "14075a18-1aba-4353-9b6e-700470388408",
   "metadata": {},
   "outputs": [],
   "source": [
    "# Define the function to scale a set of defined columns\n",
    "def min_max_scaler(df: pd.DataFrame, cols_to_scale: List) -> pd.DataFrame:\n",
    "    '''Takes a dataframe and list of columns to minmax scale. Returns a dataframe.'''\n",
    "    for col in cols_to_scale:\n",
    "        # Define min and max values and collect them\n",
    "        max_days = df.agg({col: 'max'}).collect()[0][0]\n",
    "        min_days = df.agg({col: 'min'}).collect()[0][0]\n",
    "        \n",
    "        # Create a new column based off the scaled data\n",
    "        new_column_name = 'scaled_' + col\n",
    "        df = df.withColumn(new_column_name,\n",
    "                           (df[col] - min_days) / (max_days - min_days))\n",
    "    return df"
   ]
  },
  {
   "cell_type": "code",
   "execution_count": 35,
   "id": "f06260d8-162d-4575-a317-111dfb039991",
   "metadata": {},
   "outputs": [
    {
     "name": "stdout",
     "output_type": "stream",
     "text": [
      "+--------------+---------------------+------------+--------------------+----------+-----------------+\n",
      "|FOUNDATIONSIZE|scaled_FOUNDATIONSIZE|DAYSONMARKET| scaled_DAYSONMARKET|FIREPLACES|scaled_FIREPLACES|\n",
      "+--------------+---------------------+------------+--------------------+----------+-----------------+\n",
      "|           980|  0.25824320759694014|          10|0.044444444444444446|         0|              0.0|\n",
      "|          1144|   0.3015035610656819|           4|0.017777777777777778|         0|              0.0|\n",
      "|          1102|  0.29042469005539434|          28| 0.12444444444444444|         0|              0.0|\n",
      "+--------------+---------------------+------------+--------------------+----------+-----------------+\n",
      "only showing top 3 rows\n",
      "\n"
     ]
    }
   ],
   "source": [
    "# Scale multiple columns\n",
    "cols_to_scale = ['FOUNDATIONSIZE', 'DAYSONMARKET', 'FIREPLACES']\n",
    "df = min_max_scaler(df, cols_to_scale)\n",
    "\n",
    "# Show that our data is now between 0 and 1\n",
    "df[['FOUNDATIONSIZE', 'scaled_FOUNDATIONSIZE', \n",
    "    'DAYSONMARKET', 'scaled_DAYSONMARKET',\n",
    "    'FIREPLACES', 'scaled_FIREPLACES']].show(3)"
   ]
  },
  {
   "cell_type": "markdown",
   "id": "a2c1138c-e86d-4e6f-9f6c-fb02ceffe30b",
   "metadata": {},
   "source": [
    "## Ex. 5 - Correcting Right Skew Data\n",
    "\n",
    "In the slides we showed how you might use **log transforms to fix positively skewed data** (data whose **distribution is mostly to the left**). To correct **negative skew (data mostly to the right)** you need to take an extra step called **\"reflecting\"** before you can apply the inverse of `log`, written as `(1/log)` to make the data look more like normal a normal distribution. Reflecting data uses the following formula to reflect each value: \n",
    "\n",
    "$$ (x_{max} + 1) - x $$\n",
    "\n",
    "**Instructions:**\n",
    "\n",
    "1. Use the aggregate function `skewness()` to verify that `'YEARBUILT'` has negative skew.\n",
    "2. Use the `withColumn()` to create a new column `'Reflect_YearBuilt'` and reflect the values of `'YEARBUILT'`.\n",
    "3. Using `'Reflect_YearBuilt'` column, create another column `'adj_yearbuilt'` by taking `1/log()` of the values."
   ]
  },
  {
   "cell_type": "code",
   "execution_count": 36,
   "id": "26d716a7-7306-4a7a-8034-5ac01917d18b",
   "metadata": {},
   "outputs": [
    {
     "name": "stdout",
     "output_type": "stream",
     "text": [
      "Dataframe shape: (5000, 74)\n"
     ]
    },
    {
     "data": {
      "text/html": [
       "<table border='1'>\n",
       "<tr><th>No.</th><th>MLSID</th><th>StreetNumberNumeric</th><th>streetaddress</th><th>STREETNAME</th><th>PostalCode</th><th>StateOrProvince</th><th>City</th><th>SalesClosePrice</th><th>LISTDATE</th><th>LISTPRICE</th><th>LISTTYPE</th><th>OriginalListPrice</th><th>PricePerTSFT</th><th>FOUNDATIONSIZE</th><th>FENCE</th><th>MapLetter</th><th>LotSizeDimensions</th><th>SchoolDistrictNumber</th><th>DAYSONMARKET</th><th>offmarketdate</th><th>Fireplaces</th><th>RoomArea4</th><th>roomtype</th><th>ROOF</th><th>RoomFloor4</th><th>PotentialShortSale</th><th>PoolDescription</th><th>PDOM</th><th>GarageDescription</th><th>SQFTABOVEGROUND</th><th>Taxes</th><th>RoomFloor1</th><th>RoomArea1</th><th>TAXWITHASSESSMENTS</th><th>TAXYEAR</th><th>LivingArea</th><th>UNITNUMBER</th><th>YEARBUILT</th><th>ZONING</th><th>STYLE</th><th>ACRES</th><th>CoolingDescription</th><th>APPLIANCES</th><th>backonmarketdate</th><th>ROOMFAMILYCHAR</th><th>RoomArea3</th><th>EXTERIOR</th><th>RoomFloor3</th><th>RoomFloor2</th><th>RoomArea2</th><th>DiningRoomDescription</th><th>BASEMENT</th><th>BathsFull</th><th>BathsHalf</th><th>BATHQUARTER</th><th>BATHSTHREEQUARTER</th><th>Class</th><th>BATHSTOTAL</th><th>BATHDESC</th><th>RoomArea5</th><th>RoomFloor5</th><th>RoomArea6</th><th>RoomFloor6</th><th>RoomArea7</th><th>RoomFloor7</th><th>RoomArea8</th><th>RoomFloor8</th><th>Bedrooms</th><th>SQFTBELOWGROUND</th><th>AssumableMortgage</th><th>AssociationFee</th><th>ASSESSMENTPENDING</th><th>AssessedValuation</th></tr>\n",
       "<tr><td>1</td><td>RMLS</td><td>11511</td><td>11511 Stillwater ...</td><td>Stillwater</td><td>55042</td><td>MN</td><td>LELM - Lake Elmo</td><td>143000</td><td>7/15/2017 0:00</td><td>139900</td><td>Exclusive Right</td><td>139900</td><td>145.9184</td><td>980</td><td>Other</td><td>C4</td><td>279X200</td><td>834 - Stillwater</td><td>10</td><td>2017-07-30 00:00:00</td><td>0</td><td>12 x  9</td><td>Living Room, Dini...</td><td>NULL</td><td>Main</td><td>No</td><td>NULL</td><td>10</td><td>Attached Garage</td><td>980</td><td>1858</td><td>Main</td><td>16 x 13</td><td>1858.0</td><td>2017</td><td>980</td><td>NULL</td><td>1950</td><td>Residential-Single</td><td>(SF) One Story</td><td>1.28</td><td>Central</td><td>Range, Dishwasher...</td><td>NULL</td><td>NULL</td><td>NULL</td><td>Vinyl</td><td>NULL</td><td>Main</td><td>9 x  7</td><td>Eat In Kitchen</td><td>Full</td><td>1</td><td>1</td><td>0</td><td>0</td><td>SF</td><td>2</td><td>Main Floor 3/4 Ba...</td><td>13 x 11</td><td>Main</td><td>10 x 10</td><td>Main</td><td>NULL</td><td>NULL</td><td>NULL</td><td>NULL</td><td>3</td><td>0</td><td>NULL</td><td>0</td><td>Unknown</td><td>0.0</td></tr>\n",
       "<tr><td>2</td><td>RMLS</td><td>11200</td><td>11200 31st St N</td><td>31st</td><td>55042</td><td>MN</td><td>LELM - Lake Elmo</td><td>190000</td><td>10/9/2017 0:00</td><td>210000</td><td>Exclusive Right</td><td>210000</td><td>85.2783</td><td>1144</td><td>NULL</td><td>C1</td><td>100x140</td><td>834 - Stillwater</td><td>4</td><td>2017-10-13 00:00:00</td><td>0</td><td>11x11</td><td>Living Room, Dini...</td><td>Asphalt Shingles,...</td><td>Main</td><td>No</td><td>NULL</td><td>4</td><td>Attached Garage, ...</td><td>1268</td><td>1640</td><td>Main</td><td>22x14</td><td>1640.0</td><td>2017</td><td>2228</td><td>NULL</td><td>1971</td><td>Residential-Single</td><td>(SF) Split Entry ...</td><td>0.32</td><td>Central</td><td>Range, Microwave,...</td><td>NULL</td><td>Lower Level</td><td>22x14</td><td>Vinyl</td><td>Lower</td><td>Main</td><td>11x12</td><td>Informal Dining R...</td><td>Full, Partial Fin...</td><td>1</td><td>0</td><td>0</td><td>2</td><td>SF</td><td>3</td><td>Main Floor Full B...</td><td>15x11</td><td>Main</td><td>14x11</td><td>Main</td><td>10x11</td><td>Main</td><td>11x11</td><td>Lower</td><td>4</td><td>960</td><td>NULL</td><td>0</td><td>Unknown</td><td>0.0</td></tr>\n",
       "</table>\n"
      ],
      "text/plain": [
       "+---+-----+-------------------+--------------------+----------+----------+---------------+----------------+---------------+--------------+---------+---------------+-----------------+------------+--------------+-----+---------+-----------------+--------------------+------------+-------------------+----------+---------+--------------------+--------------------+----------+------------------+---------------+----+--------------------+---------------+-----+----------+---------+------------------+-------+----------+----------+---------+------------------+--------------------+-----+------------------+--------------------+----------------+--------------+---------+--------+----------+----------+---------+---------------------+--------------------+---------+---------+-----------+-----------------+-----+----------+--------------------+---------+----------+---------+----------+---------+----------+---------+----------+--------+---------------+-----------------+--------------+-----------------+-----------------+\n",
       "|No.|MLSID|StreetNumberNumeric|       streetaddress|STREETNAME|PostalCode|StateOrProvince|            City|SalesClosePrice|      LISTDATE|LISTPRICE|       LISTTYPE|OriginalListPrice|PricePerTSFT|FOUNDATIONSIZE|FENCE|MapLetter|LotSizeDimensions|SchoolDistrictNumber|DAYSONMARKET|      offmarketdate|Fireplaces|RoomArea4|            roomtype|                ROOF|RoomFloor4|PotentialShortSale|PoolDescription|PDOM|   GarageDescription|SQFTABOVEGROUND|Taxes|RoomFloor1|RoomArea1|TAXWITHASSESSMENTS|TAXYEAR|LivingArea|UNITNUMBER|YEARBUILT|            ZONING|               STYLE|ACRES|CoolingDescription|          APPLIANCES|backonmarketdate|ROOMFAMILYCHAR|RoomArea3|EXTERIOR|RoomFloor3|RoomFloor2|RoomArea2|DiningRoomDescription|            BASEMENT|BathsFull|BathsHalf|BATHQUARTER|BATHSTHREEQUARTER|Class|BATHSTOTAL|            BATHDESC|RoomArea5|RoomFloor5|RoomArea6|RoomFloor6|RoomArea7|RoomFloor7|RoomArea8|RoomFloor8|Bedrooms|SQFTBELOWGROUND|AssumableMortgage|AssociationFee|ASSESSMENTPENDING|AssessedValuation|\n",
       "+---+-----+-------------------+--------------------+----------+----------+---------------+----------------+---------------+--------------+---------+---------------+-----------------+------------+--------------+-----+---------+-----------------+--------------------+------------+-------------------+----------+---------+--------------------+--------------------+----------+------------------+---------------+----+--------------------+---------------+-----+----------+---------+------------------+-------+----------+----------+---------+------------------+--------------------+-----+------------------+--------------------+----------------+--------------+---------+--------+----------+----------+---------+---------------------+--------------------+---------+---------+-----------+-----------------+-----+----------+--------------------+---------+----------+---------+----------+---------+----------+---------+----------+--------+---------------+-----------------+--------------+-----------------+-----------------+\n",
       "|  1| RMLS|              11511|11511 Stillwater ...|Stillwater|     55042|             MN|LELM - Lake Elmo|         143000|7/15/2017 0:00|   139900|Exclusive Right|           139900|    145.9184|           980|Other|       C4|          279X200|    834 - Stillwater|          10|2017-07-30 00:00:00|         0|  12 x  9|Living Room, Dini...|                NULL|      Main|                No|           NULL|  10|     Attached Garage|            980| 1858|      Main|  16 x 13|            1858.0|   2017|       980|      NULL|     1950|Residential-Single|      (SF) One Story| 1.28|           Central|Range, Dishwasher...|            NULL|          NULL|     NULL|   Vinyl|      NULL|      Main|   9 x  7|       Eat In Kitchen|                Full|        1|        1|          0|                0|   SF|         2|Main Floor 3/4 Ba...|  13 x 11|      Main|  10 x 10|      Main|     NULL|      NULL|     NULL|      NULL|       3|              0|             NULL|             0|          Unknown|              0.0|\n",
       "|  2| RMLS|              11200|     11200 31st St N|      31st|     55042|             MN|LELM - Lake Elmo|         190000|10/9/2017 0:00|   210000|Exclusive Right|           210000|     85.2783|          1144| NULL|       C1|          100x140|    834 - Stillwater|           4|2017-10-13 00:00:00|         0|    11x11|Living Room, Dini...|Asphalt Shingles,...|      Main|                No|           NULL|   4|Attached Garage, ...|           1268| 1640|      Main|    22x14|            1640.0|   2017|      2228|      NULL|     1971|Residential-Single|(SF) Split Entry ...| 0.32|           Central|Range, Microwave,...|            NULL|   Lower Level|    22x14|   Vinyl|     Lower|      Main|    11x12| Informal Dining R...|Full, Partial Fin...|        1|        0|          0|                2|   SF|         3|Main Floor Full B...|    15x11|      Main|    14x11|      Main|    10x11|      Main|    11x11|     Lower|       4|            960|             NULL|             0|          Unknown|              0.0|\n",
       "+---+-----+-------------------+--------------------+----------+----------+---------------+----------------+---------------+--------------+---------+---------------+-----------------+------------+--------------+-----+---------+-----------------+--------------------+------------+-------------------+----------+---------+--------------------+--------------------+----------+------------------+---------------+----+--------------------+---------------+-----+----------+---------+------------------+-------+----------+----------+---------+------------------+--------------------+-----+------------------+--------------------+----------------+--------------+---------+--------+----------+----------+---------+---------------------+--------------------+---------+---------+-----------+-----------------+-----+----------+--------------------+---------+----------+---------+----------+---------+----------+---------+----------+--------+---------------+-----------------+--------------+-----------------+-----------------+"
      ]
     },
     "execution_count": 36,
     "metadata": {},
     "output_type": "execute_result"
    }
   ],
   "source": [
    "# Initializing the data\n",
    "df = real_state.select('*')    \n",
    "print('Dataframe shape:', (df.count(), len(df.columns)))\n",
    "df.limit(2)"
   ]
  },
  {
   "cell_type": "code",
   "execution_count": 37,
   "id": "97a4d23b-e92f-454c-9e3a-efe0e4184ee1",
   "metadata": {},
   "outputs": [
    {
     "data": {
      "image/png": "[encoded data removed]",
      "text/plain": [
       "<Figure size 600x300 with 2 Axes>"
      ]
     },
     "metadata": {},
     "output_type": "display_data"
    }
   ],
   "source": [
    "# Using our library\n",
    "column_name = 'YEARBUILT'\n",
    "histogram_boxplot(df.select(column_name).toPandas()[column_name])"
   ]
  },
  {
   "cell_type": "code",
   "execution_count": 38,
   "id": "a19f5c14-5d11-43e0-bf1b-230363e231b4",
   "metadata": {},
   "outputs": [
    {
     "name": "stdout",
     "output_type": "stream",
     "text": [
      "[Row(skewness(YEARBUILT)=-0.2455425013492729)]\n",
      "+---------+-------------------+\n",
      "|YEARBUILT|      adj_yearbuilt|\n",
      "+---------+-------------------+\n",
      "|     1950|0.23617733727628992|\n",
      "|     1971| 0.2583177668073288|\n",
      "|     1949|0.23537745555238682|\n",
      "|     1960| 0.2452460618098304|\n",
      "|     1978|  0.269282508064391|\n",
      "+---------+-------------------+\n",
      "only showing top 5 rows\n",
      "\n"
     ]
    }
   ],
   "source": [
    "# Compute the skewness\n",
    "print(df.agg({'YEARBUILT': 'skewness'}).collect())\n",
    "\n",
    "# Calculate the max year\n",
    "max_year = df.agg(F.max('YEARBUILT')).collect()[0][0]\n",
    "\n",
    "# Create a new column of reflected data\n",
    "df = df.withColumn('Reflect_YearBuilt', (max_year + 1) - df['YEARBUILT'])\n",
    "\n",
    "# Create a new column based reflected data (this one is the fix)\n",
    "df = df.withColumn('adj_yearbuilt', 1 / F.log(df['Reflect_YearBuilt']))\n",
    "df.select(['YEARBUILT', 'adj_yearbuilt']).show(5)"
   ]
  },
  {
   "cell_type": "code",
   "execution_count": 39,
   "id": "84aeb5aa-051d-4f18-bfaf-aaf95122db89",
   "metadata": {},
   "outputs": [
    {
     "name": "stdout",
     "output_type": "stream",
     "text": [
      "[Row(skewness(adj_yearbuilt)=4.081397653256459)]\n"
     ]
    },
    {
     "data": {
      "image/png": "[encoded data removed]",
      "text/plain": [
       "<Figure size 600x300 with 2 Axes>"
      ]
     },
     "metadata": {},
     "output_type": "display_data"
    }
   ],
   "source": [
    "print(df.agg({'adj_yearbuilt': 'skewness'}).collect())\n",
    "\n",
    "# Using our library\n",
    "column_name = 'adj_yearbuilt'\n",
    "histogram_boxplot(df.select(column_name).toPandas()[column_name])"
   ]
  },
  {
   "cell_type": "markdown",
   "id": "a5660119-b985-4f18-9aef-6d65e16100fd",
   "metadata": {},
   "source": [
    "## Working with Missing Data"
   ]
  },
  {
   "cell_type": "code",
   "execution_count": 40,
   "id": "a80aa0e4-3d71-4628-ba0c-635f183ae350",
   "metadata": {},
   "outputs": [
    {
     "name": "stdout",
     "output_type": "stream",
     "text": [
      "Dataframe shape: (5000, 74)\n"
     ]
    },
    {
     "data": {
      "text/html": [
       "<table border='1'>\n",
       "<tr><th>No.</th><th>MLSID</th><th>StreetNumberNumeric</th><th>streetaddress</th><th>STREETNAME</th><th>PostalCode</th><th>StateOrProvince</th><th>City</th><th>SalesClosePrice</th><th>LISTDATE</th><th>LISTPRICE</th><th>LISTTYPE</th><th>OriginalListPrice</th><th>PricePerTSFT</th><th>FOUNDATIONSIZE</th><th>FENCE</th><th>MapLetter</th><th>LotSizeDimensions</th><th>SchoolDistrictNumber</th><th>DAYSONMARKET</th><th>offmarketdate</th><th>Fireplaces</th><th>RoomArea4</th><th>roomtype</th><th>ROOF</th><th>RoomFloor4</th><th>PotentialShortSale</th><th>PoolDescription</th><th>PDOM</th><th>GarageDescription</th><th>SQFTABOVEGROUND</th><th>Taxes</th><th>RoomFloor1</th><th>RoomArea1</th><th>TAXWITHASSESSMENTS</th><th>TAXYEAR</th><th>LivingArea</th><th>UNITNUMBER</th><th>YEARBUILT</th><th>ZONING</th><th>STYLE</th><th>ACRES</th><th>CoolingDescription</th><th>APPLIANCES</th><th>backonmarketdate</th><th>ROOMFAMILYCHAR</th><th>RoomArea3</th><th>EXTERIOR</th><th>RoomFloor3</th><th>RoomFloor2</th><th>RoomArea2</th><th>DiningRoomDescription</th><th>BASEMENT</th><th>BathsFull</th><th>BathsHalf</th><th>BATHQUARTER</th><th>BATHSTHREEQUARTER</th><th>Class</th><th>BATHSTOTAL</th><th>BATHDESC</th><th>RoomArea5</th><th>RoomFloor5</th><th>RoomArea6</th><th>RoomFloor6</th><th>RoomArea7</th><th>RoomFloor7</th><th>RoomArea8</th><th>RoomFloor8</th><th>Bedrooms</th><th>SQFTBELOWGROUND</th><th>AssumableMortgage</th><th>AssociationFee</th><th>ASSESSMENTPENDING</th><th>AssessedValuation</th></tr>\n",
       "<tr><td>1</td><td>RMLS</td><td>11511</td><td>11511 Stillwater ...</td><td>Stillwater</td><td>55042</td><td>MN</td><td>LELM - Lake Elmo</td><td>143000</td><td>7/15/2017 0:00</td><td>139900</td><td>Exclusive Right</td><td>139900</td><td>145.9184</td><td>980</td><td>Other</td><td>C4</td><td>279X200</td><td>834 - Stillwater</td><td>10</td><td>2017-07-30 00:00:00</td><td>0</td><td>12 x  9</td><td>Living Room, Dini...</td><td>NULL</td><td>Main</td><td>No</td><td>NULL</td><td>10</td><td>Attached Garage</td><td>980</td><td>1858</td><td>Main</td><td>16 x 13</td><td>1858.0</td><td>2017</td><td>980</td><td>NULL</td><td>1950</td><td>Residential-Single</td><td>(SF) One Story</td><td>1.28</td><td>Central</td><td>Range, Dishwasher...</td><td>NULL</td><td>NULL</td><td>NULL</td><td>Vinyl</td><td>NULL</td><td>Main</td><td>9 x  7</td><td>Eat In Kitchen</td><td>Full</td><td>1</td><td>1</td><td>0</td><td>0</td><td>SF</td><td>2</td><td>Main Floor 3/4 Ba...</td><td>13 x 11</td><td>Main</td><td>10 x 10</td><td>Main</td><td>NULL</td><td>NULL</td><td>NULL</td><td>NULL</td><td>3</td><td>0</td><td>NULL</td><td>0</td><td>Unknown</td><td>0.0</td></tr>\n",
       "<tr><td>2</td><td>RMLS</td><td>11200</td><td>11200 31st St N</td><td>31st</td><td>55042</td><td>MN</td><td>LELM - Lake Elmo</td><td>190000</td><td>10/9/2017 0:00</td><td>210000</td><td>Exclusive Right</td><td>210000</td><td>85.2783</td><td>1144</td><td>NULL</td><td>C1</td><td>100x140</td><td>834 - Stillwater</td><td>4</td><td>2017-10-13 00:00:00</td><td>0</td><td>11x11</td><td>Living Room, Dini...</td><td>Asphalt Shingles,...</td><td>Main</td><td>No</td><td>NULL</td><td>4</td><td>Attached Garage, ...</td><td>1268</td><td>1640</td><td>Main</td><td>22x14</td><td>1640.0</td><td>2017</td><td>2228</td><td>NULL</td><td>1971</td><td>Residential-Single</td><td>(SF) Split Entry ...</td><td>0.32</td><td>Central</td><td>Range, Microwave,...</td><td>NULL</td><td>Lower Level</td><td>22x14</td><td>Vinyl</td><td>Lower</td><td>Main</td><td>11x12</td><td>Informal Dining R...</td><td>Full, Partial Fin...</td><td>1</td><td>0</td><td>0</td><td>2</td><td>SF</td><td>3</td><td>Main Floor Full B...</td><td>15x11</td><td>Main</td><td>14x11</td><td>Main</td><td>10x11</td><td>Main</td><td>11x11</td><td>Lower</td><td>4</td><td>960</td><td>NULL</td><td>0</td><td>Unknown</td><td>0.0</td></tr>\n",
       "</table>\n"
      ],
      "text/plain": [
       "+---+-----+-------------------+--------------------+----------+----------+---------------+----------------+---------------+--------------+---------+---------------+-----------------+------------+--------------+-----+---------+-----------------+--------------------+------------+-------------------+----------+---------+--------------------+--------------------+----------+------------------+---------------+----+--------------------+---------------+-----+----------+---------+------------------+-------+----------+----------+---------+------------------+--------------------+-----+------------------+--------------------+----------------+--------------+---------+--------+----------+----------+---------+---------------------+--------------------+---------+---------+-----------+-----------------+-----+----------+--------------------+---------+----------+---------+----------+---------+----------+---------+----------+--------+---------------+-----------------+--------------+-----------------+-----------------+\n",
       "|No.|MLSID|StreetNumberNumeric|       streetaddress|STREETNAME|PostalCode|StateOrProvince|            City|SalesClosePrice|      LISTDATE|LISTPRICE|       LISTTYPE|OriginalListPrice|PricePerTSFT|FOUNDATIONSIZE|FENCE|MapLetter|LotSizeDimensions|SchoolDistrictNumber|DAYSONMARKET|      offmarketdate|Fireplaces|RoomArea4|            roomtype|                ROOF|RoomFloor4|PotentialShortSale|PoolDescription|PDOM|   GarageDescription|SQFTABOVEGROUND|Taxes|RoomFloor1|RoomArea1|TAXWITHASSESSMENTS|TAXYEAR|LivingArea|UNITNUMBER|YEARBUILT|            ZONING|               STYLE|ACRES|CoolingDescription|          APPLIANCES|backonmarketdate|ROOMFAMILYCHAR|RoomArea3|EXTERIOR|RoomFloor3|RoomFloor2|RoomArea2|DiningRoomDescription|            BASEMENT|BathsFull|BathsHalf|BATHQUARTER|BATHSTHREEQUARTER|Class|BATHSTOTAL|            BATHDESC|RoomArea5|RoomFloor5|RoomArea6|RoomFloor6|RoomArea7|RoomFloor7|RoomArea8|RoomFloor8|Bedrooms|SQFTBELOWGROUND|AssumableMortgage|AssociationFee|ASSESSMENTPENDING|AssessedValuation|\n",
       "+---+-----+-------------------+--------------------+----------+----------+---------------+----------------+---------------+--------------+---------+---------------+-----------------+------------+--------------+-----+---------+-----------------+--------------------+------------+-------------------+----------+---------+--------------------+--------------------+----------+------------------+---------------+----+--------------------+---------------+-----+----------+---------+------------------+-------+----------+----------+---------+------------------+--------------------+-----+------------------+--------------------+----------------+--------------+---------+--------+----------+----------+---------+---------------------+--------------------+---------+---------+-----------+-----------------+-----+----------+--------------------+---------+----------+---------+----------+---------+----------+---------+----------+--------+---------------+-----------------+--------------+-----------------+-----------------+\n",
       "|  1| RMLS|              11511|11511 Stillwater ...|Stillwater|     55042|             MN|LELM - Lake Elmo|         143000|7/15/2017 0:00|   139900|Exclusive Right|           139900|    145.9184|           980|Other|       C4|          279X200|    834 - Stillwater|          10|2017-07-30 00:00:00|         0|  12 x  9|Living Room, Dini...|                NULL|      Main|                No|           NULL|  10|     Attached Garage|            980| 1858|      Main|  16 x 13|            1858.0|   2017|       980|      NULL|     1950|Residential-Single|      (SF) One Story| 1.28|           Central|Range, Dishwasher...|            NULL|          NULL|     NULL|   Vinyl|      NULL|      Main|   9 x  7|       Eat In Kitchen|                Full|        1|        1|          0|                0|   SF|         2|Main Floor 3/4 Ba...|  13 x 11|      Main|  10 x 10|      Main|     NULL|      NULL|     NULL|      NULL|       3|              0|             NULL|             0|          Unknown|              0.0|\n",
       "|  2| RMLS|              11200|     11200 31st St N|      31st|     55042|             MN|LELM - Lake Elmo|         190000|10/9/2017 0:00|   210000|Exclusive Right|           210000|     85.2783|          1144| NULL|       C1|          100x140|    834 - Stillwater|           4|2017-10-13 00:00:00|         0|    11x11|Living Room, Dini...|Asphalt Shingles,...|      Main|                No|           NULL|   4|Attached Garage, ...|           1268| 1640|      Main|    22x14|            1640.0|   2017|      2228|      NULL|     1971|Residential-Single|(SF) Split Entry ...| 0.32|           Central|Range, Microwave,...|            NULL|   Lower Level|    22x14|   Vinyl|     Lower|      Main|    11x12| Informal Dining R...|Full, Partial Fin...|        1|        0|          0|                2|   SF|         3|Main Floor Full B...|    15x11|      Main|    14x11|      Main|    10x11|      Main|    11x11|     Lower|       4|            960|             NULL|             0|          Unknown|              0.0|\n",
       "+---+-----+-------------------+--------------------+----------+----------+---------------+----------------+---------------+--------------+---------+---------------+-----------------+------------+--------------+-----+---------+-----------------+--------------------+------------+-------------------+----------+---------+--------------------+--------------------+----------+------------------+---------------+----+--------------------+---------------+-----+----------+---------+------------------+-------+----------+----------+---------+------------------+--------------------+-----+------------------+--------------------+----------------+--------------+---------+--------+----------+----------+---------+---------------------+--------------------+---------+---------+-----------+-----------------+-----+----------+--------------------+---------+----------+---------+----------+---------+----------+---------+----------+--------+---------------+-----------------+--------------+-----------------+-----------------+"
      ]
     },
     "execution_count": 40,
     "metadata": {},
     "output_type": "execute_result"
    }
   ],
   "source": [
    "# Initializing the data\n",
    "df = real_state.select('*')    \n",
    "print('Dataframe shape:', (df.count(), len(df.columns)))\n",
    "df.limit(2)"
   ]
  },
  {
   "cell_type": "markdown",
   "id": "a77d7c0f-7e67-45f8-abb6-6929afcca57e",
   "metadata": {},
   "source": [
    "### Assessing Missing Values"
   ]
  },
  {
   "cell_type": "code",
   "execution_count": 41,
   "id": "0c102278-4652-4dbb-a312-7c2957adec6f",
   "metadata": {},
   "outputs": [
    {
     "data": {
      "text/plain": [
       "765"
      ]
     },
     "execution_count": 41,
     "metadata": {},
     "output_type": "execute_result"
    }
   ],
   "source": [
    "df.where(df['ROOF'].isNull()).count()"
   ]
  },
  {
   "cell_type": "code",
   "execution_count": 42,
   "id": "04d826e6-887c-4ab8-9bc2-1738a5aee198",
   "metadata": {},
   "outputs": [
    {
     "data": {
      "text/plain": [
       "457"
      ]
     },
     "execution_count": 42,
     "metadata": {},
     "output_type": "execute_result"
    }
   ],
   "source": [
    "df.where(df['ROOMAREA1'].isNull()).count()"
   ]
  },
  {
   "cell_type": "code",
   "execution_count": 43,
   "id": "f97689f3-e47d-499e-96db-b26549060e05",
   "metadata": {},
   "outputs": [
    {
     "data": {
      "text/plain": [
       "{'FENCE': 2028,\n",
       " 'RoomArea4': 303,\n",
       " 'ROOF': 765,\n",
       " 'RoomFloor4': 153,\n",
       " 'PoolDescription': 3293,\n",
       " 'RoomFloor1': 349,\n",
       " 'RoomArea1': 457,\n",
       " 'UNITNUMBER': 4394,\n",
       " 'APPLIANCES': 331,\n",
       " 'backonmarketdate': 5000,\n",
       " 'ROOMFAMILYCHAR': 1960,\n",
       " 'RoomArea3': 2312,\n",
       " 'RoomFloor3': 2201,\n",
       " 'RoomFloor2': 982,\n",
       " 'RoomArea2': 1125,\n",
       " 'DiningRoomDescription': 648,\n",
       " 'BATHSTHREEQUARTER': 1,\n",
       " 'BATHDESC': 366,\n",
       " 'RoomArea5': 246,\n",
       " 'RoomFloor5': 145,\n",
       " 'RoomArea6': 391,\n",
       " 'RoomFloor6': 293,\n",
       " 'RoomArea7': 1527,\n",
       " 'RoomFloor7': 1441,\n",
       " 'RoomArea8': 3485,\n",
       " 'RoomFloor8': 3439,\n",
       " 'AssumableMortgage': 3104}"
      ]
     },
     "execution_count": 43,
     "metadata": {},
     "output_type": "execute_result"
    }
   ],
   "source": [
    "# How many null there are\n",
    "Dict_Null = {col: df.filter(df[f\"`{col}`\"].isNull()).count() for col in df.columns}\n",
    "\n",
    "# Filtering columns without null values\n",
    "Dict_Null = {k: v for k, v in Dict_Null.items() if v != 0}\n",
    "Dict_Null"
   ]
  },
  {
   "cell_type": "markdown",
   "id": "66567469-507f-4ee4-9b67-4578adaab55c",
   "metadata": {},
   "source": [
    "### Plotting Missing Values"
   ]
  },
  {
   "cell_type": "code",
   "execution_count": 44,
   "id": "3110ada3-ab45-4009-b700-e18d35aeb1e8",
   "metadata": {},
   "outputs": [
    {
     "data": {
      "image/png": "[encoded data removed]",
      "text/plain": [
       "<Figure size 640x480 with 2 Axes>"
      ]
     },
     "metadata": {},
     "output_type": "display_data"
    }
   ],
   "source": [
    "# subset the dataframe\n",
    "sub_df = df.select(['ROOMAREA1'])\n",
    "\n",
    "# sample the dataframe\n",
    "sample_df = sub_df.sample(withReplacement=False, fraction=0.5, seed=4)\n",
    "\n",
    "# Convert to Pandas DataFrame\n",
    "pandas_df = sample_df.toPandas()\n",
    "\n",
    "# Plot it\n",
    "sns.heatmap(data=pandas_df.isnull())\n",
    "plt.show()"
   ]
  },
  {
   "cell_type": "markdown",
   "id": "4fd3a04c-eaa1-466f-906b-94e2aa8f8908",
   "metadata": {},
   "source": [
    "### Imputation of Missing Values\n",
    "\n",
    "`fillna(value, subset=None)`\n",
    "\n",
    "- `value` the value to replace missings with\n",
    "- `subset` the list of column names to replace missings"
   ]
  },
  {
   "cell_type": "code",
   "execution_count": 45,
   "id": "77edaf97-d42a-4c21-aa36-c1ee0ea2e552",
   "metadata": {},
   "outputs": [
    {
     "data": {
      "text/plain": [
       "0"
      ]
     },
     "execution_count": 45,
     "metadata": {},
     "output_type": "execute_result"
    }
   ],
   "source": [
    "# Assesing null values\n",
    "df.where(df['DAYSONMARKET'].isNull()).count()"
   ]
  },
  {
   "cell_type": "code",
   "execution_count": 46,
   "id": "f4f40765-2141-45a4-ac88-cbd281231f40",
   "metadata": {},
   "outputs": [
    {
     "name": "stdout",
     "output_type": "stream",
     "text": [
      "+------------+\n",
      "|DAYSONMARKET|\n",
      "+------------+\n",
      "|          10|\n",
      "|           4|\n",
      "+------------+\n",
      "only showing top 2 rows\n",
      "\n"
     ]
    }
   ],
   "source": [
    "# Replacing missing values with zero\n",
    "df.fillna(0, subset=['DAYSONMARKET']).select('DAYSONMARKET').show(2)"
   ]
  },
  {
   "cell_type": "code",
   "execution_count": 47,
   "id": "ba799cc3-4c8a-4dcf-839d-e7e618fb0769",
   "metadata": {},
   "outputs": [
    {
     "name": "stdout",
     "output_type": "stream",
     "text": [
      "+------------+\n",
      "|DAYSONMARKET|\n",
      "+------------+\n",
      "|          10|\n",
      "|           4|\n",
      "+------------+\n",
      "only showing top 2 rows\n",
      "\n"
     ]
    }
   ],
   "source": [
    "# Replacing with the mean value for that column\n",
    "col_mean = df.agg(F.mean('DAYSONMARKET')).collect()[0][0]\n",
    "df.fillna(col_mean, subset=['DAYSONMARKET']).select('DAYSONMARKET').show(2)"
   ]
  },
  {
   "cell_type": "markdown",
   "id": "1a012f35-f892-4726-9b83-21f44babc784",
   "metadata": {},
   "source": [
    "## Ex. 6 - Visualizing Missing Data\n",
    "\n",
    "Being able to plot missing values is a great way to quickly understand how much of your data is missing. It can also help highlight when variables are missing in a pattern something that will need to be handled with care lest your model be biased.\n",
    "\n",
    "Which variable has the most missing values? \n",
    "\n",
    "**Instructions:**\n",
    "\n",
    "1. Use `select()` to subset the dataframe df with the list of columns columns and Sample with the provided `sample()` function, and assign this dataframe to the variable `sample_df`.\n",
    "2. Convert the Subset dataframe to a pandas dataframe `pandas_df`, and use pandas `isnull()` to convert it DataFrame into `True/False`. Store this result in `tf_df`.\n",
    "3. Use seaborn's `heatmap()` to plot `tf_df`.\n",
    "4. Run Code to view the plot. Then assign the name of the variable with most missing values to answer."
   ]
  },
  {
   "cell_type": "code",
   "execution_count": 48,
   "id": "66ea1003-0061-4313-8ac7-87b678de9e4e",
   "metadata": {},
   "outputs": [
    {
     "name": "stdout",
     "output_type": "stream",
     "text": [
      "Dataframe shape: (5000, 74)\n"
     ]
    },
    {
     "data": {
      "text/html": [
       "<table border='1'>\n",
       "<tr><th>No.</th><th>MLSID</th><th>StreetNumberNumeric</th><th>streetaddress</th><th>STREETNAME</th><th>PostalCode</th><th>StateOrProvince</th><th>City</th><th>SalesClosePrice</th><th>LISTDATE</th><th>LISTPRICE</th><th>LISTTYPE</th><th>OriginalListPrice</th><th>PricePerTSFT</th><th>FOUNDATIONSIZE</th><th>FENCE</th><th>MapLetter</th><th>LotSizeDimensions</th><th>SchoolDistrictNumber</th><th>DAYSONMARKET</th><th>offmarketdate</th><th>Fireplaces</th><th>RoomArea4</th><th>roomtype</th><th>ROOF</th><th>RoomFloor4</th><th>PotentialShortSale</th><th>PoolDescription</th><th>PDOM</th><th>GarageDescription</th><th>SQFTABOVEGROUND</th><th>Taxes</th><th>RoomFloor1</th><th>RoomArea1</th><th>TAXWITHASSESSMENTS</th><th>TAXYEAR</th><th>LivingArea</th><th>UNITNUMBER</th><th>YEARBUILT</th><th>ZONING</th><th>STYLE</th><th>ACRES</th><th>CoolingDescription</th><th>APPLIANCES</th><th>backonmarketdate</th><th>ROOMFAMILYCHAR</th><th>RoomArea3</th><th>EXTERIOR</th><th>RoomFloor3</th><th>RoomFloor2</th><th>RoomArea2</th><th>DiningRoomDescription</th><th>BASEMENT</th><th>BathsFull</th><th>BathsHalf</th><th>BATHQUARTER</th><th>BATHSTHREEQUARTER</th><th>Class</th><th>BATHSTOTAL</th><th>BATHDESC</th><th>RoomArea5</th><th>RoomFloor5</th><th>RoomArea6</th><th>RoomFloor6</th><th>RoomArea7</th><th>RoomFloor7</th><th>RoomArea8</th><th>RoomFloor8</th><th>Bedrooms</th><th>SQFTBELOWGROUND</th><th>AssumableMortgage</th><th>AssociationFee</th><th>ASSESSMENTPENDING</th><th>AssessedValuation</th></tr>\n",
       "<tr><td>1</td><td>RMLS</td><td>11511</td><td>11511 Stillwater ...</td><td>Stillwater</td><td>55042</td><td>MN</td><td>LELM - Lake Elmo</td><td>143000</td><td>7/15/2017 0:00</td><td>139900</td><td>Exclusive Right</td><td>139900</td><td>145.9184</td><td>980</td><td>Other</td><td>C4</td><td>279X200</td><td>834 - Stillwater</td><td>10</td><td>2017-07-30 00:00:00</td><td>0</td><td>12 x  9</td><td>Living Room, Dini...</td><td>NULL</td><td>Main</td><td>No</td><td>NULL</td><td>10</td><td>Attached Garage</td><td>980</td><td>1858</td><td>Main</td><td>16 x 13</td><td>1858.0</td><td>2017</td><td>980</td><td>NULL</td><td>1950</td><td>Residential-Single</td><td>(SF) One Story</td><td>1.28</td><td>Central</td><td>Range, Dishwasher...</td><td>NULL</td><td>NULL</td><td>NULL</td><td>Vinyl</td><td>NULL</td><td>Main</td><td>9 x  7</td><td>Eat In Kitchen</td><td>Full</td><td>1</td><td>1</td><td>0</td><td>0</td><td>SF</td><td>2</td><td>Main Floor 3/4 Ba...</td><td>13 x 11</td><td>Main</td><td>10 x 10</td><td>Main</td><td>NULL</td><td>NULL</td><td>NULL</td><td>NULL</td><td>3</td><td>0</td><td>NULL</td><td>0</td><td>Unknown</td><td>0.0</td></tr>\n",
       "<tr><td>2</td><td>RMLS</td><td>11200</td><td>11200 31st St N</td><td>31st</td><td>55042</td><td>MN</td><td>LELM - Lake Elmo</td><td>190000</td><td>10/9/2017 0:00</td><td>210000</td><td>Exclusive Right</td><td>210000</td><td>85.2783</td><td>1144</td><td>NULL</td><td>C1</td><td>100x140</td><td>834 - Stillwater</td><td>4</td><td>2017-10-13 00:00:00</td><td>0</td><td>11x11</td><td>Living Room, Dini...</td><td>Asphalt Shingles,...</td><td>Main</td><td>No</td><td>NULL</td><td>4</td><td>Attached Garage, ...</td><td>1268</td><td>1640</td><td>Main</td><td>22x14</td><td>1640.0</td><td>2017</td><td>2228</td><td>NULL</td><td>1971</td><td>Residential-Single</td><td>(SF) Split Entry ...</td><td>0.32</td><td>Central</td><td>Range, Microwave,...</td><td>NULL</td><td>Lower Level</td><td>22x14</td><td>Vinyl</td><td>Lower</td><td>Main</td><td>11x12</td><td>Informal Dining R...</td><td>Full, Partial Fin...</td><td>1</td><td>0</td><td>0</td><td>2</td><td>SF</td><td>3</td><td>Main Floor Full B...</td><td>15x11</td><td>Main</td><td>14x11</td><td>Main</td><td>10x11</td><td>Main</td><td>11x11</td><td>Lower</td><td>4</td><td>960</td><td>NULL</td><td>0</td><td>Unknown</td><td>0.0</td></tr>\n",
       "</table>\n"
      ],
      "text/plain": [
       "+---+-----+-------------------+--------------------+----------+----------+---------------+----------------+---------------+--------------+---------+---------------+-----------------+------------+--------------+-----+---------+-----------------+--------------------+------------+-------------------+----------+---------+--------------------+--------------------+----------+------------------+---------------+----+--------------------+---------------+-----+----------+---------+------------------+-------+----------+----------+---------+------------------+--------------------+-----+------------------+--------------------+----------------+--------------+---------+--------+----------+----------+---------+---------------------+--------------------+---------+---------+-----------+-----------------+-----+----------+--------------------+---------+----------+---------+----------+---------+----------+---------+----------+--------+---------------+-----------------+--------------+-----------------+-----------------+\n",
       "|No.|MLSID|StreetNumberNumeric|       streetaddress|STREETNAME|PostalCode|StateOrProvince|            City|SalesClosePrice|      LISTDATE|LISTPRICE|       LISTTYPE|OriginalListPrice|PricePerTSFT|FOUNDATIONSIZE|FENCE|MapLetter|LotSizeDimensions|SchoolDistrictNumber|DAYSONMARKET|      offmarketdate|Fireplaces|RoomArea4|            roomtype|                ROOF|RoomFloor4|PotentialShortSale|PoolDescription|PDOM|   GarageDescription|SQFTABOVEGROUND|Taxes|RoomFloor1|RoomArea1|TAXWITHASSESSMENTS|TAXYEAR|LivingArea|UNITNUMBER|YEARBUILT|            ZONING|               STYLE|ACRES|CoolingDescription|          APPLIANCES|backonmarketdate|ROOMFAMILYCHAR|RoomArea3|EXTERIOR|RoomFloor3|RoomFloor2|RoomArea2|DiningRoomDescription|            BASEMENT|BathsFull|BathsHalf|BATHQUARTER|BATHSTHREEQUARTER|Class|BATHSTOTAL|            BATHDESC|RoomArea5|RoomFloor5|RoomArea6|RoomFloor6|RoomArea7|RoomFloor7|RoomArea8|RoomFloor8|Bedrooms|SQFTBELOWGROUND|AssumableMortgage|AssociationFee|ASSESSMENTPENDING|AssessedValuation|\n",
       "+---+-----+-------------------+--------------------+----------+----------+---------------+----------------+---------------+--------------+---------+---------------+-----------------+------------+--------------+-----+---------+-----------------+--------------------+------------+-------------------+----------+---------+--------------------+--------------------+----------+------------------+---------------+----+--------------------+---------------+-----+----------+---------+------------------+-------+----------+----------+---------+------------------+--------------------+-----+------------------+--------------------+----------------+--------------+---------+--------+----------+----------+---------+---------------------+--------------------+---------+---------+-----------+-----------------+-----+----------+--------------------+---------+----------+---------+----------+---------+----------+---------+----------+--------+---------------+-----------------+--------------+-----------------+-----------------+\n",
       "|  1| RMLS|              11511|11511 Stillwater ...|Stillwater|     55042|             MN|LELM - Lake Elmo|         143000|7/15/2017 0:00|   139900|Exclusive Right|           139900|    145.9184|           980|Other|       C4|          279X200|    834 - Stillwater|          10|2017-07-30 00:00:00|         0|  12 x  9|Living Room, Dini...|                NULL|      Main|                No|           NULL|  10|     Attached Garage|            980| 1858|      Main|  16 x 13|            1858.0|   2017|       980|      NULL|     1950|Residential-Single|      (SF) One Story| 1.28|           Central|Range, Dishwasher...|            NULL|          NULL|     NULL|   Vinyl|      NULL|      Main|   9 x  7|       Eat In Kitchen|                Full|        1|        1|          0|                0|   SF|         2|Main Floor 3/4 Ba...|  13 x 11|      Main|  10 x 10|      Main|     NULL|      NULL|     NULL|      NULL|       3|              0|             NULL|             0|          Unknown|              0.0|\n",
       "|  2| RMLS|              11200|     11200 31st St N|      31st|     55042|             MN|LELM - Lake Elmo|         190000|10/9/2017 0:00|   210000|Exclusive Right|           210000|     85.2783|          1144| NULL|       C1|          100x140|    834 - Stillwater|           4|2017-10-13 00:00:00|         0|    11x11|Living Room, Dini...|Asphalt Shingles,...|      Main|                No|           NULL|   4|Attached Garage, ...|           1268| 1640|      Main|    22x14|            1640.0|   2017|      2228|      NULL|     1971|Residential-Single|(SF) Split Entry ...| 0.32|           Central|Range, Microwave,...|            NULL|   Lower Level|    22x14|   Vinyl|     Lower|      Main|    11x12| Informal Dining R...|Full, Partial Fin...|        1|        0|          0|                2|   SF|         3|Main Floor Full B...|    15x11|      Main|    14x11|      Main|    10x11|      Main|    11x11|     Lower|       4|            960|             NULL|             0|          Unknown|              0.0|\n",
       "+---+-----+-------------------+--------------------+----------+----------+---------------+----------------+---------------+--------------+---------+---------------+-----------------+------------+--------------+-----+---------+-----------------+--------------------+------------+-------------------+----------+---------+--------------------+--------------------+----------+------------------+---------------+----+--------------------+---------------+-----+----------+---------+------------------+-------+----------+----------+---------+------------------+--------------------+-----+------------------+--------------------+----------------+--------------+---------+--------+----------+----------+---------+---------------------+--------------------+---------+---------+-----------+-----------------+-----+----------+--------------------+---------+----------+---------+----------+---------+----------+---------+----------+--------+---------------+-----------------+--------------+-----------------+-----------------+"
      ]
     },
     "execution_count": 48,
     "metadata": {},
     "output_type": "execute_result"
    }
   ],
   "source": [
    "# Initializing the data\n",
    "df = real_state.select('*')    \n",
    "print('Dataframe shape:', (df.count(), len(df.columns)))\n",
    "df.limit(2)"
   ]
  },
  {
   "cell_type": "code",
   "execution_count": 49,
   "id": "819f443a-438f-42d9-9b23-c29118dbd39e",
   "metadata": {},
   "outputs": [
    {
     "data": {
      "image/png": "[encoded data removed]",
      "text/plain": [
       "<Figure size 640x480 with 2 Axes>"
      ]
     },
     "metadata": {},
     "output_type": "display_data"
    }
   ],
   "source": [
    "# Sample the dataframe and convert to Pandas\n",
    "columns = ['APPLIANCES', 'BACKONMARKETDATE', 'ROOMFAMILYCHAR', 'BASEMENT', 'DININGROOMDESCRIPTION']\n",
    "sample_df = df.select(columns).sample(False, 0.1, 42)\n",
    "pandas_df = sample_df.toPandas()\n",
    "\n",
    "# Convert all values to T/F\n",
    "tf_df = pandas_df.isnull()\n",
    "\n",
    "# Plot it\n",
    "sns.heatmap(data=tf_df)\n",
    "plt.show()"
   ]
  },
  {
   "cell_type": "code",
   "execution_count": 50,
   "id": "b47877b7-7c4b-4868-b485-848f1d001ffa",
   "metadata": {},
   "outputs": [
    {
     "name": "stdout",
     "output_type": "stream",
     "text": [
      "           APPLIANCES:  331 null values\n",
      "     BACKONMARKETDATE: 5000 null values\n",
      "       ROOMFAMILYCHAR: 1960 null values\n",
      "             BASEMENT:    0 null values\n",
      "DININGROOMDESCRIPTION:  648 null values\n"
     ]
    }
   ],
   "source": [
    "# Assesing null values\n",
    "for col in columns:\n",
    "    print(f'{col:>21}: {df.where(df[col].isNull()).count():>4} null values')"
   ]
  },
  {
   "cell_type": "code",
   "execution_count": 51,
   "id": "a3a600dc-22d6-4a80-97ea-ff63898872d9",
   "metadata": {},
   "outputs": [],
   "source": [
    "# Set the answer to the column with the most missing data\n",
    "answer = 'BACKONMARKETDATE'"
   ]
  },
  {
   "cell_type": "markdown",
   "id": "867e799e-0390-4d6a-9f5b-2389f78e262d",
   "metadata": {},
   "source": [
    "## Ex. 7 - Imputing Missing Data\n",
    "\n",
    "Missing data happens. If we make the assumption that our data is missing completely at random, we are making the assumption that what data we do have, is a good representation of the population. If we have a few values we could remove them or we could use the mean or median as a replacement. In this exercise, we will look at `'PDOM'`: Days on Market at Current Price.\n",
    "\n",
    "**Instructions:**\n",
    "\n",
    "1. Get a count of the missing values in the column `'PDOM'` using `where()`, `isNull()` and `count()`.\n",
    "2. Calculate the mean value of `'PDOM'` using the aggregate function `mean()`.\n",
    "3. Use `fillna()` with the value set to the `'PDOM'` mean value and only apply it to the column `'PDOM'` using the subset parameter."
   ]
  },
  {
   "cell_type": "code",
   "execution_count": 52,
   "id": "a26c8031-a7c0-41d6-99bb-09b83c822fb7",
   "metadata": {},
   "outputs": [
    {
     "name": "stdout",
     "output_type": "stream",
     "text": [
      "Dataframe shape: (5000, 74)\n"
     ]
    },
    {
     "data": {
      "text/html": [
       "<table border='1'>\n",
       "<tr><th>No.</th><th>MLSID</th><th>StreetNumberNumeric</th><th>streetaddress</th><th>STREETNAME</th><th>PostalCode</th><th>StateOrProvince</th><th>City</th><th>SalesClosePrice</th><th>LISTDATE</th><th>LISTPRICE</th><th>LISTTYPE</th><th>OriginalListPrice</th><th>PricePerTSFT</th><th>FOUNDATIONSIZE</th><th>FENCE</th><th>MapLetter</th><th>LotSizeDimensions</th><th>SchoolDistrictNumber</th><th>DAYSONMARKET</th><th>offmarketdate</th><th>Fireplaces</th><th>RoomArea4</th><th>roomtype</th><th>ROOF</th><th>RoomFloor4</th><th>PotentialShortSale</th><th>PoolDescription</th><th>PDOM</th><th>GarageDescription</th><th>SQFTABOVEGROUND</th><th>Taxes</th><th>RoomFloor1</th><th>RoomArea1</th><th>TAXWITHASSESSMENTS</th><th>TAXYEAR</th><th>LivingArea</th><th>UNITNUMBER</th><th>YEARBUILT</th><th>ZONING</th><th>STYLE</th><th>ACRES</th><th>CoolingDescription</th><th>APPLIANCES</th><th>backonmarketdate</th><th>ROOMFAMILYCHAR</th><th>RoomArea3</th><th>EXTERIOR</th><th>RoomFloor3</th><th>RoomFloor2</th><th>RoomArea2</th><th>DiningRoomDescription</th><th>BASEMENT</th><th>BathsFull</th><th>BathsHalf</th><th>BATHQUARTER</th><th>BATHSTHREEQUARTER</th><th>Class</th><th>BATHSTOTAL</th><th>BATHDESC</th><th>RoomArea5</th><th>RoomFloor5</th><th>RoomArea6</th><th>RoomFloor6</th><th>RoomArea7</th><th>RoomFloor7</th><th>RoomArea8</th><th>RoomFloor8</th><th>Bedrooms</th><th>SQFTBELOWGROUND</th><th>AssumableMortgage</th><th>AssociationFee</th><th>ASSESSMENTPENDING</th><th>AssessedValuation</th></tr>\n",
       "<tr><td>1</td><td>RMLS</td><td>11511</td><td>11511 Stillwater ...</td><td>Stillwater</td><td>55042</td><td>MN</td><td>LELM - Lake Elmo</td><td>143000</td><td>7/15/2017 0:00</td><td>139900</td><td>Exclusive Right</td><td>139900</td><td>145.9184</td><td>980</td><td>Other</td><td>C4</td><td>279X200</td><td>834 - Stillwater</td><td>10</td><td>2017-07-30 00:00:00</td><td>0</td><td>12 x  9</td><td>Living Room, Dini...</td><td>NULL</td><td>Main</td><td>No</td><td>NULL</td><td>10</td><td>Attached Garage</td><td>980</td><td>1858</td><td>Main</td><td>16 x 13</td><td>1858.0</td><td>2017</td><td>980</td><td>NULL</td><td>1950</td><td>Residential-Single</td><td>(SF) One Story</td><td>1.28</td><td>Central</td><td>Range, Dishwasher...</td><td>NULL</td><td>NULL</td><td>NULL</td><td>Vinyl</td><td>NULL</td><td>Main</td><td>9 x  7</td><td>Eat In Kitchen</td><td>Full</td><td>1</td><td>1</td><td>0</td><td>0</td><td>SF</td><td>2</td><td>Main Floor 3/4 Ba...</td><td>13 x 11</td><td>Main</td><td>10 x 10</td><td>Main</td><td>NULL</td><td>NULL</td><td>NULL</td><td>NULL</td><td>3</td><td>0</td><td>NULL</td><td>0</td><td>Unknown</td><td>0.0</td></tr>\n",
       "<tr><td>2</td><td>RMLS</td><td>11200</td><td>11200 31st St N</td><td>31st</td><td>55042</td><td>MN</td><td>LELM - Lake Elmo</td><td>190000</td><td>10/9/2017 0:00</td><td>210000</td><td>Exclusive Right</td><td>210000</td><td>85.2783</td><td>1144</td><td>NULL</td><td>C1</td><td>100x140</td><td>834 - Stillwater</td><td>4</td><td>2017-10-13 00:00:00</td><td>0</td><td>11x11</td><td>Living Room, Dini...</td><td>Asphalt Shingles,...</td><td>Main</td><td>No</td><td>NULL</td><td>4</td><td>Attached Garage, ...</td><td>1268</td><td>1640</td><td>Main</td><td>22x14</td><td>1640.0</td><td>2017</td><td>2228</td><td>NULL</td><td>1971</td><td>Residential-Single</td><td>(SF) Split Entry ...</td><td>0.32</td><td>Central</td><td>Range, Microwave,...</td><td>NULL</td><td>Lower Level</td><td>22x14</td><td>Vinyl</td><td>Lower</td><td>Main</td><td>11x12</td><td>Informal Dining R...</td><td>Full, Partial Fin...</td><td>1</td><td>0</td><td>0</td><td>2</td><td>SF</td><td>3</td><td>Main Floor Full B...</td><td>15x11</td><td>Main</td><td>14x11</td><td>Main</td><td>10x11</td><td>Main</td><td>11x11</td><td>Lower</td><td>4</td><td>960</td><td>NULL</td><td>0</td><td>Unknown</td><td>0.0</td></tr>\n",
       "</table>\n"
      ],
      "text/plain": [
       "+---+-----+-------------------+--------------------+----------+----------+---------------+----------------+---------------+--------------+---------+---------------+-----------------+------------+--------------+-----+---------+-----------------+--------------------+------------+-------------------+----------+---------+--------------------+--------------------+----------+------------------+---------------+----+--------------------+---------------+-----+----------+---------+------------------+-------+----------+----------+---------+------------------+--------------------+-----+------------------+--------------------+----------------+--------------+---------+--------+----------+----------+---------+---------------------+--------------------+---------+---------+-----------+-----------------+-----+----------+--------------------+---------+----------+---------+----------+---------+----------+---------+----------+--------+---------------+-----------------+--------------+-----------------+-----------------+\n",
       "|No.|MLSID|StreetNumberNumeric|       streetaddress|STREETNAME|PostalCode|StateOrProvince|            City|SalesClosePrice|      LISTDATE|LISTPRICE|       LISTTYPE|OriginalListPrice|PricePerTSFT|FOUNDATIONSIZE|FENCE|MapLetter|LotSizeDimensions|SchoolDistrictNumber|DAYSONMARKET|      offmarketdate|Fireplaces|RoomArea4|            roomtype|                ROOF|RoomFloor4|PotentialShortSale|PoolDescription|PDOM|   GarageDescription|SQFTABOVEGROUND|Taxes|RoomFloor1|RoomArea1|TAXWITHASSESSMENTS|TAXYEAR|LivingArea|UNITNUMBER|YEARBUILT|            ZONING|               STYLE|ACRES|CoolingDescription|          APPLIANCES|backonmarketdate|ROOMFAMILYCHAR|RoomArea3|EXTERIOR|RoomFloor3|RoomFloor2|RoomArea2|DiningRoomDescription|            BASEMENT|BathsFull|BathsHalf|BATHQUARTER|BATHSTHREEQUARTER|Class|BATHSTOTAL|            BATHDESC|RoomArea5|RoomFloor5|RoomArea6|RoomFloor6|RoomArea7|RoomFloor7|RoomArea8|RoomFloor8|Bedrooms|SQFTBELOWGROUND|AssumableMortgage|AssociationFee|ASSESSMENTPENDING|AssessedValuation|\n",
       "+---+-----+-------------------+--------------------+----------+----------+---------------+----------------+---------------+--------------+---------+---------------+-----------------+------------+--------------+-----+---------+-----------------+--------------------+------------+-------------------+----------+---------+--------------------+--------------------+----------+------------------+---------------+----+--------------------+---------------+-----+----------+---------+------------------+-------+----------+----------+---------+------------------+--------------------+-----+------------------+--------------------+----------------+--------------+---------+--------+----------+----------+---------+---------------------+--------------------+---------+---------+-----------+-----------------+-----+----------+--------------------+---------+----------+---------+----------+---------+----------+---------+----------+--------+---------------+-----------------+--------------+-----------------+-----------------+\n",
       "|  1| RMLS|              11511|11511 Stillwater ...|Stillwater|     55042|             MN|LELM - Lake Elmo|         143000|7/15/2017 0:00|   139900|Exclusive Right|           139900|    145.9184|           980|Other|       C4|          279X200|    834 - Stillwater|          10|2017-07-30 00:00:00|         0|  12 x  9|Living Room, Dini...|                NULL|      Main|                No|           NULL|  10|     Attached Garage|            980| 1858|      Main|  16 x 13|            1858.0|   2017|       980|      NULL|     1950|Residential-Single|      (SF) One Story| 1.28|           Central|Range, Dishwasher...|            NULL|          NULL|     NULL|   Vinyl|      NULL|      Main|   9 x  7|       Eat In Kitchen|                Full|        1|        1|          0|                0|   SF|         2|Main Floor 3/4 Ba...|  13 x 11|      Main|  10 x 10|      Main|     NULL|      NULL|     NULL|      NULL|       3|              0|             NULL|             0|          Unknown|              0.0|\n",
       "|  2| RMLS|              11200|     11200 31st St N|      31st|     55042|             MN|LELM - Lake Elmo|         190000|10/9/2017 0:00|   210000|Exclusive Right|           210000|     85.2783|          1144| NULL|       C1|          100x140|    834 - Stillwater|           4|2017-10-13 00:00:00|         0|    11x11|Living Room, Dini...|Asphalt Shingles,...|      Main|                No|           NULL|   4|Attached Garage, ...|           1268| 1640|      Main|    22x14|            1640.0|   2017|      2228|      NULL|     1971|Residential-Single|(SF) Split Entry ...| 0.32|           Central|Range, Microwave,...|            NULL|   Lower Level|    22x14|   Vinyl|     Lower|      Main|    11x12| Informal Dining R...|Full, Partial Fin...|        1|        0|          0|                2|   SF|         3|Main Floor Full B...|    15x11|      Main|    14x11|      Main|    10x11|      Main|    11x11|     Lower|       4|            960|             NULL|             0|          Unknown|              0.0|\n",
       "+---+-----+-------------------+--------------------+----------+----------+---------------+----------------+---------------+--------------+---------+---------------+-----------------+------------+--------------+-----+---------+-----------------+--------------------+------------+-------------------+----------+---------+--------------------+--------------------+----------+------------------+---------------+----+--------------------+---------------+-----+----------+---------+------------------+-------+----------+----------+---------+------------------+--------------------+-----+------------------+--------------------+----------------+--------------+---------+--------+----------+----------+---------+---------------------+--------------------+---------+---------+-----------+-----------------+-----+----------+--------------------+---------+----------+---------+----------+---------+----------+---------+----------+--------+---------------+-----------------+--------------+-----------------+-----------------+"
      ]
     },
     "execution_count": 52,
     "metadata": {},
     "output_type": "execute_result"
    }
   ],
   "source": [
    "# Initializing the data\n",
    "df = real_state.select('*')    \n",
    "print('Dataframe shape:', (df.count(), len(df.columns)))\n",
    "df.limit(2)"
   ]
  },
  {
   "cell_type": "code",
   "execution_count": 53,
   "id": "0020311f-71cf-496b-9534-cc48a3419500",
   "metadata": {},
   "outputs": [
    {
     "data": {
      "text/plain": [
       "0"
      ]
     },
     "execution_count": 53,
     "metadata": {},
     "output_type": "execute_result"
    }
   ],
   "source": [
    "# Count missing rows - Ilustrative procedure\n",
    "missing = df.where(df['PDOM'].isNull()).count()\n",
    "missing"
   ]
  },
  {
   "cell_type": "code",
   "execution_count": 54,
   "id": "6375db27-a032-4830-a786-48c71debbe24",
   "metadata": {},
   "outputs": [],
   "source": [
    "# Calculate the mean value\n",
    "col_mean = df.agg({'PDOM': 'mean'}).collect()[0][0]\n",
    "\n",
    "# Replacing with the mean value for that column\n",
    "df = df.fillna(col_mean, subset=['PDOM'])"
   ]
  },
  {
   "cell_type": "markdown",
   "id": "81adadfb-e543-48eb-bc25-cb17dfdc79d5",
   "metadata": {},
   "source": [
    "## Ex. 8 - Calculate Missing Percents\n",
    "\n",
    "Automation is the future of data science. Learning to automate some of your data preparation pays dividends. In this exercise, we will automate dropping columns if they are missing data beyond a specific threshold.\n",
    "\n",
    "**Instructions:**\n",
    "\n",
    "1. Define a function `column_dropper()` that takes the parameters `df` a dataframe and `threshold` a float between 0 and 1.\n",
    "2. Calculate the percentage of values that are missing using `where()`, `isNull()` and `count()`\n",
    "3. Check to see if the percentage of missing is higher than the `threshold`, if so, drop the column using `drop()`\n",
    "4. Run `column_dropper()` on `df` with the `threshold` set to `.6`"
   ]
  },
  {
   "cell_type": "code",
   "execution_count": 55,
   "id": "7b99d6ed-aba5-41ca-afe0-bbee5789ba10",
   "metadata": {},
   "outputs": [
    {
     "name": "stdout",
     "output_type": "stream",
     "text": [
      "Dataframe shape: (5000, 74)\n"
     ]
    },
    {
     "data": {
      "text/html": [
       "<table border='1'>\n",
       "<tr><th>No.</th><th>MLSID</th><th>StreetNumberNumeric</th><th>streetaddress</th><th>STREETNAME</th><th>PostalCode</th><th>StateOrProvince</th><th>City</th><th>SalesClosePrice</th><th>LISTDATE</th><th>LISTPRICE</th><th>LISTTYPE</th><th>OriginalListPrice</th><th>PricePerTSFT</th><th>FOUNDATIONSIZE</th><th>FENCE</th><th>MapLetter</th><th>LotSizeDimensions</th><th>SchoolDistrictNumber</th><th>DAYSONMARKET</th><th>offmarketdate</th><th>Fireplaces</th><th>RoomArea4</th><th>roomtype</th><th>ROOF</th><th>RoomFloor4</th><th>PotentialShortSale</th><th>PoolDescription</th><th>PDOM</th><th>GarageDescription</th><th>SQFTABOVEGROUND</th><th>Taxes</th><th>RoomFloor1</th><th>RoomArea1</th><th>TAXWITHASSESSMENTS</th><th>TAXYEAR</th><th>LivingArea</th><th>UNITNUMBER</th><th>YEARBUILT</th><th>ZONING</th><th>STYLE</th><th>ACRES</th><th>CoolingDescription</th><th>APPLIANCES</th><th>backonmarketdate</th><th>ROOMFAMILYCHAR</th><th>RoomArea3</th><th>EXTERIOR</th><th>RoomFloor3</th><th>RoomFloor2</th><th>RoomArea2</th><th>DiningRoomDescription</th><th>BASEMENT</th><th>BathsFull</th><th>BathsHalf</th><th>BATHQUARTER</th><th>BATHSTHREEQUARTER</th><th>Class</th><th>BATHSTOTAL</th><th>BATHDESC</th><th>RoomArea5</th><th>RoomFloor5</th><th>RoomArea6</th><th>RoomFloor6</th><th>RoomArea7</th><th>RoomFloor7</th><th>RoomArea8</th><th>RoomFloor8</th><th>Bedrooms</th><th>SQFTBELOWGROUND</th><th>AssumableMortgage</th><th>AssociationFee</th><th>ASSESSMENTPENDING</th><th>AssessedValuation</th></tr>\n",
       "<tr><td>1</td><td>RMLS</td><td>11511</td><td>11511 Stillwater ...</td><td>Stillwater</td><td>55042</td><td>MN</td><td>LELM - Lake Elmo</td><td>143000</td><td>7/15/2017 0:00</td><td>139900</td><td>Exclusive Right</td><td>139900</td><td>145.9184</td><td>980</td><td>Other</td><td>C4</td><td>279X200</td><td>834 - Stillwater</td><td>10</td><td>2017-07-30 00:00:00</td><td>0</td><td>12 x  9</td><td>Living Room, Dini...</td><td>NULL</td><td>Main</td><td>No</td><td>NULL</td><td>10</td><td>Attached Garage</td><td>980</td><td>1858</td><td>Main</td><td>16 x 13</td><td>1858.0</td><td>2017</td><td>980</td><td>NULL</td><td>1950</td><td>Residential-Single</td><td>(SF) One Story</td><td>1.28</td><td>Central</td><td>Range, Dishwasher...</td><td>NULL</td><td>NULL</td><td>NULL</td><td>Vinyl</td><td>NULL</td><td>Main</td><td>9 x  7</td><td>Eat In Kitchen</td><td>Full</td><td>1</td><td>1</td><td>0</td><td>0</td><td>SF</td><td>2</td><td>Main Floor 3/4 Ba...</td><td>13 x 11</td><td>Main</td><td>10 x 10</td><td>Main</td><td>NULL</td><td>NULL</td><td>NULL</td><td>NULL</td><td>3</td><td>0</td><td>NULL</td><td>0</td><td>Unknown</td><td>0.0</td></tr>\n",
       "<tr><td>2</td><td>RMLS</td><td>11200</td><td>11200 31st St N</td><td>31st</td><td>55042</td><td>MN</td><td>LELM - Lake Elmo</td><td>190000</td><td>10/9/2017 0:00</td><td>210000</td><td>Exclusive Right</td><td>210000</td><td>85.2783</td><td>1144</td><td>NULL</td><td>C1</td><td>100x140</td><td>834 - Stillwater</td><td>4</td><td>2017-10-13 00:00:00</td><td>0</td><td>11x11</td><td>Living Room, Dini...</td><td>Asphalt Shingles,...</td><td>Main</td><td>No</td><td>NULL</td><td>4</td><td>Attached Garage, ...</td><td>1268</td><td>1640</td><td>Main</td><td>22x14</td><td>1640.0</td><td>2017</td><td>2228</td><td>NULL</td><td>1971</td><td>Residential-Single</td><td>(SF) Split Entry ...</td><td>0.32</td><td>Central</td><td>Range, Microwave,...</td><td>NULL</td><td>Lower Level</td><td>22x14</td><td>Vinyl</td><td>Lower</td><td>Main</td><td>11x12</td><td>Informal Dining R...</td><td>Full, Partial Fin...</td><td>1</td><td>0</td><td>0</td><td>2</td><td>SF</td><td>3</td><td>Main Floor Full B...</td><td>15x11</td><td>Main</td><td>14x11</td><td>Main</td><td>10x11</td><td>Main</td><td>11x11</td><td>Lower</td><td>4</td><td>960</td><td>NULL</td><td>0</td><td>Unknown</td><td>0.0</td></tr>\n",
       "</table>\n"
      ],
      "text/plain": [
       "+---+-----+-------------------+--------------------+----------+----------+---------------+----------------+---------------+--------------+---------+---------------+-----------------+------------+--------------+-----+---------+-----------------+--------------------+------------+-------------------+----------+---------+--------------------+--------------------+----------+------------------+---------------+----+--------------------+---------------+-----+----------+---------+------------------+-------+----------+----------+---------+------------------+--------------------+-----+------------------+--------------------+----------------+--------------+---------+--------+----------+----------+---------+---------------------+--------------------+---------+---------+-----------+-----------------+-----+----------+--------------------+---------+----------+---------+----------+---------+----------+---------+----------+--------+---------------+-----------------+--------------+-----------------+-----------------+\n",
       "|No.|MLSID|StreetNumberNumeric|       streetaddress|STREETNAME|PostalCode|StateOrProvince|            City|SalesClosePrice|      LISTDATE|LISTPRICE|       LISTTYPE|OriginalListPrice|PricePerTSFT|FOUNDATIONSIZE|FENCE|MapLetter|LotSizeDimensions|SchoolDistrictNumber|DAYSONMARKET|      offmarketdate|Fireplaces|RoomArea4|            roomtype|                ROOF|RoomFloor4|PotentialShortSale|PoolDescription|PDOM|   GarageDescription|SQFTABOVEGROUND|Taxes|RoomFloor1|RoomArea1|TAXWITHASSESSMENTS|TAXYEAR|LivingArea|UNITNUMBER|YEARBUILT|            ZONING|               STYLE|ACRES|CoolingDescription|          APPLIANCES|backonmarketdate|ROOMFAMILYCHAR|RoomArea3|EXTERIOR|RoomFloor3|RoomFloor2|RoomArea2|DiningRoomDescription|            BASEMENT|BathsFull|BathsHalf|BATHQUARTER|BATHSTHREEQUARTER|Class|BATHSTOTAL|            BATHDESC|RoomArea5|RoomFloor5|RoomArea6|RoomFloor6|RoomArea7|RoomFloor7|RoomArea8|RoomFloor8|Bedrooms|SQFTBELOWGROUND|AssumableMortgage|AssociationFee|ASSESSMENTPENDING|AssessedValuation|\n",
       "+---+-----+-------------------+--------------------+----------+----------+---------------+----------------+---------------+--------------+---------+---------------+-----------------+------------+--------------+-----+---------+-----------------+--------------------+------------+-------------------+----------+---------+--------------------+--------------------+----------+------------------+---------------+----+--------------------+---------------+-----+----------+---------+------------------+-------+----------+----------+---------+------------------+--------------------+-----+------------------+--------------------+----------------+--------------+---------+--------+----------+----------+---------+---------------------+--------------------+---------+---------+-----------+-----------------+-----+----------+--------------------+---------+----------+---------+----------+---------+----------+---------+----------+--------+---------------+-----------------+--------------+-----------------+-----------------+\n",
       "|  1| RMLS|              11511|11511 Stillwater ...|Stillwater|     55042|             MN|LELM - Lake Elmo|         143000|7/15/2017 0:00|   139900|Exclusive Right|           139900|    145.9184|           980|Other|       C4|          279X200|    834 - Stillwater|          10|2017-07-30 00:00:00|         0|  12 x  9|Living Room, Dini...|                NULL|      Main|                No|           NULL|  10|     Attached Garage|            980| 1858|      Main|  16 x 13|            1858.0|   2017|       980|      NULL|     1950|Residential-Single|      (SF) One Story| 1.28|           Central|Range, Dishwasher...|            NULL|          NULL|     NULL|   Vinyl|      NULL|      Main|   9 x  7|       Eat In Kitchen|                Full|        1|        1|          0|                0|   SF|         2|Main Floor 3/4 Ba...|  13 x 11|      Main|  10 x 10|      Main|     NULL|      NULL|     NULL|      NULL|       3|              0|             NULL|             0|          Unknown|              0.0|\n",
       "|  2| RMLS|              11200|     11200 31st St N|      31st|     55042|             MN|LELM - Lake Elmo|         190000|10/9/2017 0:00|   210000|Exclusive Right|           210000|     85.2783|          1144| NULL|       C1|          100x140|    834 - Stillwater|           4|2017-10-13 00:00:00|         0|    11x11|Living Room, Dini...|Asphalt Shingles,...|      Main|                No|           NULL|   4|Attached Garage, ...|           1268| 1640|      Main|    22x14|            1640.0|   2017|      2228|      NULL|     1971|Residential-Single|(SF) Split Entry ...| 0.32|           Central|Range, Microwave,...|            NULL|   Lower Level|    22x14|   Vinyl|     Lower|      Main|    11x12| Informal Dining R...|Full, Partial Fin...|        1|        0|          0|                2|   SF|         3|Main Floor Full B...|    15x11|      Main|    14x11|      Main|    10x11|      Main|    11x11|     Lower|       4|            960|             NULL|             0|          Unknown|              0.0|\n",
       "+---+-----+-------------------+--------------------+----------+----------+---------------+----------------+---------------+--------------+---------+---------------+-----------------+------------+--------------+-----+---------+-----------------+--------------------+------------+-------------------+----------+---------+--------------------+--------------------+----------+------------------+---------------+----+--------------------+---------------+-----+----------+---------+------------------+-------+----------+----------+---------+------------------+--------------------+-----+------------------+--------------------+----------------+--------------+---------+--------+----------+----------+---------+---------------------+--------------------+---------+---------+-----------+-----------------+-----+----------+--------------------+---------+----------+---------+----------+---------+----------+---------+----------+--------+---------------+-----------------+--------------+-----------------+-----------------+"
      ]
     },
     "execution_count": 55,
     "metadata": {},
     "output_type": "execute_result"
    }
   ],
   "source": [
    "# Initializing the data\n",
    "df = real_state.select('*')    \n",
    "print('Dataframe shape:', (df.count(), len(df.columns)))\n",
    "df.limit(2)"
   ]
  },
  {
   "cell_type": "code",
   "execution_count": 56,
   "id": "17697d8e-a9aa-4e7f-86e6-e8583cdfe51b",
   "metadata": {},
   "outputs": [
    {
     "data": {
      "text/plain": [
       "{'FENCE': 0.4056,\n",
       " 'RoomArea4': 0.0606,\n",
       " 'ROOF': 0.153,\n",
       " 'RoomFloor4': 0.0306,\n",
       " 'PoolDescription': 0.6586,\n",
       " 'RoomFloor1': 0.0698,\n",
       " 'RoomArea1': 0.0914,\n",
       " 'UNITNUMBER': 0.8788,\n",
       " 'APPLIANCES': 0.0662,\n",
       " 'backonmarketdate': 1.0,\n",
       " 'ROOMFAMILYCHAR': 0.392,\n",
       " 'RoomArea3': 0.4624,\n",
       " 'RoomFloor3': 0.4402,\n",
       " 'RoomFloor2': 0.1964,\n",
       " 'RoomArea2': 0.225,\n",
       " 'DiningRoomDescription': 0.1296,\n",
       " 'BATHSTHREEQUARTER': 0.0002,\n",
       " 'BATHDESC': 0.0732,\n",
       " 'RoomArea5': 0.0492,\n",
       " 'RoomFloor5': 0.029,\n",
       " 'RoomArea6': 0.0782,\n",
       " 'RoomFloor6': 0.0586,\n",
       " 'RoomArea7': 0.3054,\n",
       " 'RoomFloor7': 0.2882,\n",
       " 'RoomArea8': 0.697,\n",
       " 'RoomFloor8': 0.6878,\n",
       " 'AssumableMortgage': 0.6208}"
      ]
     },
     "execution_count": 56,
     "metadata": {},
     "output_type": "execute_result"
    }
   ],
   "source": [
    "# How many null there are\n",
    "Dict_Null = {col: df.filter(df[f\"`{col}`\"].isNull()).count() for col in df.columns}\n",
    "total_rows = df.count()\n",
    "\n",
    "# Filtering columns without null values\n",
    "{k: v/total_rows  for k, v in Dict_Null.items() if v != 0}"
   ]
  },
  {
   "cell_type": "code",
   "execution_count": 57,
   "id": "df28ae8d-cc9b-4fe6-a847-f1699a369d7a",
   "metadata": {},
   "outputs": [
    {
     "data": {
      "text/plain": [
       "{'PoolDescription': 0.6586,\n",
       " 'UNITNUMBER': 0.8788,\n",
       " 'backonmarketdate': 1.0,\n",
       " 'RoomArea8': 0.697,\n",
       " 'RoomFloor8': 0.6878,\n",
       " 'AssumableMortgage': 0.6208}"
      ]
     },
     "execution_count": 57,
     "metadata": {},
     "output_type": "execute_result"
    }
   ],
   "source": [
    "# Filtering columns with null values proportion greater than 0.6\n",
    "{k: v/total_rows  for k, v in Dict_Null.items() if v/total_rows > 0.6}"
   ]
  },
  {
   "cell_type": "code",
   "execution_count": 58,
   "id": "0da9ce19-ff41-4ec1-9f61-92acc6eef97f",
   "metadata": {},
   "outputs": [
    {
     "name": "stdout",
     "output_type": "stream",
     "text": [
      "Dataframe shape: (5000, 68)\n"
     ]
    },
    {
     "data": {
      "text/html": [
       "<table border='1'>\n",
       "<tr><th>No.</th><th>MLSID</th><th>StreetNumberNumeric</th><th>streetaddress</th><th>STREETNAME</th><th>PostalCode</th><th>StateOrProvince</th><th>City</th><th>SalesClosePrice</th><th>LISTDATE</th><th>LISTPRICE</th><th>LISTTYPE</th><th>OriginalListPrice</th><th>PricePerTSFT</th><th>FOUNDATIONSIZE</th><th>FENCE</th><th>MapLetter</th><th>LotSizeDimensions</th><th>SchoolDistrictNumber</th><th>DAYSONMARKET</th><th>offmarketdate</th><th>Fireplaces</th><th>RoomArea4</th><th>roomtype</th><th>ROOF</th><th>RoomFloor4</th><th>PotentialShortSale</th><th>PDOM</th><th>GarageDescription</th><th>SQFTABOVEGROUND</th><th>Taxes</th><th>RoomFloor1</th><th>RoomArea1</th><th>TAXWITHASSESSMENTS</th><th>TAXYEAR</th><th>LivingArea</th><th>YEARBUILT</th><th>ZONING</th><th>STYLE</th><th>ACRES</th><th>CoolingDescription</th><th>APPLIANCES</th><th>ROOMFAMILYCHAR</th><th>RoomArea3</th><th>EXTERIOR</th><th>RoomFloor3</th><th>RoomFloor2</th><th>RoomArea2</th><th>DiningRoomDescription</th><th>BASEMENT</th><th>BathsFull</th><th>BathsHalf</th><th>BATHQUARTER</th><th>BATHSTHREEQUARTER</th><th>Class</th><th>BATHSTOTAL</th><th>BATHDESC</th><th>RoomArea5</th><th>RoomFloor5</th><th>RoomArea6</th><th>RoomFloor6</th><th>RoomArea7</th><th>RoomFloor7</th><th>Bedrooms</th><th>SQFTBELOWGROUND</th><th>AssociationFee</th><th>ASSESSMENTPENDING</th><th>AssessedValuation</th></tr>\n",
       "<tr><td>1</td><td>RMLS</td><td>11511</td><td>11511 Stillwater ...</td><td>Stillwater</td><td>55042</td><td>MN</td><td>LELM - Lake Elmo</td><td>143000</td><td>7/15/2017 0:00</td><td>139900</td><td>Exclusive Right</td><td>139900</td><td>145.9184</td><td>980</td><td>Other</td><td>C4</td><td>279X200</td><td>834 - Stillwater</td><td>10</td><td>2017-07-30 00:00:00</td><td>0</td><td>12 x  9</td><td>Living Room, Dini...</td><td>NULL</td><td>Main</td><td>No</td><td>10</td><td>Attached Garage</td><td>980</td><td>1858</td><td>Main</td><td>16 x 13</td><td>1858.0</td><td>2017</td><td>980</td><td>1950</td><td>Residential-Single</td><td>(SF) One Story</td><td>1.28</td><td>Central</td><td>Range, Dishwasher...</td><td>NULL</td><td>NULL</td><td>Vinyl</td><td>NULL</td><td>Main</td><td>9 x  7</td><td>Eat In Kitchen</td><td>Full</td><td>1</td><td>1</td><td>0</td><td>0</td><td>SF</td><td>2</td><td>Main Floor 3/4 Ba...</td><td>13 x 11</td><td>Main</td><td>10 x 10</td><td>Main</td><td>NULL</td><td>NULL</td><td>3</td><td>0</td><td>0</td><td>Unknown</td><td>0.0</td></tr>\n",
       "<tr><td>2</td><td>RMLS</td><td>11200</td><td>11200 31st St N</td><td>31st</td><td>55042</td><td>MN</td><td>LELM - Lake Elmo</td><td>190000</td><td>10/9/2017 0:00</td><td>210000</td><td>Exclusive Right</td><td>210000</td><td>85.2783</td><td>1144</td><td>NULL</td><td>C1</td><td>100x140</td><td>834 - Stillwater</td><td>4</td><td>2017-10-13 00:00:00</td><td>0</td><td>11x11</td><td>Living Room, Dini...</td><td>Asphalt Shingles,...</td><td>Main</td><td>No</td><td>4</td><td>Attached Garage, ...</td><td>1268</td><td>1640</td><td>Main</td><td>22x14</td><td>1640.0</td><td>2017</td><td>2228</td><td>1971</td><td>Residential-Single</td><td>(SF) Split Entry ...</td><td>0.32</td><td>Central</td><td>Range, Microwave,...</td><td>Lower Level</td><td>22x14</td><td>Vinyl</td><td>Lower</td><td>Main</td><td>11x12</td><td>Informal Dining R...</td><td>Full, Partial Fin...</td><td>1</td><td>0</td><td>0</td><td>2</td><td>SF</td><td>3</td><td>Main Floor Full B...</td><td>15x11</td><td>Main</td><td>14x11</td><td>Main</td><td>10x11</td><td>Main</td><td>4</td><td>960</td><td>0</td><td>Unknown</td><td>0.0</td></tr>\n",
       "</table>\n"
      ],
      "text/plain": [
       "+---+-----+-------------------+--------------------+----------+----------+---------------+----------------+---------------+--------------+---------+---------------+-----------------+------------+--------------+-----+---------+-----------------+--------------------+------------+-------------------+----------+---------+--------------------+--------------------+----------+------------------+----+--------------------+---------------+-----+----------+---------+------------------+-------+----------+---------+------------------+--------------------+-----+------------------+--------------------+--------------+---------+--------+----------+----------+---------+---------------------+--------------------+---------+---------+-----------+-----------------+-----+----------+--------------------+---------+----------+---------+----------+---------+----------+--------+---------------+--------------+-----------------+-----------------+\n",
       "|No.|MLSID|StreetNumberNumeric|       streetaddress|STREETNAME|PostalCode|StateOrProvince|            City|SalesClosePrice|      LISTDATE|LISTPRICE|       LISTTYPE|OriginalListPrice|PricePerTSFT|FOUNDATIONSIZE|FENCE|MapLetter|LotSizeDimensions|SchoolDistrictNumber|DAYSONMARKET|      offmarketdate|Fireplaces|RoomArea4|            roomtype|                ROOF|RoomFloor4|PotentialShortSale|PDOM|   GarageDescription|SQFTABOVEGROUND|Taxes|RoomFloor1|RoomArea1|TAXWITHASSESSMENTS|TAXYEAR|LivingArea|YEARBUILT|            ZONING|               STYLE|ACRES|CoolingDescription|          APPLIANCES|ROOMFAMILYCHAR|RoomArea3|EXTERIOR|RoomFloor3|RoomFloor2|RoomArea2|DiningRoomDescription|            BASEMENT|BathsFull|BathsHalf|BATHQUARTER|BATHSTHREEQUARTER|Class|BATHSTOTAL|            BATHDESC|RoomArea5|RoomFloor5|RoomArea6|RoomFloor6|RoomArea7|RoomFloor7|Bedrooms|SQFTBELOWGROUND|AssociationFee|ASSESSMENTPENDING|AssessedValuation|\n",
       "+---+-----+-------------------+--------------------+----------+----------+---------------+----------------+---------------+--------------+---------+---------------+-----------------+------------+--------------+-----+---------+-----------------+--------------------+------------+-------------------+----------+---------+--------------------+--------------------+----------+------------------+----+--------------------+---------------+-----+----------+---------+------------------+-------+----------+---------+------------------+--------------------+-----+------------------+--------------------+--------------+---------+--------+----------+----------+---------+---------------------+--------------------+---------+---------+-----------+-----------------+-----+----------+--------------------+---------+----------+---------+----------+---------+----------+--------+---------------+--------------+-----------------+-----------------+\n",
       "|  1| RMLS|              11511|11511 Stillwater ...|Stillwater|     55042|             MN|LELM - Lake Elmo|         143000|7/15/2017 0:00|   139900|Exclusive Right|           139900|    145.9184|           980|Other|       C4|          279X200|    834 - Stillwater|          10|2017-07-30 00:00:00|         0|  12 x  9|Living Room, Dini...|                NULL|      Main|                No|  10|     Attached Garage|            980| 1858|      Main|  16 x 13|            1858.0|   2017|       980|     1950|Residential-Single|      (SF) One Story| 1.28|           Central|Range, Dishwasher...|          NULL|     NULL|   Vinyl|      NULL|      Main|   9 x  7|       Eat In Kitchen|                Full|        1|        1|          0|                0|   SF|         2|Main Floor 3/4 Ba...|  13 x 11|      Main|  10 x 10|      Main|     NULL|      NULL|       3|              0|             0|          Unknown|              0.0|\n",
       "|  2| RMLS|              11200|     11200 31st St N|      31st|     55042|             MN|LELM - Lake Elmo|         190000|10/9/2017 0:00|   210000|Exclusive Right|           210000|     85.2783|          1144| NULL|       C1|          100x140|    834 - Stillwater|           4|2017-10-13 00:00:00|         0|    11x11|Living Room, Dini...|Asphalt Shingles,...|      Main|                No|   4|Attached Garage, ...|           1268| 1640|      Main|    22x14|            1640.0|   2017|      2228|     1971|Residential-Single|(SF) Split Entry ...| 0.32|           Central|Range, Microwave,...|   Lower Level|    22x14|   Vinyl|     Lower|      Main|    11x12| Informal Dining R...|Full, Partial Fin...|        1|        0|          0|                2|   SF|         3|Main Floor Full B...|    15x11|      Main|    14x11|      Main|    10x11|      Main|       4|            960|             0|          Unknown|              0.0|\n",
       "+---+-----+-------------------+--------------------+----------+----------+---------------+----------------+---------------+--------------+---------+---------------+-----------------+------------+--------------+-----+---------+-----------------+--------------------+------------+-------------------+----------+---------+--------------------+--------------------+----------+------------------+----+--------------------+---------------+-----+----------+---------+------------------+-------+----------+---------+------------------+--------------------+-----+------------------+--------------------+--------------+---------+--------+----------+----------+---------+---------------------+--------------------+---------+---------+-----------+-----------------+-----+----------+--------------------+---------+----------+---------+----------+---------+----------+--------+---------------+--------------+-----------------+-----------------+"
      ]
     },
     "execution_count": 58,
     "metadata": {},
     "output_type": "execute_result"
    }
   ],
   "source": [
    "# Function to automate dropping columns\n",
    "def column_dropper(df: pd.DataFrame, threshold: float) -> pd.DataFrame:\n",
    "    '''Takes a dataframe and threshold for missing values. Returns a dataframe.'''\n",
    "    total_records = df.count()\n",
    "    for col in df.columns:\n",
    "        # Calculate the percentage of missing values\n",
    "        missing = df.where(df[f'`{col}`'].isNull()).count()\n",
    "        missing_percent = missing / total_records\n",
    "        \n",
    "        # Drop column if percent of missing is more than threshold\n",
    "        if missing_percent > threshold:\n",
    "            df = df.drop(col)\n",
    "    return df\n",
    "\n",
    "# Drop columns that are more than 60% missing\n",
    "df = column_dropper(df, 0.6)\n",
    "\n",
    "print('Dataframe shape:', (df.count(), len(df.columns)))\n",
    "df.limit(2)"
   ]
  },
  {
   "cell_type": "code",
   "execution_count": 59,
   "id": "b14a4ab9-f347-4fcc-9121-978232caf85b",
   "metadata": {},
   "outputs": [
    {
     "data": {
      "text/plain": [
       "{}"
      ]
     },
     "execution_count": 59,
     "metadata": {},
     "output_type": "execute_result"
    }
   ],
   "source": [
    "# How many null there are\n",
    "Dict_Null = {col: df.filter(df[f\"`{col}`\"].isNull()).count() for col in df.columns}\n",
    "total_rows = df.count()\n",
    "\n",
    "# Filtering columns with null values proportion greater than 0.6\n",
    "{k: v/total_rows  for k, v in Dict_Null.items() if v/total_rows > 0.6}"
   ]
  },
  {
   "cell_type": "markdown",
   "id": "7e443ff5-22cc-4327-8c80-7d40293190ed",
   "metadata": {},
   "source": [
    "## Getting More Data"
   ]
  },
  {
   "cell_type": "code",
   "execution_count": 60,
   "id": "743981d4-7fa7-40e0-ab5c-9cb183acb1a1",
   "metadata": {},
   "outputs": [
    {
     "name": "stdout",
     "output_type": "stream",
     "text": [
      "Dataframe shape: (5000, 74)\n"
     ]
    },
    {
     "data": {
      "text/html": [
       "<table border='1'>\n",
       "<tr><th>No.</th><th>MLSID</th><th>StreetNumberNumeric</th><th>streetaddress</th><th>STREETNAME</th><th>PostalCode</th><th>StateOrProvince</th><th>City</th><th>SalesClosePrice</th><th>LISTDATE</th><th>LISTPRICE</th><th>LISTTYPE</th><th>OriginalListPrice</th><th>PricePerTSFT</th><th>FOUNDATIONSIZE</th><th>FENCE</th><th>MapLetter</th><th>LotSizeDimensions</th><th>SchoolDistrictNumber</th><th>DAYSONMARKET</th><th>offmarketdate</th><th>Fireplaces</th><th>RoomArea4</th><th>roomtype</th><th>ROOF</th><th>RoomFloor4</th><th>PotentialShortSale</th><th>PoolDescription</th><th>PDOM</th><th>GarageDescription</th><th>SQFTABOVEGROUND</th><th>Taxes</th><th>RoomFloor1</th><th>RoomArea1</th><th>TAXWITHASSESSMENTS</th><th>TAXYEAR</th><th>LivingArea</th><th>UNITNUMBER</th><th>YEARBUILT</th><th>ZONING</th><th>STYLE</th><th>ACRES</th><th>CoolingDescription</th><th>APPLIANCES</th><th>backonmarketdate</th><th>ROOMFAMILYCHAR</th><th>RoomArea3</th><th>EXTERIOR</th><th>RoomFloor3</th><th>RoomFloor2</th><th>RoomArea2</th><th>DiningRoomDescription</th><th>BASEMENT</th><th>BathsFull</th><th>BathsHalf</th><th>BATHQUARTER</th><th>BATHSTHREEQUARTER</th><th>Class</th><th>BATHSTOTAL</th><th>BATHDESC</th><th>RoomArea5</th><th>RoomFloor5</th><th>RoomArea6</th><th>RoomFloor6</th><th>RoomArea7</th><th>RoomFloor7</th><th>RoomArea8</th><th>RoomFloor8</th><th>Bedrooms</th><th>SQFTBELOWGROUND</th><th>AssumableMortgage</th><th>AssociationFee</th><th>ASSESSMENTPENDING</th><th>AssessedValuation</th></tr>\n",
       "<tr><td>1</td><td>RMLS</td><td>11511</td><td>11511 Stillwater ...</td><td>Stillwater</td><td>55042</td><td>MN</td><td>LELM - Lake Elmo</td><td>143000</td><td>7/15/2017 0:00</td><td>139900</td><td>Exclusive Right</td><td>139900</td><td>145.9184</td><td>980</td><td>Other</td><td>C4</td><td>279X200</td><td>834 - Stillwater</td><td>10</td><td>2017-07-30 00:00:00</td><td>0</td><td>12 x  9</td><td>Living Room, Dini...</td><td>NULL</td><td>Main</td><td>No</td><td>NULL</td><td>10</td><td>Attached Garage</td><td>980</td><td>1858</td><td>Main</td><td>16 x 13</td><td>1858.0</td><td>2017</td><td>980</td><td>NULL</td><td>1950</td><td>Residential-Single</td><td>(SF) One Story</td><td>1.28</td><td>Central</td><td>Range, Dishwasher...</td><td>NULL</td><td>NULL</td><td>NULL</td><td>Vinyl</td><td>NULL</td><td>Main</td><td>9 x  7</td><td>Eat In Kitchen</td><td>Full</td><td>1</td><td>1</td><td>0</td><td>0</td><td>SF</td><td>2</td><td>Main Floor 3/4 Ba...</td><td>13 x 11</td><td>Main</td><td>10 x 10</td><td>Main</td><td>NULL</td><td>NULL</td><td>NULL</td><td>NULL</td><td>3</td><td>0</td><td>NULL</td><td>0</td><td>Unknown</td><td>0.0</td></tr>\n",
       "<tr><td>2</td><td>RMLS</td><td>11200</td><td>11200 31st St N</td><td>31st</td><td>55042</td><td>MN</td><td>LELM - Lake Elmo</td><td>190000</td><td>10/9/2017 0:00</td><td>210000</td><td>Exclusive Right</td><td>210000</td><td>85.2783</td><td>1144</td><td>NULL</td><td>C1</td><td>100x140</td><td>834 - Stillwater</td><td>4</td><td>2017-10-13 00:00:00</td><td>0</td><td>11x11</td><td>Living Room, Dini...</td><td>Asphalt Shingles,...</td><td>Main</td><td>No</td><td>NULL</td><td>4</td><td>Attached Garage, ...</td><td>1268</td><td>1640</td><td>Main</td><td>22x14</td><td>1640.0</td><td>2017</td><td>2228</td><td>NULL</td><td>1971</td><td>Residential-Single</td><td>(SF) Split Entry ...</td><td>0.32</td><td>Central</td><td>Range, Microwave,...</td><td>NULL</td><td>Lower Level</td><td>22x14</td><td>Vinyl</td><td>Lower</td><td>Main</td><td>11x12</td><td>Informal Dining R...</td><td>Full, Partial Fin...</td><td>1</td><td>0</td><td>0</td><td>2</td><td>SF</td><td>3</td><td>Main Floor Full B...</td><td>15x11</td><td>Main</td><td>14x11</td><td>Main</td><td>10x11</td><td>Main</td><td>11x11</td><td>Lower</td><td>4</td><td>960</td><td>NULL</td><td>0</td><td>Unknown</td><td>0.0</td></tr>\n",
       "</table>\n"
      ],
      "text/plain": [
       "+---+-----+-------------------+--------------------+----------+----------+---------------+----------------+---------------+--------------+---------+---------------+-----------------+------------+--------------+-----+---------+-----------------+--------------------+------------+-------------------+----------+---------+--------------------+--------------------+----------+------------------+---------------+----+--------------------+---------------+-----+----------+---------+------------------+-------+----------+----------+---------+------------------+--------------------+-----+------------------+--------------------+----------------+--------------+---------+--------+----------+----------+---------+---------------------+--------------------+---------+---------+-----------+-----------------+-----+----------+--------------------+---------+----------+---------+----------+---------+----------+---------+----------+--------+---------------+-----------------+--------------+-----------------+-----------------+\n",
       "|No.|MLSID|StreetNumberNumeric|       streetaddress|STREETNAME|PostalCode|StateOrProvince|            City|SalesClosePrice|      LISTDATE|LISTPRICE|       LISTTYPE|OriginalListPrice|PricePerTSFT|FOUNDATIONSIZE|FENCE|MapLetter|LotSizeDimensions|SchoolDistrictNumber|DAYSONMARKET|      offmarketdate|Fireplaces|RoomArea4|            roomtype|                ROOF|RoomFloor4|PotentialShortSale|PoolDescription|PDOM|   GarageDescription|SQFTABOVEGROUND|Taxes|RoomFloor1|RoomArea1|TAXWITHASSESSMENTS|TAXYEAR|LivingArea|UNITNUMBER|YEARBUILT|            ZONING|               STYLE|ACRES|CoolingDescription|          APPLIANCES|backonmarketdate|ROOMFAMILYCHAR|RoomArea3|EXTERIOR|RoomFloor3|RoomFloor2|RoomArea2|DiningRoomDescription|            BASEMENT|BathsFull|BathsHalf|BATHQUARTER|BATHSTHREEQUARTER|Class|BATHSTOTAL|            BATHDESC|RoomArea5|RoomFloor5|RoomArea6|RoomFloor6|RoomArea7|RoomFloor7|RoomArea8|RoomFloor8|Bedrooms|SQFTBELOWGROUND|AssumableMortgage|AssociationFee|ASSESSMENTPENDING|AssessedValuation|\n",
       "+---+-----+-------------------+--------------------+----------+----------+---------------+----------------+---------------+--------------+---------+---------------+-----------------+------------+--------------+-----+---------+-----------------+--------------------+------------+-------------------+----------+---------+--------------------+--------------------+----------+------------------+---------------+----+--------------------+---------------+-----+----------+---------+------------------+-------+----------+----------+---------+------------------+--------------------+-----+------------------+--------------------+----------------+--------------+---------+--------+----------+----------+---------+---------------------+--------------------+---------+---------+-----------+-----------------+-----+----------+--------------------+---------+----------+---------+----------+---------+----------+---------+----------+--------+---------------+-----------------+--------------+-----------------+-----------------+\n",
       "|  1| RMLS|              11511|11511 Stillwater ...|Stillwater|     55042|             MN|LELM - Lake Elmo|         143000|7/15/2017 0:00|   139900|Exclusive Right|           139900|    145.9184|           980|Other|       C4|          279X200|    834 - Stillwater|          10|2017-07-30 00:00:00|         0|  12 x  9|Living Room, Dini...|                NULL|      Main|                No|           NULL|  10|     Attached Garage|            980| 1858|      Main|  16 x 13|            1858.0|   2017|       980|      NULL|     1950|Residential-Single|      (SF) One Story| 1.28|           Central|Range, Dishwasher...|            NULL|          NULL|     NULL|   Vinyl|      NULL|      Main|   9 x  7|       Eat In Kitchen|                Full|        1|        1|          0|                0|   SF|         2|Main Floor 3/4 Ba...|  13 x 11|      Main|  10 x 10|      Main|     NULL|      NULL|     NULL|      NULL|       3|              0|             NULL|             0|          Unknown|              0.0|\n",
       "|  2| RMLS|              11200|     11200 31st St N|      31st|     55042|             MN|LELM - Lake Elmo|         190000|10/9/2017 0:00|   210000|Exclusive Right|           210000|     85.2783|          1144| NULL|       C1|          100x140|    834 - Stillwater|           4|2017-10-13 00:00:00|         0|    11x11|Living Room, Dini...|Asphalt Shingles,...|      Main|                No|           NULL|   4|Attached Garage, ...|           1268| 1640|      Main|    22x14|            1640.0|   2017|      2228|      NULL|     1971|Residential-Single|(SF) Split Entry ...| 0.32|           Central|Range, Microwave,...|            NULL|   Lower Level|    22x14|   Vinyl|     Lower|      Main|    11x12| Informal Dining R...|Full, Partial Fin...|        1|        0|          0|                2|   SF|         3|Main Floor Full B...|    15x11|      Main|    14x11|      Main|    10x11|      Main|    11x11|     Lower|       4|            960|             NULL|             0|          Unknown|              0.0|\n",
       "+---+-----+-------------------+--------------------+----------+----------+---------------+----------------+---------------+--------------+---------+---------------+-----------------+------------+--------------+-----+---------+-----------------+--------------------+------------+-------------------+----------+---------+--------------------+--------------------+----------+------------------+---------------+----+--------------------+---------------+-----+----------+---------+------------------+-------+----------+----------+---------+------------------+--------------------+-----+------------------+--------------------+----------------+--------------+---------+--------+----------+----------+---------+---------------------+--------------------+---------+---------+-----------+-----------------+-----+----------+--------------------+---------+----------+---------+----------+---------+----------+---------+----------+--------+---------------+-----------------+--------------+-----------------+-----------------+"
      ]
     },
     "execution_count": 60,
     "metadata": {},
     "output_type": "execute_result"
    }
   ],
   "source": [
    "# Initializing the data\n",
    "df = real_state.select('*')\n",
    "df.createOrReplaceTempView(\"df\")\n",
    "print('Dataframe shape:', (df.count(), len(df.columns)))\n",
    "df.limit(2)"
   ]
  },
  {
   "cell_type": "markdown",
   "id": "7a5c3dc7-f393-41b5-a05c-12312bd2e556",
   "metadata": {},
   "source": [
    "### PySpark DataFrame Joins"
   ]
  },
  {
   "cell_type": "code",
   "execution_count": 61,
   "id": "d0d678af-95c4-44e0-be9e-fea1814266e0",
   "metadata": {},
   "outputs": [
    {
     "name": "stdout",
     "output_type": "stream",
     "text": [
      "+-------------------+\n",
      "|year(OFFMARKETDATE)|\n",
      "+-------------------+\n",
      "|               2018|\n",
      "|               2017|\n",
      "+-------------------+\n",
      "\n"
     ]
    }
   ],
   "source": [
    "df.select(F.year('OFFMARKETDATE')).distinct().show()"
   ]
  },
  {
   "cell_type": "code",
   "execution_count": 62,
   "id": "40fb6465-2295-444a-a911-c59fad649435",
   "metadata": {},
   "outputs": [
    {
     "name": "stdout",
     "output_type": "stream",
     "text": [
      "root\n",
      " |-- Date: date (nullable = true)\n",
      " |-- Holiday: string (nullable = true)\n",
      " |-- WeekDay: string (nullable = true)\n",
      " |-- Month: integer (nullable = true)\n",
      " |-- Day: integer (nullable = true)\n",
      " |-- Year: integer (nullable = true)\n",
      "\n"
     ]
    },
    {
     "data": {
      "text/html": [
       "<table border='1'>\n",
       "<tr><th>Date</th><th>Holiday</th><th>WeekDay</th><th>Month</th><th>Day</th><th>Year</th></tr>\n",
       "<tr><td>2017-07-04</td><td>4th of July</td><td>Tuesday</td><td>7</td><td>4</td><td>2017</td></tr>\n",
       "<tr><td>2018-07-04</td><td>4th of July</td><td>Wednesday</td><td>7</td><td>4</td><td>2018</td></tr>\n",
       "</table>\n"
      ],
      "text/plain": [
       "+----------+-----------+---------+-----+---+----+\n",
       "|      Date|    Holiday|  WeekDay|Month|Day|Year|\n",
       "+----------+-----------+---------+-----+---+----+\n",
       "|2017-07-04|4th of July|  Tuesday|    7|  4|2017|\n",
       "|2018-07-04|4th of July|Wednesday|    7|  4|2018|\n",
       "+----------+-----------+---------+-----+---+----+"
      ]
     },
     "execution_count": 62,
     "metadata": {},
     "output_type": "execute_result"
    }
   ],
   "source": [
    "# Loading a holiday datasets\n",
    "holiday = spark.read.csv('data-sources/USHolidayDates2017-2018.csv', header=True, inferSchema=True)\n",
    "\n",
    "# cast columns\n",
    "holiday = holiday.withColumn(\"Date\", F.to_date(holiday[\"Date\"], \"M/d/yyyy\"))\n",
    "holiday.createOrReplaceTempView(\"holiday\")\n",
    "holiday.printSchema()\n",
    "holiday.limit(2)"
   ]
  },
  {
   "cell_type": "code",
   "execution_count": 63,
   "id": "dd475cd2-d6b6-4a8e-bd4b-f5872c061a9a",
   "metadata": {},
   "outputs": [
    {
     "name": "stdout",
     "output_type": "stream",
     "text": [
      "+----------+\n",
      "|year(Date)|\n",
      "+----------+\n",
      "|      2018|\n",
      "|      2017|\n",
      "+----------+\n",
      "\n"
     ]
    }
   ],
   "source": [
    "holiday.select(F.year('Date')).distinct().show()"
   ]
  },
  {
   "cell_type": "code",
   "execution_count": 64,
   "id": "7bbd6db5-d32d-4e98-859b-b426662161fb",
   "metadata": {},
   "outputs": [
    {
     "name": "stdout",
     "output_type": "stream",
     "text": [
      "How many sales occurred on bank holidays? 94\n"
     ]
    }
   ],
   "source": [
    "# Specify join conditon\n",
    "cond = [df['OFFMARKETDATE'] == holiday['Date']]\n",
    "\n",
    "# Join two holiday onto df\n",
    "df_holiday = df.join(holiday, on=cond, how='left')\n",
    "\n",
    "# How many sales occurred on bank holidays?\n",
    "print(\n",
    "    'How many sales occurred on bank holidays?', \n",
    "    df_holiday.where(~df_holiday['Holiday'].isNull()).count()\n",
    ")"
   ]
  },
  {
   "cell_type": "code",
   "execution_count": 65,
   "id": "96926364-20cd-4b6c-ba88-302411f939d1",
   "metadata": {},
   "outputs": [
    {
     "name": "stdout",
     "output_type": "stream",
     "text": [
      "+-------------------+----------+--------------------+\n",
      "|      OFFMARKETDATE|      Date|             Holiday|\n",
      "+-------------------+----------+--------------------+\n",
      "|2017-11-11 00:00:00|2017-11-11|        Veterans Day|\n",
      "|2017-06-19 00:00:00|2017-06-19|          Juneteenth|\n",
      "|2017-10-09 00:00:00|2017-10-09|        Columbus Day|\n",
      "|2017-10-09 00:00:00|2017-10-09|        Columbus Day|\n",
      "|2017-06-19 00:00:00|2017-06-19|          Juneteenth|\n",
      "|2017-06-19 00:00:00|2017-06-19|          Juneteenth|\n",
      "|2017-04-16 00:00:00|2017-04-16|      Western Easter|\n",
      "|2017-04-16 00:00:00|2017-04-16|      Eastern Easter|\n",
      "|2017-10-09 00:00:00|2017-10-09|        Columbus Day|\n",
      "|2017-10-09 00:00:00|2017-10-09|        Columbus Day|\n",
      "|2017-11-22 00:00:00|2017-11-22|    Thanksgiving Eve|\n",
      "|2017-09-02 00:00:00|2017-09-02|   Labor Day Weekend|\n",
      "|2017-11-22 00:00:00|2017-11-22|    Thanksgiving Eve|\n",
      "|2017-09-02 00:00:00|2017-09-02|   Labor Day Weekend|\n",
      "|2017-09-02 00:00:00|2017-09-02|   Labor Day Weekend|\n",
      "|2017-09-04 00:00:00|2017-09-04|           Labor Day|\n",
      "|2017-06-19 00:00:00|2017-06-19|          Juneteenth|\n",
      "|2017-09-02 00:00:00|2017-09-02|   Labor Day Weekend|\n",
      "|2017-10-09 00:00:00|2017-10-09|        Columbus Day|\n",
      "|2018-01-15 00:00:00|2018-01-15|Martin Luther Kin...|\n",
      "|2017-05-29 00:00:00|2017-05-29|        Memorial Day|\n",
      "|2017-10-09 00:00:00|2017-10-09|        Columbus Day|\n",
      "|2017-06-19 00:00:00|2017-06-19|          Juneteenth|\n",
      "|2017-12-31 00:00:00|2017-12-31|      New Year’s Eve|\n",
      "|2017-04-16 00:00:00|2017-04-16|      Western Easter|\n",
      "|2017-04-16 00:00:00|2017-04-16|      Eastern Easter|\n",
      "|2017-11-23 00:00:00|2017-11-23|    Thanksgiving Day|\n",
      "|2017-09-04 00:00:00|2017-09-04|           Labor Day|\n",
      "|2017-10-09 00:00:00|2017-10-09|        Columbus Day|\n",
      "|2017-06-19 00:00:00|2017-06-19|          Juneteenth|\n",
      "|2017-05-29 00:00:00|2017-05-29|        Memorial Day|\n",
      "|2017-06-19 00:00:00|2017-06-19|          Juneteenth|\n",
      "|2017-09-02 00:00:00|2017-09-02|   Labor Day Weekend|\n",
      "|2017-10-09 00:00:00|2017-10-09|        Columbus Day|\n",
      "|2017-10-09 00:00:00|2017-10-09|        Columbus Day|\n",
      "|2017-06-19 00:00:00|2017-06-19|          Juneteenth|\n",
      "|2017-06-19 00:00:00|2017-06-19|          Juneteenth|\n",
      "|2017-10-09 00:00:00|2017-10-09|        Columbus Day|\n",
      "|2017-10-09 00:00:00|2017-10-09|        Columbus Day|\n",
      "|2017-11-22 00:00:00|2017-11-22|    Thanksgiving Eve|\n",
      "|2017-11-22 00:00:00|2017-11-22|    Thanksgiving Eve|\n",
      "|2017-05-29 00:00:00|2017-05-29|        Memorial Day|\n",
      "|2017-10-09 00:00:00|2017-10-09|        Columbus Day|\n",
      "|2017-11-23 00:00:00|2017-11-23|    Thanksgiving Day|\n",
      "|2017-11-11 00:00:00|2017-11-11|        Veterans Day|\n",
      "|2017-10-09 00:00:00|2017-10-09|        Columbus Day|\n",
      "|2017-06-19 00:00:00|2017-06-19|          Juneteenth|\n",
      "|2017-10-09 00:00:00|2017-10-09|        Columbus Day|\n",
      "|2017-06-19 00:00:00|2017-06-19|          Juneteenth|\n",
      "|2017-06-19 00:00:00|2017-06-19|          Juneteenth|\n",
      "|2017-06-19 00:00:00|2017-06-19|          Juneteenth|\n",
      "|2017-06-19 00:00:00|2017-06-19|          Juneteenth|\n",
      "|2017-06-19 00:00:00|2017-06-19|          Juneteenth|\n",
      "|2017-06-19 00:00:00|2017-06-19|          Juneteenth|\n",
      "|2017-06-19 00:00:00|2017-06-19|          Juneteenth|\n",
      "|2017-09-02 00:00:00|2017-09-02|   Labor Day Weekend|\n",
      "|2017-06-19 00:00:00|2017-06-19|          Juneteenth|\n",
      "|2017-10-09 00:00:00|2017-10-09|        Columbus Day|\n",
      "|2018-01-15 00:00:00|2018-01-15|Martin Luther Kin...|\n",
      "|2017-10-09 00:00:00|2017-10-09|        Columbus Day|\n",
      "|2017-10-09 00:00:00|2017-10-09|        Columbus Day|\n",
      "|2017-10-09 00:00:00|2017-10-09|        Columbus Day|\n",
      "|2017-11-22 00:00:00|2017-11-22|    Thanksgiving Eve|\n",
      "|2017-11-11 00:00:00|2017-11-11|        Veterans Day|\n",
      "|2017-11-22 00:00:00|2017-11-22|    Thanksgiving Eve|\n",
      "|2017-10-09 00:00:00|2017-10-09|        Columbus Day|\n",
      "|2017-09-02 00:00:00|2017-09-02|   Labor Day Weekend|\n",
      "|2017-11-11 00:00:00|2017-11-11|        Veterans Day|\n",
      "|2017-06-19 00:00:00|2017-06-19|          Juneteenth|\n",
      "|2017-06-19 00:00:00|2017-06-19|          Juneteenth|\n",
      "|2017-09-02 00:00:00|2017-09-02|   Labor Day Weekend|\n",
      "|2017-06-19 00:00:00|2017-06-19|          Juneteenth|\n",
      "|2017-09-02 00:00:00|2017-09-02|   Labor Day Weekend|\n",
      "|2017-11-22 00:00:00|2017-11-22|    Thanksgiving Eve|\n",
      "|2017-12-31 00:00:00|2017-12-31|      New Year’s Eve|\n",
      "|2017-10-09 00:00:00|2017-10-09|        Columbus Day|\n",
      "|2017-07-04 00:00:00|2017-07-04|         4th of July|\n",
      "|2017-10-09 00:00:00|2017-10-09|        Columbus Day|\n",
      "|2017-11-22 00:00:00|2017-11-22|    Thanksgiving Eve|\n",
      "|2017-09-02 00:00:00|2017-09-02|   Labor Day Weekend|\n",
      "|2017-10-09 00:00:00|2017-10-09|        Columbus Day|\n",
      "|2017-06-19 00:00:00|2017-06-19|          Juneteenth|\n",
      "|2017-06-19 00:00:00|2017-06-19|          Juneteenth|\n",
      "|2017-06-19 00:00:00|2017-06-19|          Juneteenth|\n",
      "|2017-06-19 00:00:00|2017-06-19|          Juneteenth|\n",
      "|2017-06-19 00:00:00|2017-06-19|          Juneteenth|\n",
      "|2017-10-09 00:00:00|2017-10-09|        Columbus Day|\n",
      "|2017-09-02 00:00:00|2017-09-02|   Labor Day Weekend|\n",
      "|2017-11-11 00:00:00|2017-11-11|        Veterans Day|\n",
      "|2017-11-11 00:00:00|2017-11-11|        Veterans Day|\n",
      "|2017-11-22 00:00:00|2017-11-22|    Thanksgiving Eve|\n",
      "|2017-09-02 00:00:00|2017-09-02|   Labor Day Weekend|\n",
      "|2017-09-02 00:00:00|2017-09-02|   Labor Day Weekend|\n",
      "|2017-06-19 00:00:00|2017-06-19|          Juneteenth|\n",
      "+-------------------+----------+--------------------+\n",
      "\n"
     ]
    }
   ],
   "source": [
    "df_holiday.where(~df_holiday['Holiday'].isNull()).select(['OFFMARKETDATE', 'Date', 'Holiday']).show(94)"
   ]
  },
  {
   "cell_type": "markdown",
   "id": "94c6453c-99e8-4fc7-a614-aa2941b84dc0",
   "metadata": {},
   "source": [
    "### SparkSQL Join"
   ]
  },
  {
   "cell_type": "code",
   "execution_count": 66,
   "id": "8b6ea0d5-b375-4906-9768-7958cd04f062",
   "metadata": {},
   "outputs": [
    {
     "data": {
      "text/plain": [
       "[Table(name='df', catalog=None, namespace=[], description=None, tableType='TEMPORARY', isTemporary=True),\n",
       " Table(name='holiday', catalog=None, namespace=[], description=None, tableType='TEMPORARY', isTemporary=True),\n",
       " Table(name='real_state', catalog=None, namespace=[], description=None, tableType='TEMPORARY', isTemporary=True)]"
      ]
     },
     "execution_count": 66,
     "metadata": {},
     "output_type": "execute_result"
    }
   ],
   "source": [
    "# Tables catalogue\n",
    "spark.catalog.listTables()"
   ]
  },
  {
   "cell_type": "code",
   "execution_count": 67,
   "id": "135c4233-ef6f-4001-ac18-628bb1aae9d7",
   "metadata": {},
   "outputs": [
    {
     "name": "stdout",
     "output_type": "stream",
     "text": [
      "How many sales occurred on bank holidays? 94\n"
     ]
    }
   ],
   "source": [
    "# Write a SQL Statement\n",
    "sql_df = spark.sql(\"\"\"\n",
    "    SELECT *\n",
    "    FROM df\n",
    "    LEFT JOIN holiday \n",
    "        ON df.OFFMARKETDATE = holiday.date\n",
    "\"\"\")\n",
    "# How many sales occurred on bank holidays?\n",
    "print(\n",
    "    'How many sales occurred on bank holidays?', \n",
    "    sql_df.where(~df_holiday['Holiday'].isNull()).count()\n",
    ")"
   ]
  },
  {
   "cell_type": "code",
   "execution_count": 68,
   "id": "86f0b469-083d-4129-951b-ef4962db65f6",
   "metadata": {},
   "outputs": [
    {
     "name": "stdout",
     "output_type": "stream",
     "text": [
      "+-------------------+----------+------------+\n",
      "|      OFFMARKETDATE|      Date|     Holiday|\n",
      "+-------------------+----------+------------+\n",
      "|2017-11-11 00:00:00|2017-11-11|Veterans Day|\n",
      "|2017-06-19 00:00:00|2017-06-19|  Juneteenth|\n",
      "|2017-10-09 00:00:00|2017-10-09|Columbus Day|\n",
      "|2017-10-09 00:00:00|2017-10-09|Columbus Day|\n",
      "|2017-06-19 00:00:00|2017-06-19|  Juneteenth|\n",
      "+-------------------+----------+------------+\n",
      "only showing top 5 rows\n",
      "\n"
     ]
    }
   ],
   "source": [
    "sql_df.where(~df_holiday['Holiday'].isNull()).select(['OFFMARKETDATE', 'Date', 'Holiday']).show(5)"
   ]
  },
  {
   "cell_type": "markdown",
   "id": "0784cb84-cf26-4f0e-9643-5a5b67a53999",
   "metadata": {},
   "source": [
    "## Ex. 9 - A Dangerous Join\n",
    "\n",
    "In this exercise, we will be joining on Latitude and Longitude to bring in another dataset that measures how walk-friendly a neighborhood is. We'll need to be careful to make sure our joining columns are the same data type and ensure we are joining on the same precision (number of digits after the decimal) or our join won't work!\n",
    "\n",
    "Below you will find that df['latitude'] and df['longitude'] are at a higher precision than walk_df['longitude'] and walk_df['latitude'] we'll need to round them to the same precision so the join will work correctly.\n",
    "\n",
    "**Instructions:**\n",
    "\n",
    "1. Convert `walk_df['latitude']` and `walk_df['longitude']` to type `double` by using `cast('double')` on the column and replacing the column in place `withColumn()`.\n",
    "2. Round the columns in place with `withColumn()` and `round('latitude', 5)` and `round('longitude', 5)`.\n",
    "3. Create the join condition of `walk_df['latitude']` matching `df['latitude']` and `walk_df['longitude']` matching `df['longitude']`.\n",
    "4. Join `df` and `walk_df` together with `join()`, using the condition above and the `left` join type. Save the joined dataframe as `join_df`."
   ]
  },
  {
   "cell_type": "code",
   "execution_count": 69,
   "id": "8fc71783-c616-4903-a0e8-1af96eb78cc0",
   "metadata": {},
   "outputs": [
    {
     "name": "stdout",
     "output_type": "stream",
     "text": [
      "Dataframe shape: (5000, 54)\n",
      "root\n",
      " |-- NO: integer (nullable = true)\n",
      " |-- STREETADDRESS: string (nullable = true)\n",
      " |-- POSTALCODE: integer (nullable = true)\n",
      " |-- STATEORPROVINCE: string (nullable = true)\n",
      " |-- CITY: string (nullable = true)\n",
      " |-- SALESCLOSEPRICE: integer (nullable = true)\n",
      " |-- LISTDATE: string (nullable = true)\n",
      " |-- LISTPRICE: integer (nullable = true)\n",
      " |-- LISTTYPE: string (nullable = true)\n",
      " |-- ORIGINALLISTPRICE: integer (nullable = true)\n",
      " |-- PRICEPERTSFT: double (nullable = true)\n",
      " |-- FOUNDATIONSIZE: integer (nullable = true)\n",
      " |-- FENCE: string (nullable = true)\n",
      " |-- SCHOOLDISTRICTNUMBER: string (nullable = true)\n",
      " |-- DAYSONMARKET: integer (nullable = true)\n",
      " |-- OFFMKTDATE: timestamp (nullable = true)\n",
      " |-- FIREPLACES: integer (nullable = true)\n",
      " |-- ROOMTYPE: string (nullable = true)\n",
      " |-- ROOF: string (nullable = true)\n",
      " |-- POTENTIALSHORTSALE: string (nullable = true)\n",
      " |-- POOLDESCRIPTION: string (nullable = true)\n",
      " |-- PDOM: integer (nullable = true)\n",
      " |-- GARAGEDESCRIPTION: string (nullable = true)\n",
      " |-- SQFTABOVEGROUND: integer (nullable = true)\n",
      " |-- TAXES: integer (nullable = true)\n",
      " |-- TAXWITHASSESSMENTS: integer (nullable = true)\n",
      " |-- TAXYEAR: integer (nullable = true)\n",
      " |-- LIVINGAREA: integer (nullable = true)\n",
      " |-- UNITNUMBER: string (nullable = true)\n",
      " |-- YEARBUILT: integer (nullable = true)\n",
      " |-- ZONING: string (nullable = true)\n",
      " |-- STYLE: string (nullable = true)\n",
      " |-- ACRES: double (nullable = true)\n",
      " |-- COOLINGDESCRIPTION: string (nullable = true)\n",
      " |-- APPLIANCES: string (nullable = true)\n",
      " |-- backonmarketdate: double (nullable = true)\n",
      " |-- EXTERIOR: string (nullable = true)\n",
      " |-- DININGROOMDESCRIPTION: string (nullable = true)\n",
      " |-- BASEMENT: string (nullable = true)\n",
      " |-- BATHSFULL: integer (nullable = true)\n",
      " |-- BATHSHALF: integer (nullable = true)\n",
      " |-- BATHQUARTER: integer (nullable = true)\n",
      " |-- BATHSTHREEQUARTER: integer (nullable = true)\n",
      " |-- CLASS: string (nullable = true)\n",
      " |-- BATHSTOTAL: integer (nullable = true)\n",
      " |-- BATHDESC: string (nullable = true)\n",
      " |-- BEDROOMS: integer (nullable = true)\n",
      " |-- SQFTBELOWGROUND: long (nullable = true)\n",
      " |-- ASSUMABLEMORTGAGE: string (nullable = true)\n",
      " |-- AssociationFee: long (nullable = true)\n",
      " |-- ASSESSMENTPENDING: string (nullable = true)\n",
      " |-- ASSESSEDVALUATION: integer (nullable = true)\n",
      " |-- latitude: double (nullable = true)\n",
      " |-- longitude: double (nullable = true)\n",
      "\n"
     ]
    },
    {
     "data": {
      "text/html": [
       "<table border='1'>\n",
       "<tr><th>NO</th><th>STREETADDRESS</th><th>POSTALCODE</th><th>STATEORPROVINCE</th><th>CITY</th><th>SALESCLOSEPRICE</th><th>LISTDATE</th><th>LISTPRICE</th><th>LISTTYPE</th><th>ORIGINALLISTPRICE</th><th>PRICEPERTSFT</th><th>FOUNDATIONSIZE</th><th>FENCE</th><th>SCHOOLDISTRICTNUMBER</th><th>DAYSONMARKET</th><th>OFFMKTDATE</th><th>FIREPLACES</th><th>ROOMTYPE</th><th>ROOF</th><th>POTENTIALSHORTSALE</th><th>POOLDESCRIPTION</th><th>PDOM</th><th>GARAGEDESCRIPTION</th><th>SQFTABOVEGROUND</th><th>TAXES</th><th>TAXWITHASSESSMENTS</th><th>TAXYEAR</th><th>LIVINGAREA</th><th>UNITNUMBER</th><th>YEARBUILT</th><th>ZONING</th><th>STYLE</th><th>ACRES</th><th>COOLINGDESCRIPTION</th><th>APPLIANCES</th><th>backonmarketdate</th><th>EXTERIOR</th><th>DININGROOMDESCRIPTION</th><th>BASEMENT</th><th>BATHSFULL</th><th>BATHSHALF</th><th>BATHQUARTER</th><th>BATHSTHREEQUARTER</th><th>CLASS</th><th>BATHSTOTAL</th><th>BATHDESC</th><th>BEDROOMS</th><th>SQFTBELOWGROUND</th><th>ASSUMABLEMORTGAGE</th><th>AssociationFee</th><th>ASSESSMENTPENDING</th><th>ASSESSEDVALUATION</th><th>latitude</th><th>longitude</th></tr>\n",
       "<tr><td>1</td><td>11511 Stillwater ...</td><td>55042</td><td>MN</td><td>LELM - Lake Elmo</td><td>143000</td><td>7/15/2017 0:00</td><td>139900</td><td>Exclusive Right</td><td>139900</td><td>145.9184</td><td>980</td><td>Other</td><td>834 - Stillwater</td><td>10</td><td>2017-07-30 00:00:00</td><td>0</td><td>Living Room,Dinin...</td><td>null</td><td>No</td><td>null</td><td>10</td><td>Attached Garage</td><td>980</td><td>1858</td><td>1858</td><td>2017</td><td>980</td><td>null</td><td>1950</td><td>Residential-Single</td><td>(SF) One Story</td><td>1.28</td><td>Central</td><td>Range,Dishwasher,...</td><td>NULL</td><td>Vinyl</td><td>Eat In Kitchen</td><td>Full</td><td>1</td><td>1</td><td>0</td><td>0</td><td>SF</td><td>2</td><td>Main Floor 3/4 Ba...</td><td>3</td><td>0</td><td>null</td><td>0</td><td>Unknown</td><td>0</td><td>45.00585</td><td>-92.87286</td></tr>\n",
       "<tr><td>2</td><td>11200 31st St N</td><td>55042</td><td>MN</td><td>LELM - Lake Elmo</td><td>190000</td><td>10/9/2017 0:00</td><td>210000</td><td>Exclusive Right</td><td>210000</td><td>85.2783</td><td>1144</td><td>null</td><td>834 - Stillwater</td><td>4</td><td>2017-10-13 00:00:00</td><td>0</td><td>Living Room,Dinin...</td><td>Asphalt Shingles,...</td><td>No</td><td>null</td><td>4</td><td>Attached Garage,D...</td><td>1268</td><td>1640</td><td>1640</td><td>2017</td><td>2228</td><td>null</td><td>1971</td><td>Residential-Single</td><td>(SF) Split Entry ...</td><td>0.32</td><td>Central</td><td>Range,Microwave,E...</td><td>NULL</td><td>Vinyl</td><td>Informal Dining R...</td><td>Full,Partial Fini...</td><td>1</td><td>0</td><td>0</td><td>2</td><td>SF</td><td>3</td><td>Main Floor Full B...</td><td>4</td><td>960</td><td>null</td><td>0</td><td>Unknown</td><td>0</td><td>44.99488</td><td>-92.87927</td></tr>\n",
       "</table>\n"
      ],
      "text/plain": [
       "+---+--------------------+----------+---------------+----------------+---------------+--------------+---------+---------------+-----------------+------------+--------------+-----+--------------------+------------+-------------------+----------+--------------------+--------------------+------------------+---------------+----+--------------------+---------------+-----+------------------+-------+----------+----------+---------+------------------+--------------------+-----+------------------+--------------------+----------------+--------+---------------------+--------------------+---------+---------+-----------+-----------------+-----+----------+--------------------+--------+---------------+-----------------+--------------+-----------------+-----------------+--------+---------+\n",
       "| NO|       STREETADDRESS|POSTALCODE|STATEORPROVINCE|            CITY|SALESCLOSEPRICE|      LISTDATE|LISTPRICE|       LISTTYPE|ORIGINALLISTPRICE|PRICEPERTSFT|FOUNDATIONSIZE|FENCE|SCHOOLDISTRICTNUMBER|DAYSONMARKET|         OFFMKTDATE|FIREPLACES|            ROOMTYPE|                ROOF|POTENTIALSHORTSALE|POOLDESCRIPTION|PDOM|   GARAGEDESCRIPTION|SQFTABOVEGROUND|TAXES|TAXWITHASSESSMENTS|TAXYEAR|LIVINGAREA|UNITNUMBER|YEARBUILT|            ZONING|               STYLE|ACRES|COOLINGDESCRIPTION|          APPLIANCES|backonmarketdate|EXTERIOR|DININGROOMDESCRIPTION|            BASEMENT|BATHSFULL|BATHSHALF|BATHQUARTER|BATHSTHREEQUARTER|CLASS|BATHSTOTAL|            BATHDESC|BEDROOMS|SQFTBELOWGROUND|ASSUMABLEMORTGAGE|AssociationFee|ASSESSMENTPENDING|ASSESSEDVALUATION|latitude|longitude|\n",
       "+---+--------------------+----------+---------------+----------------+---------------+--------------+---------+---------------+-----------------+------------+--------------+-----+--------------------+------------+-------------------+----------+--------------------+--------------------+------------------+---------------+----+--------------------+---------------+-----+------------------+-------+----------+----------+---------+------------------+--------------------+-----+------------------+--------------------+----------------+--------+---------------------+--------------------+---------+---------+-----------+-----------------+-----+----------+--------------------+--------+---------------+-----------------+--------------+-----------------+-----------------+--------+---------+\n",
       "|  1|11511 Stillwater ...|     55042|             MN|LELM - Lake Elmo|         143000|7/15/2017 0:00|   139900|Exclusive Right|           139900|    145.9184|           980|Other|    834 - Stillwater|          10|2017-07-30 00:00:00|         0|Living Room,Dinin...|                null|                No|           null|  10|     Attached Garage|            980| 1858|              1858|   2017|       980|      null|     1950|Residential-Single|      (SF) One Story| 1.28|           Central|Range,Dishwasher,...|            NULL|   Vinyl|       Eat In Kitchen|                Full|        1|        1|          0|                0|   SF|         2|Main Floor 3/4 Ba...|       3|              0|             null|             0|          Unknown|                0|45.00585|-92.87286|\n",
       "|  2|     11200 31st St N|     55042|             MN|LELM - Lake Elmo|         190000|10/9/2017 0:00|   210000|Exclusive Right|           210000|     85.2783|          1144| null|    834 - Stillwater|           4|2017-10-13 00:00:00|         0|Living Room,Dinin...|Asphalt Shingles,...|                No|           null|   4|Attached Garage,D...|           1268| 1640|              1640|   2017|      2228|      null|     1971|Residential-Single|(SF) Split Entry ...| 0.32|           Central|Range,Microwave,E...|            NULL|   Vinyl| Informal Dining R...|Full,Partial Fini...|        1|        0|          0|                2|   SF|         3|Main Floor Full B...|       4|            960|             null|             0|          Unknown|                0|44.99488|-92.87927|\n",
       "+---+--------------------+----------+---------------+----------------+---------------+--------------+---------+---------------+-----------------+------------+--------------+-----+--------------------+------------+-------------------+----------+--------------------+--------------------+------------------+---------------+----+--------------------+---------------+-----+------------------+-------+----------+----------+---------+------------------+--------------------+-----+------------------+--------------------+----------------+--------+---------------------+--------------------+---------+---------+-----------+-----------------+-----+----------+--------------------+--------+---------------+-----------------+--------------+-----------------+-----------------+--------+---------+"
      ]
     },
     "execution_count": 69,
     "metadata": {},
     "output_type": "execute_result"
    }
   ],
   "source": [
    "# load the real-state-coord.csv\n",
    "path_file = 'data-sources/real-state-coord.csv'\n",
    "df = spark.read.csv('data-sources/real-state-coord.csv', header=True, inferSchema=True)\n",
    "for col_name in ['SQFTBELOWGROUND', 'AssociationFee']:\n",
    "    df = df.withColumn(col_name, df[col_name].cast('bigint'))\n",
    "df = df.withColumn('backonmarketdate', df['backonmarketdate'].cast('double'))\n",
    "df = df.withColumn(\"OFFMKTDATE\", F.to_timestamp(df[\"OFFMKTDATE\"], \"M/d/yyyy H:m\"))\n",
    "df.createOrReplaceTempView(\"df\")\n",
    "print('Dataframe shape:', (df.count(), len(df.columns)))\n",
    "df.printSchema()\n",
    "df.limit(2)"
   ]
  },
  {
   "cell_type": "code",
   "execution_count": 70,
   "id": "bae54113-aa2e-477c-9c8d-b24db8280a1d",
   "metadata": {},
   "outputs": [
    {
     "name": "stdout",
     "output_type": "stream",
     "text": [
      "+--------+---------+\n",
      "|latitude|longitude|\n",
      "+--------+---------+\n",
      "|45.00585|-92.87286|\n",
      "|44.99488|-92.87927|\n",
      "|44.99225|-92.93276|\n",
      "| 44.9948|-92.87797|\n",
      "|44.99087| -92.9338|\n",
      "+--------+---------+\n",
      "only showing top 5 rows\n",
      "\n"
     ]
    }
   ],
   "source": [
    "df.select(['latitude', 'longitude']).show(5)"
   ]
  },
  {
   "cell_type": "code",
   "execution_count": 71,
   "id": "e0e5b7cb-015a-4237-8f85-1906769de1e4",
   "metadata": {},
   "outputs": [
    {
     "name": "stdout",
     "output_type": "stream",
     "text": [
      "Dataframe shape: (4243, 5)\n",
      "root\n",
      " |-- latitude_walk: double (nullable = true)\n",
      " |-- longitude_walk: double (nullable = true)\n",
      " |-- walkscore: integer (nullable = true)\n",
      " |-- bikescore: string (nullable = true)\n",
      " |-- transitscore: string (nullable = true)\n",
      "\n"
     ]
    },
    {
     "data": {
      "text/html": [
       "<table border='1'>\n",
       "<tr><th>latitude_walk</th><th>longitude_walk</th><th>walkscore</th><th>bikescore</th><th>transitscore</th></tr>\n",
       "<tr><td>44.92635</td><td>-93.18928</td><td>61</td><td>72</td><td>null</td></tr>\n",
       "<tr><td>44.9581</td><td>-93.17982</td><td>74</td><td>83</td><td>null</td></tr>\n",
       "</table>\n"
      ],
      "text/plain": [
       "+-------------+--------------+---------+---------+------------+\n",
       "|latitude_walk|longitude_walk|walkscore|bikescore|transitscore|\n",
       "+-------------+--------------+---------+---------+------------+\n",
       "|     44.92635|     -93.18928|       61|       72|        null|\n",
       "|      44.9581|     -93.17982|       74|       83|        null|\n",
       "+-------------+--------------+---------+---------+------------+"
      ]
     },
     "execution_count": 71,
     "metadata": {},
     "output_type": "execute_result"
    }
   ],
   "source": [
    "# Loading the walk_df datasets\n",
    "walk_df = spark.read.csv('data-sources/walk.csv', header=True, inferSchema=True)\n",
    "walk_df.createOrReplaceTempView(\"walk_df\")\n",
    "walk_df = walk_df.withColumnRenamed(\"latitude\", \"latitude_walk\").withColumnRenamed(\"longitude\", \"longitude_walk\")\n",
    "print('Dataframe shape:', (walk_df.count(), len(walk_df.columns)))\n",
    "walk_df.printSchema()\n",
    "walk_df.limit(2)"
   ]
  },
  {
   "cell_type": "code",
   "execution_count": 72,
   "id": "27a3b432-3a87-4720-897a-0558f49242ce",
   "metadata": {},
   "outputs": [
    {
     "data": {
      "text/plain": [
       "{'backonmarketdate': 5000,\n",
       " 'BATHSTHREEQUARTER': 1,\n",
       " 'latitude': 151,\n",
       " 'longitude': 151}"
      ]
     },
     "execution_count": 72,
     "metadata": {},
     "output_type": "execute_result"
    }
   ],
   "source": [
    "# How many null there are\n",
    "Dict_Null = {col: df.filter(df[f\"`{col}`\"].isNull()).count() for col in df.columns}\n",
    "\n",
    "# Filtering columns without null values\n",
    "Dict_Null = {k: v for k, v in Dict_Null.items() if v != 0}\n",
    "Dict_Null"
   ]
  },
  {
   "cell_type": "code",
   "execution_count": 73,
   "id": "ae920e2b-d423-46d3-9775-c8b3e517931e",
   "metadata": {},
   "outputs": [
    {
     "name": "stdout",
     "output_type": "stream",
     "text": [
      "Count non-null records from new field: 4849\n"
     ]
    }
   ],
   "source": [
    "# Round precision\n",
    "df = df.withColumn('longitude', F.round('longitude', 5))\n",
    "df = df.withColumn('latitude', F.round('latitude', 5))\n",
    "walk_df = walk_df.withColumn('longitude_walk', F.round('longitude_walk', 5))\n",
    "walk_df = walk_df.withColumn('latitude_walk', F.round('latitude_walk', 5))\n",
    "\n",
    "# Create join condition\n",
    "condition = [walk_df['longitude_walk'] == df['longitude'], walk_df['latitude_walk'] == df['latitude']]\n",
    "\n",
    "# Join the dataframes together\n",
    "join_df = df.join(walk_df, on=condition, how='left')\n",
    "\n",
    "# Count non-null records from new field\n",
    "print(\n",
    "    'Count non-null records from new field:',\n",
    "    join_df.where(~join_df['walkscore'].isNull()).count()\n",
    ")"
   ]
  },
  {
   "cell_type": "code",
   "execution_count": 74,
   "id": "3bf40113-b1ca-4140-9bd4-86f2a01734eb",
   "metadata": {},
   "outputs": [
    {
     "data": {
      "text/html": [
       "<table border='1'>\n",
       "<tr><th>NO</th><th>STREETADDRESS</th><th>POSTALCODE</th><th>STATEORPROVINCE</th><th>CITY</th><th>SALESCLOSEPRICE</th><th>LISTDATE</th><th>LISTPRICE</th><th>LISTTYPE</th><th>ORIGINALLISTPRICE</th><th>PRICEPERTSFT</th><th>FOUNDATIONSIZE</th><th>FENCE</th><th>SCHOOLDISTRICTNUMBER</th><th>DAYSONMARKET</th><th>OFFMKTDATE</th><th>FIREPLACES</th><th>ROOMTYPE</th><th>ROOF</th><th>POTENTIALSHORTSALE</th><th>POOLDESCRIPTION</th><th>PDOM</th><th>GARAGEDESCRIPTION</th><th>SQFTABOVEGROUND</th><th>TAXES</th><th>TAXWITHASSESSMENTS</th><th>TAXYEAR</th><th>LIVINGAREA</th><th>UNITNUMBER</th><th>YEARBUILT</th><th>ZONING</th><th>STYLE</th><th>ACRES</th><th>COOLINGDESCRIPTION</th><th>APPLIANCES</th><th>backonmarketdate</th><th>EXTERIOR</th><th>DININGROOMDESCRIPTION</th><th>BASEMENT</th><th>BATHSFULL</th><th>BATHSHALF</th><th>BATHQUARTER</th><th>BATHSTHREEQUARTER</th><th>CLASS</th><th>BATHSTOTAL</th><th>BATHDESC</th><th>BEDROOMS</th><th>SQFTBELOWGROUND</th><th>ASSUMABLEMORTGAGE</th><th>AssociationFee</th><th>ASSESSMENTPENDING</th><th>ASSESSEDVALUATION</th><th>latitude</th><th>longitude</th><th>latitude_walk</th><th>longitude_walk</th><th>walkscore</th><th>bikescore</th><th>transitscore</th></tr>\n",
       "<tr><td>57</td><td>3212 Linden Ln N</td><td>55042</td><td>MN</td><td>LELM - Lake Elmo</td><td>407000</td><td>7/12/2017 0:00</td><td>407000</td><td>Exclusive Right</td><td>407000</td><td>156.9005</td><td>1160</td><td>null</td><td>834 - Stillwater</td><td>39</td><td>2017-08-21 00:00:00</td><td>1</td><td>Living Room,Dinin...</td><td>Asphalt Shingles,...</td><td>No</td><td>None</td><td>39</td><td>Attached Garage,D...</td><td>2594</td><td>186</td><td>186</td><td>2017</td><td>2594</td><td>null</td><td>2017</td><td>Residential-Single</td><td>(SF) Two Stories</td><td>0.13</td><td>Central</td><td>Range,Microwave,D...</td><td>NULL</td><td>Metal,Vinyl,Brick...</td><td>Eat In Kitchen,Br...</td><td>Walkout,Drain Til...</td><td>2</td><td>1</td><td>0</td><td>0</td><td>SF</td><td>3</td><td>Main Floor 1/2 Ba...</td><td>4</td><td>0</td><td>null</td><td>175</td><td>No</td><td>0</td><td>NULL</td><td>NULL</td><td>NULL</td><td>NULL</td><td>NULL</td><td>NULL</td><td>NULL</td></tr>\n",
       "<tr><td>66</td><td>3228 LINDEN LN N ...</td><td>55042</td><td>MN</td><td>LELM - Lake Elmo</td><td>416113</td><td>6/8/2017 0:00</td><td>418000</td><td>Exclusive Right</td><td>418000</td><td>160.0435</td><td>1040</td><td>null</td><td>834 - Stillwater</td><td>78</td><td>2017-08-25 00:00:00</td><td>0</td><td>,Dining Room,Fami...</td><td>null</td><td>No</td><td>null</td><td>78</td><td>Attached Garage</td><td>2600</td><td>126</td><td>126</td><td>2016</td><td>2600</td><td>null</td><td>2017</td><td>Residential-Single</td><td>(SF) Two Stories</td><td>0.25</td><td>Central</td><td>null</td><td>NULL</td><td>Vinyl,Brick/Stone...</td><td>null</td><td>Walkout,Unfinishe...</td><td>2</td><td>1</td><td>0</td><td>0</td><td>SF</td><td>3</td><td>null</td><td>4</td><td>0</td><td>null</td><td>50</td><td>No</td><td>0</td><td>NULL</td><td>NULL</td><td>NULL</td><td>NULL</td><td>NULL</td><td>NULL</td><td>NULL</td></tr>\n",
       "<tr><td>89</td><td>834 June Ave N</td><td>55042</td><td>MN</td><td>LELM - Lake Elmo</td><td>453612</td><td>10/20/2017 0:00</td><td>455612</td><td>Exclusive Right</td><td>453612</td><td>191.075</td><td>1144</td><td>null</td><td>834 - Stillwater</td><td>38</td><td>2017-11-27 00:00:00</td><td>1</td><td>Living Room,Dinin...</td><td>null</td><td>No</td><td>null</td><td>7</td><td>Attached Garage,D...</td><td>2374</td><td>78</td><td>78</td><td>2017</td><td>2374</td><td>null</td><td>2018</td><td>Residential-Single</td><td>(SF) Two Stories</td><td>0.24</td><td>Central</td><td>Range,Microwave,D...</td><td>NULL</td><td>Vinyl,Brick/Stone...</td><td>Informal Dining R...</td><td>Full,Finished (Li...</td><td>1</td><td>1</td><td>0</td><td>1</td><td>SF</td><td>3</td><td>Main Floor 1/2 Ba...</td><td>4</td><td>0</td><td>null</td><td>93</td><td>Unknown</td><td>0</td><td>NULL</td><td>NULL</td><td>NULL</td><td>NULL</td><td>NULL</td><td>NULL</td><td>NULL</td></tr>\n",
       "<tr><td>109</td><td>822 Ivywood Cir N</td><td>55042</td><td>MN</td><td>LELM - Lake Elmo</td><td>489811</td><td>12/12/2017 0:00</td><td>489811</td><td>Exclusive Right</td><td>489811</td><td>278.7769</td><td>1797</td><td>null</td><td>622 - North St Pa...</td><td>0</td><td>2017-12-12 00:00:00</td><td>1</td><td>Living Room,Dinin...</td><td>Asphalt Shingles,...</td><td>No</td><td>null</td><td>0</td><td>Attached Garage,I...</td><td>1757</td><td>0</td><td>0</td><td>2017</td><td>1757</td><td>null</td><td>2017</td><td>Residential-Single</td><td>(SF) One Story</td><td>0.265</td><td>Central</td><td>Range,Microwave,E...</td><td>NULL</td><td>Vinyl,Brick/Stone...</td><td>Informal Dining Room</td><td>Full,Finished (Li...</td><td>1</td><td>0</td><td>0</td><td>2</td><td>SF</td><td>3</td><td>Main Floor Full B...</td><td>3</td><td>0</td><td>null</td><td>125</td><td>No</td><td>0</td><td>NULL</td><td>NULL</td><td>NULL</td><td>NULL</td><td>NULL</td><td>NULL</td><td>NULL</td></tr>\n",
       "<tr><td>130</td><td>743 Ivywood Cir N</td><td>55042</td><td>MN</td><td>LELM - Lake Elmo</td><td>556873</td><td>10/24/2017 0:00</td><td>556873</td><td>Exclusive Right</td><td>556873</td><td>186.6196</td><td>1757</td><td>null</td><td>622 - North St Pa...</td><td>0</td><td>2017-10-24 00:00:00</td><td>1</td><td>Living Room,Dinin...</td><td>Asphalt Shingles,...</td><td>No</td><td>null</td><td>0</td><td>Attached Garage,I...</td><td>1757</td><td>0</td><td>0</td><td>2017</td><td>2984</td><td>null</td><td>2017</td><td>Residential-Single</td><td>(SF) One Story</td><td>0.187</td><td>Central</td><td>Cooktop,Wall Oven...</td><td>NULL</td><td>Shakes,Brick/Ston...</td><td>Informal Dining Room</td><td>Full,Finished (Li...</td><td>1</td><td>0</td><td>0</td><td>2</td><td>SF</td><td>3</td><td>Main Floor Full B...</td><td>3</td><td>1227</td><td>null</td><td>125</td><td>No</td><td>0</td><td>NULL</td><td>NULL</td><td>NULL</td><td>NULL</td><td>NULL</td><td>NULL</td><td>NULL</td></tr>\n",
       "</table>\n"
      ],
      "text/plain": [
       "+---+--------------------+----------+---------------+----------------+---------------+---------------+---------+---------------+-----------------+------------+--------------+-----+--------------------+------------+-------------------+----------+--------------------+--------------------+------------------+---------------+----+--------------------+---------------+-----+------------------+-------+----------+----------+---------+------------------+----------------+-----+------------------+--------------------+----------------+--------------------+---------------------+--------------------+---------+---------+-----------+-----------------+-----+----------+--------------------+--------+---------------+-----------------+--------------+-----------------+-----------------+--------+---------+-------------+--------------+---------+---------+------------+\n",
       "| NO|       STREETADDRESS|POSTALCODE|STATEORPROVINCE|            CITY|SALESCLOSEPRICE|       LISTDATE|LISTPRICE|       LISTTYPE|ORIGINALLISTPRICE|PRICEPERTSFT|FOUNDATIONSIZE|FENCE|SCHOOLDISTRICTNUMBER|DAYSONMARKET|         OFFMKTDATE|FIREPLACES|            ROOMTYPE|                ROOF|POTENTIALSHORTSALE|POOLDESCRIPTION|PDOM|   GARAGEDESCRIPTION|SQFTABOVEGROUND|TAXES|TAXWITHASSESSMENTS|TAXYEAR|LIVINGAREA|UNITNUMBER|YEARBUILT|            ZONING|           STYLE|ACRES|COOLINGDESCRIPTION|          APPLIANCES|backonmarketdate|            EXTERIOR|DININGROOMDESCRIPTION|            BASEMENT|BATHSFULL|BATHSHALF|BATHQUARTER|BATHSTHREEQUARTER|CLASS|BATHSTOTAL|            BATHDESC|BEDROOMS|SQFTBELOWGROUND|ASSUMABLEMORTGAGE|AssociationFee|ASSESSMENTPENDING|ASSESSEDVALUATION|latitude|longitude|latitude_walk|longitude_walk|walkscore|bikescore|transitscore|\n",
       "+---+--------------------+----------+---------------+----------------+---------------+---------------+---------+---------------+-----------------+------------+--------------+-----+--------------------+------------+-------------------+----------+--------------------+--------------------+------------------+---------------+----+--------------------+---------------+-----+------------------+-------+----------+----------+---------+------------------+----------------+-----+------------------+--------------------+----------------+--------------------+---------------------+--------------------+---------+---------+-----------+-----------------+-----+----------+--------------------+--------+---------------+-----------------+--------------+-----------------+-----------------+--------+---------+-------------+--------------+---------+---------+------------+\n",
       "| 57|    3212 Linden Ln N|     55042|             MN|LELM - Lake Elmo|         407000| 7/12/2017 0:00|   407000|Exclusive Right|           407000|    156.9005|          1160| null|    834 - Stillwater|          39|2017-08-21 00:00:00|         1|Living Room,Dinin...|Asphalt Shingles,...|                No|           None|  39|Attached Garage,D...|           2594|  186|               186|   2017|      2594|      null|     2017|Residential-Single|(SF) Two Stories| 0.13|           Central|Range,Microwave,D...|            NULL|Metal,Vinyl,Brick...| Eat In Kitchen,Br...|Walkout,Drain Til...|        2|        1|          0|                0|   SF|         3|Main Floor 1/2 Ba...|       4|              0|             null|           175|               No|                0|    NULL|     NULL|         NULL|          NULL|     NULL|     NULL|        NULL|\n",
       "| 66|3228 LINDEN LN N ...|     55042|             MN|LELM - Lake Elmo|         416113|  6/8/2017 0:00|   418000|Exclusive Right|           418000|    160.0435|          1040| null|    834 - Stillwater|          78|2017-08-25 00:00:00|         0|,Dining Room,Fami...|                null|                No|           null|  78|     Attached Garage|           2600|  126|               126|   2016|      2600|      null|     2017|Residential-Single|(SF) Two Stories| 0.25|           Central|                null|            NULL|Vinyl,Brick/Stone...|                 null|Walkout,Unfinishe...|        2|        1|          0|                0|   SF|         3|                null|       4|              0|             null|            50|               No|                0|    NULL|     NULL|         NULL|          NULL|     NULL|     NULL|        NULL|\n",
       "| 89|      834 June Ave N|     55042|             MN|LELM - Lake Elmo|         453612|10/20/2017 0:00|   455612|Exclusive Right|           453612|     191.075|          1144| null|    834 - Stillwater|          38|2017-11-27 00:00:00|         1|Living Room,Dinin...|                null|                No|           null|   7|Attached Garage,D...|           2374|   78|                78|   2017|      2374|      null|     2018|Residential-Single|(SF) Two Stories| 0.24|           Central|Range,Microwave,D...|            NULL|Vinyl,Brick/Stone...| Informal Dining R...|Full,Finished (Li...|        1|        1|          0|                1|   SF|         3|Main Floor 1/2 Ba...|       4|              0|             null|            93|          Unknown|                0|    NULL|     NULL|         NULL|          NULL|     NULL|     NULL|        NULL|\n",
       "|109|   822 Ivywood Cir N|     55042|             MN|LELM - Lake Elmo|         489811|12/12/2017 0:00|   489811|Exclusive Right|           489811|    278.7769|          1797| null|622 - North St Pa...|           0|2017-12-12 00:00:00|         1|Living Room,Dinin...|Asphalt Shingles,...|                No|           null|   0|Attached Garage,I...|           1757|    0|                 0|   2017|      1757|      null|     2017|Residential-Single|  (SF) One Story|0.265|           Central|Range,Microwave,E...|            NULL|Vinyl,Brick/Stone...| Informal Dining Room|Full,Finished (Li...|        1|        0|          0|                2|   SF|         3|Main Floor Full B...|       3|              0|             null|           125|               No|                0|    NULL|     NULL|         NULL|          NULL|     NULL|     NULL|        NULL|\n",
       "|130|   743 Ivywood Cir N|     55042|             MN|LELM - Lake Elmo|         556873|10/24/2017 0:00|   556873|Exclusive Right|           556873|    186.6196|          1757| null|622 - North St Pa...|           0|2017-10-24 00:00:00|         1|Living Room,Dinin...|Asphalt Shingles,...|                No|           null|   0|Attached Garage,I...|           1757|    0|                 0|   2017|      2984|      null|     2017|Residential-Single|  (SF) One Story|0.187|           Central|Cooktop,Wall Oven...|            NULL|Shakes,Brick/Ston...| Informal Dining Room|Full,Finished (Li...|        1|        0|          0|                2|   SF|         3|Main Floor Full B...|       3|           1227|             null|           125|               No|                0|    NULL|     NULL|         NULL|          NULL|     NULL|     NULL|        NULL|\n",
       "+---+--------------------+----------+---------------+----------------+---------------+---------------+---------+---------------+-----------------+------------+--------------+-----+--------------------+------------+-------------------+----------+--------------------+--------------------+------------------+---------------+----+--------------------+---------------+-----+------------------+-------+----------+----------+---------+------------------+----------------+-----+------------------+--------------------+----------------+--------------------+---------------------+--------------------+---------+---------+-----------+-----------------+-----+----------+--------------------+--------+---------------+-----------------+--------------+-----------------+-----------------+--------+---------+-------------+--------------+---------+---------+------------+"
      ]
     },
     "execution_count": 74,
     "metadata": {},
     "output_type": "execute_result"
    }
   ],
   "source": [
    "join_df.where(join_df['walkscore'].isNull()).limit(5)"
   ]
  },
  {
   "cell_type": "markdown",
   "id": "cd5f3012-e946-4f17-8a05-efc60099ffd9",
   "metadata": {},
   "source": [
    "## Ex. 10 - Spark SQL Join\n",
    "\n",
    "Sometimes it is much easier to write complex joins in SQL. In this exercise, we will start with the join keys already in the same format and precision but will use SparkSQL to do the joining.\n",
    "\n",
    "**Instructions:**\n",
    "\n",
    "1. Register the Dataframes as SparkSQL tables with `createOrReplaceTempView`, name them the `df` and `walk_df` respectively.\n",
    "2. In the `join_sql` string, set the left table to `df` and the right table to `walk_df`\n",
    "3. Call `spark.sql()` on the `join_sql` string to perform the join."
   ]
  },
  {
   "cell_type": "code",
   "execution_count": 75,
   "id": "ebae1753-3ea4-4a50-9b28-19cf77798300",
   "metadata": {},
   "outputs": [
    {
     "name": "stdout",
     "output_type": "stream",
     "text": [
      "Count non-null records from new field: 4849\n"
     ]
    }
   ],
   "source": [
    "# Register dataframes as tables\n",
    "df.createOrReplaceTempView('df')\n",
    "walk_df.createOrReplaceTempView('walk_df')\n",
    "\n",
    "# SQL to join dataframes\n",
    "join_sql = \t\"\"\"\n",
    "    SELECT *\n",
    "    FROM df\n",
    "    LEFT JOIN walk_df\n",
    "        ON df.longitude = walk_df.longitude_walk\n",
    "            AND df.latitude = walk_df.latitude_walk\n",
    "\"\"\"\n",
    "\n",
    "# Perform sql join\n",
    "joined_df = spark.sql(join_sql)\n",
    "\n",
    "# Count non-null records from new field\n",
    "print(\n",
    "    'Count non-null records from new field:',\n",
    "    join_df.where(~join_df['walkscore'].isNull()).count()\n",
    ")"
   ]
  },
  {
   "cell_type": "markdown",
   "id": "c84744cb-27ee-40bb-a5c3-a8b24d7342c0",
   "metadata": {},
   "source": [
    "## Close session"
   ]
  },
  {
   "cell_type": "code",
   "execution_count": 76,
   "id": "0a35b740-9e99-4e09-8ccc-81e0ea59e93f",
   "metadata": {},
   "outputs": [],
   "source": [
    "spark.stop()"
   ]
  },
  {
   "cell_type": "code",
   "execution_count": null,
   "id": "382aa0d6-d5f7-4180-a803-f58b165acd30",
   "metadata": {},
   "outputs": [],
   "source": []
  }
 ],
 "metadata": {
  "kernelspec": {
   "display_name": "Python 3 (ipykernel)",
   "language": "python",
   "name": "python3"
  },
  "language_info": {
   "codemirror_mode": {
    "name": "ipython",
    "version": 3
   },
   "file_extension": ".py",
   "mimetype": "text/x-python",
   "name": "python",
   "nbconvert_exporter": "python",
   "pygments_lexer": "ipython3",
   "version": "3.11.9"
  }
 },
 "nbformat": 4,
 "nbformat_minor": 5
}
